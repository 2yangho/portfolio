{
  "cells": [
    {
      "cell_type": "markdown",
      "metadata": {
        "id": "jR4fX00ayV2m"
      },
      "source": [
        "# **👑DATA SCHOOL PROJECT16**  \n",
        "**┗ 통신사 VOC분석**\n",
        "---\n",
        "> **목차(Context)**\n",
        "\n",
        "* 프로젝트 Summary\n",
        "* 문제상황 Introduction\n",
        "* Process 01\n",
        "* Process 02\n",
        "* Process 03\n",
        "* Lesson Learned"
      ]
    },
    {
      "cell_type": "markdown",
      "metadata": {
        "id": "QInrP8L7zZDF"
      },
      "source": [
        "## **프로젝트 Summary**\n",
        "---\n",
        "\n",
        "> **프로젝트명**\n",
        "\n",
        "```\n",
        "▶ 통신사 VOC분석\n",
        "```  \n",
        "\n",
        "> **프로젝트유형**\n",
        "\n",
        "```\n",
        "▶ 고객 VOC 분석 및 서비스 개선점 도출\n",
        "\n",
        "```\n",
        "\n",
        "> **학습목표**\n",
        "\n",
        "```\n",
        "▶ 고객의 VOC를 통해 주요 불만 사항 파악\n",
        "▶ VOC 키워드 및 주제 분석을 통한 서비스 개선 방향성 제시\n",
        "▶ 고객 만족도 향상을 위한 실질적인 대응 전략 마련\n",
        "\n",
        "```\n",
        "\n",
        "> **예상 결과물**\n",
        "\n",
        "```\n",
        "▶ VOC 주제별 분류 및 키워드 분석 보고서\n",
        "▶ 서비스 개선을 위한 전략 및 제안서\n",
        "▶ 고객 만족도를 높일 수 있는 대응 방안 리스트업\n",
        "```"
      ]
    },
    {
      "cell_type": "markdown",
      "metadata": {
        "id": "xIS7Uhbz1CIc"
      },
      "source": [
        "\n",
        "## **문제상황 Introduction**\n",
        "---\n",
        "> **시나리오**\n",
        "\n",
        "```\n",
        "최근 국내 통신사 중 하나인 \"NetCom\"은 고객들로부터 다양한 의견 및 불만사항을 VOC(고객의 목소리)를 통해 수신하고 있다. 그럼에도 불구하고 고객 만족도는\n",
        "예전보다 떨어져 있고, 특히 몇몇 서비스 부문에서 불만이 높다는 것을 파악하게 되었다. \"NetCom\"은 이러한 고객의 VOC를 체계적으로 분석하여 주요 불만사항을\n",
        "파악하고, 이를 바탕으로 서비스를 개선하고자 한다. VOC 데이터를 깊게 파고들어 고객의 진짜 불만과 그 원인, 그리고 이를 해결할 방법을 찾아내는 것이 이번\n",
        "프로젝트의 핵심 목표이다.\n",
        "```  \n",
        "\n",
        "> **문제정의**\n",
        "\n",
        "```\n",
        "▶ 고객 만족도 하락으로 인한 고객 이탈 위험 증가\n",
        "```  \n",
        "\n",
        "> **기대효과**\n",
        "\n",
        "```\n",
        "▶ 주요 고객 불만사항 개선을 통해 서비스 만족도 증가, 고객 이탈 위험 감소\n",
        "```\n",
        "\n",
        "> **해결방안**\n",
        "\n",
        "```\n",
        "▶ VOC 분석을 통한 주요 고객 불만사항 파악\n",
        "```\n",
        "\n",
        "> **성과측정**  \n",
        "\n",
        "```\n",
        "▶ VOC분석을 통한 조치 전후 고객 만족도 변화 조사\n",
        "```"
      ]
    },
    {
      "cell_type": "markdown",
      "metadata": {
        "id": "RSuBl-Gz1TU8"
      },
      "source": [
        "> **데이터 살펴보기**\n",
        "\n",
        "\n",
        "|Column|Description|\n",
        "|:---|:---|\n",
        "|Ticket #|고유 ID|\n",
        "|Customer Complaint|불만 사항 설명|\n",
        "|Date|불만 제기 날짜|\n",
        "|Date_month_year|불만 제기 날짜 (형식-2)|\n",
        "|Time|불만 제기 시간|\n",
        "|Received Via|불만 접수 수단|\n",
        "|City|도시|\n",
        "|State|주|\n",
        "|Zip code|우편번호|\n",
        "|Status|불만의 상태|\n",
        "|Filing on Behalf of Someone|대신 제출여부|\n"
      ]
    },
    {
      "cell_type": "code",
      "execution_count": 83,
      "metadata": {
        "colab": {
          "base_uri": "https://localhost:8080/"
        },
        "id": "KfbNnC3c_p1c",
        "outputId": "5260eeed-4146-4584-afae-26d97c9e3a7a"
      },
      "outputs": [
        {
          "name": "stdout",
          "output_type": "stream",
          "text": [
            "Requirement already satisfied: textblob in /usr/local/lib/python3.10/dist-packages (0.17.1)\n",
            "Requirement already satisfied: nltk>=3.1 in /usr/local/lib/python3.10/dist-packages (from textblob) (3.8.1)\n",
            "Requirement already satisfied: click in /usr/local/lib/python3.10/dist-packages (from nltk>=3.1->textblob) (8.1.7)\n",
            "Requirement already satisfied: joblib in /usr/local/lib/python3.10/dist-packages (from nltk>=3.1->textblob) (1.3.2)\n",
            "Requirement already satisfied: regex>=2021.8.3 in /usr/local/lib/python3.10/dist-packages (from nltk>=3.1->textblob) (2023.12.25)\n",
            "Requirement already satisfied: tqdm in /usr/local/lib/python3.10/dist-packages (from nltk>=3.1->textblob) (4.66.2)\n",
            "[nltk_data] Downloading package brown to /root/nltk_data...\n",
            "[nltk_data]   Package brown is already up-to-date!\n",
            "[nltk_data] Downloading package punkt to /root/nltk_data...\n",
            "[nltk_data]   Package punkt is already up-to-date!\n",
            "[nltk_data] Downloading package wordnet to /root/nltk_data...\n",
            "[nltk_data]   Package wordnet is already up-to-date!\n",
            "[nltk_data] Downloading package averaged_perceptron_tagger to\n",
            "[nltk_data]     /root/nltk_data...\n",
            "[nltk_data]   Package averaged_perceptron_tagger is already up-to-\n",
            "[nltk_data]       date!\n",
            "[nltk_data] Downloading package conll2000 to /root/nltk_data...\n",
            "[nltk_data]   Package conll2000 is already up-to-date!\n",
            "[nltk_data] Downloading package movie_reviews to /root/nltk_data...\n",
            "[nltk_data]   Package movie_reviews is already up-to-date!\n",
            "Finished.\n"
          ]
        }
      ],
      "source": [
        "#필요한 패키지들 설치\n",
        "!pip install textblob\n",
        "!python -m textblob.download_corpora\n",
        "!pip install bokeh"
      ]
    },
    {
      "cell_type": "code",
      "execution_count": 84,
      "metadata": {
        "colab": {
          "base_uri": "https://localhost:8080/",
          "height": 54
        },
        "id": "A1F_aGxXyjaH",
        "outputId": "bd069046-bb48-4e33-dd1a-c96745870773"
      },
      "outputs": [
        {
          "name": "stdout",
          "output_type": "stream",
          "text": [
            "Drive already mounted at /content/drive; to attempt to forcibly remount, call drive.mount(\"/content/drive\", force_remount=True).\n"
          ]
        },
        {
          "data": {
            "application/vnd.google.colaboratory.intrinsic+json": {
              "type": "string"
            },
            "text/plain": [
              "'/content/drive/MyDrive/zerobase/개인프로젝트_업로드용'"
            ]
          },
          "execution_count": 84,
          "metadata": {},
          "output_type": "execute_result"
        }
      ],
      "source": [
        "# ▶ Warnings 제거\n",
        "import warnings\n",
        "warnings.filterwarnings('ignore')\n",
        "\n",
        "# ▶ Google drive mount or 폴더 클릭 후 구글드라이브 연결\n",
        "from google.colab import drive\n",
        "drive.mount('/content/drive')\n",
        "\n",
        "# ▶ 경로 설정 (※강의자료가 위치에 있는 경로 확인)\n",
        "import os\n",
        "os.chdir('/content/drive/MyDrive/zerobase/개인프로젝트_업로드용')\n",
        "os.getcwd()"
      ]
    },
    {
      "cell_type": "code",
      "execution_count": 1,
      "metadata": {
        "colab": {
          "base_uri": "https://localhost:8080/",
          "height": 310
        },
        "id": "QoMmLoBq7oBn",
        "outputId": "5a76e8d9-2a36-4993-fe90-300dc9549153"
      },
      "outputs": [
        {
          "data": {
            "text/html": [
              "<div>\n",
              "<style scoped>\n",
              "    .dataframe tbody tr th:only-of-type {\n",
              "        vertical-align: middle;\n",
              "    }\n",
              "\n",
              "    .dataframe tbody tr th {\n",
              "        vertical-align: top;\n",
              "    }\n",
              "\n",
              "    .dataframe thead th {\n",
              "        text-align: right;\n",
              "    }\n",
              "</style>\n",
              "<table border=\"1\" class=\"dataframe\">\n",
              "  <thead>\n",
              "    <tr style=\"text-align: right;\">\n",
              "      <th></th>\n",
              "      <th>Ticket #</th>\n",
              "      <th>Customer Complaint</th>\n",
              "      <th>Date</th>\n",
              "      <th>Date_month_year</th>\n",
              "      <th>Time</th>\n",
              "      <th>Received Via</th>\n",
              "      <th>City</th>\n",
              "      <th>State</th>\n",
              "      <th>Zip code</th>\n",
              "      <th>Status</th>\n",
              "      <th>Filing on Behalf of Someone</th>\n",
              "    </tr>\n",
              "  </thead>\n",
              "  <tbody>\n",
              "    <tr>\n",
              "      <th>0</th>\n",
              "      <td>250635</td>\n",
              "      <td>Comcast Cable Internet Speeds</td>\n",
              "      <td>22-04-15</td>\n",
              "      <td>22-Apr-15</td>\n",
              "      <td>3:53:50 PM</td>\n",
              "      <td>Customer Care Call</td>\n",
              "      <td>Abingdon</td>\n",
              "      <td>Maryland</td>\n",
              "      <td>21009</td>\n",
              "      <td>Closed</td>\n",
              "      <td>No</td>\n",
              "    </tr>\n",
              "    <tr>\n",
              "      <th>1</th>\n",
              "      <td>223441</td>\n",
              "      <td>Payment disappear - service got disconnected</td>\n",
              "      <td>04-08-15</td>\n",
              "      <td>04-Aug-15</td>\n",
              "      <td>10:22:56 AM</td>\n",
              "      <td>Internet</td>\n",
              "      <td>Acworth</td>\n",
              "      <td>Georgia</td>\n",
              "      <td>30102</td>\n",
              "      <td>Closed</td>\n",
              "      <td>No</td>\n",
              "    </tr>\n",
              "    <tr>\n",
              "      <th>2</th>\n",
              "      <td>242732</td>\n",
              "      <td>Speed and Service</td>\n",
              "      <td>18-04-15</td>\n",
              "      <td>18-Apr-15</td>\n",
              "      <td>9:55:47 AM</td>\n",
              "      <td>Internet</td>\n",
              "      <td>Acworth</td>\n",
              "      <td>Georgia</td>\n",
              "      <td>30101</td>\n",
              "      <td>Closed</td>\n",
              "      <td>Yes</td>\n",
              "    </tr>\n",
              "    <tr>\n",
              "      <th>3</th>\n",
              "      <td>277946</td>\n",
              "      <td>Comcast Imposed a New Usage Cap of 300GB that ...</td>\n",
              "      <td>05-07-15</td>\n",
              "      <td>05-Jul-15</td>\n",
              "      <td>11:59:35 AM</td>\n",
              "      <td>Internet</td>\n",
              "      <td>Acworth</td>\n",
              "      <td>Georgia</td>\n",
              "      <td>30101</td>\n",
              "      <td>Open</td>\n",
              "      <td>Yes</td>\n",
              "    </tr>\n",
              "    <tr>\n",
              "      <th>4</th>\n",
              "      <td>307175</td>\n",
              "      <td>Comcast not working and no service to boot</td>\n",
              "      <td>26-05-15</td>\n",
              "      <td>26-May-15</td>\n",
              "      <td>1:25:26 PM</td>\n",
              "      <td>Internet</td>\n",
              "      <td>Acworth</td>\n",
              "      <td>Georgia</td>\n",
              "      <td>30101</td>\n",
              "      <td>Solved</td>\n",
              "      <td>No</td>\n",
              "    </tr>\n",
              "  </tbody>\n",
              "</table>\n",
              "</div>"
            ],
            "text/plain": [
              "  Ticket #                                 Customer Complaint      Date  \\\n",
              "0   250635                      Comcast Cable Internet Speeds  22-04-15   \n",
              "1   223441       Payment disappear - service got disconnected  04-08-15   \n",
              "2   242732                                  Speed and Service  18-04-15   \n",
              "3   277946  Comcast Imposed a New Usage Cap of 300GB that ...  05-07-15   \n",
              "4   307175         Comcast not working and no service to boot  26-05-15   \n",
              "\n",
              "  Date_month_year         Time        Received Via      City     State  \\\n",
              "0       22-Apr-15   3:53:50 PM  Customer Care Call  Abingdon  Maryland   \n",
              "1       04-Aug-15  10:22:56 AM            Internet   Acworth   Georgia   \n",
              "2       18-Apr-15   9:55:47 AM            Internet   Acworth   Georgia   \n",
              "3       05-Jul-15  11:59:35 AM            Internet   Acworth   Georgia   \n",
              "4       26-May-15   1:25:26 PM            Internet   Acworth   Georgia   \n",
              "\n",
              "   Zip code  Status Filing on Behalf of Someone  \n",
              "0     21009  Closed                          No  \n",
              "1     30102  Closed                          No  \n",
              "2     30101  Closed                         Yes  \n",
              "3     30101    Open                         Yes  \n",
              "4     30101  Solved                          No  "
            ]
          },
          "execution_count": 1,
          "metadata": {},
          "output_type": "execute_result"
        }
      ],
      "source": [
        "# ▶ Data read\n",
        "import pandas as pd\n",
        "df = pd.read_csv('P_PJT16_DATA.csv')\n",
        "df.head()"
      ]
    },
    {
      "cell_type": "markdown",
      "metadata": {
        "id": "awhUnqOE-9u6"
      },
      "source": [
        "## **Process 01**\n",
        "**Data 전처리**\n",
        "---"
      ]
    },
    {
      "cell_type": "code",
      "execution_count": 2,
      "metadata": {
        "colab": {
          "base_uri": "https://localhost:8080/"
        },
        "id": "2kRMav-A-9u7",
        "outputId": "8921590b-9fff-43e1-8de2-c0abd5618423"
      },
      "outputs": [
        {
          "data": {
            "text/plain": [
              "(2224, 11)"
            ]
          },
          "execution_count": 2,
          "metadata": {},
          "output_type": "execute_result"
        }
      ],
      "source": [
        "df.shape"
      ]
    },
    {
      "cell_type": "code",
      "execution_count": 3,
      "metadata": {
        "colab": {
          "base_uri": "https://localhost:8080/"
        },
        "id": "0Zf-8N79-9u7",
        "outputId": "cee01333-40bc-48e4-fd9a-d260cb90302e"
      },
      "outputs": [
        {
          "name": "stdout",
          "output_type": "stream",
          "text": [
            "<class 'pandas.core.frame.DataFrame'>\n",
            "RangeIndex: 2224 entries, 0 to 2223\n",
            "Data columns (total 11 columns):\n",
            " #   Column                       Non-Null Count  Dtype \n",
            "---  ------                       --------------  ----- \n",
            " 0   Ticket #                     2224 non-null   object\n",
            " 1   Customer Complaint           2224 non-null   object\n",
            " 2   Date                         2224 non-null   object\n",
            " 3   Date_month_year              2224 non-null   object\n",
            " 4   Time                         2224 non-null   object\n",
            " 5   Received Via                 2224 non-null   object\n",
            " 6   City                         2224 non-null   object\n",
            " 7   State                        2224 non-null   object\n",
            " 8   Zip code                     2224 non-null   int64 \n",
            " 9   Status                       2224 non-null   object\n",
            " 10  Filing on Behalf of Someone  2224 non-null   object\n",
            "dtypes: int64(1), object(10)\n",
            "memory usage: 191.2+ KB\n"
          ]
        }
      ],
      "source": [
        "df.info()"
      ]
    },
    {
      "cell_type": "code",
      "execution_count": 4,
      "metadata": {
        "colab": {
          "base_uri": "https://localhost:8080/"
        },
        "id": "Jd83R5r7-9u7",
        "outputId": "affebbd0-8819-4ee5-c52a-006e7cbbae45"
      },
      "outputs": [
        {
          "data": {
            "text/plain": [
              "Ticket #                       0\n",
              "Customer Complaint             0\n",
              "Date                           0\n",
              "Date_month_year                0\n",
              "Time                           0\n",
              "Received Via                   0\n",
              "City                           0\n",
              "State                          0\n",
              "Zip code                       0\n",
              "Status                         0\n",
              "Filing on Behalf of Someone    0\n",
              "dtype: int64"
            ]
          },
          "execution_count": 4,
          "metadata": {},
          "output_type": "execute_result"
        }
      ],
      "source": [
        "df.isnull().sum()"
      ]
    },
    {
      "cell_type": "code",
      "execution_count": 5,
      "metadata": {
        "colab": {
          "base_uri": "https://localhost:8080/",
          "height": 300
        },
        "id": "p4lS85SM-9u8",
        "outputId": "746cf127-16e4-41e9-aa97-3672020b6bf6"
      },
      "outputs": [
        {
          "data": {
            "text/html": [
              "<div>\n",
              "<style scoped>\n",
              "    .dataframe tbody tr th:only-of-type {\n",
              "        vertical-align: middle;\n",
              "    }\n",
              "\n",
              "    .dataframe tbody tr th {\n",
              "        vertical-align: top;\n",
              "    }\n",
              "\n",
              "    .dataframe thead th {\n",
              "        text-align: right;\n",
              "    }\n",
              "</style>\n",
              "<table border=\"1\" class=\"dataframe\">\n",
              "  <thead>\n",
              "    <tr style=\"text-align: right;\">\n",
              "      <th></th>\n",
              "      <th>Zip code</th>\n",
              "    </tr>\n",
              "  </thead>\n",
              "  <tbody>\n",
              "    <tr>\n",
              "      <th>count</th>\n",
              "      <td>2224.000000</td>\n",
              "    </tr>\n",
              "    <tr>\n",
              "      <th>mean</th>\n",
              "      <td>47994.393435</td>\n",
              "    </tr>\n",
              "    <tr>\n",
              "      <th>std</th>\n",
              "      <td>28885.279427</td>\n",
              "    </tr>\n",
              "    <tr>\n",
              "      <th>min</th>\n",
              "      <td>1075.000000</td>\n",
              "    </tr>\n",
              "    <tr>\n",
              "      <th>25%</th>\n",
              "      <td>30056.500000</td>\n",
              "    </tr>\n",
              "    <tr>\n",
              "      <th>50%</th>\n",
              "      <td>37211.000000</td>\n",
              "    </tr>\n",
              "    <tr>\n",
              "      <th>75%</th>\n",
              "      <td>77058.750000</td>\n",
              "    </tr>\n",
              "    <tr>\n",
              "      <th>max</th>\n",
              "      <td>99223.000000</td>\n",
              "    </tr>\n",
              "  </tbody>\n",
              "</table>\n",
              "</div>"
            ],
            "text/plain": [
              "           Zip code\n",
              "count   2224.000000\n",
              "mean   47994.393435\n",
              "std    28885.279427\n",
              "min     1075.000000\n",
              "25%    30056.500000\n",
              "50%    37211.000000\n",
              "75%    77058.750000\n",
              "max    99223.000000"
            ]
          },
          "execution_count": 5,
          "metadata": {},
          "output_type": "execute_result"
        }
      ],
      "source": [
        "df.describe()"
      ]
    },
    {
      "cell_type": "code",
      "execution_count": 6,
      "metadata": {
        "colab": {
          "base_uri": "https://localhost:8080/",
          "height": 310
        },
        "id": "JUFnme9r-9u8",
        "outputId": "f4a8c665-1a26-416f-eeda-8ad57675539f"
      },
      "outputs": [
        {
          "data": {
            "text/html": [
              "<div>\n",
              "<style scoped>\n",
              "    .dataframe tbody tr th:only-of-type {\n",
              "        vertical-align: middle;\n",
              "    }\n",
              "\n",
              "    .dataframe tbody tr th {\n",
              "        vertical-align: top;\n",
              "    }\n",
              "\n",
              "    .dataframe thead th {\n",
              "        text-align: right;\n",
              "    }\n",
              "</style>\n",
              "<table border=\"1\" class=\"dataframe\">\n",
              "  <thead>\n",
              "    <tr style=\"text-align: right;\">\n",
              "      <th></th>\n",
              "      <th>Ticket #</th>\n",
              "      <th>Customer Complaint</th>\n",
              "      <th>Date</th>\n",
              "      <th>Date_month_year</th>\n",
              "      <th>Time</th>\n",
              "      <th>Received Via</th>\n",
              "      <th>City</th>\n",
              "      <th>State</th>\n",
              "      <th>Zip code</th>\n",
              "      <th>Status</th>\n",
              "      <th>Filing on Behalf of Someone</th>\n",
              "      <th>DateTime</th>\n",
              "    </tr>\n",
              "  </thead>\n",
              "  <tbody>\n",
              "    <tr>\n",
              "      <th>0</th>\n",
              "      <td>250635</td>\n",
              "      <td>Comcast Cable Internet Speeds</td>\n",
              "      <td>22-04-15</td>\n",
              "      <td>22-Apr-15</td>\n",
              "      <td>3:53:50 PM</td>\n",
              "      <td>Customer Care Call</td>\n",
              "      <td>Abingdon</td>\n",
              "      <td>Maryland</td>\n",
              "      <td>21009</td>\n",
              "      <td>Closed</td>\n",
              "      <td>No</td>\n",
              "      <td>2015-04-22 15:53:50</td>\n",
              "    </tr>\n",
              "    <tr>\n",
              "      <th>1</th>\n",
              "      <td>223441</td>\n",
              "      <td>Payment disappear - service got disconnected</td>\n",
              "      <td>04-08-15</td>\n",
              "      <td>04-Aug-15</td>\n",
              "      <td>10:22:56 AM</td>\n",
              "      <td>Internet</td>\n",
              "      <td>Acworth</td>\n",
              "      <td>Georgia</td>\n",
              "      <td>30102</td>\n",
              "      <td>Closed</td>\n",
              "      <td>No</td>\n",
              "      <td>2015-08-04 10:22:56</td>\n",
              "    </tr>\n",
              "    <tr>\n",
              "      <th>2</th>\n",
              "      <td>242732</td>\n",
              "      <td>Speed and Service</td>\n",
              "      <td>18-04-15</td>\n",
              "      <td>18-Apr-15</td>\n",
              "      <td>9:55:47 AM</td>\n",
              "      <td>Internet</td>\n",
              "      <td>Acworth</td>\n",
              "      <td>Georgia</td>\n",
              "      <td>30101</td>\n",
              "      <td>Closed</td>\n",
              "      <td>Yes</td>\n",
              "      <td>2015-04-18 09:55:47</td>\n",
              "    </tr>\n",
              "    <tr>\n",
              "      <th>3</th>\n",
              "      <td>277946</td>\n",
              "      <td>Comcast Imposed a New Usage Cap of 300GB that ...</td>\n",
              "      <td>05-07-15</td>\n",
              "      <td>05-Jul-15</td>\n",
              "      <td>11:59:35 AM</td>\n",
              "      <td>Internet</td>\n",
              "      <td>Acworth</td>\n",
              "      <td>Georgia</td>\n",
              "      <td>30101</td>\n",
              "      <td>Open</td>\n",
              "      <td>Yes</td>\n",
              "      <td>2015-07-05 11:59:35</td>\n",
              "    </tr>\n",
              "    <tr>\n",
              "      <th>4</th>\n",
              "      <td>307175</td>\n",
              "      <td>Comcast not working and no service to boot</td>\n",
              "      <td>26-05-15</td>\n",
              "      <td>26-May-15</td>\n",
              "      <td>1:25:26 PM</td>\n",
              "      <td>Internet</td>\n",
              "      <td>Acworth</td>\n",
              "      <td>Georgia</td>\n",
              "      <td>30101</td>\n",
              "      <td>Solved</td>\n",
              "      <td>No</td>\n",
              "      <td>2015-05-26 13:25:26</td>\n",
              "    </tr>\n",
              "  </tbody>\n",
              "</table>\n",
              "</div>"
            ],
            "text/plain": [
              "  Ticket #                                 Customer Complaint      Date  \\\n",
              "0   250635                      Comcast Cable Internet Speeds  22-04-15   \n",
              "1   223441       Payment disappear - service got disconnected  04-08-15   \n",
              "2   242732                                  Speed and Service  18-04-15   \n",
              "3   277946  Comcast Imposed a New Usage Cap of 300GB that ...  05-07-15   \n",
              "4   307175         Comcast not working and no service to boot  26-05-15   \n",
              "\n",
              "  Date_month_year         Time        Received Via      City     State  \\\n",
              "0       22-Apr-15   3:53:50 PM  Customer Care Call  Abingdon  Maryland   \n",
              "1       04-Aug-15  10:22:56 AM            Internet   Acworth   Georgia   \n",
              "2       18-Apr-15   9:55:47 AM            Internet   Acworth   Georgia   \n",
              "3       05-Jul-15  11:59:35 AM            Internet   Acworth   Georgia   \n",
              "4       26-May-15   1:25:26 PM            Internet   Acworth   Georgia   \n",
              "\n",
              "   Zip code  Status Filing on Behalf of Someone            DateTime  \n",
              "0     21009  Closed                          No 2015-04-22 15:53:50  \n",
              "1     30102  Closed                          No 2015-08-04 10:22:56  \n",
              "2     30101  Closed                         Yes 2015-04-18 09:55:47  \n",
              "3     30101    Open                         Yes 2015-07-05 11:59:35  \n",
              "4     30101  Solved                          No 2015-05-26 13:25:26  "
            ]
          },
          "execution_count": 6,
          "metadata": {},
          "output_type": "execute_result"
        }
      ],
      "source": [
        "#날짜 데이터타입을 가진 column을 추가\n",
        "\n",
        "def changedate(x):\n",
        "    year = x.Date.split('-')[2]\n",
        "    month = x.Date.split('-')[1]\n",
        "    day = x.Date.split('-')[0]\n",
        "    date = '20'+year+'-'+month+'-'+day\n",
        "    #print(date)\n",
        "    if (x.Time.split(' ')[1] == 'PM') & (x.Time.split(':')[0] != '12'):\n",
        "        times = str(int(x.Time.split(':')[0])+12) + \":\" + \":\".join(x.Time.split(' ')[0].split(':')[1:])\n",
        "        #print(times)\n",
        "    else:\n",
        "        times = x.Time.split(':')[0] + \":\" + \":\".join(x.Time.split(' ')[0].split(':')[1:])\n",
        "        #print(times)\n",
        "    datetimes = date + ' ' + times\n",
        "    #print(datetimes)\n",
        "    return pd.to_datetime(datetimes)\n",
        "\n",
        "df['DateTime'] = df.apply(changedate, axis=1)\n",
        "df.head()"
      ]
    },
    {
      "cell_type": "code",
      "execution_count": 7,
      "metadata": {
        "colab": {
          "base_uri": "https://localhost:8080/"
        },
        "id": "EHBKWXIg-9u8",
        "outputId": "f1d5b1ed-0e03-41c2-807e-f9efabce196f"
      },
      "outputs": [
        {
          "data": {
            "text/plain": [
              "(Timestamp('2015-01-04 10:43:20'), Timestamp('2015-12-06 23:52:11'))"
            ]
          },
          "execution_count": 7,
          "metadata": {},
          "output_type": "execute_result"
        }
      ],
      "source": [
        "df.DateTime.min(), df.DateTime.max()"
      ]
    },
    {
      "cell_type": "code",
      "execution_count": 8,
      "metadata": {
        "colab": {
          "base_uri": "https://localhost:8080/"
        },
        "id": "KbbfU3zW-9u8",
        "outputId": "2befbd44-a668-4b78-e0ec-9bf2681fdd8f"
      },
      "outputs": [
        {
          "data": {
            "text/plain": [
              "Received Via\n",
              "Customer Care Call    1119\n",
              "Internet              1105\n",
              "Name: count, dtype: int64"
            ]
          },
          "execution_count": 8,
          "metadata": {},
          "output_type": "execute_result"
        }
      ],
      "source": [
        "df['Received Via'].value_counts()"
      ]
    },
    {
      "cell_type": "code",
      "execution_count": 9,
      "metadata": {
        "colab": {
          "base_uri": "https://localhost:8080/"
        },
        "id": "UE6o-e6R-9u9",
        "outputId": "71ec8046-d409-4f72-b482-f98e42570bef"
      },
      "outputs": [
        {
          "data": {
            "text/plain": [
              "Status\n",
              "Solved     973\n",
              "Closed     734\n",
              "Open       363\n",
              "Pending    154\n",
              "Name: count, dtype: int64"
            ]
          },
          "execution_count": 9,
          "metadata": {},
          "output_type": "execute_result"
        }
      ],
      "source": [
        "df.Status.value_counts()"
      ]
    },
    {
      "cell_type": "markdown",
      "metadata": {
        "id": "Ezvqb6rp-9u9"
      },
      "source": [
        "## **Process 02**\n",
        "**자연어 처리를 이용한 키워드 추출 및 Complaint CASE 분류**\n",
        "---"
      ]
    },
    {
      "cell_type": "markdown",
      "metadata": {
        "id": "lGvTrotX-9u9"
      },
      "source": [
        "### 키워드 추출\n",
        "---"
      ]
    },
    {
      "cell_type": "code",
      "execution_count": 10,
      "metadata": {
        "id": "JCqBEYy_-9u9"
      },
      "outputs": [],
      "source": [
        "#캐글에서 가져다 썼음.\n",
        "#링크 : https://www.kaggle.com/code/hamditarek/fake-news-detection-on-twitter-eda\n",
        "from sklearn.feature_extraction import text\n",
        "import re\n",
        "\n",
        "#사전에 키워드 추출을 해본 결과, 아래 단어들은 키워드 언급 횟수 상위에 드는 반면, 분석적으로 의미가 없는 단어들이라 판단되어 제거를 하기로 했다.\n",
        "r_buf = ['comcast', 'internet', 'service']\n",
        "\n",
        "def clean(x):\n",
        "    x = x.str.lower()\n",
        "    for r in r_buf:\n",
        "      for i in range(len(x)):\n",
        "        x[i] = x[i].replace(r, '')\n",
        "        x[i] = re.sub(' +', ' ', x[i])\n",
        "    return x\n",
        "\n",
        "bin_question_tokens = ['it', 'is', 'are', 'do', 'does', 'did', 'was', 'were', 'will', 'can']\n",
        "stop_words = text.ENGLISH_STOP_WORDS"
      ]
    },
    {
      "cell_type": "code",
      "execution_count": 11,
      "metadata": {
        "colab": {
          "base_uri": "https://localhost:8080/"
        },
        "id": "jm_J8IUH-9u9",
        "outputId": "7e7cfbdb-b521-4ca0-94ef-8ffcbd49761a"
      },
      "outputs": [
        {
          "data": {
            "text/plain": [
              "0                                            cable speeds\n",
              "1                    payment disappear - got disconnected\n",
              "2                                              speed and \n",
              "3        imposed a new usage cap of 300gb that punishe...\n",
              "4                              not working and no to boot\n",
              "                              ...                        \n",
              "2219                                         availability\n",
              "2220                   monthly billing for returned modem\n",
              "2221                                     complaint about \n",
              "2222                       extremely unsatisfied customer\n",
              "2223                                 , ypsilanti mi speed\n",
              "Name: Customer Complaint, Length: 2224, dtype: object"
            ]
          },
          "execution_count": 11,
          "metadata": {},
          "output_type": "execute_result"
        }
      ],
      "source": [
        "reindexed_data = df[\"Customer Complaint\"]\n",
        "# reindexed_data[0]\n",
        "reindexed_data = clean(reindexed_data)\n",
        "reindexed_data"
      ]
    },
    {
      "cell_type": "code",
      "execution_count": 12,
      "metadata": {
        "id": "ndKI6V1n-9u9"
      },
      "outputs": [],
      "source": [
        "from sklearn.feature_extraction.text import CountVectorizer\n",
        "import numpy as np\n",
        "\n",
        "def get_top_n_words(n_top_words, count_vectorizer, text_data):\n",
        "    '''\n",
        "    returns a tuple of the top n words in a sample and their\n",
        "    accompanying counts, given a CountVectorizer object and text sample\n",
        "    '''\n",
        "    vectorized_headlines = count_vectorizer.fit_transform(text_data.values)\n",
        "    vectorized_total = np.sum(vectorized_headlines, axis=0)\n",
        "    word_indices = np.flip(np.argsort(vectorized_total)[0,:], 1)\n",
        "    word_values = np.flip(np.sort(vectorized_total)[0,:],1)\n",
        "\n",
        "    word_vectors = np.zeros((n_top_words, vectorized_headlines.shape[1]))\n",
        "    for i in range(n_top_words):\n",
        "        word_vectors[i,word_indices[0,i]] = 1\n",
        "\n",
        "    words = [word[0].encode('ascii',errors=\"ignore\").decode('utf-8',errors=\"ignore\") for\n",
        "             word in count_vectorizer.inverse_transform(word_vectors)]\n",
        "\n",
        "    return (words, word_values[0,:n_top_words].tolist()[0])"
      ]
    },
    {
      "cell_type": "code",
      "execution_count": 13,
      "metadata": {
        "colab": {
          "base_uri": "https://localhost:8080/",
          "height": 626
        },
        "id": "DOySOCQc-9u-",
        "outputId": "2ae411ac-2268-4511-b52d-07ffe706c600"
      },
      "outputs": [
        {
          "data": {
            "image/png": "[encoded data removed]",
            "text/plain": [
              "<Figure size 1000x600 with 1 Axes>"
            ]
          },
          "metadata": {},
          "output_type": "display_data"
        }
      ],
      "source": [
        "import matplotlib.pyplot as plt\n",
        "import seaborn as sns\n",
        "\n",
        "count_vectorizer = CountVectorizer(stop_words='english')\n",
        "words, word_values = get_top_n_words(n_top_words=25,\n",
        "                                     count_vectorizer=count_vectorizer,\n",
        "                                     text_data=reindexed_data)\n",
        "\n",
        "fig, ax = plt.subplots(figsize=(10,6))\n",
        "ax.bar(range(len(words)), word_values);\n",
        "ax.set_xticks(range(len(words)));\n",
        "ax.set_xticklabels(words, rotation='vertical');\n",
        "ax.set_title('Top words in headlines dataset (excluding stop words)');\n",
        "ax.set_xlabel('Word');\n",
        "ax.set_ylabel('Number of occurences');\n",
        "plt.show()"
      ]
    },
    {
      "cell_type": "code",
      "execution_count": 14,
      "metadata": {
        "id": "-0dFyoqz-9u-"
      },
      "outputs": [],
      "source": [
        "from textblob import TextBlob\n",
        "tagged_headlines = [TextBlob(reindexed_data[i]).pos_tags for i in range(reindexed_data.shape[0])]"
      ]
    },
    {
      "cell_type": "code",
      "execution_count": 15,
      "metadata": {
        "colab": {
          "base_uri": "https://localhost:8080/"
        },
        "id": "AvvhKE6EAyMp",
        "outputId": "13cf1c8c-a014-4fd9-c75e-aae1b71809f8"
      },
      "outputs": [
        {
          "name": "stdout",
          "output_type": "stream",
          "text": [
            "Total number of words:  8008\n",
            "Mean number of words per complaint:  3.6007194244604315\n"
          ]
        }
      ],
      "source": [
        "tagged_headlines_df = pd.DataFrame({'tags':tagged_headlines})\n",
        "\n",
        "word_counts = []\n",
        "pos_counts = {}\n",
        "\n",
        "for headline in tagged_headlines_df[u'tags']:\n",
        "    word_counts.append(len(headline))\n",
        "    for tag in headline:\n",
        "        if tag[1] in pos_counts:\n",
        "            pos_counts[tag[1]] += 1\n",
        "        else:\n",
        "            pos_counts[tag[1]] = 1\n",
        "\n",
        "print('Total number of words: ', np.sum(word_counts))\n",
        "print('Mean number of words per complaint: ', np.mean(word_counts))"
      ]
    },
    {
      "cell_type": "code",
      "execution_count": 16,
      "metadata": {
        "colab": {
          "base_uri": "https://localhost:8080/",
          "height": 410
        },
        "id": "KLQL1N5pA-Kt",
        "outputId": "d48cf4d9-aeb4-47a1-aa3e-bd51bc8e0a4f"
      },
      "outputs": [
        {
          "data": {
            "image/png": "[encoded data removed]",
            "text/plain": [
              "<Figure size 800x400 with 1 Axes>"
            ]
          },
          "metadata": {},
          "output_type": "display_data"
        }
      ],
      "source": [
        "import scipy.stats as stats\n",
        "\n",
        "y = stats.norm.pdf(np.linspace(0,14,50), np.mean(word_counts), np.std(word_counts))\n",
        "\n",
        "fig, ax = plt.subplots(figsize=(8,4))\n",
        "ax.hist(word_counts, bins=range(1,14), density=True);\n",
        "ax.plot(np.linspace(0,14,50), y, 'r--', linewidth=1);\n",
        "ax.set_title('Headline word lengths');\n",
        "ax.set_xticks(range(1,14));\n",
        "ax.set_xlabel('Number of words');\n",
        "plt.show()"
      ]
    },
    {
      "cell_type": "code",
      "execution_count": 17,
      "metadata": {
        "colab": {
          "base_uri": "https://localhost:8080/",
          "height": 410
        },
        "id": "tR0RS3cCBovO",
        "outputId": "5febca87-b067-4ced-a928-0aa2a8b765c6"
      },
      "outputs": [
        {
          "data": {
            "image/png": "[encoded data removed]",
            "text/plain": [
              "<Figure size 1400x400 with 1 Axes>"
            ]
          },
          "metadata": {},
          "output_type": "display_data"
        }
      ],
      "source": [
        "pos_sorted_types = sorted(pos_counts, key=pos_counts.__getitem__, reverse=True)\n",
        "pos_sorted_counts = sorted(pos_counts.values(), reverse=True)\n",
        "\n",
        "fig, ax = plt.subplots(figsize=(14,4))\n",
        "ax.bar(range(len(pos_counts)), pos_sorted_counts);\n",
        "ax.set_xticks(range(len(pos_counts)));\n",
        "ax.set_xticklabels(pos_sorted_types);\n",
        "ax.set_title('Part-of-Speech Tagging for questions Corpus');\n",
        "ax.set_xlabel('Type of Word');"
      ]
    },
    {
      "cell_type": "markdown",
      "metadata": {
        "id": "2oqKCEORCK7r"
      },
      "source": [
        "### CASE 분류\n",
        "---"
      ]
    },
    {
      "cell_type": "code",
      "execution_count": 18,
      "metadata": {
        "colab": {
          "base_uri": "https://localhost:8080/"
        },
        "id": "tmeLaUygCMsP",
        "outputId": "db8f7087-d6fb-4b5c-c57d-9d59c071a584"
      },
      "outputs": [
        {
          "name": "stdout",
          "output_type": "stream",
          "text": [
            "Complaints before vectorization:  data caps\n",
            "Complaints after vectorization: \n",
            "  (0, 327)\t1\n",
            "  (0, 200)\t1\n"
          ]
        }
      ],
      "source": [
        "small_count_vectorizer = CountVectorizer(stop_words='english', max_features=40000)\n",
        "#small_text_sample = reindexed_data.sample(n=500, random_state=123).values\n",
        "small_text_sample = reindexed_data.values\n",
        "\n",
        "print('Complaints before vectorization: {}'.format(small_text_sample[123]))\n",
        "\n",
        "small_document_term_matrix = small_count_vectorizer.fit_transform(small_text_sample)\n",
        "\n",
        "print('Complaints after vectorization: \\n{}'.format(small_document_term_matrix[123]))"
      ]
    },
    {
      "cell_type": "code",
      "execution_count": 19,
      "metadata": {
        "id": "1RrqgW6MCVGK"
      },
      "outputs": [],
      "source": [
        "#n_topics : Complaint를 몇개의 유형으로 나눌 것인지\n",
        "#number of topics 5,6 괜찮음\n",
        "#사전에 전체 데이터 중 500개를 샘플링해서 LSA / LDA 모델을 수행한 결과, 클러스터링 결과가 n=6에서 가장 결과가 괜찮았기 때문에 해당 값을 사용한다.\n",
        "n_topics = 6"
      ]
    },
    {
      "cell_type": "markdown",
      "metadata": {
        "id": "_W-t18iLC5kU"
      },
      "source": [
        "#### Latent Semantic Analysis (LSA)"
      ]
    },
    {
      "cell_type": "code",
      "execution_count": 20,
      "metadata": {
        "id": "vKIUPHsqCyoL"
      },
      "outputs": [],
      "source": [
        "from sklearn.decomposition import TruncatedSVD\n",
        "\n",
        "lsa_model = TruncatedSVD(n_components=n_topics)\n",
        "lsa_topic_matrix = lsa_model.fit_transform(small_document_term_matrix)"
      ]
    },
    {
      "cell_type": "code",
      "execution_count": 21,
      "metadata": {
        "id": "TXjbAGQ2DK4N"
      },
      "outputs": [],
      "source": [
        "from collections import Counter\n",
        "\n",
        "# Define helper functions\n",
        "def get_keys(topic_matrix):\n",
        "    '''\n",
        "    returns an integer list of predicted topic\n",
        "    categories for a given topic matrix\n",
        "    '''\n",
        "    keys = topic_matrix.argmax(axis=1).tolist()\n",
        "    return keys\n",
        "\n",
        "def keys_to_counts(keys):\n",
        "    '''\n",
        "    returns a tuple of topic categories and their\n",
        "    accompanying magnitudes for a given list of keys\n",
        "    '''\n",
        "    count_pairs = Counter(keys).items()\n",
        "    categories = [pair[0] for pair in count_pairs]\n",
        "    counts = [pair[1] for pair in count_pairs]\n",
        "    return (categories, counts)"
      ]
    },
    {
      "cell_type": "code",
      "execution_count": 22,
      "metadata": {
        "id": "GW1RKQnUDRf0"
      },
      "outputs": [],
      "source": [
        "lsa_keys = get_keys(lsa_topic_matrix)\n",
        "lsa_categories, lsa_counts = keys_to_counts(lsa_keys)"
      ]
    },
    {
      "cell_type": "code",
      "execution_count": 23,
      "metadata": {
        "id": "1YvadiTqDWRD"
      },
      "outputs": [],
      "source": [
        "# Define helper functions\n",
        "def get_top_n_words(n, keys, document_term_matrix, count_vectorizer):\n",
        "    '''\n",
        "    returns a list of n_topic strings, where each string contains the n most common\n",
        "    words in a predicted category, in order\n",
        "    '''\n",
        "    top_word_indices = []\n",
        "    for topic in range(n_topics):\n",
        "        temp_vector_sum = 0\n",
        "        for i in range(len(keys)):\n",
        "            if keys[i] == topic:\n",
        "                temp_vector_sum += document_term_matrix[i]\n",
        "        temp_vector_sum = temp_vector_sum.toarray()\n",
        "        top_n_word_indices = np.flip(np.argsort(temp_vector_sum)[0][-n:],0)\n",
        "        top_word_indices.append(top_n_word_indices)\n",
        "    top_words = []\n",
        "    for topic in top_word_indices:\n",
        "        topic_words = []\n",
        "        for index in topic:\n",
        "            temp_word_vector = np.zeros((1,document_term_matrix.shape[1]))\n",
        "            temp_word_vector[:,index] = 1\n",
        "            the_word = count_vectorizer.inverse_transform(temp_word_vector)[0][0]\n",
        "            topic_words.append(the_word.encode('ascii',errors=\"ignore\").decode('utf-8',errors=\"ignore\"))\n",
        "        top_words.append(\" \".join(topic_words))\n",
        "    return top_words"
      ]
    },
    {
      "cell_type": "code",
      "execution_count": 24,
      "metadata": {
        "colab": {
          "base_uri": "https://localhost:8080/"
        },
        "id": "HUIR13CODoBf",
        "outputId": "bb733bef-8d67-4688-b094-6323008025f2"
      },
      "outputs": [
        {
          "name": "stdout",
          "output_type": "stream",
          "text": [
            "Topic 1:  billing practices issues unfair issue deceptive fraudulent customer complaint fraud\n",
            "Topic 2:  data cap caps usage overage charges 300gb limit month meter\n",
            "Topic 3:  speed throttling price slow connection high false paying monopoly tv\n",
            "Topic 4:  xfinity customer complaint cable poor contract problems phone fee terrible\n",
            "Topic 5:  issues email account mail connectivity frequent signal constant non refund\n",
            "Topic 6:  speeds charges pricing unfair business charged slow bait switch prices\n"
          ]
        }
      ],
      "source": [
        "#각 문의유형별 언급된 keyword top10 보여주기. 이를 통해 각 문의유형(topic)의 특징을 알 수 있다.\n",
        "top_n_words_lsa = get_top_n_words(10, lsa_keys, small_document_term_matrix, small_count_vectorizer)\n",
        "\n",
        "for i in range(len(top_n_words_lsa)):\n",
        "    print(\"Topic {}: \".format(i+1), top_n_words_lsa[i])"
      ]
    },
    {
      "cell_type": "code",
      "execution_count": 25,
      "metadata": {
        "colab": {
          "base_uri": "https://localhost:8080/",
          "height": 247
        },
        "id": "1NYmlfKnDsgI",
        "outputId": "5bb88ab2-03c7-4381-b64b-f378bdbbfb7e"
      },
      "outputs": [
        {
          "data": {
            "image/png": "[encoded data removed]",
            "text/plain": [
              "<Figure size 3000x400 with 1 Axes>"
            ]
          },
          "metadata": {},
          "output_type": "display_data"
        }
      ],
      "source": [
        "#각 문의유형별 count수 시각화\n",
        "top_3_words = get_top_n_words(3, lsa_keys, small_document_term_matrix, small_count_vectorizer)\n",
        "labels = ['Topic {}: \\n'.format(i) + top_3_words[i] for i in lsa_categories]\n",
        "\n",
        "fig, ax = plt.subplots(figsize=(30,4))\n",
        "ax.bar(lsa_categories, lsa_counts);\n",
        "ax.set_xticks(lsa_categories);\n",
        "ax.set_xticklabels(labels);\n",
        "ax.set_ylabel('Number of complaints');\n",
        "ax.set_title('LSA topic counts');\n",
        "plt.show()"
      ]
    },
    {
      "cell_type": "markdown",
      "metadata": {
        "id": "hXR5buIrEYun"
      },
      "source": [
        "> t-SNE로 LSA 모델 평가"
      ]
    },
    {
      "cell_type": "code",
      "execution_count": 26,
      "metadata": {
        "colab": {
          "base_uri": "https://localhost:8080/"
        },
        "id": "sdAa0BDyEBvM",
        "outputId": "e527bfb0-7fe5-4189-967d-406de84f93fa"
      },
      "outputs": [
        {
          "name": "stdout",
          "output_type": "stream",
          "text": [
            "[t-SNE] Computing 151 nearest neighbors...\n",
            "[t-SNE] Indexed 2224 samples in 0.003s...\n",
            "[t-SNE] Computed neighbors for 2224 samples in 0.090s...\n",
            "[t-SNE] Computed conditional probabilities for sample 1000 / 2224\n",
            "[t-SNE] Computed conditional probabilities for sample 2000 / 2224\n",
            "[t-SNE] Computed conditional probabilities for sample 2224 / 2224\n",
            "[t-SNE] Mean sigma: 0.000000\n",
            "[t-SNE] KL divergence after 250 iterations with early exaggeration: 54.024250\n",
            "[t-SNE] KL divergence after 2000 iterations: 0.314969\n"
          ]
        }
      ],
      "source": [
        "from sklearn.manifold import TSNE\n",
        "\n",
        "tsne_lsa_model = TSNE(n_components=2, perplexity=50, learning_rate=100,\n",
        "                        n_iter=2000, verbose=1, random_state=0, angle=0.75)\n",
        "tsne_lsa_vectors = tsne_lsa_model.fit_transform(lsa_topic_matrix)"
      ]
    },
    {
      "cell_type": "code",
      "execution_count": 27,
      "metadata": {
        "id": "-zwOahczEpNe"
      },
      "outputs": [],
      "source": [
        "# Define helper functions\n",
        "def get_mean_topic_vectors(keys, two_dim_vectors):\n",
        "    '''\n",
        "    returns a list of centroid vectors from each predicted topic category\n",
        "    '''\n",
        "    mean_topic_vectors = []\n",
        "    for t in range(n_topics):\n",
        "        articles_in_that_topic = []\n",
        "        for i in range(len(keys)):\n",
        "            if keys[i] == t:\n",
        "                articles_in_that_topic.append(two_dim_vectors[i])\n",
        "\n",
        "        articles_in_that_topic = np.vstack(articles_in_that_topic)\n",
        "        mean_article_in_that_topic = np.mean(articles_in_that_topic, axis=0)\n",
        "        mean_topic_vectors.append(mean_article_in_that_topic)\n",
        "    return mean_topic_vectors"
      ]
    },
    {
      "cell_type": "code",
      "execution_count": 28,
      "metadata": {
        "id": "6SjiPr7IE4WM"
      },
      "outputs": [],
      "source": [
        "colormap = np.array([\n",
        "    \"#1f77b4\", \"#aec7e8\", \"#ff7f0e\", \"#ffbb78\", \"#2ca02c\",\n",
        "    \"#98df8a\", \"#d62728\", \"#ff9896\", \"#9467bd\", \"#c5b0d5\",\n",
        "    \"#8c564b\", \"#c49c94\", \"#e377c2\", \"#f7b6d2\", \"#7f7f7f\",\n",
        "    \"#c7c7c7\", \"#bcbd22\", \"#dbdb8d\", \"#17becf\", \"#9edae5\" ])\n",
        "colormap = colormap[:n_topics]"
      ]
    },
    {
      "cell_type": "code",
      "execution_count": 29,
      "metadata": {
        "colab": {
          "base_uri": "https://localhost:8080/",
          "height": 517
        },
        "id": "fBRPSqJME7s_",
        "outputId": "bb6f6735-cc68-4231-cebc-0a94b70f6ce9"
      },
      "outputs": [
        {
          "data": {
            "text/html": [
              "<style>\n",
              "        .bk-notebook-logo {\n",
              "            display: block;\n",
              "            width: 20px;\n",
              "            height: 20px;\n",
              "            background-image: url(data:image/png;base64,iVBORw0KGgoAAAANSUhEUgAAABQAAAAUCAYAAACNiR0NAAAABHNCSVQICAgIfAhkiAAAAAlwSFlzAAALEgAACxIB0t1+/AAAABx0RVh0U29mdHdhcmUAQWRvYmUgRmlyZXdvcmtzIENTNui8sowAAAOkSURBVDiNjZRtaJVlGMd/1/08zzln5zjP1LWcU9N0NkN8m2CYjpgQYQXqSs0I84OLIC0hkEKoPtiH3gmKoiJDU7QpLgoLjLIQCpEsNJ1vqUOdO7ppbuec5+V+rj4ctwzd8IIbbi6u+8f1539dt3A78eXC7QizUF7gyV1fD1Yqg4JWz84yffhm0qkFqBogB9rM8tZdtwVsPUhWhGcFJngGeWrPzHm5oaMmkfEg1usvLFyc8jLRqDOMru7AyC8saQr7GG7f5fvDeH7Ej8CM66nIF+8yngt6HWaKh7k49Soy9nXurCi1o3qUbS3zWfrYeQDTB/Qj6kX6Ybhw4B+bOYoLKCC9H3Nu/leUTZ1JdRWkkn2ldcCamzrcf47KKXdAJllSlxAOkRgyHsGC/zRday5Qld9DyoM4/q/rUoy/CXh3jzOu3bHUVZeU+DEn8FInkPBFlu3+nW3Nw0mk6vCDiWg8CeJaxEwuHS3+z5RgY+YBR6V1Z1nxSOfoaPa4LASWxxdNp+VWTk7+4vzaou8v8PN+xo+KY2xsw6une2frhw05CTYOmQvsEhjhWjn0bmXPjpE1+kplmmkP3suftwTubK9Vq22qKmrBhpY4jvd5afdRA3wGjFAgcnTK2s4hY0/GPNIb0nErGMCRxWOOX64Z8RAC4oCXdklmEvcL8o0BfkNK4lUg9HTl+oPlQxdNo3Mg4Nv175e/1LDGzZen30MEjRUtmXSfiTVu1kK8W4txyV6BMKlbgk3lMwYCiusNy9fVfvvwMxv8Ynl6vxoByANLTWplvuj/nF9m2+PDtt1eiHPBr1oIfhCChQMBw6Aw0UulqTKZdfVvfG7VcfIqLG9bcldL/+pdWTLxLUy8Qq38heUIjh4XlzZxzQm19lLFlr8vdQ97rjZVOLf8nclzckbcD4wxXMidpX30sFd37Fv/GtwwhzhxGVAprjbg0gCAEeIgwCZyTV2Z1REEW8O4py0wsjeloKoMr6iCY6dP92H6Vw/oTyICIthibxjm/DfN9lVz8IqtqKYLUXfoKVMVQVVJOElGjrnnUt9T9wbgp8AyYKaGlqingHZU/uG2NTZSVqwHQTWkx9hxjkpWDaCg6Ckj5qebgBVbT3V3NNXMSiWSDdGV3hrtzla7J+duwPOToIg42ChPQOQjspnSlp1V+Gjdged7+8UN5CRAV7a5EdFNwCjEaBR27b3W890TE7g24NAP/mMDXRWrGoFPQI9ls/MWO2dWFAar/xcOIImbbpA3zgAAAABJRU5ErkJggg==);\n",
              "        }\n",
              "    </style>\n",
              "    <div>\n",
              "        <a href=\"https://bokeh.org\" target=\"_blank\" class=\"bk-notebook-logo\"></a>\n",
              "        <span id=\"de89575b-a67d-4325-abf0-d5ab58b5b0d4\">Loading BokehJS ...</span>\n",
              "    </div>\n"
            ]
          },
          "metadata": {},
          "output_type": "display_data"
        },
        {
          "data": {
            "application/javascript": "(function(root) {\n  function now() {\n    return new Date();\n  }\n\n  const force = true;\n\n  if (typeof root._bokeh_onload_callbacks === \"undefined\" || force === true) {\n    root._bokeh_onload_callbacks = [];\n    root._bokeh_is_loading = undefined;\n  }\n\nconst JS_MIME_TYPE = 'application/javascript';\n  const HTML_MIME_TYPE = 'text/html';\n  const EXEC_MIME_TYPE = 'application/vnd.bokehjs_exec.v0+json';\n  const CLASS_NAME = 'output_bokeh rendered_html';\n\n  /**\n   * Render data to the DOM node\n   */\n  function render(props, node) {\n    const script = document.createElement(\"script\");\n    node.appendChild(script);\n  }\n\n  /**\n   * Handle when an output is cleared or removed\n   */\n  function handleClearOutput(event, handle) {\n    const cell = handle.cell;\n\n    const id = cell.output_area._bokeh_element_id;\n    const server_id = cell.output_area._bokeh_server_id;\n    // Clean up Bokeh references\n    if (id != null && id in Bokeh.index) {\n      Bokeh.index[id].model.document.clear();\n      delete Bokeh.index[id];\n    }\n\n    if (server_id !== undefined) {\n      // Clean up Bokeh references\n      const cmd_clean = \"from bokeh.io.state import curstate; print(curstate().uuid_to_server['\" + server_id + \"'].get_sessions()[0].document.roots[0]._id)\";\n      cell.notebook.kernel.execute(cmd_clean, {\n        iopub: {\n          output: function(msg) {\n            const id = msg.content.text.trim();\n            if (id in Bokeh.index) {\n              Bokeh.index[id].model.document.clear();\n              delete Bokeh.index[id];\n            }\n          }\n        }\n      });\n      // Destroy server and session\n      const cmd_destroy = \"import bokeh.io.notebook as ion; ion.destroy_server('\" + server_id + \"')\";\n      cell.notebook.kernel.execute(cmd_destroy);\n    }\n  }\n\n  /**\n   * Handle when a new output is added\n   */\n  function handleAddOutput(event, handle) {\n    const output_area = handle.output_area;\n    const output = handle.output;\n\n    // limit handleAddOutput to display_data with EXEC_MIME_TYPE content only\n    if ((output.output_type != \"display_data\") || (!Object.prototype.hasOwnProperty.call(output.data, EXEC_MIME_TYPE))) {\n      return\n    }\n\n    const toinsert = output_area.element.find(\".\" + CLASS_NAME.split(' ')[0]);\n\n    if (output.metadata[EXEC_MIME_TYPE][\"id\"] !== undefined) {\n      toinsert[toinsert.length - 1].firstChild.textContent = output.data[JS_MIME_TYPE];\n      // store reference to embed id on output_area\n      output_area._bokeh_element_id = output.metadata[EXEC_MIME_TYPE][\"id\"];\n    }\n    if (output.metadata[EXEC_MIME_TYPE][\"server_id\"] !== undefined) {\n      const bk_div = document.createElement(\"div\");\n      bk_div.innerHTML = output.data[HTML_MIME_TYPE];\n      const script_attrs = bk_div.children[0].attributes;\n      for (let i = 0; i < script_attrs.length; i++) {\n        toinsert[toinsert.length - 1].firstChild.setAttribute(script_attrs[i].name, script_attrs[i].value);\n        toinsert[toinsert.length - 1].firstChild.textContent = bk_div.children[0].textContent\n      }\n      // store reference to server id on output_area\n      output_area._bokeh_server_id = output.metadata[EXEC_MIME_TYPE][\"server_id\"];\n    }\n  }\n\n  function register_renderer(events, OutputArea) {\n\n    function append_mime(data, metadata, element) {\n      // create a DOM node to render to\n      const toinsert = this.create_output_subarea(\n        metadata,\n        CLASS_NAME,\n        EXEC_MIME_TYPE\n      );\n      this.keyboard_manager.register_events(toinsert);\n      // Render to node\n      const props = {data: data, metadata: metadata[EXEC_MIME_TYPE]};\n      render(props, toinsert[toinsert.length - 1]);\n      element.append(toinsert);\n      return toinsert\n    }\n\n    /* Handle when an output is cleared or removed */\n    events.on('clear_output.CodeCell', handleClearOutput);\n    events.on('delete.Cell', handleClearOutput);\n\n    /* Handle when a new output is added */\n    events.on('output_added.OutputArea', handleAddOutput);\n\n    /**\n     * Register the mime type and append_mime function with output_area\n     */\n    OutputArea.prototype.register_mime_type(EXEC_MIME_TYPE, append_mime, {\n      /* Is output safe? */\n      safe: true,\n      /* Index of renderer in `output_area.display_order` */\n      index: 0\n    });\n  }\n\n  // register the mime type if in Jupyter Notebook environment and previously unregistered\n  if (root.Jupyter !== undefined) {\n    const events = require('base/js/events');\n    const OutputArea = require('notebook/js/outputarea').OutputArea;\n\n    if (OutputArea.prototype.mime_types().indexOf(EXEC_MIME_TYPE) == -1) {\n      register_renderer(events, OutputArea);\n    }\n  }\n  if (typeof (root._bokeh_timeout) === \"undefined\" || force === true) {\n    root._bokeh_timeout = Date.now() + 5000;\n    root._bokeh_failed_load = false;\n  }\n\n  const NB_LOAD_WARNING = {'data': {'text/html':\n     \"<div style='background-color: #fdd'>\\n\"+\n     \"<p>\\n\"+\n     \"BokehJS does not appear to have successfully loaded. If loading BokehJS from CDN, this \\n\"+\n     \"may be due to a slow or bad network connection. Possible fixes:\\n\"+\n     \"</p>\\n\"+\n     \"<ul>\\n\"+\n     \"<li>re-rerun `output_notebook()` to attempt to load from CDN again, or</li>\\n\"+\n     \"<li>use INLINE resources instead, as so:</li>\\n\"+\n     \"</ul>\\n\"+\n     \"<code>\\n\"+\n     \"from bokeh.resources import INLINE\\n\"+\n     \"output_notebook(resources=INLINE)\\n\"+\n     \"</code>\\n\"+\n     \"</div>\"}};\n\n  function display_loaded() {\n    const el = document.getElementById(\"de89575b-a67d-4325-abf0-d5ab58b5b0d4\");\n    if (el != null) {\n      el.textContent = \"BokehJS is loading...\";\n    }\n    if (root.Bokeh !== undefined) {\n      if (el != null) {\n        el.textContent = \"BokehJS \" + root.Bokeh.version + \" successfully loaded.\";\n      }\n    } else if (Date.now() < root._bokeh_timeout) {\n      setTimeout(display_loaded, 100)\n    }\n  }\n\n  function run_callbacks() {\n    try {\n      root._bokeh_onload_callbacks.forEach(function(callback) {\n        if (callback != null)\n          callback();\n      });\n    } finally {\n      delete root._bokeh_onload_callbacks\n    }\n    console.debug(\"Bokeh: all callbacks have finished\");\n  }\n\n  function load_libs(css_urls, js_urls, callback) {\n    if (css_urls == null) css_urls = [];\n    if (js_urls == null) js_urls = [];\n\n    root._bokeh_onload_callbacks.push(callback);\n    if (root._bokeh_is_loading > 0) {\n      console.debug(\"Bokeh: BokehJS is being loaded, scheduling callback at\", now());\n      return null;\n    }\n    if (js_urls == null || js_urls.length === 0) {\n      run_callbacks();\n      return null;\n    }\n    console.debug(\"Bokeh: BokehJS not loaded, scheduling load and callback at\", now());\n    root._bokeh_is_loading = css_urls.length + js_urls.length;\n\n    function on_load() {\n      root._bokeh_is_loading--;\n      if (root._bokeh_is_loading === 0) {\n        console.debug(\"Bokeh: all BokehJS libraries/stylesheets loaded\");\n        run_callbacks()\n      }\n    }\n\n    function on_error(url) {\n      console.error(\"failed to load \" + url);\n    }\n\n    for (let i = 0; i < css_urls.length; i++) {\n      const url = css_urls[i];\n      const element = document.createElement(\"link\");\n      element.onload = on_load;\n      element.onerror = on_error.bind(null, url);\n      element.rel = \"stylesheet\";\n      element.type = \"text/css\";\n      element.href = url;\n      console.debug(\"Bokeh: injecting link tag for BokehJS stylesheet: \", url);\n      document.body.appendChild(element);\n    }\n\n    for (let i = 0; i < js_urls.length; i++) {\n      const url = js_urls[i];\n      const element = document.createElement('script');\n      element.onload = on_load;\n      element.onerror = on_error.bind(null, url);\n      element.async = false;\n      element.src = url;\n      console.debug(\"Bokeh: injecting script tag for BokehJS library: \", url);\n      document.head.appendChild(element);\n    }\n  };\n\n  function inject_raw_css(css) {\n    const element = document.createElement(\"style\");\n    element.appendChild(document.createTextNode(css));\n    document.body.appendChild(element);\n  }\n\n  const js_urls = [\"https://cdn.bokeh.org/bokeh/release/bokeh-3.1.1.min.js\", \"https://cdn.bokeh.org/bokeh/release/bokeh-gl-3.1.1.min.js\", \"https://cdn.bokeh.org/bokeh/release/bokeh-widgets-3.1.1.min.js\", \"https://cdn.bokeh.org/bokeh/release/bokeh-tables-3.1.1.min.js\", \"https://cdn.bokeh.org/bokeh/release/bokeh-mathjax-3.1.1.min.js\"];\n  const css_urls = [];\n\n  const inline_js = [    function(Bokeh) {\n      Bokeh.set_log_level(\"info\");\n    },\nfunction(Bokeh) {\n    }\n  ];\n\n  function run_inline_js() {\n    if (root.Bokeh !== undefined || force === true) {\n          for (let i = 0; i < inline_js.length; i++) {\n      inline_js[i].call(root, root.Bokeh);\n    }\nif (force === true) {\n        display_loaded();\n      }} else if (Date.now() < root._bokeh_timeout) {\n      setTimeout(run_inline_js, 100);\n    } else if (!root._bokeh_failed_load) {\n      console.log(\"Bokeh: BokehJS failed to load within specified timeout.\");\n      root._bokeh_failed_load = true;\n    } else if (force !== true) {\n      const cell = $(document.getElementById(\"de89575b-a67d-4325-abf0-d5ab58b5b0d4\")).parents('.cell').data().cell;\n      cell.output_area.append_execute_result(NB_LOAD_WARNING)\n    }\n  }\n\n  if (root._bokeh_is_loading === 0) {\n    console.debug(\"Bokeh: BokehJS loaded, going straight to plotting\");\n    run_inline_js();\n  } else {\n    load_libs(css_urls, js_urls, function() {\n      console.debug(\"Bokeh: BokehJS plotting callback run at\", now());\n      run_inline_js();\n    });\n  }\n}(window));",
            "application/vnd.bokehjs_load.v0+json": ""
          },
          "metadata": {},
          "output_type": "display_data"
        },
        {
          "data": {
            "text/html": [
              "\n",
              "  <div id=\"e08a1837-f292-4d8f-9876-2664022532d2\" data-root-id=\"p1001\" style=\"display: contents;\"></div>\n"
            ]
          },
          "metadata": {},
          "output_type": "display_data"
        },
        {
          "data": {
            "application/javascript": "(function(root) {\n  function embed_document(root) {\n  const docs_json = {\"ae70ac69-a30b-423f-bf44-71bc39b828f4\":{\"version\":\"3.1.1\",\"title\":\"Bokeh Application\",\"defs\":[],\"roots\":[{\"type\":\"object\",\"name\":\"Figure\",\"id\":\"p1001\",\"attributes\":{\"height\":500,\"min_width\":700,\"x_range\":{\"type\":\"object\",\"name\":\"DataRange1d\",\"id\":\"p1002\"},\"y_range\":{\"type\":\"object\",\"name\":\"DataRange1d\",\"id\":\"p1003\"},\"x_scale\":{\"type\":\"object\",\"name\":\"LinearScale\",\"id\":\"p1015\"},\"y_scale\":{\"type\":\"object\",\"name\":\"LinearScale\",\"id\":\"p1017\"},\"title\":{\"type\":\"object\",\"name\":\"Title\",\"id\":\"p1004\",\"attributes\":{\"text\":\"t-SNE Clustering of 6 LSA Topics\"}},\"renderers\":[{\"type\":\"object\",\"name\":\"GlyphRenderer\",\"id\":\"p1054\",\"attributes\":{\"data_source\":{\"type\":\"object\",\"name\":\"ColumnDataSource\",\"id\":\"p1048\",\"attributes\":{\"selected\":{\"type\":\"object\",\"name\":\"Selection\",\"id\":\"p1049\",\"attributes\":{\"indices\":[],\"line_indices\":[]}},\"selection_policy\":{\"type\":\"object\",\"name\":\"UnionRenderers\",\"id\":\"p1050\"},\"data\":{\"type\":\"map\",\"entries\":[[\"x\",{\"type\":\"ndarray\",\"array\":{\"type\":\"bytes\",\"data\":\"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\"},\"shape\":[2224],\"dtype\":\"float32\",\"order\":\"little\"}],[\"y\",{\"type\":\"ndarray\",\"array\":{\"type\":\"bytes\",\"data\":\"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\"},\"shape\":[2224],\"dtype\":\"float32\",\"order\":\"little\"}],[\"line_color\",{\"type\":\"ndarray\",\"array\":[\"#98df8a\",\"#ffbb78\",\"#ff7f0e\",\"#aec7e8\",\"#ff7f0e\",\"#aec7e8\",\"#aec7e8\",\"#ff7f0e\",\"#98df8a\",\"#98df8a\",\"#1f77b4\",\"#ff7f0e\",\"#ff7f0e\",\"#ff7f0e\",\"#2ca02c\",\"#ffbb78\",\"#ff7f0e\",\"#ff7f0e\",\"#ffbb78\",\"#ffbb78\",\"#ffbb78\",\"#ffbb78\",\"#ff7f0e\",\"#1f77b4\",\"#1f77b4\",\"#98df8a\",\"#ffbb78\",\"#ffbb78\",\"#1f77b4\",\"#ff7f0e\",\"#aec7e8\",\"#aec7e8\",\"#ffbb78\",\"#aec7e8\",\"#1f77b4\",\"#1f77b4\",\"#1f77b4\",\"#1f77b4\",\"#1f77b4\",\"#ff7f0e\",\"#2ca02c\",\"#ff7f0e\",\"#ff7f0e\",\"#98df8a\",\"#98df8a\",\"#1f77b4\",\"#1f77b4\",\"#1f77b4\",\"#1f77b4\",\"#98df8a\",\"#2ca02c\",\"#ffbb78\",\"#2ca02c\",\"#2ca02c\",\"#ff7f0e\",\"#ffbb78\",\"#ffbb78\",\"#ff7f0e\",\"#ff7f0e\",\"#2ca02c\",\"#1f77b4\",\"#1f77b4\",\"#1f77b4\",\"#ffbb78\",\"#98df8a\",\"#ff7f0e\",\"#ffbb78\",\"#ffbb78\",\"#ffbb78\",\"#ff7f0e\",\"#1f77b4\",\"#1f77b4\",\"#aec7e8\",\"#aec7e8\",\"#ff7f0e\",\"#aec7e8\",\"#aec7e8\",\"#1f77b4\",\"#1f77b4\",\"#1f77b4\",\"#1f77b4\",\"#aec7e8\",\"#aec7e8\",\"#ff7f0e\",\"#aec7e8\",\"#ffbb78\",\"#aec7e8\",\"#ffbb78\",\"#aec7e8\",\"#ffbb78\",\"#aec7e8\",\"#1f77b4\",\"#98df8a\",\"#ffbb78\",\"#98df8a\",\"#ffbb78\",\"#1f77b4\",\"#ffbb78\",\"#1f77b4\",\"#aec7e8\",\"#ffbb78\",\"#98df8a\",\"#ffbb78\",\"#aec7e8\",\"#ffbb78\",\"#1f77b4\",\"#aec7e8\",\"#1f77b4\",\"#ffbb78\",\"#1f77b4\",\"#ff7f0e\",\"#ffbb78\",\"#1f77b4\",\"#1f77b4\",\"#ff7f0e\",\"#aec7e8\",\"#aec7e8\",\"#aec7e8\",\"#ffbb78\",\"#aec7e8\",\"#1f77b4\",\"#aec7e8\",\"#1f77b4\",\"#aec7e8\",\"#ffbb78\",\"#ff7f0e\",\"#ffbb78\",\"#ffbb78\",\"#98df8a\",\"#aec7e8\",\"#ffbb78\",\"#ffbb78\",\"#aec7e8\",\"#ffbb78\",\"#ffbb78\",\"#ff7f0e\",\"#98df8a\",\"#ff7f0e\",\"#ff7f0e\",\"#ffbb78\",\"#1f77b4\",\"#1f77b4\",\"#ff7f0e\",\"#aec7e8\",\"#1f77b4\",\"#98df8a\",\"#aec7e8\",\"#ffbb78\",\"#ffbb78\",\"#ffbb78\",\"#ff7f0e\",\"#ff7f0e\",\"#98df8a\",\"#98df8a\",\"#aec7e8\",\"#ff7f0e\",\"#ff7f0e\",\"#98df8a\",\"#1f77b4\",\"#98df8a\",\"#ffbb78\",\"#ff7f0e\",\"#ffbb78\",\"#ffbb78\",\"#ffbb78\",\"#ffbb78\",\"#1f77b4\",\"#ffbb78\",\"#ffbb78\",\"#ff7f0e\",\"#98df8a\",\"#ff7f0e\",\"#ff7f0e\",\"#1f77b4\",\"#ff7f0e\",\"#98df8a\",\"#ff7f0e\",\"#ff7f0e\",\"#ff7f0e\",\"#ff7f0e\",\"#ffbb78\",\"#1f77b4\",\"#ffbb78\",\"#98df8a\",\"#ffbb78\",\"#ffbb78\",\"#ff7f0e\",\"#2ca02c\",\"#ff7f0e\",\"#aec7e8\",\"#1f77b4\",\"#ffbb78\",\"#98df8a\",\"#ffbb78\",\"#ffbb78\",\"#98df8a\",\"#1f77b4\",\"#98df8a\",\"#1f77b4\",\"#1f77b4\",\"#ffbb78\",\"#1f77b4\",\"#1f77b4\",\"#98df8a\",\"#1f77b4\",\"#98df8a\",\"#ffbb78\",\"#aec7e8\",\"#1f77b4\",\"#98df8a\",\"#ff7f0e\",\"#ff7f0e\",\"#ffbb78\",\"#ff7f0e\",\"#1f77b4\",\"#ffbb78\",\"#98df8a\",\"#1f77b4\",\"#1f77b4\",\"#98df8a\",\"#ffbb78\",\"#98df8a\",\"#98df8a\",\"#ffbb78\",\"#ffbb78\",\"#1f77b4\",\"#1f77b4\",\"#ffbb78\",\"#aec7e8\",\"#2ca02c\",\"#ffbb78\",\"#1f77b4\",\"#ff7f0e\",\"#ff7f0e\",\"#2ca02c\",\"#1f77b4\",\"#1f77b4\",\"#ff7f0e\",\"#ff7f0e\",\"#ffbb78\",\"#1f77b4\",\"#1f77b4\",\"#ff7f0e\",\"#1f77b4\",\"#1f77b4\",\"#ff7f0e\",\"#98df8a\",\"#ff7f0e\",\"#ffbb78\",\"#98df8a\",\"#ffbb78\",\"#2ca02c\",\"#1f77b4\",\"#98df8a\",\"#ffbb78\",\"#ff7f0e\",\"#98df8a\",\"#1f77b4\",\"#98df8a\",\"#1f77b4\",\"#ff7f0e\",\"#ffbb78\",\"#ff7f0e\",\"#ff7f0e\",\"#98df8a\",\"#ff7f0e\",\"#98df8a\",\"#ff7f0e\",\"#1f77b4\",\"#2ca02c\",\"#1f77b4\",\"#ffbb78\",\"#aec7e8\",\"#1f77b4\",\"#98df8a\",\"#ff7f0e\",\"#ff7f0e\",\"#2ca02c\",\"#ffbb78\",\"#ff7f0e\",\"#1f77b4\",\"#1f77b4\",\"#98df8a\",\"#1f77b4\",\"#1f77b4\",\"#ffbb78\",\"#ff7f0e\",\"#1f77b4\",\"#1f77b4\",\"#1f77b4\",\"#1f77b4\",\"#ffbb78\",\"#ffbb78\",\"#ff7f0e\",\"#ff7f0e\",\"#98df8a\",\"#1f77b4\",\"#ffbb78\",\"#ffbb78\",\"#1f77b4\",\"#98df8a\",\"#1f77b4\",\"#ff7f0e\",\"#1f77b4\",\"#ff7f0e\",\"#1f77b4\",\"#1f77b4\",\"#ff7f0e\",\"#aec7e8\",\"#98df8a\",\"#1f77b4\",\"#1f77b4\",\"#ff7f0e\",\"#1f77b4\",\"#ffbb78\",\"#1f77b4\",\"#ffbb78\",\"#1f77b4\",\"#ff7f0e\",\"#ff7f0e\",\"#ff7f0e\",\"#1f77b4\",\"#1f77b4\",\"#ffbb78\",\"#ffbb78\",\"#98df8a\",\"#2ca02c\",\"#ff7f0e\",\"#ffbb78\",\"#ffbb78\",\"#1f77b4\",\"#ffbb78\",\"#1f77b4\",\"#1f77b4\",\"#2ca02c\",\"#ffbb78\",\"#ff7f0e\",\"#98df8a\",\"#aec7e8\",\"#aec7e8\",\"#1f77b4\",\"#1f77b4\",\"#1f77b4\",\"#1f77b4\",\"#98df8a\",\"#ff7f0e\",\"#ff7f0e\",\"#2ca02c\",\"#ff7f0e\",\"#ffbb78\",\"#ff7f0e\",\"#ffbb78\",\"#aec7e8\",\"#aec7e8\",\"#aec7e8\",\"#aec7e8\",\"#aec7e8\",\"#aec7e8\",\"#98df8a\",\"#ff7f0e\",\"#2ca02c\",\"#ffbb78\",\"#98df8a\",\"#aec7e8\",\"#ffbb78\",\"#aec7e8\",\"#ff7f0e\",\"#1f77b4\",\"#98df8a\",\"#aec7e8\",\"#ffbb78\",\"#1f77b4\",\"#aec7e8\",\"#98df8a\",\"#ff7f0e\",\"#98df8a\",\"#ffbb78\",\"#98df8a\",\"#2ca02c\",\"#ffbb78\",\"#ffbb78\",\"#2ca02c\",\"#2ca02c\",\"#ffbb78\",\"#ffbb78\",\"#ffbb78\",\"#98df8a\",\"#ffbb78\",\"#98df8a\",\"#1f77b4\",\"#aec7e8\",\"#ff7f0e\",\"#ffbb78\",\"#ffbb78\",\"#ffbb78\",\"#ff7f0e\",\"#2ca02c\",\"#2ca02c\",\"#1f77b4\",\"#ffbb78\",\"#1f77b4\",\"#98df8a\",\"#ffbb78\",\"#2ca02c\",\"#1f77b4\",\"#1f77b4\",\"#ffbb78\",\"#98df8a\",\"#1f77b4\",\"#98df8a\",\"#1f77b4\",\"#1f77b4\",\"#98df8a\",\"#ff7f0e\",\"#ffbb78\",\"#aec7e8\",\"#1f77b4\",\"#ffbb78\",\"#ff7f0e\",\"#ff7f0e\",\"#1f77b4\",\"#1f77b4\",\"#1f77b4\",\"#ff7f0e\",\"#1f77b4\",\"#98df8a\",\"#ff7f0e\",\"#ffbb78\",\"#ffbb78\",\"#ff7f0e\",\"#1f77b4\",\"#1f77b4\",\"#ffbb78\",\"#ffbb78\",\"#ffbb78\",\"#1f77b4\",\"#1f77b4\",\"#98df8a\",\"#ffbb78\",\"#1f77b4\",\"#ffbb78\",\"#ff7f0e\",\"#ff7f0e\",\"#ffbb78\",\"#98df8a\",\"#1f77b4\",\"#98df8a\",\"#ffbb78\",\"#2ca02c\",\"#ffbb78\",\"#ffbb78\",\"#ffbb78\",\"#2ca02c\",\"#98df8a\",\"#1f77b4\",\"#aec7e8\",\"#aec7e8\",\"#1f77b4\",\"#ffbb78\",\"#ff7f0e\",\"#ffbb78\",\"#ffbb78\",\"#ffbb78\",\"#ffbb78\",\"#ffbb78\",\"#2ca02c\",\"#ff7f0e\",\"#1f77b4\",\"#1f77b4\",\"#ffbb78\",\"#ffbb78\",\"#1f77b4\",\"#98df8a\",\"#1f77b4\",\"#ffbb78\",\"#98df8a\",\"#98df8a\",\"#ffbb78\",\"#ff7f0e\",\"#98df8a\",\"#1f77b4\",\"#98df8a\",\"#1f77b4\",\"#ffbb78\",\"#1f77b4\",\"#ff7f0e\",\"#ffbb78\",\"#ffbb78\",\"#ffbb78\",\"#98df8a\",\"#1f77b4\",\"#ffbb78\",\"#ff7f0e\",\"#ffbb78\",\"#1f77b4\",\"#aec7e8\",\"#ff7f0e\",\"#ffbb78\",\"#1f77b4\",\"#1f77b4\",\"#ff7f0e\",\"#ffbb78\",\"#aec7e8\",\"#ffbb78\",\"#98df8a\",\"#aec7e8\",\"#aec7e8\",\"#aec7e8\",\"#aec7e8\",\"#ffbb78\",\"#aec7e8\",\"#98df8a\",\"#98df8a\",\"#ffbb78\",\"#ffbb78\",\"#1f77b4\",\"#ffbb78\",\"#1f77b4\",\"#ffbb78\",\"#aec7e8\",\"#ff7f0e\",\"#98df8a\",\"#aec7e8\",\"#98df8a\",\"#1f77b4\",\"#1f77b4\",\"#1f77b4\",\"#1f77b4\",\"#ff7f0e\",\"#ff7f0e\",\"#1f77b4\",\"#ff7f0e\",\"#ffbb78\",\"#ffbb78\",\"#ff7f0e\",\"#ff7f0e\",\"#98df8a\",\"#ff7f0e\",\"#ff7f0e\",\"#1f77b4\",\"#98df8a\",\"#1f77b4\",\"#1f77b4\",\"#aec7e8\",\"#1f77b4\",\"#1f77b4\",\"#1f77b4\",\"#98df8a\",\"#1f77b4\",\"#1f77b4\",\"#1f77b4\",\"#ff7f0e\",\"#ff7f0e\",\"#ffbb78\",\"#2ca02c\",\"#98df8a\",\"#ffbb78\",\"#98df8a\",\"#1f77b4\",\"#1f77b4\",\"#98df8a\",\"#1f77b4\",\"#98df8a\",\"#1f77b4\",\"#1f77b4\",\"#ff7f0e\",\"#ffbb78\",\"#98df8a\",\"#1f77b4\",\"#ffbb78\",\"#98df8a\",\"#ffbb78\",\"#ff7f0e\",\"#ff7f0e\",\"#ffbb78\",\"#ffbb78\",\"#ffbb78\",\"#98df8a\",\"#98df8a\",\"#98df8a\",\"#98df8a\",\"#ffbb78\",\"#ff7f0e\",\"#ffbb78\",\"#ffbb78\",\"#ffbb78\",\"#ffbb78\",\"#ffbb78\",\"#98df8a\",\"#ffbb78\",\"#1f77b4\",\"#1f77b4\",\"#1f77b4\",\"#1f77b4\",\"#1f77b4\",\"#98df8a\",\"#ff7f0e\",\"#98df8a\",\"#1f77b4\",\"#2ca02c\",\"#aec7e8\",\"#1f77b4\",\"#1f77b4\",\"#ff7f0e\",\"#1f77b4\",\"#1f77b4\",\"#1f77b4\",\"#98df8a\",\"#2ca02c\",\"#1f77b4\",\"#ffbb78\",\"#1f77b4\",\"#ff7f0e\",\"#1f77b4\",\"#98df8a\",\"#ffbb78\",\"#aec7e8\",\"#aec7e8\",\"#98df8a\",\"#1f77b4\",\"#98df8a\",\"#aec7e8\",\"#aec7e8\",\"#aec7e8\",\"#1f77b4\",\"#ffbb78\",\"#ffbb78\",\"#1f77b4\",\"#ffbb78\",\"#1f77b4\",\"#1f77b4\",\"#98df8a\",\"#ffbb78\",\"#ffbb78\",\"#ffbb78\",\"#aec7e8\",\"#ff7f0e\",\"#ffbb78\",\"#1f77b4\",\"#ffbb78\",\"#ffbb78\",\"#1f77b4\",\"#ffbb78\",\"#1f77b4\",\"#98df8a\",\"#ff7f0e\",\"#aec7e8\",\"#98df8a\",\"#ff7f0e\",\"#1f77b4\",\"#ffbb78\",\"#1f77b4\",\"#98df8a\",\"#ff7f0e\",\"#98df8a\",\"#98df8a\",\"#ff7f0e\",\"#ffbb78\",\"#1f77b4\",\"#ff7f0e\",\"#ffbb78\",\"#ffbb78\",\"#1f77b4\",\"#ff7f0e\",\"#ffbb78\",\"#2ca02c\",\"#1f77b4\",\"#1f77b4\",\"#1f77b4\",\"#ff7f0e\",\"#1f77b4\",\"#ffbb78\",\"#ffbb78\",\"#ff7f0e\",\"#ffbb78\",\"#1f77b4\",\"#1f77b4\",\"#2ca02c\",\"#aec7e8\",\"#ffbb78\",\"#1f77b4\",\"#ffbb78\",\"#aec7e8\",\"#1f77b4\",\"#1f77b4\",\"#98df8a\",\"#2ca02c\",\"#1f77b4\",\"#1f77b4\",\"#1f77b4\",\"#ff7f0e\",\"#ff7f0e\",\"#ff7f0e\",\"#aec7e8\",\"#ff7f0e\",\"#1f77b4\",\"#98df8a\",\"#aec7e8\",\"#ff7f0e\",\"#98df8a\",\"#1f77b4\",\"#ff7f0e\",\"#ff7f0e\",\"#2ca02c\",\"#98df8a\",\"#ffbb78\",\"#ff7f0e\",\"#1f77b4\",\"#ffbb78\",\"#ffbb78\",\"#ffbb78\",\"#1f77b4\",\"#ffbb78\",\"#1f77b4\",\"#ffbb78\",\"#2ca02c\",\"#aec7e8\",\"#ffbb78\",\"#aec7e8\",\"#aec7e8\",\"#1f77b4\",\"#aec7e8\",\"#98df8a\",\"#ffbb78\",\"#ffbb78\",\"#1f77b4\",\"#ffbb78\",\"#aec7e8\",\"#ffbb78\",\"#1f77b4\",\"#ffbb78\",\"#98df8a\",\"#98df8a\",\"#ffbb78\",\"#ff7f0e\",\"#1f77b4\",\"#ff7f0e\",\"#ff7f0e\",\"#1f77b4\",\"#ff7f0e\",\"#1f77b4\",\"#1f77b4\",\"#1f77b4\",\"#1f77b4\",\"#aec7e8\",\"#aec7e8\",\"#ff7f0e\",\"#ff7f0e\",\"#2ca02c\",\"#ff7f0e\",\"#ff7f0e\",\"#1f77b4\",\"#2ca02c\",\"#ff7f0e\",\"#ff7f0e\",\"#ff7f0e\",\"#ffbb78\",\"#98df8a\",\"#aec7e8\",\"#ff7f0e\",\"#ff7f0e\",\"#aec7e8\",\"#ffbb78\",\"#1f77b4\",\"#ff7f0e\",\"#ff7f0e\",\"#ff7f0e\",\"#ffbb78\",\"#aec7e8\",\"#1f77b4\",\"#1f77b4\",\"#ff7f0e\",\"#1f77b4\",\"#98df8a\",\"#ffbb78\",\"#ffbb78\",\"#ffbb78\",\"#aec7e8\",\"#ffbb78\",\"#ff7f0e\",\"#ff7f0e\",\"#1f77b4\",\"#1f77b4\",\"#1f77b4\",\"#ffbb78\",\"#98df8a\",\"#ff7f0e\",\"#ffbb78\",\"#1f77b4\",\"#1f77b4\",\"#1f77b4\",\"#98df8a\",\"#1f77b4\",\"#98df8a\",\"#ffbb78\",\"#98df8a\",\"#1f77b4\",\"#98df8a\",\"#ffbb78\",\"#ff7f0e\",\"#aec7e8\",\"#1f77b4\",\"#2ca02c\",\"#1f77b4\",\"#ffbb78\",\"#ffbb78\",\"#ffbb78\",\"#98df8a\",\"#98df8a\",\"#1f77b4\",\"#1f77b4\",\"#ff7f0e\",\"#98df8a\",\"#ffbb78\",\"#ff7f0e\",\"#1f77b4\",\"#aec7e8\",\"#aec7e8\",\"#1f77b4\",\"#1f77b4\",\"#ff7f0e\",\"#98df8a\",\"#ffbb78\",\"#aec7e8\",\"#aec7e8\",\"#ffbb78\",\"#98df8a\",\"#aec7e8\",\"#aec7e8\",\"#aec7e8\",\"#aec7e8\",\"#1f77b4\",\"#98df8a\",\"#ff7f0e\",\"#98df8a\",\"#1f77b4\",\"#ffbb78\",\"#ffbb78\",\"#ffbb78\",\"#98df8a\",\"#aec7e8\",\"#98df8a\",\"#98df8a\",\"#1f77b4\",\"#1f77b4\",\"#98df8a\",\"#ff7f0e\",\"#98df8a\",\"#ffbb78\",\"#ff7f0e\",\"#ffbb78\",\"#ffbb78\",\"#ffbb78\",\"#ffbb78\",\"#1f77b4\",\"#ff7f0e\",\"#1f77b4\",\"#1f77b4\",\"#98df8a\",\"#ffbb78\",\"#ffbb78\",\"#1f77b4\",\"#aec7e8\",\"#aec7e8\",\"#ffbb78\",\"#ff7f0e\",\"#1f77b4\",\"#1f77b4\",\"#98df8a\",\"#98df8a\",\"#1f77b4\",\"#ff7f0e\",\"#1f77b4\",\"#ff7f0e\",\"#ff7f0e\",\"#1f77b4\",\"#ff7f0e\",\"#ffbb78\",\"#ffbb78\",\"#ff7f0e\",\"#ffbb78\",\"#1f77b4\",\"#98df8a\",\"#98df8a\",\"#1f77b4\",\"#ff7f0e\",\"#ff7f0e\",\"#98df8a\",\"#ff7f0e\",\"#ffbb78\",\"#ffbb78\",\"#1f77b4\",\"#ffbb78\",\"#ff7f0e\",\"#2ca02c\",\"#ffbb78\",\"#ff7f0e\",\"#98df8a\",\"#ffbb78\",\"#98df8a\",\"#1f77b4\",\"#98df8a\",\"#ffbb78\",\"#ffbb78\",\"#ff7f0e\",\"#1f77b4\",\"#ffbb78\",\"#1f77b4\",\"#ffbb78\",\"#aec7e8\",\"#ffbb78\",\"#ff7f0e\",\"#ffbb78\",\"#aec7e8\",\"#1f77b4\",\"#98df8a\",\"#98df8a\",\"#ffbb78\",\"#1f77b4\",\"#1f77b4\",\"#98df8a\",\"#98df8a\",\"#ff7f0e\",\"#1f77b4\",\"#ffbb78\",\"#1f77b4\",\"#ffbb78\",\"#ffbb78\",\"#1f77b4\",\"#ffbb78\",\"#ffbb78\",\"#1f77b4\",\"#ffbb78\",\"#98df8a\",\"#ffbb78\",\"#ff7f0e\",\"#1f77b4\",\"#ff7f0e\",\"#1f77b4\",\"#ff7f0e\",\"#ffbb78\",\"#ffbb78\",\"#ffbb78\",\"#ff7f0e\",\"#1f77b4\",\"#2ca02c\",\"#1f77b4\",\"#aec7e8\",\"#ff7f0e\",\"#ffbb78\",\"#1f77b4\",\"#1f77b4\",\"#ff7f0e\",\"#98df8a\",\"#ffbb78\",\"#1f77b4\",\"#ff7f0e\",\"#ffbb78\",\"#1f77b4\",\"#ff7f0e\",\"#ff7f0e\",\"#ffbb78\",\"#1f77b4\",\"#1f77b4\",\"#ffbb78\",\"#ff7f0e\",\"#2ca02c\",\"#1f77b4\",\"#ffbb78\",\"#ffbb78\",\"#1f77b4\",\"#ffbb78\",\"#1f77b4\",\"#1f77b4\",\"#ffbb78\",\"#ffbb78\",\"#ff7f0e\",\"#2ca02c\",\"#ff7f0e\",\"#1f77b4\",\"#ffbb78\",\"#ff7f0e\",\"#98df8a\",\"#1f77b4\",\"#ffbb78\",\"#ffbb78\",\"#1f77b4\",\"#1f77b4\",\"#aec7e8\",\"#ff7f0e\",\"#2ca02c\",\"#ffbb78\",\"#ffbb78\",\"#ffbb78\",\"#1f77b4\",\"#ffbb78\",\"#ffbb78\",\"#ffbb78\",\"#1f77b4\",\"#98df8a\",\"#ffbb78\",\"#2ca02c\",\"#ffbb78\",\"#98df8a\",\"#1f77b4\",\"#ff7f0e\",\"#1f77b4\",\"#98df8a\",\"#ffbb78\",\"#1f77b4\",\"#98df8a\",\"#98df8a\",\"#ffbb78\",\"#ffbb78\",\"#1f77b4\",\"#2ca02c\",\"#ff7f0e\",\"#ff7f0e\",\"#ffbb78\",\"#ff7f0e\",\"#aec7e8\",\"#98df8a\",\"#ff7f0e\",\"#98df8a\",\"#aec7e8\",\"#aec7e8\",\"#ff7f0e\",\"#ff7f0e\",\"#ff7f0e\",\"#ff7f0e\",\"#2ca02c\",\"#98df8a\",\"#1f77b4\",\"#ffbb78\",\"#98df8a\",\"#98df8a\",\"#98df8a\",\"#98df8a\",\"#ffbb78\",\"#ff7f0e\",\"#ff7f0e\",\"#1f77b4\",\"#ff7f0e\",\"#aec7e8\",\"#98df8a\",\"#ffbb78\",\"#aec7e8\",\"#ffbb78\",\"#aec7e8\",\"#ff7f0e\",\"#98df8a\",\"#aec7e8\",\"#aec7e8\",\"#aec7e8\",\"#aec7e8\",\"#ffbb78\",\"#98df8a\",\"#ff7f0e\",\"#aec7e8\",\"#aec7e8\",\"#aec7e8\",\"#2ca02c\",\"#98df8a\",\"#aec7e8\",\"#aec7e8\",\"#ff7f0e\",\"#aec7e8\",\"#aec7e8\",\"#1f77b4\",\"#aec7e8\",\"#aec7e8\",\"#aec7e8\",\"#aec7e8\",\"#ffbb78\",\"#aec7e8\",\"#aec7e8\",\"#98df8a\",\"#1f77b4\",\"#2ca02c\",\"#aec7e8\",\"#ffbb78\",\"#ffbb78\",\"#ffbb78\",\"#ff7f0e\",\"#2ca02c\",\"#1f77b4\",\"#1f77b4\",\"#1f77b4\",\"#ff7f0e\",\"#1f77b4\",\"#1f77b4\",\"#1f77b4\",\"#98df8a\",\"#98df8a\",\"#1f77b4\",\"#ff7f0e\",\"#1f77b4\",\"#1f77b4\",\"#1f77b4\",\"#1f77b4\",\"#ff7f0e\",\"#ff7f0e\",\"#ffbb78\",\"#98df8a\",\"#ff7f0e\",\"#ff7f0e\",\"#98df8a\",\"#2ca02c\",\"#1f77b4\",\"#2ca02c\",\"#ff7f0e\",\"#1f77b4\",\"#ffbb78\",\"#ffbb78\",\"#2ca02c\",\"#ffbb78\",\"#ffbb78\",\"#aec7e8\",\"#1f77b4\",\"#1f77b4\",\"#ffbb78\",\"#aec7e8\",\"#aec7e8\",\"#ff7f0e\",\"#ffbb78\",\"#ff7f0e\",\"#ffbb78\",\"#98df8a\",\"#98df8a\",\"#ff7f0e\",\"#98df8a\",\"#98df8a\",\"#ffbb78\",\"#1f77b4\",\"#98df8a\",\"#98df8a\",\"#aec7e8\",\"#aec7e8\",\"#aec7e8\",\"#ffbb78\",\"#ffbb78\",\"#ffbb78\",\"#1f77b4\",\"#1f77b4\",\"#aec7e8\",\"#aec7e8\",\"#1f77b4\",\"#aec7e8\",\"#ffbb78\",\"#ffbb78\",\"#ffbb78\",\"#98df8a\",\"#98df8a\",\"#2ca02c\",\"#ffbb78\",\"#1f77b4\",\"#ff7f0e\",\"#1f77b4\",\"#1f77b4\",\"#ff7f0e\",\"#ffbb78\",\"#1f77b4\",\"#98df8a\",\"#ffbb78\",\"#1f77b4\",\"#ffbb78\",\"#1f77b4\",\"#1f77b4\",\"#ffbb78\",\"#1f77b4\",\"#ffbb78\",\"#ffbb78\",\"#1f77b4\",\"#1f77b4\",\"#1f77b4\",\"#1f77b4\",\"#ff7f0e\",\"#98df8a\",\"#ff7f0e\",\"#1f77b4\",\"#1f77b4\",\"#98df8a\",\"#ff7f0e\",\"#ffbb78\",\"#1f77b4\",\"#aec7e8\",\"#1f77b4\",\"#1f77b4\",\"#1f77b4\",\"#aec7e8\",\"#98df8a\",\"#ffbb78\",\"#ffbb78\",\"#aec7e8\",\"#2ca02c\",\"#1f77b4\",\"#ff7f0e\",\"#1f77b4\",\"#ff7f0e\",\"#98df8a\",\"#98df8a\",\"#1f77b4\",\"#ff7f0e\",\"#ff7f0e\",\"#ffbb78\",\"#ff7f0e\",\"#1f77b4\",\"#aec7e8\",\"#aec7e8\",\"#aec7e8\",\"#aec7e8\",\"#aec7e8\",\"#1f77b4\",\"#aec7e8\",\"#aec7e8\",\"#ffbb78\",\"#98df8a\",\"#aec7e8\",\"#98df8a\",\"#1f77b4\",\"#aec7e8\",\"#1f77b4\",\"#1f77b4\",\"#ffbb78\",\"#ffbb78\",\"#ff7f0e\",\"#ffbb78\",\"#ff7f0e\",\"#ffbb78\",\"#98df8a\",\"#1f77b4\",\"#1f77b4\",\"#ffbb78\",\"#98df8a\",\"#98df8a\",\"#ffbb78\",\"#2ca02c\",\"#ffbb78\",\"#1f77b4\",\"#1f77b4\",\"#ffbb78\",\"#1f77b4\",\"#ff7f0e\",\"#aec7e8\",\"#1f77b4\",\"#aec7e8\",\"#98df8a\",\"#98df8a\",\"#aec7e8\",\"#aec7e8\",\"#ffbb78\",\"#aec7e8\",\"#98df8a\",\"#ffbb78\",\"#aec7e8\",\"#ff7f0e\",\"#1f77b4\",\"#1f77b4\",\"#ffbb78\",\"#ffbb78\",\"#1f77b4\",\"#ff7f0e\",\"#2ca02c\",\"#ff7f0e\",\"#ff7f0e\",\"#1f77b4\",\"#ffbb78\",\"#ffbb78\",\"#ffbb78\",\"#ffbb78\",\"#ffbb78\",\"#1f77b4\",\"#1f77b4\",\"#1f77b4\",\"#ff7f0e\",\"#ff7f0e\",\"#ff7f0e\",\"#ffbb78\",\"#ffbb78\",\"#ff7f0e\",\"#1f77b4\",\"#ff7f0e\",\"#1f77b4\",\"#1f77b4\",\"#ff7f0e\",\"#ffbb78\",\"#ff7f0e\",\"#98df8a\",\"#ffbb78\",\"#1f77b4\",\"#1f77b4\",\"#ffbb78\",\"#ff7f0e\",\"#ff7f0e\",\"#ffbb78\",\"#1f77b4\",\"#ffbb78\",\"#1f77b4\",\"#1f77b4\",\"#ff7f0e\",\"#ffbb78\",\"#2ca02c\",\"#ff7f0e\",\"#ff7f0e\",\"#ffbb78\",\"#ffbb78\",\"#ffbb78\",\"#98df8a\",\"#ff7f0e\",\"#98df8a\",\"#2ca02c\",\"#ff7f0e\",\"#ff7f0e\",\"#ff7f0e\",\"#ff7f0e\",\"#aec7e8\",\"#aec7e8\",\"#aec7e8\",\"#1f77b4\",\"#1f77b4\",\"#ffbb78\",\"#98df8a\",\"#98df8a\",\"#ffbb78\",\"#1f77b4\",\"#ffbb78\",\"#ffbb78\",\"#2ca02c\",\"#ffbb78\",\"#aec7e8\",\"#ff7f0e\",\"#1f77b4\",\"#2ca02c\",\"#ff7f0e\",\"#1f77b4\",\"#1f77b4\",\"#1f77b4\",\"#98df8a\",\"#1f77b4\",\"#1f77b4\",\"#98df8a\",\"#1f77b4\",\"#aec7e8\",\"#ffbb78\",\"#ff7f0e\",\"#ffbb78\",\"#1f77b4\",\"#aec7e8\",\"#98df8a\",\"#ff7f0e\",\"#aec7e8\",\"#1f77b4\",\"#ffbb78\",\"#ffbb78\",\"#aec7e8\",\"#ffbb78\",\"#aec7e8\",\"#ff7f0e\",\"#1f77b4\",\"#1f77b4\",\"#aec7e8\",\"#1f77b4\",\"#1f77b4\",\"#1f77b4\",\"#98df8a\",\"#ffbb78\",\"#1f77b4\",\"#98df8a\",\"#ffbb78\",\"#ff7f0e\",\"#2ca02c\",\"#1f77b4\",\"#ff7f0e\",\"#ffbb78\",\"#1f77b4\",\"#98df8a\",\"#ffbb78\",\"#1f77b4\",\"#ffbb78\",\"#2ca02c\",\"#98df8a\",\"#ff7f0e\",\"#aec7e8\",\"#1f77b4\",\"#aec7e8\",\"#aec7e8\",\"#aec7e8\",\"#98df8a\",\"#aec7e8\",\"#ff7f0e\",\"#1f77b4\",\"#aec7e8\",\"#2ca02c\",\"#2ca02c\",\"#ffbb78\",\"#ff7f0e\",\"#aec7e8\",\"#2ca02c\",\"#98df8a\",\"#aec7e8\",\"#1f77b4\",\"#1f77b4\",\"#ff7f0e\",\"#ff7f0e\",\"#ffbb78\",\"#ffbb78\",\"#ffbb78\",\"#ffbb78\",\"#ff7f0e\",\"#98df8a\",\"#98df8a\",\"#98df8a\",\"#1f77b4\",\"#ff7f0e\",\"#ffbb78\",\"#1f77b4\",\"#ffbb78\",\"#ffbb78\",\"#ffbb78\",\"#2ca02c\",\"#1f77b4\",\"#ff7f0e\",\"#ff7f0e\",\"#1f77b4\",\"#ffbb78\",\"#98df8a\",\"#ff7f0e\",\"#ffbb78\",\"#ffbb78\",\"#ffbb78\",\"#1f77b4\",\"#ffbb78\",\"#ffbb78\",\"#1f77b4\",\"#98df8a\",\"#98df8a\",\"#ffbb78\",\"#1f77b4\",\"#98df8a\",\"#ff7f0e\",\"#ff7f0e\",\"#1f77b4\",\"#ff7f0e\",\"#ff7f0e\",\"#ff7f0e\",\"#ffbb78\",\"#1f77b4\",\"#ff7f0e\",\"#ff7f0e\",\"#aec7e8\",\"#aec7e8\",\"#1f77b4\",\"#98df8a\",\"#1f77b4\",\"#98df8a\",\"#ffbb78\",\"#ffbb78\",\"#98df8a\",\"#ffbb78\",\"#98df8a\",\"#1f77b4\",\"#ffbb78\",\"#98df8a\",\"#98df8a\",\"#1f77b4\",\"#ffbb78\",\"#ffbb78\",\"#1f77b4\",\"#aec7e8\",\"#aec7e8\",\"#ffbb78\",\"#aec7e8\",\"#aec7e8\",\"#aec7e8\",\"#98df8a\",\"#1f77b4\",\"#1f77b4\",\"#ffbb78\",\"#ffbb78\",\"#1f77b4\",\"#ffbb78\",\"#1f77b4\",\"#ffbb78\",\"#98df8a\",\"#ffbb78\",\"#98df8a\",\"#ffbb78\",\"#aec7e8\",\"#1f77b4\",\"#1f77b4\",\"#ffbb78\",\"#98df8a\",\"#1f77b4\",\"#ffbb78\",\"#1f77b4\",\"#1f77b4\",\"#1f77b4\",\"#1f77b4\",\"#aec7e8\",\"#aec7e8\",\"#98df8a\",\"#1f77b4\",\"#98df8a\",\"#ff7f0e\",\"#98df8a\",\"#1f77b4\",\"#1f77b4\",\"#ffbb78\",\"#98df8a\",\"#ffbb78\",\"#ffbb78\",\"#ff7f0e\",\"#1f77b4\",\"#ff7f0e\",\"#ff7f0e\",\"#ff7f0e\",\"#98df8a\",\"#1f77b4\",\"#2ca02c\",\"#1f77b4\",\"#ff7f0e\",\"#aec7e8\",\"#aec7e8\",\"#aec7e8\",\"#ff7f0e\",\"#ff7f0e\",\"#1f77b4\",\"#aec7e8\",\"#1f77b4\",\"#ffbb78\",\"#aec7e8\",\"#aec7e8\",\"#aec7e8\",\"#ff7f0e\",\"#ffbb78\",\"#ffbb78\",\"#1f77b4\",\"#ffbb78\",\"#1f77b4\",\"#98df8a\",\"#ffbb78\",\"#ffbb78\",\"#ff7f0e\",\"#ffbb78\",\"#1f77b4\",\"#ffbb78\",\"#ff7f0e\",\"#98df8a\",\"#1f77b4\",\"#1f77b4\",\"#1f77b4\",\"#ff7f0e\",\"#ffbb78\",\"#1f77b4\",\"#1f77b4\",\"#ffbb78\",\"#1f77b4\",\"#ff7f0e\",\"#1f77b4\",\"#aec7e8\",\"#ff7f0e\",\"#ffbb78\",\"#ffbb78\",\"#ffbb78\",\"#ff7f0e\",\"#1f77b4\",\"#1f77b4\",\"#98df8a\",\"#1f77b4\",\"#98df8a\",\"#ff7f0e\",\"#ffbb78\",\"#1f77b4\",\"#ff7f0e\",\"#1f77b4\",\"#1f77b4\",\"#98df8a\",\"#ffbb78\",\"#1f77b4\",\"#ffbb78\",\"#1f77b4\",\"#1f77b4\",\"#ffbb78\",\"#ff7f0e\",\"#ffbb78\",\"#ff7f0e\",\"#ff7f0e\",\"#2ca02c\",\"#1f77b4\",\"#98df8a\",\"#ffbb78\",\"#ffbb78\",\"#1f77b4\",\"#ff7f0e\",\"#98df8a\",\"#98df8a\",\"#1f77b4\",\"#ffbb78\",\"#1f77b4\",\"#1f77b4\",\"#ff7f0e\",\"#ffbb78\",\"#1f77b4\",\"#1f77b4\",\"#1f77b4\",\"#aec7e8\",\"#ff7f0e\",\"#1f77b4\",\"#ff7f0e\",\"#98df8a\",\"#1f77b4\",\"#1f77b4\",\"#ffbb78\",\"#ffbb78\",\"#ffbb78\",\"#1f77b4\",\"#ffbb78\",\"#1f77b4\",\"#98df8a\",\"#aec7e8\",\"#1f77b4\",\"#1f77b4\",\"#ff7f0e\",\"#98df8a\",\"#98df8a\",\"#98df8a\",\"#1f77b4\",\"#1f77b4\",\"#98df8a\",\"#1f77b4\",\"#ff7f0e\",\"#ffbb78\",\"#2ca02c\",\"#ffbb78\",\"#1f77b4\",\"#98df8a\",\"#1f77b4\",\"#aec7e8\",\"#aec7e8\",\"#aec7e8\",\"#ff7f0e\",\"#ff7f0e\",\"#1f77b4\",\"#98df8a\",\"#1f77b4\",\"#ffbb78\",\"#ff7f0e\",\"#98df8a\",\"#98df8a\",\"#ff7f0e\",\"#aec7e8\",\"#1f77b4\",\"#2ca02c\",\"#98df8a\",\"#98df8a\",\"#ff7f0e\",\"#ffbb78\",\"#ffbb78\",\"#ff7f0e\",\"#2ca02c\",\"#ff7f0e\",\"#1f77b4\",\"#ffbb78\",\"#ff7f0e\",\"#ffbb78\",\"#2ca02c\",\"#1f77b4\",\"#98df8a\",\"#ff7f0e\",\"#ff7f0e\",\"#ff7f0e\",\"#98df8a\",\"#ff7f0e\",\"#ff7f0e\",\"#ff7f0e\",\"#ffbb78\",\"#1f77b4\",\"#1f77b4\",\"#1f77b4\",\"#1f77b4\",\"#aec7e8\",\"#ff7f0e\",\"#ffbb78\",\"#98df8a\",\"#aec7e8\",\"#ff7f0e\",\"#ffbb78\",\"#1f77b4\",\"#1f77b4\",\"#1f77b4\",\"#ffbb78\",\"#ff7f0e\",\"#ff7f0e\",\"#1f77b4\",\"#ff7f0e\",\"#1f77b4\",\"#98df8a\",\"#1f77b4\",\"#98df8a\",\"#ff7f0e\",\"#1f77b4\",\"#ff7f0e\",\"#ffbb78\",\"#98df8a\",\"#98df8a\",\"#1f77b4\",\"#98df8a\",\"#ff7f0e\",\"#98df8a\",\"#1f77b4\",\"#98df8a\",\"#ffbb78\",\"#ffbb78\",\"#1f77b4\",\"#ff7f0e\",\"#ff7f0e\",\"#1f77b4\",\"#1f77b4\",\"#98df8a\",\"#1f77b4\",\"#ffbb78\",\"#aec7e8\",\"#1f77b4\",\"#ffbb78\",\"#ff7f0e\",\"#2ca02c\",\"#ffbb78\",\"#ffbb78\",\"#ff7f0e\",\"#ff7f0e\",\"#ff7f0e\",\"#ff7f0e\",\"#ff7f0e\",\"#2ca02c\",\"#ff7f0e\",\"#1f77b4\",\"#2ca02c\",\"#ff7f0e\",\"#1f77b4\",\"#ffbb78\",\"#ffbb78\",\"#ff7f0e\",\"#1f77b4\",\"#ff7f0e\",\"#1f77b4\",\"#ffbb78\",\"#2ca02c\",\"#98df8a\",\"#98df8a\",\"#1f77b4\",\"#1f77b4\",\"#98df8a\",\"#ffbb78\",\"#1f77b4\",\"#1f77b4\",\"#ffbb78\",\"#ffbb78\",\"#1f77b4\",\"#1f77b4\",\"#ff7f0e\",\"#ff7f0e\",\"#1f77b4\",\"#ffbb78\",\"#ff7f0e\",\"#ff7f0e\",\"#ff7f0e\",\"#1f77b4\",\"#1f77b4\",\"#ff7f0e\",\"#98df8a\",\"#1f77b4\",\"#2ca02c\",\"#ff7f0e\",\"#ff7f0e\",\"#ff7f0e\",\"#1f77b4\",\"#2ca02c\",\"#ffbb78\",\"#2ca02c\",\"#1f77b4\",\"#1f77b4\",\"#ffbb78\",\"#ffbb78\",\"#1f77b4\",\"#ffbb78\",\"#1f77b4\",\"#2ca02c\",\"#1f77b4\",\"#2ca02c\",\"#ff7f0e\",\"#98df8a\",\"#1f77b4\",\"#98df8a\",\"#ff7f0e\",\"#98df8a\",\"#1f77b4\",\"#ffbb78\",\"#ff7f0e\",\"#ffbb78\",\"#98df8a\",\"#1f77b4\",\"#98df8a\",\"#ff7f0e\",\"#98df8a\",\"#ff7f0e\",\"#ff7f0e\",\"#ff7f0e\",\"#1f77b4\",\"#98df8a\",\"#98df8a\",\"#ff7f0e\",\"#aec7e8\",\"#aec7e8\",\"#98df8a\",\"#ff7f0e\",\"#ff7f0e\",\"#ff7f0e\",\"#ffbb78\",\"#98df8a\",\"#ff7f0e\",\"#98df8a\",\"#98df8a\",\"#ffbb78\",\"#ff7f0e\",\"#98df8a\",\"#98df8a\",\"#ff7f0e\",\"#98df8a\",\"#ffbb78\",\"#ff7f0e\",\"#ffbb78\",\"#ffbb78\",\"#98df8a\",\"#2ca02c\",\"#ff7f0e\",\"#1f77b4\",\"#ff7f0e\",\"#98df8a\",\"#ff7f0e\",\"#aec7e8\",\"#ffbb78\",\"#ffbb78\",\"#1f77b4\",\"#1f77b4\",\"#2ca02c\",\"#1f77b4\",\"#1f77b4\",\"#98df8a\",\"#aec7e8\",\"#98df8a\",\"#ffbb78\",\"#98df8a\",\"#98df8a\",\"#1f77b4\",\"#ffbb78\",\"#98df8a\",\"#98df8a\",\"#98df8a\",\"#ff7f0e\",\"#1f77b4\",\"#1f77b4\",\"#ffbb78\",\"#2ca02c\",\"#ffbb78\",\"#ff7f0e\",\"#ffbb78\",\"#1f77b4\",\"#ff7f0e\",\"#ff7f0e\",\"#1f77b4\",\"#98df8a\",\"#1f77b4\",\"#1f77b4\",\"#98df8a\",\"#ff7f0e\",\"#1f77b4\",\"#1f77b4\",\"#ff7f0e\",\"#ff7f0e\",\"#ffbb78\",\"#1f77b4\",\"#1f77b4\",\"#2ca02c\",\"#aec7e8\",\"#aec7e8\",\"#aec7e8\",\"#ff7f0e\",\"#aec7e8\",\"#98df8a\",\"#1f77b4\",\"#ffbb78\",\"#98df8a\",\"#ffbb78\",\"#1f77b4\",\"#1f77b4\",\"#ffbb78\",\"#2ca02c\",\"#ffbb78\",\"#ffbb78\",\"#2ca02c\",\"#1f77b4\",\"#2ca02c\",\"#ffbb78\",\"#ff7f0e\",\"#ffbb78\",\"#ff7f0e\",\"#1f77b4\",\"#aec7e8\",\"#ff7f0e\",\"#aec7e8\",\"#aec7e8\",\"#2ca02c\",\"#ff7f0e\",\"#ffbb78\",\"#98df8a\",\"#ff7f0e\",\"#98df8a\",\"#1f77b4\",\"#1f77b4\",\"#ff7f0e\",\"#1f77b4\",\"#1f77b4\",\"#1f77b4\",\"#ffbb78\",\"#ffbb78\",\"#aec7e8\",\"#1f77b4\",\"#ffbb78\",\"#1f77b4\",\"#98df8a\",\"#ff7f0e\",\"#ff7f0e\",\"#ff7f0e\",\"#1f77b4\",\"#1f77b4\",\"#aec7e8\",\"#aec7e8\",\"#aec7e8\",\"#aec7e8\",\"#ffbb78\",\"#ff7f0e\",\"#1f77b4\",\"#1f77b4\",\"#ffbb78\",\"#ff7f0e\",\"#ff7f0e\",\"#1f77b4\",\"#98df8a\",\"#ffbb78\",\"#1f77b4\",\"#ffbb78\",\"#98df8a\",\"#1f77b4\",\"#ffbb78\",\"#1f77b4\",\"#1f77b4\",\"#2ca02c\",\"#ff7f0e\",\"#1f77b4\",\"#1f77b4\",\"#1f77b4\",\"#1f77b4\",\"#ff7f0e\",\"#ff7f0e\",\"#ffbb78\",\"#ffbb78\",\"#1f77b4\",\"#ffbb78\",\"#ffbb78\",\"#98df8a\",\"#ffbb78\",\"#98df8a\",\"#1f77b4\",\"#1f77b4\",\"#98df8a\",\"#1f77b4\",\"#2ca02c\",\"#98df8a\",\"#ffbb78\",\"#ff7f0e\",\"#ff7f0e\",\"#1f77b4\",\"#ffbb78\",\"#1f77b4\",\"#ff7f0e\",\"#ff7f0e\",\"#aec7e8\",\"#aec7e8\",\"#ffbb78\",\"#98df8a\",\"#1f77b4\",\"#1f77b4\",\"#1f77b4\",\"#2ca02c\",\"#98df8a\",\"#1f77b4\",\"#ffbb78\",\"#98df8a\",\"#ff7f0e\",\"#ff7f0e\",\"#ffbb78\",\"#ff7f0e\",\"#98df8a\",\"#aec7e8\",\"#ffbb78\",\"#1f77b4\",\"#2ca02c\",\"#98df8a\",\"#1f77b4\",\"#1f77b4\",\"#98df8a\",\"#ff7f0e\",\"#ffbb78\",\"#aec7e8\",\"#aec7e8\",\"#1f77b4\",\"#ff7f0e\",\"#98df8a\",\"#98df8a\",\"#ff7f0e\",\"#ffbb78\",\"#ff7f0e\",\"#ff7f0e\",\"#ffbb78\",\"#1f77b4\",\"#ffbb78\",\"#ffbb78\",\"#ff7f0e\",\"#ff7f0e\",\"#ff7f0e\",\"#ff7f0e\",\"#1f77b4\",\"#ff7f0e\",\"#2ca02c\",\"#1f77b4\",\"#ff7f0e\",\"#1f77b4\",\"#ffbb78\",\"#1f77b4\",\"#2ca02c\",\"#ffbb78\",\"#ffbb78\",\"#ff7f0e\",\"#ffbb78\",\"#ffbb78\",\"#1f77b4\",\"#ffbb78\",\"#ff7f0e\",\"#ff7f0e\",\"#aec7e8\",\"#ffbb78\",\"#1f77b4\",\"#ff7f0e\",\"#ffbb78\",\"#ffbb78\",\"#ffbb78\",\"#98df8a\",\"#aec7e8\",\"#ffbb78\",\"#ffbb78\",\"#aec7e8\",\"#1f77b4\",\"#aec7e8\",\"#aec7e8\",\"#aec7e8\",\"#1f77b4\",\"#aec7e8\",\"#aec7e8\",\"#aec7e8\",\"#1f77b4\",\"#aec7e8\",\"#aec7e8\",\"#aec7e8\",\"#aec7e8\",\"#ff7f0e\",\"#aec7e8\",\"#ff7f0e\",\"#aec7e8\",\"#98df8a\",\"#aec7e8\",\"#aec7e8\",\"#ffbb78\",\"#ffbb78\",\"#2ca02c\",\"#aec7e8\",\"#ffbb78\",\"#ffbb78\",\"#98df8a\",\"#1f77b4\",\"#ffbb78\",\"#ffbb78\",\"#ffbb78\",\"#ff7f0e\",\"#ff7f0e\",\"#ff7f0e\",\"#ff7f0e\",\"#1f77b4\",\"#1f77b4\",\"#ffbb78\",\"#98df8a\",\"#1f77b4\",\"#ffbb78\",\"#98df8a\",\"#ffbb78\",\"#1f77b4\",\"#ffbb78\",\"#98df8a\",\"#98df8a\",\"#1f77b4\",\"#98df8a\",\"#1f77b4\",\"#1f77b4\",\"#2ca02c\",\"#2ca02c\",\"#1f77b4\",\"#ffbb78\",\"#ffbb78\",\"#1f77b4\",\"#1f77b4\",\"#1f77b4\",\"#1f77b4\",\"#1f77b4\",\"#ff7f0e\",\"#ff7f0e\",\"#1f77b4\",\"#ff7f0e\",\"#ffbb78\",\"#ff7f0e\",\"#1f77b4\",\"#1f77b4\",\"#ffbb78\",\"#1f77b4\",\"#98df8a\",\"#98df8a\",\"#ff7f0e\",\"#1f77b4\",\"#98df8a\",\"#ff7f0e\",\"#ff7f0e\",\"#ffbb78\",\"#ffbb78\",\"#98df8a\",\"#98df8a\",\"#1f77b4\",\"#98df8a\",\"#ffbb78\",\"#ffbb78\",\"#1f77b4\",\"#1f77b4\",\"#98df8a\",\"#ffbb78\",\"#ff7f0e\",\"#ffbb78\",\"#ffbb78\",\"#ffbb78\",\"#ff7f0e\",\"#ffbb78\",\"#ff7f0e\",\"#aec7e8\",\"#98df8a\",\"#ff7f0e\",\"#aec7e8\",\"#98df8a\",\"#1f77b4\",\"#98df8a\",\"#98df8a\",\"#98df8a\",\"#98df8a\",\"#1f77b4\",\"#aec7e8\",\"#1f77b4\",\"#ff7f0e\",\"#ffbb78\",\"#ff7f0e\",\"#ff7f0e\",\"#ffbb78\",\"#1f77b4\",\"#ff7f0e\",\"#ff7f0e\",\"#ff7f0e\",\"#1f77b4\",\"#ff7f0e\",\"#ffbb78\",\"#ffbb78\",\"#ff7f0e\",\"#1f77b4\",\"#aec7e8\",\"#98df8a\",\"#ffbb78\",\"#1f77b4\",\"#1f77b4\",\"#98df8a\",\"#98df8a\",\"#1f77b4\",\"#ffbb78\",\"#ff7f0e\",\"#ffbb78\",\"#ffbb78\",\"#ffbb78\",\"#98df8a\",\"#aec7e8\",\"#98df8a\",\"#aec7e8\",\"#ff7f0e\",\"#1f77b4\",\"#ffbb78\",\"#1f77b4\",\"#1f77b4\",\"#aec7e8\",\"#ff7f0e\",\"#1f77b4\",\"#1f77b4\",\"#1f77b4\",\"#ffbb78\",\"#98df8a\",\"#98df8a\",\"#ff7f0e\",\"#ffbb78\",\"#ff7f0e\",\"#ff7f0e\",\"#1f77b4\",\"#ffbb78\",\"#ffbb78\",\"#ff7f0e\"],\"shape\":[2224],\"dtype\":\"object\",\"order\":\"little\"}],[\"hatch_color\",{\"type\":\"ndarray\",\"array\":[\"#98df8a\",\"#ffbb78\",\"#ff7f0e\",\"#aec7e8\",\"#ff7f0e\",\"#aec7e8\",\"#aec7e8\",\"#ff7f0e\",\"#98df8a\",\"#98df8a\",\"#1f77b4\",\"#ff7f0e\",\"#ff7f0e\",\"#ff7f0e\",\"#2ca02c\",\"#ffbb78\",\"#ff7f0e\",\"#ff7f0e\",\"#ffbb78\",\"#ffbb78\",\"#ffbb78\",\"#ffbb78\",\"#ff7f0e\",\"#1f77b4\",\"#1f77b4\",\"#98df8a\",\"#ffbb78\",\"#ffbb78\",\"#1f77b4\",\"#ff7f0e\",\"#aec7e8\",\"#aec7e8\",\"#ffbb78\",\"#aec7e8\",\"#1f77b4\",\"#1f77b4\",\"#1f77b4\",\"#1f77b4\",\"#1f77b4\",\"#ff7f0e\",\"#2ca02c\",\"#ff7f0e\",\"#ff7f0e\",\"#98df8a\",\"#98df8a\",\"#1f77b4\",\"#1f77b4\",\"#1f77b4\",\"#1f77b4\",\"#98df8a\",\"#2ca02c\",\"#ffbb78\",\"#2ca02c\",\"#2ca02c\",\"#ff7f0e\",\"#ffbb78\",\"#ffbb78\",\"#ff7f0e\",\"#ff7f0e\",\"#2ca02c\",\"#1f77b4\",\"#1f77b4\",\"#1f77b4\",\"#ffbb78\",\"#98df8a\",\"#ff7f0e\",\"#ffbb78\",\"#ffbb78\",\"#ffbb78\",\"#ff7f0e\",\"#1f77b4\",\"#1f77b4\",\"#aec7e8\",\"#aec7e8\",\"#ff7f0e\",\"#aec7e8\",\"#aec7e8\",\"#1f77b4\",\"#1f77b4\",\"#1f77b4\",\"#1f77b4\",\"#aec7e8\",\"#aec7e8\",\"#ff7f0e\",\"#aec7e8\",\"#ffbb78\",\"#aec7e8\",\"#ffbb78\",\"#aec7e8\",\"#ffbb78\",\"#aec7e8\",\"#1f77b4\",\"#98df8a\",\"#ffbb78\",\"#98df8a\",\"#ffbb78\",\"#1f77b4\",\"#ffbb78\",\"#1f77b4\",\"#aec7e8\",\"#ffbb78\",\"#98df8a\",\"#ffbb78\",\"#aec7e8\",\"#ffbb78\",\"#1f77b4\",\"#aec7e8\",\"#1f77b4\",\"#ffbb78\",\"#1f77b4\",\"#ff7f0e\",\"#ffbb78\",\"#1f77b4\",\"#1f77b4\",\"#ff7f0e\",\"#aec7e8\",\"#aec7e8\",\"#aec7e8\",\"#ffbb78\",\"#aec7e8\",\"#1f77b4\",\"#aec7e8\",\"#1f77b4\",\"#aec7e8\",\"#ffbb78\",\"#ff7f0e\",\"#ffbb78\",\"#ffbb78\",\"#98df8a\",\"#aec7e8\",\"#ffbb78\",\"#ffbb78\",\"#aec7e8\",\"#ffbb78\",\"#ffbb78\",\"#ff7f0e\",\"#98df8a\",\"#ff7f0e\",\"#ff7f0e\",\"#ffbb78\",\"#1f77b4\",\"#1f77b4\",\"#ff7f0e\",\"#aec7e8\",\"#1f77b4\",\"#98df8a\",\"#aec7e8\",\"#ffbb78\",\"#ffbb78\",\"#ffbb78\",\"#ff7f0e\",\"#ff7f0e\",\"#98df8a\",\"#98df8a\",\"#aec7e8\",\"#ff7f0e\",\"#ff7f0e\",\"#98df8a\",\"#1f77b4\",\"#98df8a\",\"#ffbb78\",\"#ff7f0e\",\"#ffbb78\",\"#ffbb78\",\"#ffbb78\",\"#ffbb78\",\"#1f77b4\",\"#ffbb78\",\"#ffbb78\",\"#ff7f0e\",\"#98df8a\",\"#ff7f0e\",\"#ff7f0e\",\"#1f77b4\",\"#ff7f0e\",\"#98df8a\",\"#ff7f0e\",\"#ff7f0e\",\"#ff7f0e\",\"#ff7f0e\",\"#ffbb78\",\"#1f77b4\",\"#ffbb78\",\"#98df8a\",\"#ffbb78\",\"#ffbb78\",\"#ff7f0e\",\"#2ca02c\",\"#ff7f0e\",\"#aec7e8\",\"#1f77b4\",\"#ffbb78\",\"#98df8a\",\"#ffbb78\",\"#ffbb78\",\"#98df8a\",\"#1f77b4\",\"#98df8a\",\"#1f77b4\",\"#1f77b4\",\"#ffbb78\",\"#1f77b4\",\"#1f77b4\",\"#98df8a\",\"#1f77b4\",\"#98df8a\",\"#ffbb78\",\"#aec7e8\",\"#1f77b4\",\"#98df8a\",\"#ff7f0e\",\"#ff7f0e\",\"#ffbb78\",\"#ff7f0e\",\"#1f77b4\",\"#ffbb78\",\"#98df8a\",\"#1f77b4\",\"#1f77b4\",\"#98df8a\",\"#ffbb78\",\"#98df8a\",\"#98df8a\",\"#ffbb78\",\"#ffbb78\",\"#1f77b4\",\"#1f77b4\",\"#ffbb78\",\"#aec7e8\",\"#2ca02c\",\"#ffbb78\",\"#1f77b4\",\"#ff7f0e\",\"#ff7f0e\",\"#2ca02c\",\"#1f77b4\",\"#1f77b4\",\"#ff7f0e\",\"#ff7f0e\",\"#ffbb78\",\"#1f77b4\",\"#1f77b4\",\"#ff7f0e\",\"#1f77b4\",\"#1f77b4\",\"#ff7f0e\",\"#98df8a\",\"#ff7f0e\",\"#ffbb78\",\"#98df8a\",\"#ffbb78\",\"#2ca02c\",\"#1f77b4\",\"#98df8a\",\"#ffbb78\",\"#ff7f0e\",\"#98df8a\",\"#1f77b4\",\"#98df8a\",\"#1f77b4\",\"#ff7f0e\",\"#ffbb78\",\"#ff7f0e\",\"#ff7f0e\",\"#98df8a\",\"#ff7f0e\",\"#98df8a\",\"#ff7f0e\",\"#1f77b4\",\"#2ca02c\",\"#1f77b4\",\"#ffbb78\",\"#aec7e8\",\"#1f77b4\",\"#98df8a\",\"#ff7f0e\",\"#ff7f0e\",\"#2ca02c\",\"#ffbb78\",\"#ff7f0e\",\"#1f77b4\",\"#1f77b4\",\"#98df8a\",\"#1f77b4\",\"#1f77b4\",\"#ffbb78\",\"#ff7f0e\",\"#1f77b4\",\"#1f77b4\",\"#1f77b4\",\"#1f77b4\",\"#ffbb78\",\"#ffbb78\",\"#ff7f0e\",\"#ff7f0e\",\"#98df8a\",\"#1f77b4\",\"#ffbb78\",\"#ffbb78\",\"#1f77b4\",\"#98df8a\",\"#1f77b4\",\"#ff7f0e\",\"#1f77b4\",\"#ff7f0e\",\"#1f77b4\",\"#1f77b4\",\"#ff7f0e\",\"#aec7e8\",\"#98df8a\",\"#1f77b4\",\"#1f77b4\",\"#ff7f0e\",\"#1f77b4\",\"#ffbb78\",\"#1f77b4\",\"#ffbb78\",\"#1f77b4\",\"#ff7f0e\",\"#ff7f0e\",\"#ff7f0e\",\"#1f77b4\",\"#1f77b4\",\"#ffbb78\",\"#ffbb78\",\"#98df8a\",\"#2ca02c\",\"#ff7f0e\",\"#ffbb78\",\"#ffbb78\",\"#1f77b4\",\"#ffbb78\",\"#1f77b4\",\"#1f77b4\",\"#2ca02c\",\"#ffbb78\",\"#ff7f0e\",\"#98df8a\",\"#aec7e8\",\"#aec7e8\",\"#1f77b4\",\"#1f77b4\",\"#1f77b4\",\"#1f77b4\",\"#98df8a\",\"#ff7f0e\",\"#ff7f0e\",\"#2ca02c\",\"#ff7f0e\",\"#ffbb78\",\"#ff7f0e\",\"#ffbb78\",\"#aec7e8\",\"#aec7e8\",\"#aec7e8\",\"#aec7e8\",\"#aec7e8\",\"#aec7e8\",\"#98df8a\",\"#ff7f0e\",\"#2ca02c\",\"#ffbb78\",\"#98df8a\",\"#aec7e8\",\"#ffbb78\",\"#aec7e8\",\"#ff7f0e\",\"#1f77b4\",\"#98df8a\",\"#aec7e8\",\"#ffbb78\",\"#1f77b4\",\"#aec7e8\",\"#98df8a\",\"#ff7f0e\",\"#98df8a\",\"#ffbb78\",\"#98df8a\",\"#2ca02c\",\"#ffbb78\",\"#ffbb78\",\"#2ca02c\",\"#2ca02c\",\"#ffbb78\",\"#ffbb78\",\"#ffbb78\",\"#98df8a\",\"#ffbb78\",\"#98df8a\",\"#1f77b4\",\"#aec7e8\",\"#ff7f0e\",\"#ffbb78\",\"#ffbb78\",\"#ffbb78\",\"#ff7f0e\",\"#2ca02c\",\"#2ca02c\",\"#1f77b4\",\"#ffbb78\",\"#1f77b4\",\"#98df8a\",\"#ffbb78\",\"#2ca02c\",\"#1f77b4\",\"#1f77b4\",\"#ffbb78\",\"#98df8a\",\"#1f77b4\",\"#98df8a\",\"#1f77b4\",\"#1f77b4\",\"#98df8a\",\"#ff7f0e\",\"#ffbb78\",\"#aec7e8\",\"#1f77b4\",\"#ffbb78\",\"#ff7f0e\",\"#ff7f0e\",\"#1f77b4\",\"#1f77b4\",\"#1f77b4\",\"#ff7f0e\",\"#1f77b4\",\"#98df8a\",\"#ff7f0e\",\"#ffbb78\",\"#ffbb78\",\"#ff7f0e\",\"#1f77b4\",\"#1f77b4\",\"#ffbb78\",\"#ffbb78\",\"#ffbb78\",\"#1f77b4\",\"#1f77b4\",\"#98df8a\",\"#ffbb78\",\"#1f77b4\",\"#ffbb78\",\"#ff7f0e\",\"#ff7f0e\",\"#ffbb78\",\"#98df8a\",\"#1f77b4\",\"#98df8a\",\"#ffbb78\",\"#2ca02c\",\"#ffbb78\",\"#ffbb78\",\"#ffbb78\",\"#2ca02c\",\"#98df8a\",\"#1f77b4\",\"#aec7e8\",\"#aec7e8\",\"#1f77b4\",\"#ffbb78\",\"#ff7f0e\",\"#ffbb78\",\"#ffbb78\",\"#ffbb78\",\"#ffbb78\",\"#ffbb78\",\"#2ca02c\",\"#ff7f0e\",\"#1f77b4\",\"#1f77b4\",\"#ffbb78\",\"#ffbb78\",\"#1f77b4\",\"#98df8a\",\"#1f77b4\",\"#ffbb78\",\"#98df8a\",\"#98df8a\",\"#ffbb78\",\"#ff7f0e\",\"#98df8a\",\"#1f77b4\",\"#98df8a\",\"#1f77b4\",\"#ffbb78\",\"#1f77b4\",\"#ff7f0e\",\"#ffbb78\",\"#ffbb78\",\"#ffbb78\",\"#98df8a\",\"#1f77b4\",\"#ffbb78\",\"#ff7f0e\",\"#ffbb78\",\"#1f77b4\",\"#aec7e8\",\"#ff7f0e\",\"#ffbb78\",\"#1f77b4\",\"#1f77b4\",\"#ff7f0e\",\"#ffbb78\",\"#aec7e8\",\"#ffbb78\",\"#98df8a\",\"#aec7e8\",\"#aec7e8\",\"#aec7e8\",\"#aec7e8\",\"#ffbb78\",\"#aec7e8\",\"#98df8a\",\"#98df8a\",\"#ffbb78\",\"#ffbb78\",\"#1f77b4\",\"#ffbb78\",\"#1f77b4\",\"#ffbb78\",\"#aec7e8\",\"#ff7f0e\",\"#98df8a\",\"#aec7e8\",\"#98df8a\",\"#1f77b4\",\"#1f77b4\",\"#1f77b4\",\"#1f77b4\",\"#ff7f0e\",\"#ff7f0e\",\"#1f77b4\",\"#ff7f0e\",\"#ffbb78\",\"#ffbb78\",\"#ff7f0e\",\"#ff7f0e\",\"#98df8a\",\"#ff7f0e\",\"#ff7f0e\",\"#1f77b4\",\"#98df8a\",\"#1f77b4\",\"#1f77b4\",\"#aec7e8\",\"#1f77b4\",\"#1f77b4\",\"#1f77b4\",\"#98df8a\",\"#1f77b4\",\"#1f77b4\",\"#1f77b4\",\"#ff7f0e\",\"#ff7f0e\",\"#ffbb78\",\"#2ca02c\",\"#98df8a\",\"#ffbb78\",\"#98df8a\",\"#1f77b4\",\"#1f77b4\",\"#98df8a\",\"#1f77b4\",\"#98df8a\",\"#1f77b4\",\"#1f77b4\",\"#ff7f0e\",\"#ffbb78\",\"#98df8a\",\"#1f77b4\",\"#ffbb78\",\"#98df8a\",\"#ffbb78\",\"#ff7f0e\",\"#ff7f0e\",\"#ffbb78\",\"#ffbb78\",\"#ffbb78\",\"#98df8a\",\"#98df8a\",\"#98df8a\",\"#98df8a\",\"#ffbb78\",\"#ff7f0e\",\"#ffbb78\",\"#ffbb78\",\"#ffbb78\",\"#ffbb78\",\"#ffbb78\",\"#98df8a\",\"#ffbb78\",\"#1f77b4\",\"#1f77b4\",\"#1f77b4\",\"#1f77b4\",\"#1f77b4\",\"#98df8a\",\"#ff7f0e\",\"#98df8a\",\"#1f77b4\",\"#2ca02c\",\"#aec7e8\",\"#1f77b4\",\"#1f77b4\",\"#ff7f0e\",\"#1f77b4\",\"#1f77b4\",\"#1f77b4\",\"#98df8a\",\"#2ca02c\",\"#1f77b4\",\"#ffbb78\",\"#1f77b4\",\"#ff7f0e\",\"#1f77b4\",\"#98df8a\",\"#ffbb78\",\"#aec7e8\",\"#aec7e8\",\"#98df8a\",\"#1f77b4\",\"#98df8a\",\"#aec7e8\",\"#aec7e8\",\"#aec7e8\",\"#1f77b4\",\"#ffbb78\",\"#ffbb78\",\"#1f77b4\",\"#ffbb78\",\"#1f77b4\",\"#1f77b4\",\"#98df8a\",\"#ffbb78\",\"#ffbb78\",\"#ffbb78\",\"#aec7e8\",\"#ff7f0e\",\"#ffbb78\",\"#1f77b4\",\"#ffbb78\",\"#ffbb78\",\"#1f77b4\",\"#ffbb78\",\"#1f77b4\",\"#98df8a\",\"#ff7f0e\",\"#aec7e8\",\"#98df8a\",\"#ff7f0e\",\"#1f77b4\",\"#ffbb78\",\"#1f77b4\",\"#98df8a\",\"#ff7f0e\",\"#98df8a\",\"#98df8a\",\"#ff7f0e\",\"#ffbb78\",\"#1f77b4\",\"#ff7f0e\",\"#ffbb78\",\"#ffbb78\",\"#1f77b4\",\"#ff7f0e\",\"#ffbb78\",\"#2ca02c\",\"#1f77b4\",\"#1f77b4\",\"#1f77b4\",\"#ff7f0e\",\"#1f77b4\",\"#ffbb78\",\"#ffbb78\",\"#ff7f0e\",\"#ffbb78\",\"#1f77b4\",\"#1f77b4\",\"#2ca02c\",\"#aec7e8\",\"#ffbb78\",\"#1f77b4\",\"#ffbb78\",\"#aec7e8\",\"#1f77b4\",\"#1f77b4\",\"#98df8a\",\"#2ca02c\",\"#1f77b4\",\"#1f77b4\",\"#1f77b4\",\"#ff7f0e\",\"#ff7f0e\",\"#ff7f0e\",\"#aec7e8\",\"#ff7f0e\",\"#1f77b4\",\"#98df8a\",\"#aec7e8\",\"#ff7f0e\",\"#98df8a\",\"#1f77b4\",\"#ff7f0e\",\"#ff7f0e\",\"#2ca02c\",\"#98df8a\",\"#ffbb78\",\"#ff7f0e\",\"#1f77b4\",\"#ffbb78\",\"#ffbb78\",\"#ffbb78\",\"#1f77b4\",\"#ffbb78\",\"#1f77b4\",\"#ffbb78\",\"#2ca02c\",\"#aec7e8\",\"#ffbb78\",\"#aec7e8\",\"#aec7e8\",\"#1f77b4\",\"#aec7e8\",\"#98df8a\",\"#ffbb78\",\"#ffbb78\",\"#1f77b4\",\"#ffbb78\",\"#aec7e8\",\"#ffbb78\",\"#1f77b4\",\"#ffbb78\",\"#98df8a\",\"#98df8a\",\"#ffbb78\",\"#ff7f0e\",\"#1f77b4\",\"#ff7f0e\",\"#ff7f0e\",\"#1f77b4\",\"#ff7f0e\",\"#1f77b4\",\"#1f77b4\",\"#1f77b4\",\"#1f77b4\",\"#aec7e8\",\"#aec7e8\",\"#ff7f0e\",\"#ff7f0e\",\"#2ca02c\",\"#ff7f0e\",\"#ff7f0e\",\"#1f77b4\",\"#2ca02c\",\"#ff7f0e\",\"#ff7f0e\",\"#ff7f0e\",\"#ffbb78\",\"#98df8a\",\"#aec7e8\",\"#ff7f0e\",\"#ff7f0e\",\"#aec7e8\",\"#ffbb78\",\"#1f77b4\",\"#ff7f0e\",\"#ff7f0e\",\"#ff7f0e\",\"#ffbb78\",\"#aec7e8\",\"#1f77b4\",\"#1f77b4\",\"#ff7f0e\",\"#1f77b4\",\"#98df8a\",\"#ffbb78\",\"#ffbb78\",\"#ffbb78\",\"#aec7e8\",\"#ffbb78\",\"#ff7f0e\",\"#ff7f0e\",\"#1f77b4\",\"#1f77b4\",\"#1f77b4\",\"#ffbb78\",\"#98df8a\",\"#ff7f0e\",\"#ffbb78\",\"#1f77b4\",\"#1f77b4\",\"#1f77b4\",\"#98df8a\",\"#1f77b4\",\"#98df8a\",\"#ffbb78\",\"#98df8a\",\"#1f77b4\",\"#98df8a\",\"#ffbb78\",\"#ff7f0e\",\"#aec7e8\",\"#1f77b4\",\"#2ca02c\",\"#1f77b4\",\"#ffbb78\",\"#ffbb78\",\"#ffbb78\",\"#98df8a\",\"#98df8a\",\"#1f77b4\",\"#1f77b4\",\"#ff7f0e\",\"#98df8a\",\"#ffbb78\",\"#ff7f0e\",\"#1f77b4\",\"#aec7e8\",\"#aec7e8\",\"#1f77b4\",\"#1f77b4\",\"#ff7f0e\",\"#98df8a\",\"#ffbb78\",\"#aec7e8\",\"#aec7e8\",\"#ffbb78\",\"#98df8a\",\"#aec7e8\",\"#aec7e8\",\"#aec7e8\",\"#aec7e8\",\"#1f77b4\",\"#98df8a\",\"#ff7f0e\",\"#98df8a\",\"#1f77b4\",\"#ffbb78\",\"#ffbb78\",\"#ffbb78\",\"#98df8a\",\"#aec7e8\",\"#98df8a\",\"#98df8a\",\"#1f77b4\",\"#1f77b4\",\"#98df8a\",\"#ff7f0e\",\"#98df8a\",\"#ffbb78\",\"#ff7f0e\",\"#ffbb78\",\"#ffbb78\",\"#ffbb78\",\"#ffbb78\",\"#1f77b4\",\"#ff7f0e\",\"#1f77b4\",\"#1f77b4\",\"#98df8a\",\"#ffbb78\",\"#ffbb78\",\"#1f77b4\",\"#aec7e8\",\"#aec7e8\",\"#ffbb78\",\"#ff7f0e\",\"#1f77b4\",\"#1f77b4\",\"#98df8a\",\"#98df8a\",\"#1f77b4\",\"#ff7f0e\",\"#1f77b4\",\"#ff7f0e\",\"#ff7f0e\",\"#1f77b4\",\"#ff7f0e\",\"#ffbb78\",\"#ffbb78\",\"#ff7f0e\",\"#ffbb78\",\"#1f77b4\",\"#98df8a\",\"#98df8a\",\"#1f77b4\",\"#ff7f0e\",\"#ff7f0e\",\"#98df8a\",\"#ff7f0e\",\"#ffbb78\",\"#ffbb78\",\"#1f77b4\",\"#ffbb78\",\"#ff7f0e\",\"#2ca02c\",\"#ffbb78\",\"#ff7f0e\",\"#98df8a\",\"#ffbb78\",\"#98df8a\",\"#1f77b4\",\"#98df8a\",\"#ffbb78\",\"#ffbb78\",\"#ff7f0e\",\"#1f77b4\",\"#ffbb78\",\"#1f77b4\",\"#ffbb78\",\"#aec7e8\",\"#ffbb78\",\"#ff7f0e\",\"#ffbb78\",\"#aec7e8\",\"#1f77b4\",\"#98df8a\",\"#98df8a\",\"#ffbb78\",\"#1f77b4\",\"#1f77b4\",\"#98df8a\",\"#98df8a\",\"#ff7f0e\",\"#1f77b4\",\"#ffbb78\",\"#1f77b4\",\"#ffbb78\",\"#ffbb78\",\"#1f77b4\",\"#ffbb78\",\"#ffbb78\",\"#1f77b4\",\"#ffbb78\",\"#98df8a\",\"#ffbb78\",\"#ff7f0e\",\"#1f77b4\",\"#ff7f0e\",\"#1f77b4\",\"#ff7f0e\",\"#ffbb78\",\"#ffbb78\",\"#ffbb78\",\"#ff7f0e\",\"#1f77b4\",\"#2ca02c\",\"#1f77b4\",\"#aec7e8\",\"#ff7f0e\",\"#ffbb78\",\"#1f77b4\",\"#1f77b4\",\"#ff7f0e\",\"#98df8a\",\"#ffbb78\",\"#1f77b4\",\"#ff7f0e\",\"#ffbb78\",\"#1f77b4\",\"#ff7f0e\",\"#ff7f0e\",\"#ffbb78\",\"#1f77b4\",\"#1f77b4\",\"#ffbb78\",\"#ff7f0e\",\"#2ca02c\",\"#1f77b4\",\"#ffbb78\",\"#ffbb78\",\"#1f77b4\",\"#ffbb78\",\"#1f77b4\",\"#1f77b4\",\"#ffbb78\",\"#ffbb78\",\"#ff7f0e\",\"#2ca02c\",\"#ff7f0e\",\"#1f77b4\",\"#ffbb78\",\"#ff7f0e\",\"#98df8a\",\"#1f77b4\",\"#ffbb78\",\"#ffbb78\",\"#1f77b4\",\"#1f77b4\",\"#aec7e8\",\"#ff7f0e\",\"#2ca02c\",\"#ffbb78\",\"#ffbb78\",\"#ffbb78\",\"#1f77b4\",\"#ffbb78\",\"#ffbb78\",\"#ffbb78\",\"#1f77b4\",\"#98df8a\",\"#ffbb78\",\"#2ca02c\",\"#ffbb78\",\"#98df8a\",\"#1f77b4\",\"#ff7f0e\",\"#1f77b4\",\"#98df8a\",\"#ffbb78\",\"#1f77b4\",\"#98df8a\",\"#98df8a\",\"#ffbb78\",\"#ffbb78\",\"#1f77b4\",\"#2ca02c\",\"#ff7f0e\",\"#ff7f0e\",\"#ffbb78\",\"#ff7f0e\",\"#aec7e8\",\"#98df8a\",\"#ff7f0e\",\"#98df8a\",\"#aec7e8\",\"#aec7e8\",\"#ff7f0e\",\"#ff7f0e\",\"#ff7f0e\",\"#ff7f0e\",\"#2ca02c\",\"#98df8a\",\"#1f77b4\",\"#ffbb78\",\"#98df8a\",\"#98df8a\",\"#98df8a\",\"#98df8a\",\"#ffbb78\",\"#ff7f0e\",\"#ff7f0e\",\"#1f77b4\",\"#ff7f0e\",\"#aec7e8\",\"#98df8a\",\"#ffbb78\",\"#aec7e8\",\"#ffbb78\",\"#aec7e8\",\"#ff7f0e\",\"#98df8a\",\"#aec7e8\",\"#aec7e8\",\"#aec7e8\",\"#aec7e8\",\"#ffbb78\",\"#98df8a\",\"#ff7f0e\",\"#aec7e8\",\"#aec7e8\",\"#aec7e8\",\"#2ca02c\",\"#98df8a\",\"#aec7e8\",\"#aec7e8\",\"#ff7f0e\",\"#aec7e8\",\"#aec7e8\",\"#1f77b4\",\"#aec7e8\",\"#aec7e8\",\"#aec7e8\",\"#aec7e8\",\"#ffbb78\",\"#aec7e8\",\"#aec7e8\",\"#98df8a\",\"#1f77b4\",\"#2ca02c\",\"#aec7e8\",\"#ffbb78\",\"#ffbb78\",\"#ffbb78\",\"#ff7f0e\",\"#2ca02c\",\"#1f77b4\",\"#1f77b4\",\"#1f77b4\",\"#ff7f0e\",\"#1f77b4\",\"#1f77b4\",\"#1f77b4\",\"#98df8a\",\"#98df8a\",\"#1f77b4\",\"#ff7f0e\",\"#1f77b4\",\"#1f77b4\",\"#1f77b4\",\"#1f77b4\",\"#ff7f0e\",\"#ff7f0e\",\"#ffbb78\",\"#98df8a\",\"#ff7f0e\",\"#ff7f0e\",\"#98df8a\",\"#2ca02c\",\"#1f77b4\",\"#2ca02c\",\"#ff7f0e\",\"#1f77b4\",\"#ffbb78\",\"#ffbb78\",\"#2ca02c\",\"#ffbb78\",\"#ffbb78\",\"#aec7e8\",\"#1f77b4\",\"#1f77b4\",\"#ffbb78\",\"#aec7e8\",\"#aec7e8\",\"#ff7f0e\",\"#ffbb78\",\"#ff7f0e\",\"#ffbb78\",\"#98df8a\",\"#98df8a\",\"#ff7f0e\",\"#98df8a\",\"#98df8a\",\"#ffbb78\",\"#1f77b4\",\"#98df8a\",\"#98df8a\",\"#aec7e8\",\"#aec7e8\",\"#aec7e8\",\"#ffbb78\",\"#ffbb78\",\"#ffbb78\",\"#1f77b4\",\"#1f77b4\",\"#aec7e8\",\"#aec7e8\",\"#1f77b4\",\"#aec7e8\",\"#ffbb78\",\"#ffbb78\",\"#ffbb78\",\"#98df8a\",\"#98df8a\",\"#2ca02c\",\"#ffbb78\",\"#1f77b4\",\"#ff7f0e\",\"#1f77b4\",\"#1f77b4\",\"#ff7f0e\",\"#ffbb78\",\"#1f77b4\",\"#98df8a\",\"#ffbb78\",\"#1f77b4\",\"#ffbb78\",\"#1f77b4\",\"#1f77b4\",\"#ffbb78\",\"#1f77b4\",\"#ffbb78\",\"#ffbb78\",\"#1f77b4\",\"#1f77b4\",\"#1f77b4\",\"#1f77b4\",\"#ff7f0e\",\"#98df8a\",\"#ff7f0e\",\"#1f77b4\",\"#1f77b4\",\"#98df8a\",\"#ff7f0e\",\"#ffbb78\",\"#1f77b4\",\"#aec7e8\",\"#1f77b4\",\"#1f77b4\",\"#1f77b4\",\"#aec7e8\",\"#98df8a\",\"#ffbb78\",\"#ffbb78\",\"#aec7e8\",\"#2ca02c\",\"#1f77b4\",\"#ff7f0e\",\"#1f77b4\",\"#ff7f0e\",\"#98df8a\",\"#98df8a\",\"#1f77b4\",\"#ff7f0e\",\"#ff7f0e\",\"#ffbb78\",\"#ff7f0e\",\"#1f77b4\",\"#aec7e8\",\"#aec7e8\",\"#aec7e8\",\"#aec7e8\",\"#aec7e8\",\"#1f77b4\",\"#aec7e8\",\"#aec7e8\",\"#ffbb78\",\"#98df8a\",\"#aec7e8\",\"#98df8a\",\"#1f77b4\",\"#aec7e8\",\"#1f77b4\",\"#1f77b4\",\"#ffbb78\",\"#ffbb78\",\"#ff7f0e\",\"#ffbb78\",\"#ff7f0e\",\"#ffbb78\",\"#98df8a\",\"#1f77b4\",\"#1f77b4\",\"#ffbb78\",\"#98df8a\",\"#98df8a\",\"#ffbb78\",\"#2ca02c\",\"#ffbb78\",\"#1f77b4\",\"#1f77b4\",\"#ffbb78\",\"#1f77b4\",\"#ff7f0e\",\"#aec7e8\",\"#1f77b4\",\"#aec7e8\",\"#98df8a\",\"#98df8a\",\"#aec7e8\",\"#aec7e8\",\"#ffbb78\",\"#aec7e8\",\"#98df8a\",\"#ffbb78\",\"#aec7e8\",\"#ff7f0e\",\"#1f77b4\",\"#1f77b4\",\"#ffbb78\",\"#ffbb78\",\"#1f77b4\",\"#ff7f0e\",\"#2ca02c\",\"#ff7f0e\",\"#ff7f0e\",\"#1f77b4\",\"#ffbb78\",\"#ffbb78\",\"#ffbb78\",\"#ffbb78\",\"#ffbb78\",\"#1f77b4\",\"#1f77b4\",\"#1f77b4\",\"#ff7f0e\",\"#ff7f0e\",\"#ff7f0e\",\"#ffbb78\",\"#ffbb78\",\"#ff7f0e\",\"#1f77b4\",\"#ff7f0e\",\"#1f77b4\",\"#1f77b4\",\"#ff7f0e\",\"#ffbb78\",\"#ff7f0e\",\"#98df8a\",\"#ffbb78\",\"#1f77b4\",\"#1f77b4\",\"#ffbb78\",\"#ff7f0e\",\"#ff7f0e\",\"#ffbb78\",\"#1f77b4\",\"#ffbb78\",\"#1f77b4\",\"#1f77b4\",\"#ff7f0e\",\"#ffbb78\",\"#2ca02c\",\"#ff7f0e\",\"#ff7f0e\",\"#ffbb78\",\"#ffbb78\",\"#ffbb78\",\"#98df8a\",\"#ff7f0e\",\"#98df8a\",\"#2ca02c\",\"#ff7f0e\",\"#ff7f0e\",\"#ff7f0e\",\"#ff7f0e\",\"#aec7e8\",\"#aec7e8\",\"#aec7e8\",\"#1f77b4\",\"#1f77b4\",\"#ffbb78\",\"#98df8a\",\"#98df8a\",\"#ffbb78\",\"#1f77b4\",\"#ffbb78\",\"#ffbb78\",\"#2ca02c\",\"#ffbb78\",\"#aec7e8\",\"#ff7f0e\",\"#1f77b4\",\"#2ca02c\",\"#ff7f0e\",\"#1f77b4\",\"#1f77b4\",\"#1f77b4\",\"#98df8a\",\"#1f77b4\",\"#1f77b4\",\"#98df8a\",\"#1f77b4\",\"#aec7e8\",\"#ffbb78\",\"#ff7f0e\",\"#ffbb78\",\"#1f77b4\",\"#aec7e8\",\"#98df8a\",\"#ff7f0e\",\"#aec7e8\",\"#1f77b4\",\"#ffbb78\",\"#ffbb78\",\"#aec7e8\",\"#ffbb78\",\"#aec7e8\",\"#ff7f0e\",\"#1f77b4\",\"#1f77b4\",\"#aec7e8\",\"#1f77b4\",\"#1f77b4\",\"#1f77b4\",\"#98df8a\",\"#ffbb78\",\"#1f77b4\",\"#98df8a\",\"#ffbb78\",\"#ff7f0e\",\"#2ca02c\",\"#1f77b4\",\"#ff7f0e\",\"#ffbb78\",\"#1f77b4\",\"#98df8a\",\"#ffbb78\",\"#1f77b4\",\"#ffbb78\",\"#2ca02c\",\"#98df8a\",\"#ff7f0e\",\"#aec7e8\",\"#1f77b4\",\"#aec7e8\",\"#aec7e8\",\"#aec7e8\",\"#98df8a\",\"#aec7e8\",\"#ff7f0e\",\"#1f77b4\",\"#aec7e8\",\"#2ca02c\",\"#2ca02c\",\"#ffbb78\",\"#ff7f0e\",\"#aec7e8\",\"#2ca02c\",\"#98df8a\",\"#aec7e8\",\"#1f77b4\",\"#1f77b4\",\"#ff7f0e\",\"#ff7f0e\",\"#ffbb78\",\"#ffbb78\",\"#ffbb78\",\"#ffbb78\",\"#ff7f0e\",\"#98df8a\",\"#98df8a\",\"#98df8a\",\"#1f77b4\",\"#ff7f0e\",\"#ffbb78\",\"#1f77b4\",\"#ffbb78\",\"#ffbb78\",\"#ffbb78\",\"#2ca02c\",\"#1f77b4\",\"#ff7f0e\",\"#ff7f0e\",\"#1f77b4\",\"#ffbb78\",\"#98df8a\",\"#ff7f0e\",\"#ffbb78\",\"#ffbb78\",\"#ffbb78\",\"#1f77b4\",\"#ffbb78\",\"#ffbb78\",\"#1f77b4\",\"#98df8a\",\"#98df8a\",\"#ffbb78\",\"#1f77b4\",\"#98df8a\",\"#ff7f0e\",\"#ff7f0e\",\"#1f77b4\",\"#ff7f0e\",\"#ff7f0e\",\"#ff7f0e\",\"#ffbb78\",\"#1f77b4\",\"#ff7f0e\",\"#ff7f0e\",\"#aec7e8\",\"#aec7e8\",\"#1f77b4\",\"#98df8a\",\"#1f77b4\",\"#98df8a\",\"#ffbb78\",\"#ffbb78\",\"#98df8a\",\"#ffbb78\",\"#98df8a\",\"#1f77b4\",\"#ffbb78\",\"#98df8a\",\"#98df8a\",\"#1f77b4\",\"#ffbb78\",\"#ffbb78\",\"#1f77b4\",\"#aec7e8\",\"#aec7e8\",\"#ffbb78\",\"#aec7e8\",\"#aec7e8\",\"#aec7e8\",\"#98df8a\",\"#1f77b4\",\"#1f77b4\",\"#ffbb78\",\"#ffbb78\",\"#1f77b4\",\"#ffbb78\",\"#1f77b4\",\"#ffbb78\",\"#98df8a\",\"#ffbb78\",\"#98df8a\",\"#ffbb78\",\"#aec7e8\",\"#1f77b4\",\"#1f77b4\",\"#ffbb78\",\"#98df8a\",\"#1f77b4\",\"#ffbb78\",\"#1f77b4\",\"#1f77b4\",\"#1f77b4\",\"#1f77b4\",\"#aec7e8\",\"#aec7e8\",\"#98df8a\",\"#1f77b4\",\"#98df8a\",\"#ff7f0e\",\"#98df8a\",\"#1f77b4\",\"#1f77b4\",\"#ffbb78\",\"#98df8a\",\"#ffbb78\",\"#ffbb78\",\"#ff7f0e\",\"#1f77b4\",\"#ff7f0e\",\"#ff7f0e\",\"#ff7f0e\",\"#98df8a\",\"#1f77b4\",\"#2ca02c\",\"#1f77b4\",\"#ff7f0e\",\"#aec7e8\",\"#aec7e8\",\"#aec7e8\",\"#ff7f0e\",\"#ff7f0e\",\"#1f77b4\",\"#aec7e8\",\"#1f77b4\",\"#ffbb78\",\"#aec7e8\",\"#aec7e8\",\"#aec7e8\",\"#ff7f0e\",\"#ffbb78\",\"#ffbb78\",\"#1f77b4\",\"#ffbb78\",\"#1f77b4\",\"#98df8a\",\"#ffbb78\",\"#ffbb78\",\"#ff7f0e\",\"#ffbb78\",\"#1f77b4\",\"#ffbb78\",\"#ff7f0e\",\"#98df8a\",\"#1f77b4\",\"#1f77b4\",\"#1f77b4\",\"#ff7f0e\",\"#ffbb78\",\"#1f77b4\",\"#1f77b4\",\"#ffbb78\",\"#1f77b4\",\"#ff7f0e\",\"#1f77b4\",\"#aec7e8\",\"#ff7f0e\",\"#ffbb78\",\"#ffbb78\",\"#ffbb78\",\"#ff7f0e\",\"#1f77b4\",\"#1f77b4\",\"#98df8a\",\"#1f77b4\",\"#98df8a\",\"#ff7f0e\",\"#ffbb78\",\"#1f77b4\",\"#ff7f0e\",\"#1f77b4\",\"#1f77b4\",\"#98df8a\",\"#ffbb78\",\"#1f77b4\",\"#ffbb78\",\"#1f77b4\",\"#1f77b4\",\"#ffbb78\",\"#ff7f0e\",\"#ffbb78\",\"#ff7f0e\",\"#ff7f0e\",\"#2ca02c\",\"#1f77b4\",\"#98df8a\",\"#ffbb78\",\"#ffbb78\",\"#1f77b4\",\"#ff7f0e\",\"#98df8a\",\"#98df8a\",\"#1f77b4\",\"#ffbb78\",\"#1f77b4\",\"#1f77b4\",\"#ff7f0e\",\"#ffbb78\",\"#1f77b4\",\"#1f77b4\",\"#1f77b4\",\"#aec7e8\",\"#ff7f0e\",\"#1f77b4\",\"#ff7f0e\",\"#98df8a\",\"#1f77b4\",\"#1f77b4\",\"#ffbb78\",\"#ffbb78\",\"#ffbb78\",\"#1f77b4\",\"#ffbb78\",\"#1f77b4\",\"#98df8a\",\"#aec7e8\",\"#1f77b4\",\"#1f77b4\",\"#ff7f0e\",\"#98df8a\",\"#98df8a\",\"#98df8a\",\"#1f77b4\",\"#1f77b4\",\"#98df8a\",\"#1f77b4\",\"#ff7f0e\",\"#ffbb78\",\"#2ca02c\",\"#ffbb78\",\"#1f77b4\",\"#98df8a\",\"#1f77b4\",\"#aec7e8\",\"#aec7e8\",\"#aec7e8\",\"#ff7f0e\",\"#ff7f0e\",\"#1f77b4\",\"#98df8a\",\"#1f77b4\",\"#ffbb78\",\"#ff7f0e\",\"#98df8a\",\"#98df8a\",\"#ff7f0e\",\"#aec7e8\",\"#1f77b4\",\"#2ca02c\",\"#98df8a\",\"#98df8a\",\"#ff7f0e\",\"#ffbb78\",\"#ffbb78\",\"#ff7f0e\",\"#2ca02c\",\"#ff7f0e\",\"#1f77b4\",\"#ffbb78\",\"#ff7f0e\",\"#ffbb78\",\"#2ca02c\",\"#1f77b4\",\"#98df8a\",\"#ff7f0e\",\"#ff7f0e\",\"#ff7f0e\",\"#98df8a\",\"#ff7f0e\",\"#ff7f0e\",\"#ff7f0e\",\"#ffbb78\",\"#1f77b4\",\"#1f77b4\",\"#1f77b4\",\"#1f77b4\",\"#aec7e8\",\"#ff7f0e\",\"#ffbb78\",\"#98df8a\",\"#aec7e8\",\"#ff7f0e\",\"#ffbb78\",\"#1f77b4\",\"#1f77b4\",\"#1f77b4\",\"#ffbb78\",\"#ff7f0e\",\"#ff7f0e\",\"#1f77b4\",\"#ff7f0e\",\"#1f77b4\",\"#98df8a\",\"#1f77b4\",\"#98df8a\",\"#ff7f0e\",\"#1f77b4\",\"#ff7f0e\",\"#ffbb78\",\"#98df8a\",\"#98df8a\",\"#1f77b4\",\"#98df8a\",\"#ff7f0e\",\"#98df8a\",\"#1f77b4\",\"#98df8a\",\"#ffbb78\",\"#ffbb78\",\"#1f77b4\",\"#ff7f0e\",\"#ff7f0e\",\"#1f77b4\",\"#1f77b4\",\"#98df8a\",\"#1f77b4\",\"#ffbb78\",\"#aec7e8\",\"#1f77b4\",\"#ffbb78\",\"#ff7f0e\",\"#2ca02c\",\"#ffbb78\",\"#ffbb78\",\"#ff7f0e\",\"#ff7f0e\",\"#ff7f0e\",\"#ff7f0e\",\"#ff7f0e\",\"#2ca02c\",\"#ff7f0e\",\"#1f77b4\",\"#2ca02c\",\"#ff7f0e\",\"#1f77b4\",\"#ffbb78\",\"#ffbb78\",\"#ff7f0e\",\"#1f77b4\",\"#ff7f0e\",\"#1f77b4\",\"#ffbb78\",\"#2ca02c\",\"#98df8a\",\"#98df8a\",\"#1f77b4\",\"#1f77b4\",\"#98df8a\",\"#ffbb78\",\"#1f77b4\",\"#1f77b4\",\"#ffbb78\",\"#ffbb78\",\"#1f77b4\",\"#1f77b4\",\"#ff7f0e\",\"#ff7f0e\",\"#1f77b4\",\"#ffbb78\",\"#ff7f0e\",\"#ff7f0e\",\"#ff7f0e\",\"#1f77b4\",\"#1f77b4\",\"#ff7f0e\",\"#98df8a\",\"#1f77b4\",\"#2ca02c\",\"#ff7f0e\",\"#ff7f0e\",\"#ff7f0e\",\"#1f77b4\",\"#2ca02c\",\"#ffbb78\",\"#2ca02c\",\"#1f77b4\",\"#1f77b4\",\"#ffbb78\",\"#ffbb78\",\"#1f77b4\",\"#ffbb78\",\"#1f77b4\",\"#2ca02c\",\"#1f77b4\",\"#2ca02c\",\"#ff7f0e\",\"#98df8a\",\"#1f77b4\",\"#98df8a\",\"#ff7f0e\",\"#98df8a\",\"#1f77b4\",\"#ffbb78\",\"#ff7f0e\",\"#ffbb78\",\"#98df8a\",\"#1f77b4\",\"#98df8a\",\"#ff7f0e\",\"#98df8a\",\"#ff7f0e\",\"#ff7f0e\",\"#ff7f0e\",\"#1f77b4\",\"#98df8a\",\"#98df8a\",\"#ff7f0e\",\"#aec7e8\",\"#aec7e8\",\"#98df8a\",\"#ff7f0e\",\"#ff7f0e\",\"#ff7f0e\",\"#ffbb78\",\"#98df8a\",\"#ff7f0e\",\"#98df8a\",\"#98df8a\",\"#ffbb78\",\"#ff7f0e\",\"#98df8a\",\"#98df8a\",\"#ff7f0e\",\"#98df8a\",\"#ffbb78\",\"#ff7f0e\",\"#ffbb78\",\"#ffbb78\",\"#98df8a\",\"#2ca02c\",\"#ff7f0e\",\"#1f77b4\",\"#ff7f0e\",\"#98df8a\",\"#ff7f0e\",\"#aec7e8\",\"#ffbb78\",\"#ffbb78\",\"#1f77b4\",\"#1f77b4\",\"#2ca02c\",\"#1f77b4\",\"#1f77b4\",\"#98df8a\",\"#aec7e8\",\"#98df8a\",\"#ffbb78\",\"#98df8a\",\"#98df8a\",\"#1f77b4\",\"#ffbb78\",\"#98df8a\",\"#98df8a\",\"#98df8a\",\"#ff7f0e\",\"#1f77b4\",\"#1f77b4\",\"#ffbb78\",\"#2ca02c\",\"#ffbb78\",\"#ff7f0e\",\"#ffbb78\",\"#1f77b4\",\"#ff7f0e\",\"#ff7f0e\",\"#1f77b4\",\"#98df8a\",\"#1f77b4\",\"#1f77b4\",\"#98df8a\",\"#ff7f0e\",\"#1f77b4\",\"#1f77b4\",\"#ff7f0e\",\"#ff7f0e\",\"#ffbb78\",\"#1f77b4\",\"#1f77b4\",\"#2ca02c\",\"#aec7e8\",\"#aec7e8\",\"#aec7e8\",\"#ff7f0e\",\"#aec7e8\",\"#98df8a\",\"#1f77b4\",\"#ffbb78\",\"#98df8a\",\"#ffbb78\",\"#1f77b4\",\"#1f77b4\",\"#ffbb78\",\"#2ca02c\",\"#ffbb78\",\"#ffbb78\",\"#2ca02c\",\"#1f77b4\",\"#2ca02c\",\"#ffbb78\",\"#ff7f0e\",\"#ffbb78\",\"#ff7f0e\",\"#1f77b4\",\"#aec7e8\",\"#ff7f0e\",\"#aec7e8\",\"#aec7e8\",\"#2ca02c\",\"#ff7f0e\",\"#ffbb78\",\"#98df8a\",\"#ff7f0e\",\"#98df8a\",\"#1f77b4\",\"#1f77b4\",\"#ff7f0e\",\"#1f77b4\",\"#1f77b4\",\"#1f77b4\",\"#ffbb78\",\"#ffbb78\",\"#aec7e8\",\"#1f77b4\",\"#ffbb78\",\"#1f77b4\",\"#98df8a\",\"#ff7f0e\",\"#ff7f0e\",\"#ff7f0e\",\"#1f77b4\",\"#1f77b4\",\"#aec7e8\",\"#aec7e8\",\"#aec7e8\",\"#aec7e8\",\"#ffbb78\",\"#ff7f0e\",\"#1f77b4\",\"#1f77b4\",\"#ffbb78\",\"#ff7f0e\",\"#ff7f0e\",\"#1f77b4\",\"#98df8a\",\"#ffbb78\",\"#1f77b4\",\"#ffbb78\",\"#98df8a\",\"#1f77b4\",\"#ffbb78\",\"#1f77b4\",\"#1f77b4\",\"#2ca02c\",\"#ff7f0e\",\"#1f77b4\",\"#1f77b4\",\"#1f77b4\",\"#1f77b4\",\"#ff7f0e\",\"#ff7f0e\",\"#ffbb78\",\"#ffbb78\",\"#1f77b4\",\"#ffbb78\",\"#ffbb78\",\"#98df8a\",\"#ffbb78\",\"#98df8a\",\"#1f77b4\",\"#1f77b4\",\"#98df8a\",\"#1f77b4\",\"#2ca02c\",\"#98df8a\",\"#ffbb78\",\"#ff7f0e\",\"#ff7f0e\",\"#1f77b4\",\"#ffbb78\",\"#1f77b4\",\"#ff7f0e\",\"#ff7f0e\",\"#aec7e8\",\"#aec7e8\",\"#ffbb78\",\"#98df8a\",\"#1f77b4\",\"#1f77b4\",\"#1f77b4\",\"#2ca02c\",\"#98df8a\",\"#1f77b4\",\"#ffbb78\",\"#98df8a\",\"#ff7f0e\",\"#ff7f0e\",\"#ffbb78\",\"#ff7f0e\",\"#98df8a\",\"#aec7e8\",\"#ffbb78\",\"#1f77b4\",\"#2ca02c\",\"#98df8a\",\"#1f77b4\",\"#1f77b4\",\"#98df8a\",\"#ff7f0e\",\"#ffbb78\",\"#aec7e8\",\"#aec7e8\",\"#1f77b4\",\"#ff7f0e\",\"#98df8a\",\"#98df8a\",\"#ff7f0e\",\"#ffbb78\",\"#ff7f0e\",\"#ff7f0e\",\"#ffbb78\",\"#1f77b4\",\"#ffbb78\",\"#ffbb78\",\"#ff7f0e\",\"#ff7f0e\",\"#ff7f0e\",\"#ff7f0e\",\"#1f77b4\",\"#ff7f0e\",\"#2ca02c\",\"#1f77b4\",\"#ff7f0e\",\"#1f77b4\",\"#ffbb78\",\"#1f77b4\",\"#2ca02c\",\"#ffbb78\",\"#ffbb78\",\"#ff7f0e\",\"#ffbb78\",\"#ffbb78\",\"#1f77b4\",\"#ffbb78\",\"#ff7f0e\",\"#ff7f0e\",\"#aec7e8\",\"#ffbb78\",\"#1f77b4\",\"#ff7f0e\",\"#ffbb78\",\"#ffbb78\",\"#ffbb78\",\"#98df8a\",\"#aec7e8\",\"#ffbb78\",\"#ffbb78\",\"#aec7e8\",\"#1f77b4\",\"#aec7e8\",\"#aec7e8\",\"#aec7e8\",\"#1f77b4\",\"#aec7e8\",\"#aec7e8\",\"#aec7e8\",\"#1f77b4\",\"#aec7e8\",\"#aec7e8\",\"#aec7e8\",\"#aec7e8\",\"#ff7f0e\",\"#aec7e8\",\"#ff7f0e\",\"#aec7e8\",\"#98df8a\",\"#aec7e8\",\"#aec7e8\",\"#ffbb78\",\"#ffbb78\",\"#2ca02c\",\"#aec7e8\",\"#ffbb78\",\"#ffbb78\",\"#98df8a\",\"#1f77b4\",\"#ffbb78\",\"#ffbb78\",\"#ffbb78\",\"#ff7f0e\",\"#ff7f0e\",\"#ff7f0e\",\"#ff7f0e\",\"#1f77b4\",\"#1f77b4\",\"#ffbb78\",\"#98df8a\",\"#1f77b4\",\"#ffbb78\",\"#98df8a\",\"#ffbb78\",\"#1f77b4\",\"#ffbb78\",\"#98df8a\",\"#98df8a\",\"#1f77b4\",\"#98df8a\",\"#1f77b4\",\"#1f77b4\",\"#2ca02c\",\"#2ca02c\",\"#1f77b4\",\"#ffbb78\",\"#ffbb78\",\"#1f77b4\",\"#1f77b4\",\"#1f77b4\",\"#1f77b4\",\"#1f77b4\",\"#ff7f0e\",\"#ff7f0e\",\"#1f77b4\",\"#ff7f0e\",\"#ffbb78\",\"#ff7f0e\",\"#1f77b4\",\"#1f77b4\",\"#ffbb78\",\"#1f77b4\",\"#98df8a\",\"#98df8a\",\"#ff7f0e\",\"#1f77b4\",\"#98df8a\",\"#ff7f0e\",\"#ff7f0e\",\"#ffbb78\",\"#ffbb78\",\"#98df8a\",\"#98df8a\",\"#1f77b4\",\"#98df8a\",\"#ffbb78\",\"#ffbb78\",\"#1f77b4\",\"#1f77b4\",\"#98df8a\",\"#ffbb78\",\"#ff7f0e\",\"#ffbb78\",\"#ffbb78\",\"#ffbb78\",\"#ff7f0e\",\"#ffbb78\",\"#ff7f0e\",\"#aec7e8\",\"#98df8a\",\"#ff7f0e\",\"#aec7e8\",\"#98df8a\",\"#1f77b4\",\"#98df8a\",\"#98df8a\",\"#98df8a\",\"#98df8a\",\"#1f77b4\",\"#aec7e8\",\"#1f77b4\",\"#ff7f0e\",\"#ffbb78\",\"#ff7f0e\",\"#ff7f0e\",\"#ffbb78\",\"#1f77b4\",\"#ff7f0e\",\"#ff7f0e\",\"#ff7f0e\",\"#1f77b4\",\"#ff7f0e\",\"#ffbb78\",\"#ffbb78\",\"#ff7f0e\",\"#1f77b4\",\"#aec7e8\",\"#98df8a\",\"#ffbb78\",\"#1f77b4\",\"#1f77b4\",\"#98df8a\",\"#98df8a\",\"#1f77b4\",\"#ffbb78\",\"#ff7f0e\",\"#ffbb78\",\"#ffbb78\",\"#ffbb78\",\"#98df8a\",\"#aec7e8\",\"#98df8a\",\"#aec7e8\",\"#ff7f0e\",\"#1f77b4\",\"#ffbb78\",\"#1f77b4\",\"#1f77b4\",\"#aec7e8\",\"#ff7f0e\",\"#1f77b4\",\"#1f77b4\",\"#1f77b4\",\"#ffbb78\",\"#98df8a\",\"#98df8a\",\"#ff7f0e\",\"#ffbb78\",\"#ff7f0e\",\"#ff7f0e\",\"#1f77b4\",\"#ffbb78\",\"#ffbb78\",\"#ff7f0e\"],\"shape\":[2224],\"dtype\":\"object\",\"order\":\"little\"}],[\"fill_color\",{\"type\":\"ndarray\",\"array\":[\"#98df8a\",\"#ffbb78\",\"#ff7f0e\",\"#aec7e8\",\"#ff7f0e\",\"#aec7e8\",\"#aec7e8\",\"#ff7f0e\",\"#98df8a\",\"#98df8a\",\"#1f77b4\",\"#ff7f0e\",\"#ff7f0e\",\"#ff7f0e\",\"#2ca02c\",\"#ffbb78\",\"#ff7f0e\",\"#ff7f0e\",\"#ffbb78\",\"#ffbb78\",\"#ffbb78\",\"#ffbb78\",\"#ff7f0e\",\"#1f77b4\",\"#1f77b4\",\"#98df8a\",\"#ffbb78\",\"#ffbb78\",\"#1f77b4\",\"#ff7f0e\",\"#aec7e8\",\"#aec7e8\",\"#ffbb78\",\"#aec7e8\",\"#1f77b4\",\"#1f77b4\",\"#1f77b4\",\"#1f77b4\",\"#1f77b4\",\"#ff7f0e\",\"#2ca02c\",\"#ff7f0e\",\"#ff7f0e\",\"#98df8a\",\"#98df8a\",\"#1f77b4\",\"#1f77b4\",\"#1f77b4\",\"#1f77b4\",\"#98df8a\",\"#2ca02c\",\"#ffbb78\",\"#2ca02c\",\"#2ca02c\",\"#ff7f0e\",\"#ffbb78\",\"#ffbb78\",\"#ff7f0e\",\"#ff7f0e\",\"#2ca02c\",\"#1f77b4\",\"#1f77b4\",\"#1f77b4\",\"#ffbb78\",\"#98df8a\",\"#ff7f0e\",\"#ffbb78\",\"#ffbb78\",\"#ffbb78\",\"#ff7f0e\",\"#1f77b4\",\"#1f77b4\",\"#aec7e8\",\"#aec7e8\",\"#ff7f0e\",\"#aec7e8\",\"#aec7e8\",\"#1f77b4\",\"#1f77b4\",\"#1f77b4\",\"#1f77b4\",\"#aec7e8\",\"#aec7e8\",\"#ff7f0e\",\"#aec7e8\",\"#ffbb78\",\"#aec7e8\",\"#ffbb78\",\"#aec7e8\",\"#ffbb78\",\"#aec7e8\",\"#1f77b4\",\"#98df8a\",\"#ffbb78\",\"#98df8a\",\"#ffbb78\",\"#1f77b4\",\"#ffbb78\",\"#1f77b4\",\"#aec7e8\",\"#ffbb78\",\"#98df8a\",\"#ffbb78\",\"#aec7e8\",\"#ffbb78\",\"#1f77b4\",\"#aec7e8\",\"#1f77b4\",\"#ffbb78\",\"#1f77b4\",\"#ff7f0e\",\"#ffbb78\",\"#1f77b4\",\"#1f77b4\",\"#ff7f0e\",\"#aec7e8\",\"#aec7e8\",\"#aec7e8\",\"#ffbb78\",\"#aec7e8\",\"#1f77b4\",\"#aec7e8\",\"#1f77b4\",\"#aec7e8\",\"#ffbb78\",\"#ff7f0e\",\"#ffbb78\",\"#ffbb78\",\"#98df8a\",\"#aec7e8\",\"#ffbb78\",\"#ffbb78\",\"#aec7e8\",\"#ffbb78\",\"#ffbb78\",\"#ff7f0e\",\"#98df8a\",\"#ff7f0e\",\"#ff7f0e\",\"#ffbb78\",\"#1f77b4\",\"#1f77b4\",\"#ff7f0e\",\"#aec7e8\",\"#1f77b4\",\"#98df8a\",\"#aec7e8\",\"#ffbb78\",\"#ffbb78\",\"#ffbb78\",\"#ff7f0e\",\"#ff7f0e\",\"#98df8a\",\"#98df8a\",\"#aec7e8\",\"#ff7f0e\",\"#ff7f0e\",\"#98df8a\",\"#1f77b4\",\"#98df8a\",\"#ffbb78\",\"#ff7f0e\",\"#ffbb78\",\"#ffbb78\",\"#ffbb78\",\"#ffbb78\",\"#1f77b4\",\"#ffbb78\",\"#ffbb78\",\"#ff7f0e\",\"#98df8a\",\"#ff7f0e\",\"#ff7f0e\",\"#1f77b4\",\"#ff7f0e\",\"#98df8a\",\"#ff7f0e\",\"#ff7f0e\",\"#ff7f0e\",\"#ff7f0e\",\"#ffbb78\",\"#1f77b4\",\"#ffbb78\",\"#98df8a\",\"#ffbb78\",\"#ffbb78\",\"#ff7f0e\",\"#2ca02c\",\"#ff7f0e\",\"#aec7e8\",\"#1f77b4\",\"#ffbb78\",\"#98df8a\",\"#ffbb78\",\"#ffbb78\",\"#98df8a\",\"#1f77b4\",\"#98df8a\",\"#1f77b4\",\"#1f77b4\",\"#ffbb78\",\"#1f77b4\",\"#1f77b4\",\"#98df8a\",\"#1f77b4\",\"#98df8a\",\"#ffbb78\",\"#aec7e8\",\"#1f77b4\",\"#98df8a\",\"#ff7f0e\",\"#ff7f0e\",\"#ffbb78\",\"#ff7f0e\",\"#1f77b4\",\"#ffbb78\",\"#98df8a\",\"#1f77b4\",\"#1f77b4\",\"#98df8a\",\"#ffbb78\",\"#98df8a\",\"#98df8a\",\"#ffbb78\",\"#ffbb78\",\"#1f77b4\",\"#1f77b4\",\"#ffbb78\",\"#aec7e8\",\"#2ca02c\",\"#ffbb78\",\"#1f77b4\",\"#ff7f0e\",\"#ff7f0e\",\"#2ca02c\",\"#1f77b4\",\"#1f77b4\",\"#ff7f0e\",\"#ff7f0e\",\"#ffbb78\",\"#1f77b4\",\"#1f77b4\",\"#ff7f0e\",\"#1f77b4\",\"#1f77b4\",\"#ff7f0e\",\"#98df8a\",\"#ff7f0e\",\"#ffbb78\",\"#98df8a\",\"#ffbb78\",\"#2ca02c\",\"#1f77b4\",\"#98df8a\",\"#ffbb78\",\"#ff7f0e\",\"#98df8a\",\"#1f77b4\",\"#98df8a\",\"#1f77b4\",\"#ff7f0e\",\"#ffbb78\",\"#ff7f0e\",\"#ff7f0e\",\"#98df8a\",\"#ff7f0e\",\"#98df8a\",\"#ff7f0e\",\"#1f77b4\",\"#2ca02c\",\"#1f77b4\",\"#ffbb78\",\"#aec7e8\",\"#1f77b4\",\"#98df8a\",\"#ff7f0e\",\"#ff7f0e\",\"#2ca02c\",\"#ffbb78\",\"#ff7f0e\",\"#1f77b4\",\"#1f77b4\",\"#98df8a\",\"#1f77b4\",\"#1f77b4\",\"#ffbb78\",\"#ff7f0e\",\"#1f77b4\",\"#1f77b4\",\"#1f77b4\",\"#1f77b4\",\"#ffbb78\",\"#ffbb78\",\"#ff7f0e\",\"#ff7f0e\",\"#98df8a\",\"#1f77b4\",\"#ffbb78\",\"#ffbb78\",\"#1f77b4\",\"#98df8a\",\"#1f77b4\",\"#ff7f0e\",\"#1f77b4\",\"#ff7f0e\",\"#1f77b4\",\"#1f77b4\",\"#ff7f0e\",\"#aec7e8\",\"#98df8a\",\"#1f77b4\",\"#1f77b4\",\"#ff7f0e\",\"#1f77b4\",\"#ffbb78\",\"#1f77b4\",\"#ffbb78\",\"#1f77b4\",\"#ff7f0e\",\"#ff7f0e\",\"#ff7f0e\",\"#1f77b4\",\"#1f77b4\",\"#ffbb78\",\"#ffbb78\",\"#98df8a\",\"#2ca02c\",\"#ff7f0e\",\"#ffbb78\",\"#ffbb78\",\"#1f77b4\",\"#ffbb78\",\"#1f77b4\",\"#1f77b4\",\"#2ca02c\",\"#ffbb78\",\"#ff7f0e\",\"#98df8a\",\"#aec7e8\",\"#aec7e8\",\"#1f77b4\",\"#1f77b4\",\"#1f77b4\",\"#1f77b4\",\"#98df8a\",\"#ff7f0e\",\"#ff7f0e\",\"#2ca02c\",\"#ff7f0e\",\"#ffbb78\",\"#ff7f0e\",\"#ffbb78\",\"#aec7e8\",\"#aec7e8\",\"#aec7e8\",\"#aec7e8\",\"#aec7e8\",\"#aec7e8\",\"#98df8a\",\"#ff7f0e\",\"#2ca02c\",\"#ffbb78\",\"#98df8a\",\"#aec7e8\",\"#ffbb78\",\"#aec7e8\",\"#ff7f0e\",\"#1f77b4\",\"#98df8a\",\"#aec7e8\",\"#ffbb78\",\"#1f77b4\",\"#aec7e8\",\"#98df8a\",\"#ff7f0e\",\"#98df8a\",\"#ffbb78\",\"#98df8a\",\"#2ca02c\",\"#ffbb78\",\"#ffbb78\",\"#2ca02c\",\"#2ca02c\",\"#ffbb78\",\"#ffbb78\",\"#ffbb78\",\"#98df8a\",\"#ffbb78\",\"#98df8a\",\"#1f77b4\",\"#aec7e8\",\"#ff7f0e\",\"#ffbb78\",\"#ffbb78\",\"#ffbb78\",\"#ff7f0e\",\"#2ca02c\",\"#2ca02c\",\"#1f77b4\",\"#ffbb78\",\"#1f77b4\",\"#98df8a\",\"#ffbb78\",\"#2ca02c\",\"#1f77b4\",\"#1f77b4\",\"#ffbb78\",\"#98df8a\",\"#1f77b4\",\"#98df8a\",\"#1f77b4\",\"#1f77b4\",\"#98df8a\",\"#ff7f0e\",\"#ffbb78\",\"#aec7e8\",\"#1f77b4\",\"#ffbb78\",\"#ff7f0e\",\"#ff7f0e\",\"#1f77b4\",\"#1f77b4\",\"#1f77b4\",\"#ff7f0e\",\"#1f77b4\",\"#98df8a\",\"#ff7f0e\",\"#ffbb78\",\"#ffbb78\",\"#ff7f0e\",\"#1f77b4\",\"#1f77b4\",\"#ffbb78\",\"#ffbb78\",\"#ffbb78\",\"#1f77b4\",\"#1f77b4\",\"#98df8a\",\"#ffbb78\",\"#1f77b4\",\"#ffbb78\",\"#ff7f0e\",\"#ff7f0e\",\"#ffbb78\",\"#98df8a\",\"#1f77b4\",\"#98df8a\",\"#ffbb78\",\"#2ca02c\",\"#ffbb78\",\"#ffbb78\",\"#ffbb78\",\"#2ca02c\",\"#98df8a\",\"#1f77b4\",\"#aec7e8\",\"#aec7e8\",\"#1f77b4\",\"#ffbb78\",\"#ff7f0e\",\"#ffbb78\",\"#ffbb78\",\"#ffbb78\",\"#ffbb78\",\"#ffbb78\",\"#2ca02c\",\"#ff7f0e\",\"#1f77b4\",\"#1f77b4\",\"#ffbb78\",\"#ffbb78\",\"#1f77b4\",\"#98df8a\",\"#1f77b4\",\"#ffbb78\",\"#98df8a\",\"#98df8a\",\"#ffbb78\",\"#ff7f0e\",\"#98df8a\",\"#1f77b4\",\"#98df8a\",\"#1f77b4\",\"#ffbb78\",\"#1f77b4\",\"#ff7f0e\",\"#ffbb78\",\"#ffbb78\",\"#ffbb78\",\"#98df8a\",\"#1f77b4\",\"#ffbb78\",\"#ff7f0e\",\"#ffbb78\",\"#1f77b4\",\"#aec7e8\",\"#ff7f0e\",\"#ffbb78\",\"#1f77b4\",\"#1f77b4\",\"#ff7f0e\",\"#ffbb78\",\"#aec7e8\",\"#ffbb78\",\"#98df8a\",\"#aec7e8\",\"#aec7e8\",\"#aec7e8\",\"#aec7e8\",\"#ffbb78\",\"#aec7e8\",\"#98df8a\",\"#98df8a\",\"#ffbb78\",\"#ffbb78\",\"#1f77b4\",\"#ffbb78\",\"#1f77b4\",\"#ffbb78\",\"#aec7e8\",\"#ff7f0e\",\"#98df8a\",\"#aec7e8\",\"#98df8a\",\"#1f77b4\",\"#1f77b4\",\"#1f77b4\",\"#1f77b4\",\"#ff7f0e\",\"#ff7f0e\",\"#1f77b4\",\"#ff7f0e\",\"#ffbb78\",\"#ffbb78\",\"#ff7f0e\",\"#ff7f0e\",\"#98df8a\",\"#ff7f0e\",\"#ff7f0e\",\"#1f77b4\",\"#98df8a\",\"#1f77b4\",\"#1f77b4\",\"#aec7e8\",\"#1f77b4\",\"#1f77b4\",\"#1f77b4\",\"#98df8a\",\"#1f77b4\",\"#1f77b4\",\"#1f77b4\",\"#ff7f0e\",\"#ff7f0e\",\"#ffbb78\",\"#2ca02c\",\"#98df8a\",\"#ffbb78\",\"#98df8a\",\"#1f77b4\",\"#1f77b4\",\"#98df8a\",\"#1f77b4\",\"#98df8a\",\"#1f77b4\",\"#1f77b4\",\"#ff7f0e\",\"#ffbb78\",\"#98df8a\",\"#1f77b4\",\"#ffbb78\",\"#98df8a\",\"#ffbb78\",\"#ff7f0e\",\"#ff7f0e\",\"#ffbb78\",\"#ffbb78\",\"#ffbb78\",\"#98df8a\",\"#98df8a\",\"#98df8a\",\"#98df8a\",\"#ffbb78\",\"#ff7f0e\",\"#ffbb78\",\"#ffbb78\",\"#ffbb78\",\"#ffbb78\",\"#ffbb78\",\"#98df8a\",\"#ffbb78\",\"#1f77b4\",\"#1f77b4\",\"#1f77b4\",\"#1f77b4\",\"#1f77b4\",\"#98df8a\",\"#ff7f0e\",\"#98df8a\",\"#1f77b4\",\"#2ca02c\",\"#aec7e8\",\"#1f77b4\",\"#1f77b4\",\"#ff7f0e\",\"#1f77b4\",\"#1f77b4\",\"#1f77b4\",\"#98df8a\",\"#2ca02c\",\"#1f77b4\",\"#ffbb78\",\"#1f77b4\",\"#ff7f0e\",\"#1f77b4\",\"#98df8a\",\"#ffbb78\",\"#aec7e8\",\"#aec7e8\",\"#98df8a\",\"#1f77b4\",\"#98df8a\",\"#aec7e8\",\"#aec7e8\",\"#aec7e8\",\"#1f77b4\",\"#ffbb78\",\"#ffbb78\",\"#1f77b4\",\"#ffbb78\",\"#1f77b4\",\"#1f77b4\",\"#98df8a\",\"#ffbb78\",\"#ffbb78\",\"#ffbb78\",\"#aec7e8\",\"#ff7f0e\",\"#ffbb78\",\"#1f77b4\",\"#ffbb78\",\"#ffbb78\",\"#1f77b4\",\"#ffbb78\",\"#1f77b4\",\"#98df8a\",\"#ff7f0e\",\"#aec7e8\",\"#98df8a\",\"#ff7f0e\",\"#1f77b4\",\"#ffbb78\",\"#1f77b4\",\"#98df8a\",\"#ff7f0e\",\"#98df8a\",\"#98df8a\",\"#ff7f0e\",\"#ffbb78\",\"#1f77b4\",\"#ff7f0e\",\"#ffbb78\",\"#ffbb78\",\"#1f77b4\",\"#ff7f0e\",\"#ffbb78\",\"#2ca02c\",\"#1f77b4\",\"#1f77b4\",\"#1f77b4\",\"#ff7f0e\",\"#1f77b4\",\"#ffbb78\",\"#ffbb78\",\"#ff7f0e\",\"#ffbb78\",\"#1f77b4\",\"#1f77b4\",\"#2ca02c\",\"#aec7e8\",\"#ffbb78\",\"#1f77b4\",\"#ffbb78\",\"#aec7e8\",\"#1f77b4\",\"#1f77b4\",\"#98df8a\",\"#2ca02c\",\"#1f77b4\",\"#1f77b4\",\"#1f77b4\",\"#ff7f0e\",\"#ff7f0e\",\"#ff7f0e\",\"#aec7e8\",\"#ff7f0e\",\"#1f77b4\",\"#98df8a\",\"#aec7e8\",\"#ff7f0e\",\"#98df8a\",\"#1f77b4\",\"#ff7f0e\",\"#ff7f0e\",\"#2ca02c\",\"#98df8a\",\"#ffbb78\",\"#ff7f0e\",\"#1f77b4\",\"#ffbb78\",\"#ffbb78\",\"#ffbb78\",\"#1f77b4\",\"#ffbb78\",\"#1f77b4\",\"#ffbb78\",\"#2ca02c\",\"#aec7e8\",\"#ffbb78\",\"#aec7e8\",\"#aec7e8\",\"#1f77b4\",\"#aec7e8\",\"#98df8a\",\"#ffbb78\",\"#ffbb78\",\"#1f77b4\",\"#ffbb78\",\"#aec7e8\",\"#ffbb78\",\"#1f77b4\",\"#ffbb78\",\"#98df8a\",\"#98df8a\",\"#ffbb78\",\"#ff7f0e\",\"#1f77b4\",\"#ff7f0e\",\"#ff7f0e\",\"#1f77b4\",\"#ff7f0e\",\"#1f77b4\",\"#1f77b4\",\"#1f77b4\",\"#1f77b4\",\"#aec7e8\",\"#aec7e8\",\"#ff7f0e\",\"#ff7f0e\",\"#2ca02c\",\"#ff7f0e\",\"#ff7f0e\",\"#1f77b4\",\"#2ca02c\",\"#ff7f0e\",\"#ff7f0e\",\"#ff7f0e\",\"#ffbb78\",\"#98df8a\",\"#aec7e8\",\"#ff7f0e\",\"#ff7f0e\",\"#aec7e8\",\"#ffbb78\",\"#1f77b4\",\"#ff7f0e\",\"#ff7f0e\",\"#ff7f0e\",\"#ffbb78\",\"#aec7e8\",\"#1f77b4\",\"#1f77b4\",\"#ff7f0e\",\"#1f77b4\",\"#98df8a\",\"#ffbb78\",\"#ffbb78\",\"#ffbb78\",\"#aec7e8\",\"#ffbb78\",\"#ff7f0e\",\"#ff7f0e\",\"#1f77b4\",\"#1f77b4\",\"#1f77b4\",\"#ffbb78\",\"#98df8a\",\"#ff7f0e\",\"#ffbb78\",\"#1f77b4\",\"#1f77b4\",\"#1f77b4\",\"#98df8a\",\"#1f77b4\",\"#98df8a\",\"#ffbb78\",\"#98df8a\",\"#1f77b4\",\"#98df8a\",\"#ffbb78\",\"#ff7f0e\",\"#aec7e8\",\"#1f77b4\",\"#2ca02c\",\"#1f77b4\",\"#ffbb78\",\"#ffbb78\",\"#ffbb78\",\"#98df8a\",\"#98df8a\",\"#1f77b4\",\"#1f77b4\",\"#ff7f0e\",\"#98df8a\",\"#ffbb78\",\"#ff7f0e\",\"#1f77b4\",\"#aec7e8\",\"#aec7e8\",\"#1f77b4\",\"#1f77b4\",\"#ff7f0e\",\"#98df8a\",\"#ffbb78\",\"#aec7e8\",\"#aec7e8\",\"#ffbb78\",\"#98df8a\",\"#aec7e8\",\"#aec7e8\",\"#aec7e8\",\"#aec7e8\",\"#1f77b4\",\"#98df8a\",\"#ff7f0e\",\"#98df8a\",\"#1f77b4\",\"#ffbb78\",\"#ffbb78\",\"#ffbb78\",\"#98df8a\",\"#aec7e8\",\"#98df8a\",\"#98df8a\",\"#1f77b4\",\"#1f77b4\",\"#98df8a\",\"#ff7f0e\",\"#98df8a\",\"#ffbb78\",\"#ff7f0e\",\"#ffbb78\",\"#ffbb78\",\"#ffbb78\",\"#ffbb78\",\"#1f77b4\",\"#ff7f0e\",\"#1f77b4\",\"#1f77b4\",\"#98df8a\",\"#ffbb78\",\"#ffbb78\",\"#1f77b4\",\"#aec7e8\",\"#aec7e8\",\"#ffbb78\",\"#ff7f0e\",\"#1f77b4\",\"#1f77b4\",\"#98df8a\",\"#98df8a\",\"#1f77b4\",\"#ff7f0e\",\"#1f77b4\",\"#ff7f0e\",\"#ff7f0e\",\"#1f77b4\",\"#ff7f0e\",\"#ffbb78\",\"#ffbb78\",\"#ff7f0e\",\"#ffbb78\",\"#1f77b4\",\"#98df8a\",\"#98df8a\",\"#1f77b4\",\"#ff7f0e\",\"#ff7f0e\",\"#98df8a\",\"#ff7f0e\",\"#ffbb78\",\"#ffbb78\",\"#1f77b4\",\"#ffbb78\",\"#ff7f0e\",\"#2ca02c\",\"#ffbb78\",\"#ff7f0e\",\"#98df8a\",\"#ffbb78\",\"#98df8a\",\"#1f77b4\",\"#98df8a\",\"#ffbb78\",\"#ffbb78\",\"#ff7f0e\",\"#1f77b4\",\"#ffbb78\",\"#1f77b4\",\"#ffbb78\",\"#aec7e8\",\"#ffbb78\",\"#ff7f0e\",\"#ffbb78\",\"#aec7e8\",\"#1f77b4\",\"#98df8a\",\"#98df8a\",\"#ffbb78\",\"#1f77b4\",\"#1f77b4\",\"#98df8a\",\"#98df8a\",\"#ff7f0e\",\"#1f77b4\",\"#ffbb78\",\"#1f77b4\",\"#ffbb78\",\"#ffbb78\",\"#1f77b4\",\"#ffbb78\",\"#ffbb78\",\"#1f77b4\",\"#ffbb78\",\"#98df8a\",\"#ffbb78\",\"#ff7f0e\",\"#1f77b4\",\"#ff7f0e\",\"#1f77b4\",\"#ff7f0e\",\"#ffbb78\",\"#ffbb78\",\"#ffbb78\",\"#ff7f0e\",\"#1f77b4\",\"#2ca02c\",\"#1f77b4\",\"#aec7e8\",\"#ff7f0e\",\"#ffbb78\",\"#1f77b4\",\"#1f77b4\",\"#ff7f0e\",\"#98df8a\",\"#ffbb78\",\"#1f77b4\",\"#ff7f0e\",\"#ffbb78\",\"#1f77b4\",\"#ff7f0e\",\"#ff7f0e\",\"#ffbb78\",\"#1f77b4\",\"#1f77b4\",\"#ffbb78\",\"#ff7f0e\",\"#2ca02c\",\"#1f77b4\",\"#ffbb78\",\"#ffbb78\",\"#1f77b4\",\"#ffbb78\",\"#1f77b4\",\"#1f77b4\",\"#ffbb78\",\"#ffbb78\",\"#ff7f0e\",\"#2ca02c\",\"#ff7f0e\",\"#1f77b4\",\"#ffbb78\",\"#ff7f0e\",\"#98df8a\",\"#1f77b4\",\"#ffbb78\",\"#ffbb78\",\"#1f77b4\",\"#1f77b4\",\"#aec7e8\",\"#ff7f0e\",\"#2ca02c\",\"#ffbb78\",\"#ffbb78\",\"#ffbb78\",\"#1f77b4\",\"#ffbb78\",\"#ffbb78\",\"#ffbb78\",\"#1f77b4\",\"#98df8a\",\"#ffbb78\",\"#2ca02c\",\"#ffbb78\",\"#98df8a\",\"#1f77b4\",\"#ff7f0e\",\"#1f77b4\",\"#98df8a\",\"#ffbb78\",\"#1f77b4\",\"#98df8a\",\"#98df8a\",\"#ffbb78\",\"#ffbb78\",\"#1f77b4\",\"#2ca02c\",\"#ff7f0e\",\"#ff7f0e\",\"#ffbb78\",\"#ff7f0e\",\"#aec7e8\",\"#98df8a\",\"#ff7f0e\",\"#98df8a\",\"#aec7e8\",\"#aec7e8\",\"#ff7f0e\",\"#ff7f0e\",\"#ff7f0e\",\"#ff7f0e\",\"#2ca02c\",\"#98df8a\",\"#1f77b4\",\"#ffbb78\",\"#98df8a\",\"#98df8a\",\"#98df8a\",\"#98df8a\",\"#ffbb78\",\"#ff7f0e\",\"#ff7f0e\",\"#1f77b4\",\"#ff7f0e\",\"#aec7e8\",\"#98df8a\",\"#ffbb78\",\"#aec7e8\",\"#ffbb78\",\"#aec7e8\",\"#ff7f0e\",\"#98df8a\",\"#aec7e8\",\"#aec7e8\",\"#aec7e8\",\"#aec7e8\",\"#ffbb78\",\"#98df8a\",\"#ff7f0e\",\"#aec7e8\",\"#aec7e8\",\"#aec7e8\",\"#2ca02c\",\"#98df8a\",\"#aec7e8\",\"#aec7e8\",\"#ff7f0e\",\"#aec7e8\",\"#aec7e8\",\"#1f77b4\",\"#aec7e8\",\"#aec7e8\",\"#aec7e8\",\"#aec7e8\",\"#ffbb78\",\"#aec7e8\",\"#aec7e8\",\"#98df8a\",\"#1f77b4\",\"#2ca02c\",\"#aec7e8\",\"#ffbb78\",\"#ffbb78\",\"#ffbb78\",\"#ff7f0e\",\"#2ca02c\",\"#1f77b4\",\"#1f77b4\",\"#1f77b4\",\"#ff7f0e\",\"#1f77b4\",\"#1f77b4\",\"#1f77b4\",\"#98df8a\",\"#98df8a\",\"#1f77b4\",\"#ff7f0e\",\"#1f77b4\",\"#1f77b4\",\"#1f77b4\",\"#1f77b4\",\"#ff7f0e\",\"#ff7f0e\",\"#ffbb78\",\"#98df8a\",\"#ff7f0e\",\"#ff7f0e\",\"#98df8a\",\"#2ca02c\",\"#1f77b4\",\"#2ca02c\",\"#ff7f0e\",\"#1f77b4\",\"#ffbb78\",\"#ffbb78\",\"#2ca02c\",\"#ffbb78\",\"#ffbb78\",\"#aec7e8\",\"#1f77b4\",\"#1f77b4\",\"#ffbb78\",\"#aec7e8\",\"#aec7e8\",\"#ff7f0e\",\"#ffbb78\",\"#ff7f0e\",\"#ffbb78\",\"#98df8a\",\"#98df8a\",\"#ff7f0e\",\"#98df8a\",\"#98df8a\",\"#ffbb78\",\"#1f77b4\",\"#98df8a\",\"#98df8a\",\"#aec7e8\",\"#aec7e8\",\"#aec7e8\",\"#ffbb78\",\"#ffbb78\",\"#ffbb78\",\"#1f77b4\",\"#1f77b4\",\"#aec7e8\",\"#aec7e8\",\"#1f77b4\",\"#aec7e8\",\"#ffbb78\",\"#ffbb78\",\"#ffbb78\",\"#98df8a\",\"#98df8a\",\"#2ca02c\",\"#ffbb78\",\"#1f77b4\",\"#ff7f0e\",\"#1f77b4\",\"#1f77b4\",\"#ff7f0e\",\"#ffbb78\",\"#1f77b4\",\"#98df8a\",\"#ffbb78\",\"#1f77b4\",\"#ffbb78\",\"#1f77b4\",\"#1f77b4\",\"#ffbb78\",\"#1f77b4\",\"#ffbb78\",\"#ffbb78\",\"#1f77b4\",\"#1f77b4\",\"#1f77b4\",\"#1f77b4\",\"#ff7f0e\",\"#98df8a\",\"#ff7f0e\",\"#1f77b4\",\"#1f77b4\",\"#98df8a\",\"#ff7f0e\",\"#ffbb78\",\"#1f77b4\",\"#aec7e8\",\"#1f77b4\",\"#1f77b4\",\"#1f77b4\",\"#aec7e8\",\"#98df8a\",\"#ffbb78\",\"#ffbb78\",\"#aec7e8\",\"#2ca02c\",\"#1f77b4\",\"#ff7f0e\",\"#1f77b4\",\"#ff7f0e\",\"#98df8a\",\"#98df8a\",\"#1f77b4\",\"#ff7f0e\",\"#ff7f0e\",\"#ffbb78\",\"#ff7f0e\",\"#1f77b4\",\"#aec7e8\",\"#aec7e8\",\"#aec7e8\",\"#aec7e8\",\"#aec7e8\",\"#1f77b4\",\"#aec7e8\",\"#aec7e8\",\"#ffbb78\",\"#98df8a\",\"#aec7e8\",\"#98df8a\",\"#1f77b4\",\"#aec7e8\",\"#1f77b4\",\"#1f77b4\",\"#ffbb78\",\"#ffbb78\",\"#ff7f0e\",\"#ffbb78\",\"#ff7f0e\",\"#ffbb78\",\"#98df8a\",\"#1f77b4\",\"#1f77b4\",\"#ffbb78\",\"#98df8a\",\"#98df8a\",\"#ffbb78\",\"#2ca02c\",\"#ffbb78\",\"#1f77b4\",\"#1f77b4\",\"#ffbb78\",\"#1f77b4\",\"#ff7f0e\",\"#aec7e8\",\"#1f77b4\",\"#aec7e8\",\"#98df8a\",\"#98df8a\",\"#aec7e8\",\"#aec7e8\",\"#ffbb78\",\"#aec7e8\",\"#98df8a\",\"#ffbb78\",\"#aec7e8\",\"#ff7f0e\",\"#1f77b4\",\"#1f77b4\",\"#ffbb78\",\"#ffbb78\",\"#1f77b4\",\"#ff7f0e\",\"#2ca02c\",\"#ff7f0e\",\"#ff7f0e\",\"#1f77b4\",\"#ffbb78\",\"#ffbb78\",\"#ffbb78\",\"#ffbb78\",\"#ffbb78\",\"#1f77b4\",\"#1f77b4\",\"#1f77b4\",\"#ff7f0e\",\"#ff7f0e\",\"#ff7f0e\",\"#ffbb78\",\"#ffbb78\",\"#ff7f0e\",\"#1f77b4\",\"#ff7f0e\",\"#1f77b4\",\"#1f77b4\",\"#ff7f0e\",\"#ffbb78\",\"#ff7f0e\",\"#98df8a\",\"#ffbb78\",\"#1f77b4\",\"#1f77b4\",\"#ffbb78\",\"#ff7f0e\",\"#ff7f0e\",\"#ffbb78\",\"#1f77b4\",\"#ffbb78\",\"#1f77b4\",\"#1f77b4\",\"#ff7f0e\",\"#ffbb78\",\"#2ca02c\",\"#ff7f0e\",\"#ff7f0e\",\"#ffbb78\",\"#ffbb78\",\"#ffbb78\",\"#98df8a\",\"#ff7f0e\",\"#98df8a\",\"#2ca02c\",\"#ff7f0e\",\"#ff7f0e\",\"#ff7f0e\",\"#ff7f0e\",\"#aec7e8\",\"#aec7e8\",\"#aec7e8\",\"#1f77b4\",\"#1f77b4\",\"#ffbb78\",\"#98df8a\",\"#98df8a\",\"#ffbb78\",\"#1f77b4\",\"#ffbb78\",\"#ffbb78\",\"#2ca02c\",\"#ffbb78\",\"#aec7e8\",\"#ff7f0e\",\"#1f77b4\",\"#2ca02c\",\"#ff7f0e\",\"#1f77b4\",\"#1f77b4\",\"#1f77b4\",\"#98df8a\",\"#1f77b4\",\"#1f77b4\",\"#98df8a\",\"#1f77b4\",\"#aec7e8\",\"#ffbb78\",\"#ff7f0e\",\"#ffbb78\",\"#1f77b4\",\"#aec7e8\",\"#98df8a\",\"#ff7f0e\",\"#aec7e8\",\"#1f77b4\",\"#ffbb78\",\"#ffbb78\",\"#aec7e8\",\"#ffbb78\",\"#aec7e8\",\"#ff7f0e\",\"#1f77b4\",\"#1f77b4\",\"#aec7e8\",\"#1f77b4\",\"#1f77b4\",\"#1f77b4\",\"#98df8a\",\"#ffbb78\",\"#1f77b4\",\"#98df8a\",\"#ffbb78\",\"#ff7f0e\",\"#2ca02c\",\"#1f77b4\",\"#ff7f0e\",\"#ffbb78\",\"#1f77b4\",\"#98df8a\",\"#ffbb78\",\"#1f77b4\",\"#ffbb78\",\"#2ca02c\",\"#98df8a\",\"#ff7f0e\",\"#aec7e8\",\"#1f77b4\",\"#aec7e8\",\"#aec7e8\",\"#aec7e8\",\"#98df8a\",\"#aec7e8\",\"#ff7f0e\",\"#1f77b4\",\"#aec7e8\",\"#2ca02c\",\"#2ca02c\",\"#ffbb78\",\"#ff7f0e\",\"#aec7e8\",\"#2ca02c\",\"#98df8a\",\"#aec7e8\",\"#1f77b4\",\"#1f77b4\",\"#ff7f0e\",\"#ff7f0e\",\"#ffbb78\",\"#ffbb78\",\"#ffbb78\",\"#ffbb78\",\"#ff7f0e\",\"#98df8a\",\"#98df8a\",\"#98df8a\",\"#1f77b4\",\"#ff7f0e\",\"#ffbb78\",\"#1f77b4\",\"#ffbb78\",\"#ffbb78\",\"#ffbb78\",\"#2ca02c\",\"#1f77b4\",\"#ff7f0e\",\"#ff7f0e\",\"#1f77b4\",\"#ffbb78\",\"#98df8a\",\"#ff7f0e\",\"#ffbb78\",\"#ffbb78\",\"#ffbb78\",\"#1f77b4\",\"#ffbb78\",\"#ffbb78\",\"#1f77b4\",\"#98df8a\",\"#98df8a\",\"#ffbb78\",\"#1f77b4\",\"#98df8a\",\"#ff7f0e\",\"#ff7f0e\",\"#1f77b4\",\"#ff7f0e\",\"#ff7f0e\",\"#ff7f0e\",\"#ffbb78\",\"#1f77b4\",\"#ff7f0e\",\"#ff7f0e\",\"#aec7e8\",\"#aec7e8\",\"#1f77b4\",\"#98df8a\",\"#1f77b4\",\"#98df8a\",\"#ffbb78\",\"#ffbb78\",\"#98df8a\",\"#ffbb78\",\"#98df8a\",\"#1f77b4\",\"#ffbb78\",\"#98df8a\",\"#98df8a\",\"#1f77b4\",\"#ffbb78\",\"#ffbb78\",\"#1f77b4\",\"#aec7e8\",\"#aec7e8\",\"#ffbb78\",\"#aec7e8\",\"#aec7e8\",\"#aec7e8\",\"#98df8a\",\"#1f77b4\",\"#1f77b4\",\"#ffbb78\",\"#ffbb78\",\"#1f77b4\",\"#ffbb78\",\"#1f77b4\",\"#ffbb78\",\"#98df8a\",\"#ffbb78\",\"#98df8a\",\"#ffbb78\",\"#aec7e8\",\"#1f77b4\",\"#1f77b4\",\"#ffbb78\",\"#98df8a\",\"#1f77b4\",\"#ffbb78\",\"#1f77b4\",\"#1f77b4\",\"#1f77b4\",\"#1f77b4\",\"#aec7e8\",\"#aec7e8\",\"#98df8a\",\"#1f77b4\",\"#98df8a\",\"#ff7f0e\",\"#98df8a\",\"#1f77b4\",\"#1f77b4\",\"#ffbb78\",\"#98df8a\",\"#ffbb78\",\"#ffbb78\",\"#ff7f0e\",\"#1f77b4\",\"#ff7f0e\",\"#ff7f0e\",\"#ff7f0e\",\"#98df8a\",\"#1f77b4\",\"#2ca02c\",\"#1f77b4\",\"#ff7f0e\",\"#aec7e8\",\"#aec7e8\",\"#aec7e8\",\"#ff7f0e\",\"#ff7f0e\",\"#1f77b4\",\"#aec7e8\",\"#1f77b4\",\"#ffbb78\",\"#aec7e8\",\"#aec7e8\",\"#aec7e8\",\"#ff7f0e\",\"#ffbb78\",\"#ffbb78\",\"#1f77b4\",\"#ffbb78\",\"#1f77b4\",\"#98df8a\",\"#ffbb78\",\"#ffbb78\",\"#ff7f0e\",\"#ffbb78\",\"#1f77b4\",\"#ffbb78\",\"#ff7f0e\",\"#98df8a\",\"#1f77b4\",\"#1f77b4\",\"#1f77b4\",\"#ff7f0e\",\"#ffbb78\",\"#1f77b4\",\"#1f77b4\",\"#ffbb78\",\"#1f77b4\",\"#ff7f0e\",\"#1f77b4\",\"#aec7e8\",\"#ff7f0e\",\"#ffbb78\",\"#ffbb78\",\"#ffbb78\",\"#ff7f0e\",\"#1f77b4\",\"#1f77b4\",\"#98df8a\",\"#1f77b4\",\"#98df8a\",\"#ff7f0e\",\"#ffbb78\",\"#1f77b4\",\"#ff7f0e\",\"#1f77b4\",\"#1f77b4\",\"#98df8a\",\"#ffbb78\",\"#1f77b4\",\"#ffbb78\",\"#1f77b4\",\"#1f77b4\",\"#ffbb78\",\"#ff7f0e\",\"#ffbb78\",\"#ff7f0e\",\"#ff7f0e\",\"#2ca02c\",\"#1f77b4\",\"#98df8a\",\"#ffbb78\",\"#ffbb78\",\"#1f77b4\",\"#ff7f0e\",\"#98df8a\",\"#98df8a\",\"#1f77b4\",\"#ffbb78\",\"#1f77b4\",\"#1f77b4\",\"#ff7f0e\",\"#ffbb78\",\"#1f77b4\",\"#1f77b4\",\"#1f77b4\",\"#aec7e8\",\"#ff7f0e\",\"#1f77b4\",\"#ff7f0e\",\"#98df8a\",\"#1f77b4\",\"#1f77b4\",\"#ffbb78\",\"#ffbb78\",\"#ffbb78\",\"#1f77b4\",\"#ffbb78\",\"#1f77b4\",\"#98df8a\",\"#aec7e8\",\"#1f77b4\",\"#1f77b4\",\"#ff7f0e\",\"#98df8a\",\"#98df8a\",\"#98df8a\",\"#1f77b4\",\"#1f77b4\",\"#98df8a\",\"#1f77b4\",\"#ff7f0e\",\"#ffbb78\",\"#2ca02c\",\"#ffbb78\",\"#1f77b4\",\"#98df8a\",\"#1f77b4\",\"#aec7e8\",\"#aec7e8\",\"#aec7e8\",\"#ff7f0e\",\"#ff7f0e\",\"#1f77b4\",\"#98df8a\",\"#1f77b4\",\"#ffbb78\",\"#ff7f0e\",\"#98df8a\",\"#98df8a\",\"#ff7f0e\",\"#aec7e8\",\"#1f77b4\",\"#2ca02c\",\"#98df8a\",\"#98df8a\",\"#ff7f0e\",\"#ffbb78\",\"#ffbb78\",\"#ff7f0e\",\"#2ca02c\",\"#ff7f0e\",\"#1f77b4\",\"#ffbb78\",\"#ff7f0e\",\"#ffbb78\",\"#2ca02c\",\"#1f77b4\",\"#98df8a\",\"#ff7f0e\",\"#ff7f0e\",\"#ff7f0e\",\"#98df8a\",\"#ff7f0e\",\"#ff7f0e\",\"#ff7f0e\",\"#ffbb78\",\"#1f77b4\",\"#1f77b4\",\"#1f77b4\",\"#1f77b4\",\"#aec7e8\",\"#ff7f0e\",\"#ffbb78\",\"#98df8a\",\"#aec7e8\",\"#ff7f0e\",\"#ffbb78\",\"#1f77b4\",\"#1f77b4\",\"#1f77b4\",\"#ffbb78\",\"#ff7f0e\",\"#ff7f0e\",\"#1f77b4\",\"#ff7f0e\",\"#1f77b4\",\"#98df8a\",\"#1f77b4\",\"#98df8a\",\"#ff7f0e\",\"#1f77b4\",\"#ff7f0e\",\"#ffbb78\",\"#98df8a\",\"#98df8a\",\"#1f77b4\",\"#98df8a\",\"#ff7f0e\",\"#98df8a\",\"#1f77b4\",\"#98df8a\",\"#ffbb78\",\"#ffbb78\",\"#1f77b4\",\"#ff7f0e\",\"#ff7f0e\",\"#1f77b4\",\"#1f77b4\",\"#98df8a\",\"#1f77b4\",\"#ffbb78\",\"#aec7e8\",\"#1f77b4\",\"#ffbb78\",\"#ff7f0e\",\"#2ca02c\",\"#ffbb78\",\"#ffbb78\",\"#ff7f0e\",\"#ff7f0e\",\"#ff7f0e\",\"#ff7f0e\",\"#ff7f0e\",\"#2ca02c\",\"#ff7f0e\",\"#1f77b4\",\"#2ca02c\",\"#ff7f0e\",\"#1f77b4\",\"#ffbb78\",\"#ffbb78\",\"#ff7f0e\",\"#1f77b4\",\"#ff7f0e\",\"#1f77b4\",\"#ffbb78\",\"#2ca02c\",\"#98df8a\",\"#98df8a\",\"#1f77b4\",\"#1f77b4\",\"#98df8a\",\"#ffbb78\",\"#1f77b4\",\"#1f77b4\",\"#ffbb78\",\"#ffbb78\",\"#1f77b4\",\"#1f77b4\",\"#ff7f0e\",\"#ff7f0e\",\"#1f77b4\",\"#ffbb78\",\"#ff7f0e\",\"#ff7f0e\",\"#ff7f0e\",\"#1f77b4\",\"#1f77b4\",\"#ff7f0e\",\"#98df8a\",\"#1f77b4\",\"#2ca02c\",\"#ff7f0e\",\"#ff7f0e\",\"#ff7f0e\",\"#1f77b4\",\"#2ca02c\",\"#ffbb78\",\"#2ca02c\",\"#1f77b4\",\"#1f77b4\",\"#ffbb78\",\"#ffbb78\",\"#1f77b4\",\"#ffbb78\",\"#1f77b4\",\"#2ca02c\",\"#1f77b4\",\"#2ca02c\",\"#ff7f0e\",\"#98df8a\",\"#1f77b4\",\"#98df8a\",\"#ff7f0e\",\"#98df8a\",\"#1f77b4\",\"#ffbb78\",\"#ff7f0e\",\"#ffbb78\",\"#98df8a\",\"#1f77b4\",\"#98df8a\",\"#ff7f0e\",\"#98df8a\",\"#ff7f0e\",\"#ff7f0e\",\"#ff7f0e\",\"#1f77b4\",\"#98df8a\",\"#98df8a\",\"#ff7f0e\",\"#aec7e8\",\"#aec7e8\",\"#98df8a\",\"#ff7f0e\",\"#ff7f0e\",\"#ff7f0e\",\"#ffbb78\",\"#98df8a\",\"#ff7f0e\",\"#98df8a\",\"#98df8a\",\"#ffbb78\",\"#ff7f0e\",\"#98df8a\",\"#98df8a\",\"#ff7f0e\",\"#98df8a\",\"#ffbb78\",\"#ff7f0e\",\"#ffbb78\",\"#ffbb78\",\"#98df8a\",\"#2ca02c\",\"#ff7f0e\",\"#1f77b4\",\"#ff7f0e\",\"#98df8a\",\"#ff7f0e\",\"#aec7e8\",\"#ffbb78\",\"#ffbb78\",\"#1f77b4\",\"#1f77b4\",\"#2ca02c\",\"#1f77b4\",\"#1f77b4\",\"#98df8a\",\"#aec7e8\",\"#98df8a\",\"#ffbb78\",\"#98df8a\",\"#98df8a\",\"#1f77b4\",\"#ffbb78\",\"#98df8a\",\"#98df8a\",\"#98df8a\",\"#ff7f0e\",\"#1f77b4\",\"#1f77b4\",\"#ffbb78\",\"#2ca02c\",\"#ffbb78\",\"#ff7f0e\",\"#ffbb78\",\"#1f77b4\",\"#ff7f0e\",\"#ff7f0e\",\"#1f77b4\",\"#98df8a\",\"#1f77b4\",\"#1f77b4\",\"#98df8a\",\"#ff7f0e\",\"#1f77b4\",\"#1f77b4\",\"#ff7f0e\",\"#ff7f0e\",\"#ffbb78\",\"#1f77b4\",\"#1f77b4\",\"#2ca02c\",\"#aec7e8\",\"#aec7e8\",\"#aec7e8\",\"#ff7f0e\",\"#aec7e8\",\"#98df8a\",\"#1f77b4\",\"#ffbb78\",\"#98df8a\",\"#ffbb78\",\"#1f77b4\",\"#1f77b4\",\"#ffbb78\",\"#2ca02c\",\"#ffbb78\",\"#ffbb78\",\"#2ca02c\",\"#1f77b4\",\"#2ca02c\",\"#ffbb78\",\"#ff7f0e\",\"#ffbb78\",\"#ff7f0e\",\"#1f77b4\",\"#aec7e8\",\"#ff7f0e\",\"#aec7e8\",\"#aec7e8\",\"#2ca02c\",\"#ff7f0e\",\"#ffbb78\",\"#98df8a\",\"#ff7f0e\",\"#98df8a\",\"#1f77b4\",\"#1f77b4\",\"#ff7f0e\",\"#1f77b4\",\"#1f77b4\",\"#1f77b4\",\"#ffbb78\",\"#ffbb78\",\"#aec7e8\",\"#1f77b4\",\"#ffbb78\",\"#1f77b4\",\"#98df8a\",\"#ff7f0e\",\"#ff7f0e\",\"#ff7f0e\",\"#1f77b4\",\"#1f77b4\",\"#aec7e8\",\"#aec7e8\",\"#aec7e8\",\"#aec7e8\",\"#ffbb78\",\"#ff7f0e\",\"#1f77b4\",\"#1f77b4\",\"#ffbb78\",\"#ff7f0e\",\"#ff7f0e\",\"#1f77b4\",\"#98df8a\",\"#ffbb78\",\"#1f77b4\",\"#ffbb78\",\"#98df8a\",\"#1f77b4\",\"#ffbb78\",\"#1f77b4\",\"#1f77b4\",\"#2ca02c\",\"#ff7f0e\",\"#1f77b4\",\"#1f77b4\",\"#1f77b4\",\"#1f77b4\",\"#ff7f0e\",\"#ff7f0e\",\"#ffbb78\",\"#ffbb78\",\"#1f77b4\",\"#ffbb78\",\"#ffbb78\",\"#98df8a\",\"#ffbb78\",\"#98df8a\",\"#1f77b4\",\"#1f77b4\",\"#98df8a\",\"#1f77b4\",\"#2ca02c\",\"#98df8a\",\"#ffbb78\",\"#ff7f0e\",\"#ff7f0e\",\"#1f77b4\",\"#ffbb78\",\"#1f77b4\",\"#ff7f0e\",\"#ff7f0e\",\"#aec7e8\",\"#aec7e8\",\"#ffbb78\",\"#98df8a\",\"#1f77b4\",\"#1f77b4\",\"#1f77b4\",\"#2ca02c\",\"#98df8a\",\"#1f77b4\",\"#ffbb78\",\"#98df8a\",\"#ff7f0e\",\"#ff7f0e\",\"#ffbb78\",\"#ff7f0e\",\"#98df8a\",\"#aec7e8\",\"#ffbb78\",\"#1f77b4\",\"#2ca02c\",\"#98df8a\",\"#1f77b4\",\"#1f77b4\",\"#98df8a\",\"#ff7f0e\",\"#ffbb78\",\"#aec7e8\",\"#aec7e8\",\"#1f77b4\",\"#ff7f0e\",\"#98df8a\",\"#98df8a\",\"#ff7f0e\",\"#ffbb78\",\"#ff7f0e\",\"#ff7f0e\",\"#ffbb78\",\"#1f77b4\",\"#ffbb78\",\"#ffbb78\",\"#ff7f0e\",\"#ff7f0e\",\"#ff7f0e\",\"#ff7f0e\",\"#1f77b4\",\"#ff7f0e\",\"#2ca02c\",\"#1f77b4\",\"#ff7f0e\",\"#1f77b4\",\"#ffbb78\",\"#1f77b4\",\"#2ca02c\",\"#ffbb78\",\"#ffbb78\",\"#ff7f0e\",\"#ffbb78\",\"#ffbb78\",\"#1f77b4\",\"#ffbb78\",\"#ff7f0e\",\"#ff7f0e\",\"#aec7e8\",\"#ffbb78\",\"#1f77b4\",\"#ff7f0e\",\"#ffbb78\",\"#ffbb78\",\"#ffbb78\",\"#98df8a\",\"#aec7e8\",\"#ffbb78\",\"#ffbb78\",\"#aec7e8\",\"#1f77b4\",\"#aec7e8\",\"#aec7e8\",\"#aec7e8\",\"#1f77b4\",\"#aec7e8\",\"#aec7e8\",\"#aec7e8\",\"#1f77b4\",\"#aec7e8\",\"#aec7e8\",\"#aec7e8\",\"#aec7e8\",\"#ff7f0e\",\"#aec7e8\",\"#ff7f0e\",\"#aec7e8\",\"#98df8a\",\"#aec7e8\",\"#aec7e8\",\"#ffbb78\",\"#ffbb78\",\"#2ca02c\",\"#aec7e8\",\"#ffbb78\",\"#ffbb78\",\"#98df8a\",\"#1f77b4\",\"#ffbb78\",\"#ffbb78\",\"#ffbb78\",\"#ff7f0e\",\"#ff7f0e\",\"#ff7f0e\",\"#ff7f0e\",\"#1f77b4\",\"#1f77b4\",\"#ffbb78\",\"#98df8a\",\"#1f77b4\",\"#ffbb78\",\"#98df8a\",\"#ffbb78\",\"#1f77b4\",\"#ffbb78\",\"#98df8a\",\"#98df8a\",\"#1f77b4\",\"#98df8a\",\"#1f77b4\",\"#1f77b4\",\"#2ca02c\",\"#2ca02c\",\"#1f77b4\",\"#ffbb78\",\"#ffbb78\",\"#1f77b4\",\"#1f77b4\",\"#1f77b4\",\"#1f77b4\",\"#1f77b4\",\"#ff7f0e\",\"#ff7f0e\",\"#1f77b4\",\"#ff7f0e\",\"#ffbb78\",\"#ff7f0e\",\"#1f77b4\",\"#1f77b4\",\"#ffbb78\",\"#1f77b4\",\"#98df8a\",\"#98df8a\",\"#ff7f0e\",\"#1f77b4\",\"#98df8a\",\"#ff7f0e\",\"#ff7f0e\",\"#ffbb78\",\"#ffbb78\",\"#98df8a\",\"#98df8a\",\"#1f77b4\",\"#98df8a\",\"#ffbb78\",\"#ffbb78\",\"#1f77b4\",\"#1f77b4\",\"#98df8a\",\"#ffbb78\",\"#ff7f0e\",\"#ffbb78\",\"#ffbb78\",\"#ffbb78\",\"#ff7f0e\",\"#ffbb78\",\"#ff7f0e\",\"#aec7e8\",\"#98df8a\",\"#ff7f0e\",\"#aec7e8\",\"#98df8a\",\"#1f77b4\",\"#98df8a\",\"#98df8a\",\"#98df8a\",\"#98df8a\",\"#1f77b4\",\"#aec7e8\",\"#1f77b4\",\"#ff7f0e\",\"#ffbb78\",\"#ff7f0e\",\"#ff7f0e\",\"#ffbb78\",\"#1f77b4\",\"#ff7f0e\",\"#ff7f0e\",\"#ff7f0e\",\"#1f77b4\",\"#ff7f0e\",\"#ffbb78\",\"#ffbb78\",\"#ff7f0e\",\"#1f77b4\",\"#aec7e8\",\"#98df8a\",\"#ffbb78\",\"#1f77b4\",\"#1f77b4\",\"#98df8a\",\"#98df8a\",\"#1f77b4\",\"#ffbb78\",\"#ff7f0e\",\"#ffbb78\",\"#ffbb78\",\"#ffbb78\",\"#98df8a\",\"#aec7e8\",\"#98df8a\",\"#aec7e8\",\"#ff7f0e\",\"#1f77b4\",\"#ffbb78\",\"#1f77b4\",\"#1f77b4\",\"#aec7e8\",\"#ff7f0e\",\"#1f77b4\",\"#1f77b4\",\"#1f77b4\",\"#ffbb78\",\"#98df8a\",\"#98df8a\",\"#ff7f0e\",\"#ffbb78\",\"#ff7f0e\",\"#ff7f0e\",\"#1f77b4\",\"#ffbb78\",\"#ffbb78\",\"#ff7f0e\"],\"shape\":[2224],\"dtype\":\"object\",\"order\":\"little\"}]]}}},\"view\":{\"type\":\"object\",\"name\":\"CDSView\",\"id\":\"p1055\",\"attributes\":{\"filter\":{\"type\":\"object\",\"name\":\"AllIndices\",\"id\":\"p1056\"}}},\"glyph\":{\"type\":\"object\",\"name\":\"Scatter\",\"id\":\"p1051\",\"attributes\":{\"x\":{\"type\":\"field\",\"field\":\"x\"},\"y\":{\"type\":\"field\",\"field\":\"y\"},\"line_color\":{\"type\":\"field\",\"field\":\"line_color\"},\"fill_color\":{\"type\":\"field\",\"field\":\"fill_color\"},\"hatch_color\":{\"type\":\"field\",\"field\":\"hatch_color\"}}},\"nonselection_glyph\":{\"type\":\"object\",\"name\":\"Scatter\",\"id\":\"p1052\",\"attributes\":{\"x\":{\"type\":\"field\",\"field\":\"x\"},\"y\":{\"type\":\"field\",\"field\":\"y\"},\"line_color\":{\"type\":\"field\",\"field\":\"line_color\"},\"line_alpha\":{\"type\":\"value\",\"value\":0.1},\"fill_color\":{\"type\":\"field\",\"field\":\"fill_color\"},\"fill_alpha\":{\"type\":\"value\",\"value\":0.1},\"hatch_color\":{\"type\":\"field\",\"field\":\"hatch_color\"},\"hatch_alpha\":{\"type\":\"value\",\"value\":0.1}}},\"muted_glyph\":{\"type\":\"object\",\"name\":\"Scatter\",\"id\":\"p1053\",\"attributes\":{\"x\":{\"type\":\"field\",\"field\":\"x\"},\"y\":{\"type\":\"field\",\"field\":\"y\"},\"line_color\":{\"type\":\"field\",\"field\":\"line_color\"},\"line_alpha\":{\"type\":\"value\",\"value\":0.2},\"fill_color\":{\"type\":\"field\",\"field\":\"fill_color\"},\"fill_alpha\":{\"type\":\"value\",\"value\":0.2},\"hatch_color\":{\"type\":\"field\",\"field\":\"hatch_color\"},\"hatch_alpha\":{\"type\":\"value\",\"value\":0.2}}}}}],\"toolbar\":{\"type\":\"object\",\"name\":\"Toolbar\",\"id\":\"p1008\",\"attributes\":{\"tools\":[{\"type\":\"object\",\"name\":\"PanTool\",\"id\":\"p1033\"},{\"type\":\"object\",\"name\":\"WheelZoomTool\",\"id\":\"p1034\"},{\"type\":\"object\",\"name\":\"BoxZoomTool\",\"id\":\"p1035\",\"attributes\":{\"overlay\":{\"type\":\"object\",\"name\":\"BoxAnnotation\",\"id\":\"p1036\",\"attributes\":{\"syncable\":false,\"level\":\"overlay\",\"visible\":false,\"left_units\":\"canvas\",\"right_units\":\"canvas\",\"bottom_units\":\"canvas\",\"top_units\":\"canvas\",\"line_color\":\"black\",\"line_alpha\":1.0,\"line_width\":2,\"line_dash\":[4,4],\"fill_color\":\"lightgrey\",\"fill_alpha\":0.5}}}},{\"type\":\"object\",\"name\":\"SaveTool\",\"id\":\"p1037\"},{\"type\":\"object\",\"name\":\"ResetTool\",\"id\":\"p1038\"},{\"type\":\"object\",\"name\":\"HelpTool\",\"id\":\"p1039\"}]}},\"left\":[{\"type\":\"object\",\"name\":\"LinearAxis\",\"id\":\"p1026\",\"attributes\":{\"ticker\":{\"type\":\"object\",\"name\":\"BasicTicker\",\"id\":\"p1027\",\"attributes\":{\"mantissas\":[1,2,5]}},\"formatter\":{\"type\":\"object\",\"name\":\"BasicTickFormatter\",\"id\":\"p1029\"},\"major_label_policy\":{\"type\":\"object\",\"name\":\"AllLabels\",\"id\":\"p1028\"}}}],\"below\":[{\"type\":\"object\",\"name\":\"LinearAxis\",\"id\":\"p1019\",\"attributes\":{\"ticker\":{\"type\":\"object\",\"name\":\"BasicTicker\",\"id\":\"p1020\",\"attributes\":{\"mantissas\":[1,2,5]}},\"formatter\":{\"type\":\"object\",\"name\":\"BasicTickFormatter\",\"id\":\"p1022\"},\"major_label_policy\":{\"type\":\"object\",\"name\":\"AllLabels\",\"id\":\"p1021\"}}}],\"center\":[{\"type\":\"object\",\"name\":\"Grid\",\"id\":\"p1025\",\"attributes\":{\"axis\":{\"id\":\"p1019\"}}},{\"type\":\"object\",\"name\":\"Grid\",\"id\":\"p1032\",\"attributes\":{\"dimension\":1,\"axis\":{\"id\":\"p1026\"}}},{\"type\":\"object\",\"name\":\"Label\",\"id\":\"p1057\",\"attributes\":{\"text\":\"billing practices issues\",\"text_color\":\"#1f77b4\",\"x\":23.78249168395996,\"y\":-2.551285982131958}},{\"type\":\"object\",\"name\":\"Label\",\"id\":\"p1058\",\"attributes\":{\"text\":\"data cap caps\",\"text_color\":\"#aec7e8\",\"x\":-8.071499824523926,\"y\":37.45140075683594}},{\"type\":\"object\",\"name\":\"Label\",\"id\":\"p1059\",\"attributes\":{\"text\":\"speed throttling price\",\"text_color\":\"#ff7f0e\",\"x\":-0.4498399794101715,\"y\":-3.8865013122558594}},{\"type\":\"object\",\"name\":\"Label\",\"id\":\"p1060\",\"attributes\":{\"text\":\"xfinity customer complaint\",\"text_color\":\"#ffbb78\",\"x\":-6.252898693084717,\"y\":0.428481787443161}},{\"type\":\"object\",\"name\":\"Label\",\"id\":\"p1061\",\"attributes\":{\"text\":\"issues email account\",\"text_color\":\"#2ca02c\",\"x\":7.934770584106445,\"y\":-5.931020259857178}},{\"type\":\"object\",\"name\":\"Label\",\"id\":\"p1062\",\"attributes\":{\"text\":\"speeds charges pricing\",\"text_color\":\"#98df8a\",\"x\":-24.365758895874023,\"y\":-9.738927841186523}}]}}],\"callbacks\":{\"type\":\"map\"}}};\n  const render_items = [{\"docid\":\"ae70ac69-a30b-423f-bf44-71bc39b828f4\",\"roots\":{\"p1001\":\"e08a1837-f292-4d8f-9876-2664022532d2\"},\"root_ids\":[\"p1001\"]}];\n  root.Bokeh.embed.embed_items_notebook(docs_json, render_items);\n  }\n  if (root.Bokeh !== undefined) {\n    embed_document(root);\n  } else {\n    let attempts = 0;\n    const timer = setInterval(function(root) {\n      if (root.Bokeh !== undefined) {\n        clearInterval(timer);\n        embed_document(root);\n      } else {\n        attempts++;\n        if (attempts > 100) {\n          clearInterval(timer);\n          console.log(\"Bokeh: ERROR: Unable to run BokehJS code because BokehJS library is missing\");\n        }\n      }\n    }, 10, root)\n  }\n})(window);",
            "application/vnd.bokehjs_exec.v0+json": ""
          },
          "metadata": {
            "application/vnd.bokehjs_exec.v0+json": {
              "id": "p1001"
            }
          },
          "output_type": "display_data"
        }
      ],
      "source": [
        "from bokeh.plotting import figure, output_file, show\n",
        "from bokeh.models import Label\n",
        "from bokeh.io import output_notebook\n",
        "output_notebook()\n",
        "plt.rcParams['figure.figsize'] = [16, 10]\n",
        "\n",
        "top_3_words_lsa = get_top_n_words(3, lsa_keys, small_document_term_matrix, small_count_vectorizer)\n",
        "lsa_mean_topic_vectors = get_mean_topic_vectors(lsa_keys, tsne_lsa_vectors)\n",
        "\n",
        "plot = figure(title=\"t-SNE Clustering of {} LSA Topics\".format(n_topics), min_width=700, height=500)\n",
        "plot.scatter(x=tsne_lsa_vectors[:,0], y=tsne_lsa_vectors[:,1], color=colormap[lsa_keys])\n",
        "\n",
        "for t in range(n_topics):\n",
        "    label = Label(x=lsa_mean_topic_vectors[t][0], y=lsa_mean_topic_vectors[t][1],\n",
        "                  text=top_3_words_lsa[t], text_color=colormap[t])\n",
        "    plot.add_layout(label)\n",
        "\n",
        "show(plot)"
      ]
    },
    {
      "cell_type": "markdown",
      "metadata": {
        "id": "rcfOfquUGdhs"
      },
      "source": [
        "LSA를 이용한 분류 결과가 애매하다. LDA를 한번 시도해본다."
      ]
    },
    {
      "cell_type": "markdown",
      "metadata": {
        "id": "11tMJ7mKGk4x"
      },
      "source": [
        "#### Latent Dirichilet Allocation (LDA)"
      ]
    },
    {
      "cell_type": "code",
      "execution_count": 30,
      "metadata": {
        "id": "i94JGsBpE-vh"
      },
      "outputs": [],
      "source": [
        "from sklearn.decomposition import LatentDirichletAllocation\n",
        "\n",
        "lda_model = LatentDirichletAllocation(n_components=n_topics, learning_method='online',\n",
        "                                          random_state=0, verbose=0)\n",
        "lda_topic_matrix = lda_model.fit_transform(small_document_term_matrix)"
      ]
    },
    {
      "cell_type": "code",
      "execution_count": 31,
      "metadata": {
        "id": "N5Waeh_kG87x"
      },
      "outputs": [],
      "source": [
        "lda_keys = get_keys(lda_topic_matrix)\n",
        "lda_categories, lda_counts = keys_to_counts(lda_keys)"
      ]
    },
    {
      "cell_type": "code",
      "execution_count": 32,
      "metadata": {
        "colab": {
          "base_uri": "https://localhost:8080/"
        },
        "id": "49zWWOsvHBM3",
        "outputId": "936f8d02-8b15-4a7f-f0b2-3bb6e23c5853"
      },
      "outputs": [
        {
          "name": "stdout",
          "output_type": "stream",
          "text": [
            "Topic 1:  billing issues xfinity issue tv customer speed home unable security\n",
            "Topic 2:  billing practices unfair customer price hbo xfinity speed business terrible\n",
            "Topic 3:  poor connection customer false phone billing business quality lied new\n",
            "Topic 4:  cable charged charge charging bait fee contract switch fees failure\n",
            "Topic 5:  data cap caps speed charges usage throttling overage billing fraudulent\n",
            "Topic 6:  complaint speeds slow pricing billing problems advertised lack deceptive speed\n"
          ]
        }
      ],
      "source": [
        "top_n_words_lda = get_top_n_words(10, lda_keys, small_document_term_matrix, small_count_vectorizer)\n",
        "\n",
        "for i in range(len(top_n_words_lda)):\n",
        "    print(\"Topic {}: \".format(i+1), top_n_words_lda[i])"
      ]
    },
    {
      "cell_type": "markdown",
      "metadata": {
        "id": "9DRJWjWFjGeJ"
      },
      "source": [
        "1번 그룹 : 요금 청구 프로세스 관련 문의(xfinity, tv, home, security 등..)\n",
        "\n",
        "2번 그룹 : 요금 정책 불만(계약 내용이 불공정하다 등..)\n",
        "\n",
        "3번 그룹 : 연결 문제로 인한 속도저하\n",
        "\n",
        "4번 그룹 : 청구 요금 관련 문제\n",
        "\n",
        "5번 그룹 : 데이터 용량 관련 문의\n",
        "\n",
        "6번그룹 : 속도 관련 일반적 불만사함"
      ]
    },
    {
      "cell_type": "code",
      "execution_count": 33,
      "metadata": {
        "colab": {
          "base_uri": "https://localhost:8080/",
          "height": 407
        },
        "id": "5zdRjgR2HDLU",
        "outputId": "7e7e49f3-baf5-4440-9be2-c2bdd92a5b02"
      },
      "outputs": [
        {
          "data": {
            "image/png": "[encoded data removed]",
            "text/plain": [
              "<Figure size 1500x400 with 1 Axes>"
            ]
          },
          "metadata": {},
          "output_type": "display_data"
        }
      ],
      "source": [
        "top_3_words = get_top_n_words(3, lda_keys, small_document_term_matrix, small_count_vectorizer)\n",
        "labels = ['Topic {}: \\n'.format(i) + top_3_words[i] for i in lda_categories]\n",
        "\n",
        "fig, ax = plt.subplots(figsize=(15,4))\n",
        "ax.bar(lda_categories, lda_counts);\n",
        "ax.set_xticks(lda_categories);\n",
        "ax.set_xticklabels(labels);\n",
        "ax.set_title('LDA topic counts');\n",
        "ax.set_ylabel('Number of complaints');"
      ]
    },
    {
      "cell_type": "markdown",
      "metadata": {
        "id": "KIXm7kh9HWHC"
      },
      "source": [
        "> t-SNE를 이용한 평가"
      ]
    },
    {
      "cell_type": "code",
      "execution_count": 34,
      "metadata": {
        "colab": {
          "base_uri": "https://localhost:8080/"
        },
        "id": "mCYLNEAbHIUq",
        "outputId": "aae38e83-0f8c-42fa-bbc4-7464a7bef62b"
      },
      "outputs": [
        {
          "name": "stdout",
          "output_type": "stream",
          "text": [
            "[t-SNE] Computing 151 nearest neighbors...\n",
            "[t-SNE] Indexed 2224 samples in 0.002s...\n",
            "[t-SNE] Computed neighbors for 2224 samples in 0.102s...\n",
            "[t-SNE] Computed conditional probabilities for sample 1000 / 2224\n",
            "[t-SNE] Computed conditional probabilities for sample 2000 / 2224\n",
            "[t-SNE] Computed conditional probabilities for sample 2224 / 2224\n",
            "[t-SNE] Mean sigma: 0.000000\n",
            "[t-SNE] KL divergence after 250 iterations with early exaggeration: 53.916489\n",
            "[t-SNE] KL divergence after 2000 iterations: 0.306577\n"
          ]
        }
      ],
      "source": [
        "tsne_lda_model = TSNE(n_components=2, perplexity=50, learning_rate=100,\n",
        "                        n_iter=2000, verbose=1, random_state=0, angle=0.75)\n",
        "tsne_lda_vectors = tsne_lda_model.fit_transform(lda_topic_matrix)"
      ]
    },
    {
      "cell_type": "code",
      "execution_count": 35,
      "metadata": {
        "colab": {
          "base_uri": "https://localhost:8080/",
          "height": 517
        },
        "id": "1i-t2M55HT_m",
        "outputId": "9da7321c-2ad9-46b9-c0df-79ea6d456477"
      },
      "outputs": [
        {
          "data": {
            "text/html": [
              "\n",
              "  <div id=\"ced35a82-2916-41fb-9897-44a111e0ea84\" data-root-id=\"p1143\" style=\"display: contents;\"></div>\n"
            ]
          },
          "metadata": {},
          "output_type": "display_data"
        },
        {
          "data": {
            "application/javascript": "(function(root) {\n  function embed_document(root) {\n  const docs_json = {\"a05e971e-095a-4c74-8c2c-4b330dd16dcb\":{\"version\":\"3.1.1\",\"title\":\"Bokeh Application\",\"defs\":[],\"roots\":[{\"type\":\"object\",\"name\":\"Figure\",\"id\":\"p1143\",\"attributes\":{\"height\":500,\"min_width\":700,\"x_range\":{\"type\":\"object\",\"name\":\"DataRange1d\",\"id\":\"p1144\"},\"y_range\":{\"type\":\"object\",\"name\":\"DataRange1d\",\"id\":\"p1145\"},\"x_scale\":{\"type\":\"object\",\"name\":\"LinearScale\",\"id\":\"p1157\"},\"y_scale\":{\"type\":\"object\",\"name\":\"LinearScale\",\"id\":\"p1159\"},\"title\":{\"type\":\"object\",\"name\":\"Title\",\"id\":\"p1146\",\"attributes\":{\"text\":\"t-SNE Clustering of 6 LDA Topics\"}},\"renderers\":[{\"type\":\"object\",\"name\":\"GlyphRenderer\",\"id\":\"p1196\",\"attributes\":{\"data_source\":{\"type\":\"object\",\"name\":\"ColumnDataSource\",\"id\":\"p1190\",\"attributes\":{\"selected\":{\"type\":\"object\",\"name\":\"Selection\",\"id\":\"p1191\",\"attributes\":{\"indices\":[],\"line_indices\":[]}},\"selection_policy\":{\"type\":\"object\",\"name\":\"UnionRenderers\",\"id\":\"p1192\"},\"data\":{\"type\":\"map\",\"entries\":[[\"x\",{\"type\":\"ndarray\",\"array\":{\"type\":\"bytes\",\"data\":\"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\"},\"shape\":[2224],\"dtype\":\"float32\",\"order\":\"little\"}],[\"y\",{\"type\":\"ndarray\",\"array\":{\"type\":\"bytes\",\"data\":\"krrXQFr3gUF0I+S/ihyEQVGZyUFC1i1BUn2OQTWVJcBtSMfAmSAbQqCWkEGCZojAre3rwXQj5L+XRgJCDjrhwS3yyMAq7ezBpbWEwYAbE0JEpNdARbdOwXQj5L+CCN/BaEaCQIg/00FKLYzBNhwbQsphKUGeLdJBSA9TwbDtRcHnoyVBwEc6wYtZAUIXeDg/cj57QIVdeEDEGxlBD/lEwvbxs0F/sYLBRGvNQV/x7MFplcLBnaWLwVdUzsFQKRBAWdMTQX4eE0LHeYC/vzbdwU9ny8EyTDrBv/t5QTltaMEv8R1BypEBQsRYnUF8AbS/G3ELQnIJkkCVG2JB6V4fQu/khsEt4B1Bp+PNQD71OEHip07AKxClwN5oa0BrL9XAAvY+QbDtRcF0I+S/nRVhwTm5akHPB3xB88MtwlnTE0E7KczBt8lqQUgPU8HGvNXBDT5kQcS+5kCw7UXBrR7SQdoWXcGMYs1B1iw6wWGUOkAfYspBpeUMQjYx1sGN8CJCFMLFQOHUjMGhOkdAqfeVQeheH0K7CoPBcIvawbDtRcEF/sLBXfnEwQBWh0ERXQBCEanwwRh8I0HI+r9ACgZeQYZ5jUCtfFpA1O7IwLDtRcHvvYBB772AQRV0i0FoPWDBWJMyQLDtRcF67+TB2hZdwQENHEF0I+S/4BYTQu5+cEEcAoXB2hZdwYIBzkB29TNBHp+AQX5DskHTJ2TBv/t5QUihq8GcNbTAWraMQX3y3cE5KylATERTwfX1x8DZk4JBj+tDwcyQcEG8HRDBtbCmQBFYTMIua+zBGd6uQfX1x8Ccz97B6InIwEmBa0EAcKLA9fXHwIjy8MFbChFAw3HNQbrG7cGuhx9CryDevxwiyEHufnBBW50RQlMcGUFRoh1BEF1FwtrNW0G41i/C4vDIwG8krcDXcdPBv/t5QakBSsJX2RZBfRobQr6ywUEppUdBmmrNQdakpsHfNdhArbZdQeDtCkFpcGpB9FiCwXmeZ0F0I57AH3yOQSnu7cHufnBBM8bcwQuy5MHufnBB7zrRwCkamz4Vf+m/puvCwQbMZkFhJLtB9sAPPpx0OUGg+v5A274hQR3KhMH2yUTCfAOOQRijaT9L2oxB8bDuwfGw7sG+ItnBshIHQvOycEDPIBtCjBEXQdJVIUHPB3xBROn2wWCXJsJlPrlBoSrRQVsP60FGU03C/1L8P2LsHEE/8N3BsKtDwQbc9r+lLRNCG0a5QUqkasH+gcjAfyovws446MGfjWrB6u7IwGWMH0IL+nlBD5+SQMnMaUDdAY6/W9HCwarS5MErEKXAHcqEwd+oEUJob89BjgFKwhAUE0L/IL9ArQAXQZkCBUEID4rBfErJwRWFMsKjICFBIOONwI485sHBFCDBW0oBQqgFr0HSbcBBDs64wfiUasE/QMjAqDh0wZ+NasEAv8JAihSlQDXW7cEAVodBpgySwJD/4sF2SsnBfErJwYbJisGa2LzBYA3SwY4ICz9M/Tg/OHELQq1gFEETYBlBIzq0QdUD1cCcdDlB6aakwKz0oT5Qc13B86+kQIhNAUKanIXBJTVjQfzeR0HtrpE/FXSLQQllKUEstuc+vt62QU4PksDEWkXCWkSVv/X1x8ANNOjBHRwZQXGTLsJBIBjBvmgtws446MHz16s/fErJwXEwCT7tmpBBUczVwWXQ8sEtmgFCA7FcwdKG/8BszM7BUBwZQSNrE0FFqhFCeVpFwnkgG0LQXrNBhFmOwZzfHUFXbc9B2iEIQieaikFKca0/tRI6P3wBtL9DoaZAnDW0wHxiNME0WYdBWHuOQXEwCT69XUM/pfRPwcSdncC2IBtCdCPkv0BME0LCcbZBYNDywZsP4cF0I+S/f/bdwdoWXcHBCSHBwQkhwbDtRcHYGYJBlaFqwa+f6EFlbtlBu98dQQx9wUEaX1XBGjI2wfRftEGfgX9B9fXHwFnTE0GamYFBsO1FwS1xC0IZCNs+oHmEQdjoL8I+POzBXLbXQJ6WyMGuIQhC6TBdwZMlTMA1ZDTAylQBQrMpwECkJrBBHEPxwZjU0sEXAcXBplA6wVYcMsIryV1BLEBgwb4ZG0IMedjBPDyyQdJwaMFz7gFCRwVPwTNaRcJXVM7Bhg7lwfL8Tz8M1DDCVVrxwVLYkkG9XUM/l+kjPo1ynUGhO7JBpLCRP2kSu0EZ48nBpLCRPyKjscCyrIFB7n5wQYDIXUGksJE/cRwbQpvj0kHgB9/BWZ0RQpc85sEGlJRBYOUBQlby7cEVhTLC4xwIQsyCq0HMyD/B5U9wQWvvhUCXPObBsjpZwRP5hsGfmPHBAWXPwYv9UUGQ/+LBXXgtwoZ5jUBIbcBBwVgBQkfyyMCQ653AIqOxwCxXbEBMqsnAPt9WwEaUEsCTJUzAm5OQQbYYx8HNgYq/oLGxQaSwkT/wEg5B2hZdwddx08EVdItBdCPkv50hCEIoAg5Ctd2uQVXTBEEbIshBGwvEQOdU8cH8+s/BX6DXQKBw5MFKJchBWy2DQAC74EEDAL3AKl62QSW6wkDuXh9CkyVMwM52yEEVhTLCuB9JQOPGAUJbLYNAzL2KwWvw8MF3h4XBbHeTv9CmkEFmemTB4DMCwFiAI0EFNzHA7JiGwfp42MGXPObB2hZdweUmh8GKRLJBt8b9P/pqS0GK8cjA7n5wQdpT30CI3R1BLHHTQd18jkE6FYdBsO1FwXtIOsEvjB9CMAeOQXxiNMHDpOBBlgFKwubs3cESFVtBaKi0Qdd5I0FeOOjAe5o+QTxFiL9Fbx3BNO1sQXdxcEEaY6/B0ZTCwZ5CZMHTPubBZNDywXQj5L+J1fLBdcLVwfMCh8GaLq9ByaclQWAutMExdG3B5/iNQX+xgsEPyCJBm8/ewcMej8AIoaTA2hZdwUngWEB2AgxA2rk8QLwnC0LL0gZAh5UUQZ1dRcKcR79BddxOwVBAXcGUnZ3Agb5vQR/+EULTSDLCH+8UQAc4TMENnoXBPgnLP75dRcLPB3xBZBudwBRLPEEpv9XBwpfWweS68MG/Nt3BbCYTQrlsz0F/SsnBfctkwQ/mTcEb3+XBK1LMQS+cbkGvsVzBIUxFwtEDh8EQDl5BdkrJwTed3EGACQVBIzKAQawmz8GgJs/BfHx5wXEl0EENaqTB1WnAQMYKUUDXcdPBd4rzP2lkuUHVBqFBPJXCwVTrdUBNbcBBsO1Fwfz6z8GbzeA/dkrJwSxhHkA1uBpA9JZ9v30v1sEz7AdCfVIpQVVG5MFZ0xNBkayBQWNIhUEdgW3BtY25QZG6ekHaFl3Bnx+nwTmYhECpGOO/+SPbQNoWXcFKBI5BycxpQIcgG0L6eNjB8s2LQD7cHUFZ0xNB2uOJP59vwEHTA0rC1EKIwcxaRcLaFl3BdCPkv1/Kd8G5cpJB/zSiwRswL8LJWsk/4V4fQgAx6MHSmoFBMPj2wVKencCxId3BqOEPQaURncDgTAhCrC+8QKL/jUGQinBBenswwiRYTcLW5gdCKl62QQ+VwsH19cfAC7MxwguzMcIgHBlBqsoHQrnZL0GbT3pBas0cQesy6MFESjvCkmmEwVnTE0HpK8JAJ0XJQTfr2sHc/VFBE+9WQLlH/z+0zM+/v1PwvzYqMcBZ0xNBtY25QbDtRcHOo/o+xZqRQHZmz0EdmORAOqIlQXtVI0GqU8c/P1qOwYUzF0GxGhNCdevJwGcwYUH5NmE/VIwfQv5Q0cCgVEzC+FiGwUe6sT/19cfA17mcQZzsBUEWFwBCVfoxwKMGh8FZ0xNBtHTJQXMg18FCYt6/v0Avwl2Fa0F7cR1AO9UEQXwBtL/qVXBB7n5wQbDtRcFGUlrBJprBP7CrQ8EEzLjBjWsOQsJxzUG1jJJA4wq+waL/q0FD1ZJB/PrPwSyMH0IblkdBpVsEwWbg4MGmxU7BnkJkwS7vyMD2U1zBJiRAQG8krcCoJjHCWpnkQAUcGUHMi29BzuOEQf4mTMHXs8LBYrfBQaCgpkAaOpjBjlOlwJHLkUAWFwBCY6guwhJCv0G0Pd3BuQU8wLoWxkBtqeZAmCqBQZgqgUH3QBvBJxzIQdH/asH31YBBQ6Z6QWQ6mMGAg6LB2hZdwTNd0z/X1OTBx8vCwcRhKUHrXh9CuQU8wCpetkF38eBB2+J/QYBNoMEIrYFBtj7kwcAKhD4H70dAUA2BQAV5qsHY6C/CPtHywZEBSsLFoZxA5+V0QJfF2D/nL15BBsxmQf/qycD6eNjBOHELQkkJr0HzAQVBk6jFwTusasFsElPBnkJkweFnOkGVG2JBMXecwKQUl8FOOMVASkGYwfhYhsHHFXtApRGdwHNCv8D3scJAnduUQSkCG0JvX8bBNlzAwLDtRcFZ0xNB13HTwSxrbcEU9MnBuz6mQQugasHHfY5BEDB0QUraysBGUlrBOhWHQWhqUkHQ24NBK1+IQIDkDELd8orBuorLwF4cGUHB4C9BRY6GwX1ULsJFbx3BewSOQTNof0EmaH9BgcWxwVG7xsHpCbFBR/LIwEP13UA2RLxAdCPkvwFYUcCx7pNBPUGCQewZfEG5F3xBJv7UwSb6REARXQBCVOAdQV2EIcL72y/CANkFQkZSWsGw7UXBe0m/QW8krcBAIxLAzoP2P+eRt8Bs86TB4tshQQQ5sUFenB5B9vYuwQcHYEFrGxlBRu6fwOT/AUJHOpjBWPfCwI4CzUHyyiBBH2sZQcbw+UBevVJAXYCHwXZKycF5dW3B6Ji+wOw55ME6B6RBNYtuQPSYkEGpQb9BfAG0vwAvE0KD5qtBO4sfQhnqlsG13g9B1F0FQceqxkCw2QFCpTdgwRoWx8EX5n3BTEELQRuge0Dsr6RARm3RwMRlLsJP/brBAgSoQRKencCGb4NAcb2lQOReH0JwHBtCZ31PQbKGX0B1JhNCtiAbQq47skExzR5AviYwwlW9UEA5R/HBOUfxwf9HrT9RVcPBVeZNwf0UssEgxD/BEiOnwbXn7cEdX9tBWhmOQLI878HvF2BA9fXHwDzdL8IxmrlBYfdSwOW4y8H1c7U9piEIQtKupkAwaW9BPR+nwRZfV8AbrYFBBsxmQe5U+kBruk7BMLxAQZEXXcFADM7BShyOwdPSkEAI6i7BKvTgQdf248HWXd9ADewHQvQi2cFdsvDBji7YQKie+r/nr5JBJtDJwZlHYUBLUYzA4ohAQPq4ZUH1rITBcIvawZqk4EGJ2wFCtSKnweQTjEBv2eXBujxpQRDER0HMbJ0/NwOJwVWmNUGEOR7BJfFDwR2t5kAPKaZBUCUNwIUkzsGFJM7BDZXCwVdUzsEQMHRBCDLeQTNeLcKvPllAU32NwT9k48F+ILxAQv2TQatxHcHvbpFAgMR5QUIcGUH660/B/EmYQQFlz8Hhr7jBQgAFQQMy3kHdbojBgi3owcd5gL9tMGFBJNjMQZRCm0E8ih9CsO1FwT+kwsFzTohBKlRFwqB5hEGw7UXBOw0XQd/kxMEF4MTBSFTxwQ6TnMCvJZLAjfhqwdQp78F8WkXCpF1FwqRdRcKkXUXChLTCQAXErEHlHAhC27ArQDfuokEf+JVBtXLZQdoTC0E0QRvBRd+UQUZSWsFCKnTByRq2QUZSWsFGUlrBRlJawQ/sncAeWVXBlNfIwJyszkEKVYLBhnPpwbDtRcG/PFZBsm7AQUZSWsHKA45BEZZwQUisA8EHnp3AsSicQNp9jkFqfY5Bf0T6QEZSWsESldzBwEc6wVn1AkFD9a5B6zLoweCvpECw7UXB+/YtwgXeqsH6eNjBKrDcwbDOL0GEVkJAoAaTQembhEAdMczAlBV7QEHnnEBdMVNAJXGDwQzg3sFyYVFA7IOHwUtdRcL3UpdAfA58QZsvYUGvOaDBMtulv/ppAUKI7jhBf0rJwYipasEU9MnBwi2Lvy0mHkHKLZ3ANXELQsNF6ME+IC7C7f1mwcn39sEGKmTBCWiYQbDtRcF5eJ1ADHknQeW0psBBIBjBsO1FwYSBh8ET7AdCyHuMQbCvpEDELdfBgb5vQV/6RMLlBNNB5SnDwZIZBMHcMoRASph5wYpW00FGUlrBRlJawbDtRcFCIdnBKl62QUvKvT8Rjn9AQ/nnwUZ7jkGw7UXBosFFQFk4zcB9dY3BVbLcwbjeyUEBGp3AZREXQSbEhcGdedjBy/IBQgK5y8EvPebB7pMiQRXEhcEQMHRBmHV5wcUc18HJuZJBdSFVQON1C0EBwpJACZwxQCjBfUG2cz5AIzq0QQiGTcB0BIfBas0cQeoIgcHqCIHBsKTgQbpdRcIo3NzBT4NQQOVdnkC3WMXBZkv+wIUFNcBjMmFBZ3yOQaAGk0EJraFADtshwbDtRcE1lMLBx4mNwZGLkkGpeY5Bc3cOwEc7lUAy26W/gi2lwChys8AnQ8RBvf7HwH0YxcF9L7ZBrVKYQTA9WUH19cfAD5XCwS0380A6FYdBRlJawUEgGMFAG+TBR+VoQK4XJMBwbPpAj6YxwFN9jcGgeYRB7zrRwFMBfEGgeYRB13HTwVnTE0ELrYFByliYQb7gvcHQ3yzCuyEIQpKLecGASb9B5ebHQbjyOUD1dcfBbSy2QZD/4sHE8eDBKJRWQaW1hMHD+G1Aw/htQJv39sFZ0xNB6ex6PkZSWsFugq8/uH+CQVw/z0HuecxBRlJaweqMf0E2ols+l5c3wccc18GvIN6/sO1FweeZ5kFBXxbALz3mwRV0i0Hk/sNBGMOSQSgaW0HNgYq/cGikwBCgq8EuJCpA1t/lwdRCiMG1jblB1eMhQhq0R0GumEZAlnQaQKZL1D8qWE3CKlhNwmt+KUFaqNFBDnljwRLiIUISIWNAfErJwdQpkkFrSWxAhIGHwcxlmEFEdZFB5SnDwU8IfEFbIJNBV9ReQPJrz0HomL7AIsWXwfbZhcGiIBtCRpspwZZ0GkBZ0xNBsNy3wXHkIUKJQF3B6JHCwcoatkGxsMFBBsrev+zRisGSGhNCuurJwJJUTMJPerlB5Mv/QdYVAEKO9/bBJv8EQbDtRcGgeYRBVlQWwcdHiEF7MyRAai25QVNW+kAASr9BaCaxQKZL1D+qLwJCTv2GwVV3E8BbUphBNR1xQSYz+EBjugdAvQWHwX2sgUGNpzFAjnXeP3szJEAYGd5AWdMTQS895sFiuBVB6yaFQbDtRcGHKw1Cj1W5wfewqkGOdd4/sO1FwVErKUG1MqZB0eljQQBvDkCmSeTB+51mQUCoasHRujDBsO1FwZHXyMA6FFBAynwMQNDbg0FCzuTBcPRPwQq7ej+bAUrCQlPLQQq7ej9PqsDBD88ewBEttMGHGhJCjf+mQAQ5sUHM3yzCAVDiP2NeH0Jd7LNBW8rWPwY9mMEXrnpB3jjowN/kxMFgWAXBWdMTQfavXMGACDfBqleIwOu/pkCw7UXBJCHIQQFQ4j/Vh5hBT+AdQWgK18GltYTBw3RtwTRBG8H2w2tBDNQwwrDtRcEzEypAAmmuvx40F0FEVaXAE/DdwSd52MEL3nXBgUOEQbCk4EFTfY3B/zHeQY4lzsFAIxLAv/t5QbwDicFJCa9B/kLEQZfOkkGGA5hBx3mAv1ioDEBreG1BjKyBQVnTE0EAxsfBIqOxwBrxLsG0NzJBRPWuQV8/oEEfq6k/kyVMwD152MGHlRRB2z6vQY3s7cG/Sb9BNVxVwV42AMHY5qW/bGjhQDMTKkDRvNO/BjZZQY5bfEEQcsjBas0cQUfyyMBy9NTBOhWHQbDtRcFZ0xNBMXRtwQlR9T9G7eBBBf7CwRRBgkGJfMjAwwEOQu0IF0GQaBZAPMn2wRcBxcEAb8tBkGgWQLINa0EEa39BZBudwNvif0GQdHFBpCawQRn4lUGw7UXBs4RxQZr1rkFpH3HB6Z8hQeGaXcFEEeTBfdWQQAn3rkD4lMLB1EKIwXIgG0Iuyz/BGsDVwcvnq0EXDRNBnkJkwXBs/z/P3slBhTUXQQfCfUDvedjBvzWCQP+lZkBYgwVA/6VmQMiTgkE5jWrBkuwOQvz6z8Gttl1BQQV7QSAaKUEV3a5BHhlbQezRisEb7NJBHG+bwNLbjMEXDyJBAWXPwW7+yUEjYVXBI2FVwRWFMsJrcMBB1MoBQpBoFkBglcLBAqNqwcFAG8HvXXxBlv6fwcUUusEIaUpAbe/LQXRhhEBmANvBHOgSQnEAjkGw7UXB0bzTv5Cyf0HiRi3CnTkrQHK6TsFrXo0/We5kwfXRP8Hk0PLBypXLwfcI8MFgBofB0tuMwTmehsHWGS/CQe9bQFnTE0GKWMRBXPpdQVZqi0HmzIdA/PrPwYlH5MFkOtzB1UrDwW90ikD9uQXBas8vQSV9AUJaXlXBWl5VwQtVXMFiIWdAyp2dwOUpw8E2VMPBLMLgQYysgUHrSb9BRQTBwYrO2sFxV4lABrIsQBWFMsL6Y7DAhtxQQMfB4EFZ0xNBAXPPwT9vwEFipF3BZazcwbo8aUElz9XBm8mFwdGUwsHimK/AoFjGwedte0GHeS7BVl4twvzCAMEkbA5CzERVQHXqB0IVOo5ATfFxQCSCMMIjOrRBkRsZQe/3asFmw3FAsO1FwTONlcFqzRxBv/t5QUqf0kHjU8PBYOyMQBAwdEG1TvFAsvoSQp5CZMFbFpRBsnmqP2rXyMBBIBjBENqlwHdpf0HoyOBB+HZVwY/300GtYL1AscN0QPzDhcHlBNNBFTqOQHY2gkHX8ThByogWwHFi4MH0z1FA+5ecwBU6jkBGUlrBNFmHQYGt5kCUGhtC0bzTv5YicEA0kqDAvmiGQPXRP8FAwH1BmquvwSlYTcL19cfAsfO8wF35xMGOLthAkt4xwmrhD8DhCoHByEyYQburpsH4JpLAvdfWwVsFpUF69N1Axt2EwUIqdMFkMXlBgj+UQcaTwsHBVLRB0bzTv1v/YsEd37NBBS7WwQHNHsBRNSHBR/LIwLmlsEEJyuTBZrnhPyOJhUCxJb1AsO1FwcosxsEOkNvB9IBtwTSjckHRvNO/+51mQVnTE0HL+VhAWdMTQYhzi0HzdDHCNvDIwBehykAWJtBBV1TOwStimb/2r6RA+eMhQnxKycE1lmLB1SjQwGN6qsHfMIdB2Ogvws8HfEGHGClBdXmzwHxiNMFZ0xNBIqOxwHCL2sHabDrBAhwZQfZvl8HmJ13BW9HCwToUUEDFdMlBBxL+PwFUKUF7SDrBV1TOwVJ9KMG1BLhB9qLbv/xRV8DqLsPBfkO/QbAjwUFH8sjAeWMpQZd0bcG9O8nA1QPVwDoVzUCPhdm/0qimwcRbmEDfFQBCU73MQfkYE0JnnplA3+TEwcgUmkBaA5dBaNDyweezZUFuhtdAPYUdQEli08Hc+YXBnzUXQYHdq0DhFFtB2D/PQXCL2sFvghlAZ5lRPztnkkEl4B1BhQaTQRKm50FR3GTB5Z0AwUT34EH/1+TBKnBrwepWucHYYjFB13HTweSCy7/RvNO/3WUWwHK4wkCODnxBzKclQfHgN75s70/BS49lQOGuZUGR5w9BhskNQnqIu0GsWkXCnkJkwcynJUGcdDlBsdSSQSjc3MGou07B4THeQS9y+kB6XUXCjjegwYtjZkE0KpJBRh2nwRVAyUGF8etAAfVPwYIRF0F/sYLB7U0TQgOipsHfYqlBy8vgQW+jq8FwJ/XBK27Gwd3Q8sHPCiHBRlJawQZZp0HSOllBBDmxQYRZjsHugs9BsCRrwUlw28HeKMPBiA4ywqVME0IhgLtB9qHlQaFdRcIPEClB8EbxQPkr3kG+AeO/NvwBQpDVL8KGgtFBwi2Lv6Chq8FnN4BA/+3awUPsAMEi9N5BrY4MwcgpC0KKc4I+Z5lRPwFlz8HHeYC/u3YuwfdVZ8EoBNPAsO1FwaXZ0kGS4V/BiBnHwX+I1sFucAnBwlzKQZr3Q8HlKcPB3xVbQXUnKUGIbYLB2SbOwW1Q27/7lSnBplEtwgDzOEEuMa9BZ15KQC94bUES+F9B1p/NQNX0M0GJTMRBNqIlQWuakEF/sYLBC95DwTxB5sF2SsnBWaWrwTIcG0LBnJxApRGdwE9ny8HYGYJB2BmCQRKencAM+lFBST1gwW4MhcFGNcdA9wjwwRcBxcGJl74/HwOXQSp0g8HEaclBZlLbvyFsc0H7nWZB4FFVwW5Xk0A7dNbBC6HkwdG807+w3uXB3yu4QWzGNkCexhfBnwSJwZlVgsFGUlrBf1rAQIdQ2cFa+ITBNOQGQXi8McK5K87BfpTCwUBKpb/VrM5Br8R6QNm3a0BRnqZA6zAPwBFRjMG7rDfBKbrrQGLy4EGeQmTBE1CvQS74lUEu+JVB61G+QLDnN7/7W8ZAOhWHQbI7WUGyO1lB0NuDQfRftEHRvNO/WdMTQWdHiEH10T/BhFmOwXEvysALDGPB5iI7QeugpkB9lMLBmd0NPqBX1sFnXkpAEDB0QY6aA8A8vom/hlfWwd/kxMHd9ONArEVTwSxC6MEmqMvBsWpgQbmvTsFQLQtClpXWPuaKh0FQcTPAWHbMQQ7+4MG+btnBlmcpQfkXsUBZ0xNBOIUhwsRxDMHJfNBBVS6nQT9k48GDPbJBdCYTQtMbGUEL+81A1ehDwZg2WUHJ5ojBSg9TwbDtRcHkOy3CqHrUwddx08FmZWZBR5mFQJvJhcGudrFBsIi0vzltaMHlKcPB1zTbwV+6y8Gj/ctBzETEQaCxsUGw7UXB2ovXQBoBU0CG9tLAx2zPQZtdRcLgAZdB+9Xcwd7XzEEVT2TBVX2OQUZSWsFuV5NAyZB5wTgnzsHSdG3BUammwQr/h8E/bslBdPWRQU8IfEHXcdPBZnBqQdJwaMFvJK3AFI0AQhSNAEJrXBHAX11SQIiir8GEJcFBLz3mwdG807+onvq/p+PNQJkprkCkl4PBg27AQSZYTcIMc8hBc0HhwRyIQMISgtBAQ8egQf2rwsEsA5dBRv2CQbSgq8HfkC+/JTVjQRr23cEUHeHB0fjdwaP/jUEn96TA9F+0QdVuz0H8QBvB44EhQUZSWsFGUlrBF6SkQRcdMcKXYYJBsO1FwZdhgkFkbIRARB4QwZHWfUHeLDrBB56dwNmqpsHf653AqeV5QR4+YMH18kPBE56dwCQ9h0EaFz9Bdkm/QUgOW0Gwq0PBQibGwUImxsGGeNTBFWKkwavwQcHGxi/CtY25QcnmiMFktiRB9fXHwKJJycHRws2/n41qwceiTsDzbx3B+VPDwexJv0EonqZAROTNQJ8wv0BW/Z/BUwNKwgUjn0FJPtm9wmAtwrsZksAvqulA/XjWwbccx0BUG5A9pJTCwd4bG0KYAUrCas0cQbObwUCeQmTBy+V9wdG807+Irg0+HfwtwnggG0JfNN5B9fXHwFvAbEB41fLBkyVMwJDZx0Clv9PAJf1QQWSXwsEYA5dBFYUywoeGH0LRvNO/Zy7TwDA1F0E+nF3B57dHQXvCqb+ftV1BQ8Y5wuisEUIGrLtAWdMTQWjYzEGFU4FBbicpQQchvEDbpV3BT6vlQfDbPEEgaH9BZvcaQY+A1sCZS5NBUNWiQXut5kCDYClBa9MHwPnZnMBTfY3Bv5ZmQbmbw8EOqnk/G7+SwKdfej7EWS3CjOU5wNG8079ofxLBRGKYQRgDSsJ8SsnBPEWIv3ZKycG3UE+/kvC3QfpjsMDA3ZRB6Ji+wDtMmEE0WYdBStrKwN5kNMDLQ9q/Q/nnwaCxsUHlKcPBQFalwAU9skHAAWFBjTaHwR/erkGG6HBB7m3NQW/rf0HKDhJChwGAQQdVXMGl6x9BgZ2QQX11LsFlbaq/ggzRwAXErEG7di7B/jqkvkCpZL+/L2FBrnaxQeUpw8H7UtBB33nYwaT6sMCcNbTABiqBQW3e5cEQIs7BDLRwQQ==\"},\"shape\":[2224],\"dtype\":\"float32\",\"order\":\"little\"}],[\"line_color\",{\"type\":\"ndarray\",\"array\":[\"#98df8a\",\"#ff7f0e\",\"#2ca02c\",\"#ff7f0e\",\"#ffbb78\",\"#2ca02c\",\"#2ca02c\",\"#2ca02c\",\"#2ca02c\",\"#ffbb78\",\"#ff7f0e\",\"#2ca02c\",\"#aec7e8\",\"#2ca02c\",\"#ff7f0e\",\"#98df8a\",\"#2ca02c\",\"#aec7e8\",\"#aec7e8\",\"#ffbb78\",\"#98df8a\",\"#aec7e8\",\"#2ca02c\",\"#aec7e8\",\"#1f77b4\",\"#ffbb78\",\"#aec7e8\",\"#ffbb78\",\"#1f77b4\",\"#ffbb78\",\"#2ca02c\",\"#2ca02c\",\"#1f77b4\",\"#2ca02c\",\"#ff7f0e\",\"#1f77b4\",\"#1f77b4\",\"#1f77b4\",\"#1f77b4\",\"#98df8a\",\"#ff7f0e\",\"#2ca02c\",\"#ffbb78\",\"#aec7e8\",\"#aec7e8\",\"#98df8a\",\"#aec7e8\",\"#1f77b4\",\"#1f77b4\",\"#ffbb78\",\"#1f77b4\",\"#aec7e8\",\"#98df8a\",\"#1f77b4\",\"#ffbb78\",\"#98df8a\",\"#2ca02c\",\"#ff7f0e\",\"#ff7f0e\",\"#1f77b4\",\"#ff7f0e\",\"#1f77b4\",\"#ffbb78\",\"#ffbb78\",\"#aec7e8\",\"#1f77b4\",\"#1f77b4\",\"#ffbb78\",\"#1f77b4\",\"#1f77b4\",\"#1f77b4\",\"#2ca02c\",\"#ffbb78\",\"#2ca02c\",\"#2ca02c\",\"#aec7e8\",\"#2ca02c\",\"#ff7f0e\",\"#98df8a\",\"#1f77b4\",\"#98df8a\",\"#2ca02c\",\"#2ca02c\",\"#aec7e8\",\"#2ca02c\",\"#2ca02c\",\"#2ca02c\",\"#ffbb78\",\"#2ca02c\",\"#ffbb78\",\"#2ca02c\",\"#1f77b4\",\"#ffbb78\",\"#ff7f0e\",\"#aec7e8\",\"#ffbb78\",\"#1f77b4\",\"#aec7e8\",\"#1f77b4\",\"#2ca02c\",\"#ffbb78\",\"#2ca02c\",\"#aec7e8\",\"#2ca02c\",\"#aec7e8\",\"#98df8a\",\"#2ca02c\",\"#ff7f0e\",\"#aec7e8\",\"#1f77b4\",\"#1f77b4\",\"#ffbb78\",\"#1f77b4\",\"#1f77b4\",\"#2ca02c\",\"#2ca02c\",\"#2ca02c\",\"#2ca02c\",\"#ff7f0e\",\"#2ca02c\",\"#1f77b4\",\"#2ca02c\",\"#aec7e8\",\"#2ca02c\",\"#1f77b4\",\"#2ca02c\",\"#ffbb78\",\"#ffbb78\",\"#2ca02c\",\"#2ca02c\",\"#1f77b4\",\"#ffbb78\",\"#2ca02c\",\"#ffbb78\",\"#98df8a\",\"#ffbb78\",\"#98df8a\",\"#2ca02c\",\"#2ca02c\",\"#98df8a\",\"#1f77b4\",\"#aec7e8\",\"#2ca02c\",\"#2ca02c\",\"#1f77b4\",\"#2ca02c\",\"#2ca02c\",\"#1f77b4\",\"#98df8a\",\"#aec7e8\",\"#ff7f0e\",\"#2ca02c\",\"#98df8a\",\"#2ca02c\",\"#2ca02c\",\"#2ca02c\",\"#2ca02c\",\"#aec7e8\",\"#1f77b4\",\"#ffbb78\",\"#aec7e8\",\"#ffbb78\",\"#1f77b4\",\"#ffbb78\",\"#ffbb78\",\"#ffbb78\",\"#1f77b4\",\"#1f77b4\",\"#98df8a\",\"#ffbb78\",\"#98df8a\",\"#2ca02c\",\"#2ca02c\",\"#aec7e8\",\"#ffbb78\",\"#98df8a\",\"#ffbb78\",\"#ffbb78\",\"#ff7f0e\",\"#ffbb78\",\"#ffbb78\",\"#aec7e8\",\"#ffbb78\",\"#ffbb78\",\"#aec7e8\",\"#ffbb78\",\"#2ca02c\",\"#ffbb78\",\"#2ca02c\",\"#2ca02c\",\"#aec7e8\",\"#ffbb78\",\"#98df8a\",\"#98df8a\",\"#ffbb78\",\"#2ca02c\",\"#1f77b4\",\"#1f77b4\",\"#aec7e8\",\"#ffbb78\",\"#ff7f0e\",\"#1f77b4\",\"#1f77b4\",\"#ffbb78\",\"#1f77b4\",\"#98df8a\",\"#98df8a\",\"#2ca02c\",\"#1f77b4\",\"#2ca02c\",\"#aec7e8\",\"#aec7e8\",\"#aec7e8\",\"#ff7f0e\",\"#1f77b4\",\"#ffbb78\",\"#aec7e8\",\"#1f77b4\",\"#ff7f0e\",\"#98df8a\",\"#98df8a\",\"#ff7f0e\",\"#ffbb78\",\"#ff7f0e\",\"#98df8a\",\"#1f77b4\",\"#1f77b4\",\"#98df8a\",\"#2ca02c\",\"#1f77b4\",\"#ffbb78\",\"#ff7f0e\",\"#2ca02c\",\"#2ca02c\",\"#98df8a\",\"#aec7e8\",\"#98df8a\",\"#2ca02c\",\"#ffbb78\",\"#1f77b4\",\"#1f77b4\",\"#1f77b4\",\"#1f77b4\",\"#aec7e8\",\"#aec7e8\",\"#1f77b4\",\"#98df8a\",\"#ffbb78\",\"#ffbb78\",\"#98df8a\",\"#ffbb78\",\"#1f77b4\",\"#aec7e8\",\"#ffbb78\",\"#aec7e8\",\"#98df8a\",\"#98df8a\",\"#1f77b4\",\"#2ca02c\",\"#aec7e8\",\"#1f77b4\",\"#ff7f0e\",\"#ff7f0e\",\"#ff7f0e\",\"#98df8a\",\"#2ca02c\",\"#2ca02c\",\"#aec7e8\",\"#98df8a\",\"#1f77b4\",\"#1f77b4\",\"#aec7e8\",\"#2ca02c\",\"#1f77b4\",\"#98df8a\",\"#98df8a\",\"#98df8a\",\"#aec7e8\",\"#98df8a\",\"#98df8a\",\"#1f77b4\",\"#1f77b4\",\"#ff7f0e\",\"#1f77b4\",\"#1f77b4\",\"#ff7f0e\",\"#2ca02c\",\"#1f77b4\",\"#2ca02c\",\"#1f77b4\",\"#1f77b4\",\"#1f77b4\",\"#ff7f0e\",\"#aec7e8\",\"#ffbb78\",\"#ffbb78\",\"#1f77b4\",\"#ff7f0e\",\"#ffbb78\",\"#1f77b4\",\"#ff7f0e\",\"#1f77b4\",\"#98df8a\",\"#1f77b4\",\"#2ca02c\",\"#aec7e8\",\"#1f77b4\",\"#98df8a\",\"#2ca02c\",\"#98df8a\",\"#aec7e8\",\"#1f77b4\",\"#98df8a\",\"#1f77b4\",\"#ff7f0e\",\"#98df8a\",\"#aec7e8\",\"#ff7f0e\",\"#2ca02c\",\"#2ca02c\",\"#98df8a\",\"#1f77b4\",\"#1f77b4\",\"#ffbb78\",\"#98df8a\",\"#ffbb78\",\"#ff7f0e\",\"#aec7e8\",\"#1f77b4\",\"#ffbb78\",\"#ff7f0e\",\"#ff7f0e\",\"#1f77b4\",\"#1f77b4\",\"#1f77b4\",\"#1f77b4\",\"#2ca02c\",\"#2ca02c\",\"#2ca02c\",\"#2ca02c\",\"#1f77b4\",\"#1f77b4\",\"#aec7e8\",\"#2ca02c\",\"#ffbb78\",\"#2ca02c\",\"#ffbb78\",\"#ff7f0e\",\"#aec7e8\",\"#98df8a\",\"#2ca02c\",\"#98df8a\",\"#2ca02c\",\"#2ca02c\",\"#2ca02c\",\"#2ca02c\",\"#2ca02c\",\"#2ca02c\",\"#ffbb78\",\"#ffbb78\",\"#1f77b4\",\"#ff7f0e\",\"#aec7e8\",\"#2ca02c\",\"#ff7f0e\",\"#2ca02c\",\"#2ca02c\",\"#1f77b4\",\"#2ca02c\",\"#2ca02c\",\"#ff7f0e\",\"#1f77b4\",\"#2ca02c\",\"#98df8a\",\"#aec7e8\",\"#98df8a\",\"#98df8a\",\"#ff7f0e\",\"#1f77b4\",\"#1f77b4\",\"#1f77b4\",\"#ff7f0e\",\"#1f77b4\",\"#ff7f0e\",\"#aec7e8\",\"#aec7e8\",\"#98df8a\",\"#1f77b4\",\"#98df8a\",\"#ffbb78\",\"#2ca02c\",\"#ffbb78\",\"#98df8a\",\"#ffbb78\",\"#98df8a\",\"#ff7f0e\",\"#1f77b4\",\"#98df8a\",\"#aec7e8\",\"#98df8a\",\"#1f77b4\",\"#98df8a\",\"#aec7e8\",\"#1f77b4\",\"#1f77b4\",\"#1f77b4\",\"#ff7f0e\",\"#ff7f0e\",\"#1f77b4\",\"#ff7f0e\",\"#98df8a\",\"#1f77b4\",\"#2ca02c\",\"#ff7f0e\",\"#ffbb78\",\"#ffbb78\",\"#1f77b4\",\"#ffbb78\",\"#ffbb78\",\"#aec7e8\",\"#ffbb78\",\"#aec7e8\",\"#ffbb78\",\"#ff7f0e\",\"#aec7e8\",\"#98df8a\",\"#ff7f0e\",\"#ffbb78\",\"#aec7e8\",\"#2ca02c\",\"#1f77b4\",\"#aec7e8\",\"#aec7e8\",\"#98df8a\",\"#aec7e8\",\"#aec7e8\",\"#1f77b4\",\"#98df8a\",\"#98df8a\",\"#1f77b4\",\"#ff7f0e\",\"#ff7f0e\",\"#2ca02c\",\"#2ca02c\",\"#2ca02c\",\"#1f77b4\",\"#2ca02c\",\"#1f77b4\",\"#1f77b4\",\"#1f77b4\",\"#ff7f0e\",\"#aec7e8\",\"#1f77b4\",\"#ff7f0e\",\"#1f77b4\",\"#ffbb78\",\"#2ca02c\",\"#aec7e8\",\"#ff7f0e\",\"#2ca02c\",\"#ff7f0e\",\"#ff7f0e\",\"#ff7f0e\",\"#1f77b4\",\"#ffbb78\",\"#1f77b4\",\"#aec7e8\",\"#aec7e8\",\"#98df8a\",\"#98df8a\",\"#ffbb78\",\"#1f77b4\",\"#98df8a\",\"#1f77b4\",\"#ff7f0e\",\"#ffbb78\",\"#ffbb78\",\"#1f77b4\",\"#ffbb78\",\"#98df8a\",\"#1f77b4\",\"#ff7f0e\",\"#1f77b4\",\"#aec7e8\",\"#aec7e8\",\"#98df8a\",\"#1f77b4\",\"#ff7f0e\",\"#aec7e8\",\"#1f77b4\",\"#1f77b4\",\"#1f77b4\",\"#98df8a\",\"#98df8a\",\"#aec7e8\",\"#2ca02c\",\"#98df8a\",\"#ffbb78\",\"#1f77b4\",\"#ffbb78\",\"#2ca02c\",\"#ffbb78\",\"#2ca02c\",\"#1f77b4\",\"#ffbb78\",\"#2ca02c\",\"#2ca02c\",\"#2ca02c\",\"#2ca02c\",\"#ffbb78\",\"#2ca02c\",\"#2ca02c\",\"#ff7f0e\",\"#98df8a\",\"#98df8a\",\"#1f77b4\",\"#ffbb78\",\"#1f77b4\",\"#2ca02c\",\"#ffbb78\",\"#2ca02c\",\"#2ca02c\",\"#2ca02c\",\"#2ca02c\",\"#2ca02c\",\"#aec7e8\",\"#98df8a\",\"#aec7e8\",\"#aec7e8\",\"#2ca02c\",\"#aec7e8\",\"#aec7e8\",\"#98df8a\",\"#ffbb78\",\"#1f77b4\",\"#aec7e8\",\"#2ca02c\",\"#2ca02c\",\"#2ca02c\",\"#1f77b4\",\"#98df8a\",\"#1f77b4\",\"#2ca02c\",\"#2ca02c\",\"#1f77b4\",\"#1f77b4\",\"#1f77b4\",\"#ff7f0e\",\"#1f77b4\",\"#1f77b4\",\"#98df8a\",\"#ff7f0e\",\"#aec7e8\",\"#1f77b4\",\"#2ca02c\",\"#ffbb78\",\"#ffbb78\",\"#98df8a\",\"#1f77b4\",\"#aec7e8\",\"#aec7e8\",\"#1f77b4\",\"#98df8a\",\"#ff7f0e\",\"#2ca02c\",\"#ffbb78\",\"#aec7e8\",\"#98df8a\",\"#aec7e8\",\"#aec7e8\",\"#ffbb78\",\"#ffbb78\",\"#98df8a\",\"#aec7e8\",\"#aec7e8\",\"#98df8a\",\"#ffbb78\",\"#ffbb78\",\"#2ca02c\",\"#98df8a\",\"#98df8a\",\"#ffbb78\",\"#98df8a\",\"#ffbb78\",\"#ffbb78\",\"#ffbb78\",\"#98df8a\",\"#98df8a\",\"#aec7e8\",\"#ffbb78\",\"#aec7e8\",\"#1f77b4\",\"#1f77b4\",\"#aec7e8\",\"#1f77b4\",\"#ff7f0e\",\"#ff7f0e\",\"#aec7e8\",\"#1f77b4\",\"#ff7f0e\",\"#2ca02c\",\"#aec7e8\",\"#1f77b4\",\"#98df8a\",\"#1f77b4\",\"#1f77b4\",\"#1f77b4\",\"#aec7e8\",\"#ff7f0e\",\"#ffbb78\",\"#98df8a\",\"#1f77b4\",\"#ff7f0e\",\"#2ca02c\",\"#aec7e8\",\"#ff7f0e\",\"#2ca02c\",\"#2ca02c\",\"#98df8a\",\"#1f77b4\",\"#1f77b4\",\"#2ca02c\",\"#2ca02c\",\"#2ca02c\",\"#1f77b4\",\"#ffbb78\",\"#98df8a\",\"#1f77b4\",\"#1f77b4\",\"#1f77b4\",\"#1f77b4\",\"#ff7f0e\",\"#98df8a\",\"#aec7e8\",\"#98df8a\",\"#2ca02c\",\"#2ca02c\",\"#aec7e8\",\"#ffbb78\",\"#98df8a\",\"#98df8a\",\"#1f77b4\",\"#ffbb78\",\"#aec7e8\",\"#2ca02c\",\"#98df8a\",\"#2ca02c\",\"#98df8a\",\"#ffbb78\",\"#2ca02c\",\"#ff7f0e\",\"#1f77b4\",\"#2ca02c\",\"#2ca02c\",\"#98df8a\",\"#98df8a\",\"#ff7f0e\",\"#ff7f0e\",\"#aec7e8\",\"#2ca02c\",\"#98df8a\",\"#98df8a\",\"#1f77b4\",\"#ff7f0e\",\"#ffbb78\",\"#1f77b4\",\"#1f77b4\",\"#aec7e8\",\"#98df8a\",\"#98df8a\",\"#1f77b4\",\"#1f77b4\",\"#ffbb78\",\"#aec7e8\",\"#1f77b4\",\"#1f77b4\",\"#1f77b4\",\"#1f77b4\",\"#1f77b4\",\"#1f77b4\",\"#1f77b4\",\"#ff7f0e\",\"#2ca02c\",\"#1f77b4\",\"#1f77b4\",\"#ffbb78\",\"#1f77b4\",\"#1f77b4\",\"#1f77b4\",\"#1f77b4\",\"#aec7e8\",\"#ffbb78\",\"#ffbb78\",\"#2ca02c\",\"#1f77b4\",\"#1f77b4\",\"#ffbb78\",\"#2ca02c\",\"#98df8a\",\"#98df8a\",\"#1f77b4\",\"#2ca02c\",\"#ff7f0e\",\"#1f77b4\",\"#ff7f0e\",\"#1f77b4\",\"#98df8a\",\"#1f77b4\",\"#ffbb78\",\"#aec7e8\",\"#1f77b4\",\"#98df8a\",\"#2ca02c\",\"#1f77b4\",\"#1f77b4\",\"#1f77b4\",\"#2ca02c\",\"#ffbb78\",\"#2ca02c\",\"#2ca02c\",\"#1f77b4\",\"#2ca02c\",\"#98df8a\",\"#ff7f0e\",\"#ffbb78\",\"#1f77b4\",\"#aec7e8\",\"#ff7f0e\",\"#1f77b4\",\"#aec7e8\",\"#ffbb78\",\"#ffbb78\",\"#2ca02c\",\"#98df8a\",\"#aec7e8\",\"#98df8a\",\"#2ca02c\",\"#ff7f0e\",\"#1f77b4\",\"#2ca02c\",\"#98df8a\",\"#1f77b4\",\"#1f77b4\",\"#1f77b4\",\"#2ca02c\",\"#2ca02c\",\"#aec7e8\",\"#ffbb78\",\"#1f77b4\",\"#98df8a\",\"#1f77b4\",\"#1f77b4\",\"#ff7f0e\",\"#98df8a\",\"#ff7f0e\",\"#aec7e8\",\"#1f77b4\",\"#1f77b4\",\"#2ca02c\",\"#ffbb78\",\"#ffbb78\",\"#2ca02c\",\"#ffbb78\",\"#98df8a\",\"#aec7e8\",\"#1f77b4\",\"#98df8a\",\"#98df8a\",\"#2ca02c\",\"#1f77b4\",\"#aec7e8\",\"#aec7e8\",\"#1f77b4\",\"#ffbb78\",\"#1f77b4\",\"#ff7f0e\",\"#ff7f0e\",\"#2ca02c\",\"#98df8a\",\"#ff7f0e\",\"#98df8a\",\"#1f77b4\",\"#1f77b4\",\"#1f77b4\",\"#1f77b4\",\"#98df8a\",\"#aec7e8\",\"#98df8a\",\"#1f77b4\",\"#1f77b4\",\"#1f77b4\",\"#ffbb78\",\"#ffbb78\",\"#2ca02c\",\"#98df8a\",\"#ff7f0e\",\"#ff7f0e\",\"#ffbb78\",\"#98df8a\",\"#2ca02c\",\"#2ca02c\",\"#98df8a\",\"#1f77b4\",\"#ffbb78\",\"#2ca02c\",\"#aec7e8\",\"#1f77b4\",\"#98df8a\",\"#98df8a\",\"#1f77b4\",\"#2ca02c\",\"#2ca02c\",\"#98df8a\",\"#ffbb78\",\"#ffbb78\",\"#aec7e8\",\"#2ca02c\",\"#2ca02c\",\"#1f77b4\",\"#aec7e8\",\"#2ca02c\",\"#98df8a\",\"#ff7f0e\",\"#2ca02c\",\"#2ca02c\",\"#ffbb78\",\"#2ca02c\",\"#2ca02c\",\"#2ca02c\",\"#ffbb78\",\"#2ca02c\",\"#1f77b4\",\"#ff7f0e\",\"#aec7e8\",\"#2ca02c\",\"#1f77b4\",\"#ffbb78\",\"#aec7e8\",\"#98df8a\",\"#2ca02c\",\"#2ca02c\",\"#ffbb78\",\"#ffbb78\",\"#aec7e8\",\"#98df8a\",\"#ff7f0e\",\"#2ca02c\",\"#98df8a\",\"#1f77b4\",\"#2ca02c\",\"#1f77b4\",\"#ffbb78\",\"#ff7f0e\",\"#ff7f0e\",\"#ff7f0e\",\"#aec7e8\",\"#1f77b4\",\"#ff7f0e\",\"#1f77b4\",\"#98df8a\",\"#98df8a\",\"#ff7f0e\",\"#2ca02c\",\"#2ca02c\",\"#ffbb78\",\"#2ca02c\",\"#1f77b4\",\"#1f77b4\",\"#2ca02c\",\"#98df8a\",\"#1f77b4\",\"#ff7f0e\",\"#1f77b4\",\"#aec7e8\",\"#ffbb78\",\"#1f77b4\",\"#2ca02c\",\"#ff7f0e\",\"#98df8a\",\"#2ca02c\",\"#ffbb78\",\"#1f77b4\",\"#ffbb78\",\"#ffbb78\",\"#1f77b4\",\"#98df8a\",\"#98df8a\",\"#2ca02c\",\"#2ca02c\",\"#98df8a\",\"#ff7f0e\",\"#1f77b4\",\"#ff7f0e\",\"#ff7f0e\",\"#1f77b4\",\"#ffbb78\",\"#98df8a\",\"#ffbb78\",\"#aec7e8\",\"#ffbb78\",\"#1f77b4\",\"#1f77b4\",\"#ff7f0e\",\"#aec7e8\",\"#aec7e8\",\"#ff7f0e\",\"#aec7e8\",\"#1f77b4\",\"#1f77b4\",\"#2ca02c\",\"#98df8a\",\"#98df8a\",\"#ff7f0e\",\"#2ca02c\",\"#1f77b4\",\"#1f77b4\",\"#ffbb78\",\"#ffbb78\",\"#1f77b4\",\"#1f77b4\",\"#ffbb78\",\"#ffbb78\",\"#ffbb78\",\"#1f77b4\",\"#98df8a\",\"#1f77b4\",\"#aec7e8\",\"#aec7e8\",\"#1f77b4\",\"#aec7e8\",\"#aec7e8\",\"#aec7e8\",\"#aec7e8\",\"#98df8a\",\"#aec7e8\",\"#ffbb78\",\"#1f77b4\",\"#aec7e8\",\"#1f77b4\",\"#2ca02c\",\"#98df8a\",\"#ff7f0e\",\"#1f77b4\",\"#98df8a\",\"#aec7e8\",\"#ff7f0e\",\"#1f77b4\",\"#2ca02c\",\"#98df8a\",\"#1f77b4\",\"#ff7f0e\",\"#ffbb78\",\"#2ca02c\",\"#aec7e8\",\"#ffbb78\",\"#1f77b4\",\"#98df8a\",\"#aec7e8\",\"#1f77b4\",\"#aec7e8\",\"#ff7f0e\",\"#98df8a\",\"#2ca02c\",\"#ff7f0e\",\"#aec7e8\",\"#aec7e8\",\"#ffbb78\",\"#1f77b4\",\"#ffbb78\",\"#98df8a\",\"#1f77b4\",\"#2ca02c\",\"#1f77b4\",\"#ffbb78\",\"#aec7e8\",\"#aec7e8\",\"#ff7f0e\",\"#ff7f0e\",\"#98df8a\",\"#1f77b4\",\"#98df8a\",\"#ffbb78\",\"#ffbb78\",\"#1f77b4\",\"#aec7e8\",\"#ffbb78\",\"#1f77b4\",\"#1f77b4\",\"#2ca02c\",\"#ff7f0e\",\"#1f77b4\",\"#98df8a\",\"#98df8a\",\"#aec7e8\",\"#aec7e8\",\"#ffbb78\",\"#ff7f0e\",\"#98df8a\",\"#1f77b4\",\"#aec7e8\",\"#98df8a\",\"#1f77b4\",\"#ffbb78\",\"#2ca02c\",\"#1f77b4\",\"#ffbb78\",\"#1f77b4\",\"#aec7e8\",\"#ff7f0e\",\"#aec7e8\",\"#98df8a\",\"#ffbb78\",\"#ff7f0e\",\"#aec7e8\",\"#aec7e8\",\"#1f77b4\",\"#ff7f0e\",\"#ffbb78\",\"#ff7f0e\",\"#ffbb78\",\"#2ca02c\",\"#98df8a\",\"#1f77b4\",\"#98df8a\",\"#2ca02c\",\"#2ca02c\",\"#aec7e8\",\"#98df8a\",\"#98df8a\",\"#aec7e8\",\"#2ca02c\",\"#1f77b4\",\"#98df8a\",\"#aec7e8\",\"#98df8a\",\"#98df8a\",\"#98df8a\",\"#98df8a\",\"#98df8a\",\"#ffbb78\",\"#ff7f0e\",\"#1f77b4\",\"#ff7f0e\",\"#2ca02c\",\"#ffbb78\",\"#ffbb78\",\"#2ca02c\",\"#ffbb78\",\"#2ca02c\",\"#aec7e8\",\"#ff7f0e\",\"#2ca02c\",\"#2ca02c\",\"#2ca02c\",\"#2ca02c\",\"#aec7e8\",\"#2ca02c\",\"#ffbb78\",\"#2ca02c\",\"#aec7e8\",\"#2ca02c\",\"#ffbb78\",\"#ff7f0e\",\"#2ca02c\",\"#2ca02c\",\"#2ca02c\",\"#2ca02c\",\"#2ca02c\",\"#1f77b4\",\"#2ca02c\",\"#2ca02c\",\"#2ca02c\",\"#2ca02c\",\"#aec7e8\",\"#2ca02c\",\"#2ca02c\",\"#ff7f0e\",\"#aec7e8\",\"#1f77b4\",\"#2ca02c\",\"#98df8a\",\"#aec7e8\",\"#98df8a\",\"#aec7e8\",\"#ffbb78\",\"#1f77b4\",\"#ffbb78\",\"#1f77b4\",\"#2ca02c\",\"#1f77b4\",\"#1f77b4\",\"#1f77b4\",\"#98df8a\",\"#aec7e8\",\"#1f77b4\",\"#98df8a\",\"#98df8a\",\"#1f77b4\",\"#ff7f0e\",\"#2ca02c\",\"#98df8a\",\"#2ca02c\",\"#ff7f0e\",\"#ffbb78\",\"#98df8a\",\"#2ca02c\",\"#98df8a\",\"#1f77b4\",\"#1f77b4\",\"#2ca02c\",\"#ff7f0e\",\"#aec7e8\",\"#98df8a\",\"#98df8a\",\"#98df8a\",\"#98df8a\",\"#ff7f0e\",\"#2ca02c\",\"#1f77b4\",\"#ffbb78\",\"#2ca02c\",\"#2ca02c\",\"#2ca02c\",\"#98df8a\",\"#ff7f0e\",\"#aec7e8\",\"#1f77b4\",\"#98df8a\",\"#ffbb78\",\"#98df8a\",\"#ffbb78\",\"#aec7e8\",\"#1f77b4\",\"#1f77b4\",\"#aec7e8\",\"#ffbb78\",\"#2ca02c\",\"#2ca02c\",\"#2ca02c\",\"#aec7e8\",\"#ff7f0e\",\"#1f77b4\",\"#1f77b4\",\"#aec7e8\",\"#2ca02c\",\"#2ca02c\",\"#1f77b4\",\"#2ca02c\",\"#aec7e8\",\"#aec7e8\",\"#ff7f0e\",\"#2ca02c\",\"#aec7e8\",\"#aec7e8\",\"#98df8a\",\"#ff7f0e\",\"#98df8a\",\"#aec7e8\",\"#1f77b4\",\"#aec7e8\",\"#ffbb78\",\"#aec7e8\",\"#98df8a\",\"#1f77b4\",\"#1f77b4\",\"#2ca02c\",\"#1f77b4\",\"#1f77b4\",\"#ff7f0e\",\"#1f77b4\",\"#ff7f0e\",\"#1f77b4\",\"#98df8a\",\"#1f77b4\",\"#aec7e8\",\"#aec7e8\",\"#ff7f0e\",\"#98df8a\",\"#aec7e8\",\"#1f77b4\",\"#1f77b4\",\"#98df8a\",\"#2ca02c\",\"#1f77b4\",\"#ff7f0e\",\"#2ca02c\",\"#ffbb78\",\"#1f77b4\",\"#1f77b4\",\"#2ca02c\",\"#aec7e8\",\"#aec7e8\",\"#ff7f0e\",\"#2ca02c\",\"#1f77b4\",\"#1f77b4\",\"#2ca02c\",\"#1f77b4\",\"#2ca02c\",\"#ff7f0e\",\"#2ca02c\",\"#aec7e8\",\"#ff7f0e\",\"#ff7f0e\",\"#ffbb78\",\"#2ca02c\",\"#aec7e8\",\"#2ca02c\",\"#2ca02c\",\"#2ca02c\",\"#2ca02c\",\"#98df8a\",\"#1f77b4\",\"#2ca02c\",\"#2ca02c\",\"#1f77b4\",\"#aec7e8\",\"#2ca02c\",\"#2ca02c\",\"#ff7f0e\",\"#2ca02c\",\"#aec7e8\",\"#1f77b4\",\"#ff7f0e\",\"#ff7f0e\",\"#aec7e8\",\"#98df8a\",\"#ff7f0e\",\"#aec7e8\",\"#ffbb78\",\"#ff7f0e\",\"#1f77b4\",\"#98df8a\",\"#ff7f0e\",\"#98df8a\",\"#98df8a\",\"#ffbb78\",\"#aec7e8\",\"#1f77b4\",\"#1f77b4\",\"#98df8a\",\"#1f77b4\",\"#1f77b4\",\"#2ca02c\",\"#1f77b4\",\"#2ca02c\",\"#ffbb78\",\"#ffbb78\",\"#2ca02c\",\"#2ca02c\",\"#ff7f0e\",\"#2ca02c\",\"#98df8a\",\"#1f77b4\",\"#2ca02c\",\"#ffbb78\",\"#1f77b4\",\"#aec7e8\",\"#ff7f0e\",\"#ff7f0e\",\"#ffbb78\",\"#1f77b4\",\"#1f77b4\",\"#1f77b4\",\"#98df8a\",\"#1f77b4\",\"#98df8a\",\"#aec7e8\",\"#ff7f0e\",\"#ffbb78\",\"#ffbb78\",\"#1f77b4\",\"#1f77b4\",\"#1f77b4\",\"#98df8a\",\"#98df8a\",\"#ffbb78\",\"#ffbb78\",\"#98df8a\",\"#ffbb78\",\"#1f77b4\",\"#98df8a\",\"#ffbb78\",\"#1f77b4\",\"#98df8a\",\"#ff7f0e\",\"#ff7f0e\",\"#aec7e8\",\"#ff7f0e\",\"#ffbb78\",\"#1f77b4\",\"#ffbb78\",\"#2ca02c\",\"#98df8a\",\"#98df8a\",\"#ffbb78\",\"#1f77b4\",\"#1f77b4\",\"#1f77b4\",\"#aec7e8\",\"#ffbb78\",\"#1f77b4\",\"#aec7e8\",\"#ff7f0e\",\"#ff7f0e\",\"#1f77b4\",\"#aec7e8\",\"#ffbb78\",\"#2ca02c\",\"#98df8a\",\"#ff7f0e\",\"#ff7f0e\",\"#ff7f0e\",\"#98df8a\",\"#ffbb78\",\"#2ca02c\",\"#2ca02c\",\"#2ca02c\",\"#1f77b4\",\"#1f77b4\",\"#ff7f0e\",\"#2ca02c\",\"#ffbb78\",\"#1f77b4\",\"#1f77b4\",\"#ff7f0e\",\"#98df8a\",\"#1f77b4\",\"#ff7f0e\",\"#2ca02c\",\"#ffbb78\",\"#1f77b4\",\"#98df8a\",\"#ff7f0e\",\"#1f77b4\",\"#1f77b4\",\"#1f77b4\",\"#98df8a\",\"#1f77b4\",\"#aec7e8\",\"#ffbb78\",\"#ff7f0e\",\"#2ca02c\",\"#ff7f0e\",\"#98df8a\",\"#ff7f0e\",\"#1f77b4\",\"#2ca02c\",\"#2ca02c\",\"#ff7f0e\",\"#2ca02c\",\"#1f77b4\",\"#98df8a\",\"#ffbb78\",\"#2ca02c\",\"#1f77b4\",\"#2ca02c\",\"#2ca02c\",\"#1f77b4\",\"#1f77b4\",\"#2ca02c\",\"#aec7e8\",\"#aec7e8\",\"#1f77b4\",\"#98df8a\",\"#ff7f0e\",\"#1f77b4\",\"#98df8a\",\"#2ca02c\",\"#aec7e8\",\"#ffbb78\",\"#1f77b4\",\"#ff7f0e\",\"#98df8a\",\"#1f77b4\",\"#ffbb78\",\"#ffbb78\",\"#1f77b4\",\"#98df8a\",\"#1f77b4\",\"#2ca02c\",\"#98df8a\",\"#2ca02c\",\"#1f77b4\",\"#2ca02c\",\"#2ca02c\",\"#2ca02c\",\"#1f77b4\",\"#2ca02c\",\"#ffbb78\",\"#1f77b4\",\"#2ca02c\",\"#1f77b4\",\"#98df8a\",\"#aec7e8\",\"#2ca02c\",\"#2ca02c\",\"#ffbb78\",\"#98df8a\",\"#2ca02c\",\"#1f77b4\",\"#1f77b4\",\"#ffbb78\",\"#1f77b4\",\"#98df8a\",\"#98df8a\",\"#98df8a\",\"#ff7f0e\",\"#ff7f0e\",\"#aec7e8\",\"#ff7f0e\",\"#98df8a\",\"#1f77b4\",\"#ffbb78\",\"#aec7e8\",\"#ff7f0e\",\"#ff7f0e\",\"#1f77b4\",\"#1f77b4\",\"#1f77b4\",\"#1f77b4\",\"#ffbb78\",\"#ff7f0e\",\"#1f77b4\",\"#98df8a\",\"#2ca02c\",\"#aec7e8\",\"#ffbb78\",\"#ff7f0e\",\"#ff7f0e\",\"#1f77b4\",\"#1f77b4\",\"#98df8a\",\"#1f77b4\",\"#ff7f0e\",\"#aec7e8\",\"#ffbb78\",\"#aec7e8\",\"#2ca02c\",\"#2ca02c\",\"#1f77b4\",\"#1f77b4\",\"#2ca02c\",\"#ffbb78\",\"#ff7f0e\",\"#98df8a\",\"#1f77b4\",\"#2ca02c\",\"#aec7e8\",\"#2ca02c\",\"#2ca02c\",\"#1f77b4\",\"#2ca02c\",\"#1f77b4\",\"#ff7f0e\",\"#aec7e8\",\"#ff7f0e\",\"#2ca02c\",\"#ff7f0e\",\"#aec7e8\",\"#1f77b4\",\"#98df8a\",\"#98df8a\",\"#ffbb78\",\"#1f77b4\",\"#ff7f0e\",\"#1f77b4\",\"#2ca02c\",\"#2ca02c\",\"#2ca02c\",\"#ff7f0e\",\"#2ca02c\",\"#2ca02c\",\"#2ca02c\",\"#ff7f0e\",\"#2ca02c\",\"#1f77b4\",\"#98df8a\",\"#98df8a\",\"#1f77b4\",\"#ff7f0e\",\"#aec7e8\",\"#aec7e8\",\"#ffbb78\",\"#aec7e8\",\"#aec7e8\",\"#98df8a\",\"#2ca02c\",\"#98df8a\",\"#1f77b4\",\"#ff7f0e\",\"#ffbb78\",\"#1f77b4\",\"#98df8a\",\"#1f77b4\",\"#1f77b4\",\"#1f77b4\",\"#1f77b4\",\"#2ca02c\",\"#2ca02c\",\"#ff7f0e\",\"#aec7e8\",\"#ffbb78\",\"#ff7f0e\",\"#2ca02c\",\"#ff7f0e\",\"#1f77b4\",\"#aec7e8\",\"#ffbb78\",\"#2ca02c\",\"#aec7e8\",\"#ffbb78\",\"#aec7e8\",\"#ffbb78\",\"#aec7e8\",\"#aec7e8\",\"#98df8a\",\"#ff7f0e\",\"#ff7f0e\",\"#1f77b4\",\"#aec7e8\",\"#2ca02c\",\"#2ca02c\",\"#2ca02c\",\"#aec7e8\",\"#98df8a\",\"#1f77b4\",\"#ffbb78\",\"#1f77b4\",\"#aec7e8\",\"#ffbb78\",\"#2ca02c\",\"#2ca02c\",\"#2ca02c\",\"#ffbb78\",\"#98df8a\",\"#1f77b4\",\"#aec7e8\",\"#1f77b4\",\"#aec7e8\",\"#aec7e8\",\"#aec7e8\",\"#98df8a\",\"#aec7e8\",\"#98df8a\",\"#aec7e8\",\"#98df8a\",\"#98df8a\",\"#1f77b4\",\"#1f77b4\",\"#ff7f0e\",\"#ffbb78\",\"#aec7e8\",\"#1f77b4\",\"#aec7e8\",\"#98df8a\",\"#aec7e8\",\"#aec7e8\",\"#1f77b4\",\"#2ca02c\",\"#ffbb78\",\"#ff7f0e\",\"#aec7e8\",\"#aec7e8\",\"#98df8a\",\"#1f77b4\",\"#2ca02c\",\"#aec7e8\",\"#aec7e8\",\"#98df8a\",\"#ff7f0e\",\"#ffbb78\",\"#98df8a\",\"#aec7e8\",\"#1f77b4\",\"#1f77b4\",\"#98df8a\",\"#2ca02c\",\"#1f77b4\",\"#98df8a\",\"#1f77b4\",\"#aec7e8\",\"#ff7f0e\",\"#1f77b4\",\"#aec7e8\",\"#ffbb78\",\"#aec7e8\",\"#aec7e8\",\"#aec7e8\",\"#2ca02c\",\"#aec7e8\",\"#ff7f0e\",\"#1f77b4\",\"#98df8a\",\"#2ca02c\",\"#ff7f0e\",\"#1f77b4\",\"#ff7f0e\",\"#1f77b4\",\"#1f77b4\",\"#98df8a\",\"#ff7f0e\",\"#1f77b4\",\"#98df8a\",\"#1f77b4\",\"#2ca02c\",\"#aec7e8\",\"#1f77b4\",\"#ffbb78\",\"#ffbb78\",\"#aec7e8\",\"#1f77b4\",\"#ffbb78\",\"#ffbb78\",\"#ffbb78\",\"#98df8a\",\"#1f77b4\",\"#1f77b4\",\"#2ca02c\",\"#2ca02c\",\"#2ca02c\",\"#1f77b4\",\"#ff7f0e\",\"#aec7e8\",\"#ffbb78\",\"#98df8a\",\"#1f77b4\",\"#aec7e8\",\"#ffbb78\",\"#1f77b4\",\"#1f77b4\",\"#ffbb78\",\"#1f77b4\",\"#98df8a\",\"#1f77b4\",\"#2ca02c\",\"#1f77b4\",\"#2ca02c\",\"#2ca02c\",\"#2ca02c\",\"#ffbb78\",\"#2ca02c\",\"#1f77b4\",\"#2ca02c\",\"#1f77b4\",\"#aec7e8\",\"#ff7f0e\",\"#98df8a\",\"#98df8a\",\"#2ca02c\",\"#1f77b4\",\"#98df8a\",\"#ffbb78\",\"#98df8a\",\"#1f77b4\",\"#aec7e8\",\"#ff7f0e\",\"#aec7e8\",\"#1f77b4\",\"#98df8a\",\"#ff7f0e\",\"#1f77b4\",\"#98df8a\",\"#aec7e8\",\"#ffbb78\",\"#1f77b4\",\"#aec7e8\",\"#ff7f0e\",\"#2ca02c\",\"#1f77b4\",\"#ff7f0e\",\"#aec7e8\",\"#2ca02c\",\"#2ca02c\",\"#2ca02c\",\"#ffbb78\",\"#aec7e8\",\"#1f77b4\",\"#1f77b4\",\"#1f77b4\",\"#2ca02c\",\"#98df8a\",\"#aec7e8\",\"#aec7e8\",\"#2ca02c\",\"#2ca02c\",\"#ffbb78\",\"#1f77b4\",\"#1f77b4\",\"#1f77b4\",\"#ff7f0e\",\"#98df8a\",\"#2ca02c\",\"#1f77b4\",\"#ffbb78\",\"#aec7e8\",\"#1f77b4\",\"#1f77b4\",\"#ffbb78\",\"#98df8a\",\"#1f77b4\",\"#1f77b4\",\"#98df8a\",\"#ff7f0e\",\"#98df8a\",\"#ff7f0e\",\"#2ca02c\",\"#2ca02c\",\"#2ca02c\",\"#1f77b4\",\"#2ca02c\",\"#aec7e8\",\"#aec7e8\",\"#1f77b4\",\"#aec7e8\",\"#1f77b4\",\"#aec7e8\",\"#1f77b4\",\"#ffbb78\",\"#1f77b4\",\"#ffbb78\",\"#2ca02c\",\"#aec7e8\",\"#1f77b4\",\"#ff7f0e\",\"#1f77b4\",\"#1f77b4\",\"#aec7e8\",\"#ff7f0e\",\"#ff7f0e\",\"#2ca02c\",\"#ffbb78\",\"#2ca02c\",\"#2ca02c\",\"#2ca02c\",\"#1f77b4\",\"#1f77b4\",\"#aec7e8\",\"#1f77b4\",\"#ff7f0e\",\"#ffbb78\",\"#ffbb78\",\"#1f77b4\",\"#98df8a\",\"#1f77b4\",\"#ffbb78\",\"#aec7e8\",\"#2ca02c\",\"#98df8a\",\"#1f77b4\",\"#aec7e8\",\"#98df8a\",\"#ffbb78\",\"#1f77b4\",\"#1f77b4\",\"#ffbb78\",\"#aec7e8\",\"#1f77b4\",\"#1f77b4\",\"#ff7f0e\",\"#1f77b4\",\"#ffbb78\",\"#ffbb78\",\"#aec7e8\",\"#2ca02c\",\"#ff7f0e\",\"#aec7e8\",\"#aec7e8\",\"#98df8a\",\"#ffbb78\",\"#aec7e8\",\"#1f77b4\",\"#2ca02c\",\"#1f77b4\",\"#aec7e8\",\"#ff7f0e\",\"#1f77b4\",\"#aec7e8\",\"#aec7e8\",\"#1f77b4\",\"#ffbb78\",\"#ffbb78\",\"#ff7f0e\",\"#ff7f0e\",\"#98df8a\",\"#98df8a\",\"#1f77b4\",\"#1f77b4\",\"#1f77b4\",\"#aec7e8\",\"#aec7e8\",\"#ff7f0e\",\"#2ca02c\",\"#98df8a\",\"#98df8a\",\"#ffbb78\",\"#ffbb78\",\"#98df8a\",\"#ffbb78\",\"#ffbb78\",\"#aec7e8\",\"#aec7e8\",\"#2ca02c\",\"#ffbb78\",\"#aec7e8\",\"#ff7f0e\",\"#ff7f0e\",\"#98df8a\",\"#98df8a\",\"#98df8a\",\"#aec7e8\",\"#2ca02c\",\"#2ca02c\",\"#ff7f0e\",\"#ffbb78\",\"#ff7f0e\",\"#aec7e8\",\"#ffbb78\",\"#98df8a\",\"#aec7e8\",\"#aec7e8\",\"#98df8a\",\"#ffbb78\",\"#ff7f0e\",\"#ff7f0e\",\"#98df8a\",\"#2ca02c\",\"#ffbb78\",\"#ff7f0e\",\"#1f77b4\",\"#ff7f0e\",\"#98df8a\",\"#ffbb78\",\"#1f77b4\",\"#98df8a\",\"#1f77b4\",\"#aec7e8\",\"#2ca02c\",\"#ff7f0e\",\"#2ca02c\",\"#ff7f0e\",\"#1f77b4\",\"#1f77b4\",\"#aec7e8\",\"#1f77b4\",\"#1f77b4\",\"#2ca02c\",\"#1f77b4\",\"#2ca02c\",\"#ffbb78\",\"#1f77b4\",\"#98df8a\",\"#98df8a\",\"#1f77b4\",\"#ff7f0e\",\"#1f77b4\",\"#aec7e8\",\"#1f77b4\",\"#2ca02c\",\"#2ca02c\",\"#98df8a\",\"#1f77b4\",\"#1f77b4\",\"#98df8a\",\"#ffbb78\",\"#ffbb78\",\"#1f77b4\",\"#ffbb78\",\"#ffbb78\",\"#1f77b4\",\"#ffbb78\",\"#ff7f0e\",\"#1f77b4\",\"#ff7f0e\",\"#2ca02c\",\"#1f77b4\",\"#aec7e8\",\"#98df8a\",\"#98df8a\",\"#ffbb78\",\"#1f77b4\",\"#2ca02c\",\"#98df8a\",\"#2ca02c\",\"#2ca02c\",\"#2ca02c\",\"#1f77b4\",\"#2ca02c\",\"#98df8a\",\"#1f77b4\",\"#aec7e8\",\"#98df8a\",\"#1f77b4\",\"#ffbb78\",\"#98df8a\",\"#ffbb78\",\"#1f77b4\",\"#ffbb78\",\"#ffbb78\",\"#aec7e8\",\"#1f77b4\",\"#aec7e8\",\"#98df8a\",\"#2ca02c\",\"#98df8a\",\"#ff7f0e\",\"#1f77b4\",\"#2ca02c\",\"#aec7e8\",\"#2ca02c\",\"#2ca02c\",\"#1f77b4\",\"#aec7e8\",\"#98df8a\",\"#ffbb78\",\"#98df8a\",\"#98df8a\",\"#aec7e8\",\"#1f77b4\",\"#ffbb78\",\"#1f77b4\",\"#1f77b4\",\"#1f77b4\",\"#1f77b4\",\"#aec7e8\",\"#2ca02c\",\"#1f77b4\",\"#ff7f0e\",\"#98df8a\",\"#ff7f0e\",\"#2ca02c\",\"#2ca02c\",\"#aec7e8\",\"#1f77b4\",\"#1f77b4\",\"#2ca02c\",\"#ffbb78\",\"#ffbb78\",\"#2ca02c\",\"#ff7f0e\",\"#2ca02c\",\"#1f77b4\",\"#1f77b4\",\"#aec7e8\",\"#aec7e8\",\"#2ca02c\",\"#98df8a\",\"#ffbb78\",\"#1f77b4\",\"#aec7e8\",\"#ff7f0e\",\"#98df8a\",\"#1f77b4\",\"#ffbb78\",\"#1f77b4\",\"#1f77b4\",\"#98df8a\",\"#98df8a\",\"#1f77b4\",\"#aec7e8\",\"#aec7e8\",\"#98df8a\",\"#ffbb78\",\"#aec7e8\",\"#ff7f0e\",\"#ff7f0e\",\"#ff7f0e\",\"#1f77b4\",\"#ffbb78\",\"#98df8a\",\"#aec7e8\",\"#ffbb78\",\"#1f77b4\",\"#1f77b4\",\"#98df8a\",\"#1f77b4\",\"#ffbb78\",\"#ffbb78\",\"#98df8a\",\"#ffbb78\",\"#ffbb78\",\"#1f77b4\",\"#1f77b4\",\"#1f77b4\",\"#ffbb78\",\"#aec7e8\",\"#2ca02c\",\"#2ca02c\",\"#98df8a\",\"#98df8a\",\"#aec7e8\",\"#ffbb78\",\"#1f77b4\",\"#aec7e8\",\"#ff7f0e\",\"#1f77b4\",\"#98df8a\",\"#aec7e8\",\"#aec7e8\",\"#98df8a\",\"#ffbb78\",\"#ff7f0e\",\"#ff7f0e\",\"#2ca02c\",\"#98df8a\",\"#1f77b4\",\"#1f77b4\",\"#ffbb78\",\"#98df8a\",\"#ffbb78\",\"#98df8a\",\"#ffbb78\",\"#aec7e8\",\"#2ca02c\",\"#2ca02c\",\"#1f77b4\",\"#aec7e8\",\"#98df8a\",\"#2ca02c\",\"#aec7e8\",\"#aec7e8\",\"#ffbb78\",\"#ffbb78\",\"#ff7f0e\",\"#aec7e8\",\"#ffbb78\",\"#98df8a\",\"#2ca02c\",\"#ff7f0e\",\"#ff7f0e\",\"#1f77b4\",\"#1f77b4\",\"#98df8a\",\"#ff7f0e\",\"#aec7e8\",\"#2ca02c\",\"#1f77b4\",\"#1f77b4\",\"#1f77b4\",\"#98df8a\",\"#ff7f0e\",\"#98df8a\",\"#ffbb78\",\"#98df8a\",\"#98df8a\",\"#1f77b4\",\"#2ca02c\",\"#aec7e8\",\"#ffbb78\",\"#2ca02c\",\"#98df8a\",\"#1f77b4\",\"#ffbb78\",\"#98df8a\",\"#98df8a\",\"#98df8a\",\"#2ca02c\",\"#2ca02c\",\"#ff7f0e\",\"#ffbb78\",\"#2ca02c\",\"#1f77b4\",\"#2ca02c\",\"#2ca02c\",\"#ffbb78\",\"#98df8a\",\"#2ca02c\",\"#2ca02c\",\"#2ca02c\",\"#1f77b4\",\"#2ca02c\",\"#2ca02c\",\"#2ca02c\",\"#2ca02c\",\"#aec7e8\",\"#2ca02c\",\"#ffbb78\",\"#2ca02c\",\"#1f77b4\",\"#2ca02c\",\"#2ca02c\",\"#ffbb78\",\"#ffbb78\",\"#1f77b4\",\"#2ca02c\",\"#98df8a\",\"#98df8a\",\"#98df8a\",\"#aec7e8\",\"#aec7e8\",\"#98df8a\",\"#ff7f0e\",\"#aec7e8\",\"#2ca02c\",\"#2ca02c\",\"#98df8a\",\"#1f77b4\",\"#98df8a\",\"#1f77b4\",\"#2ca02c\",\"#aec7e8\",\"#ffbb78\",\"#1f77b4\",\"#1f77b4\",\"#1f77b4\",\"#aec7e8\",\"#98df8a\",\"#ff7f0e\",\"#1f77b4\",\"#98df8a\",\"#1f77b4\",\"#1f77b4\",\"#aec7e8\",\"#1f77b4\",\"#1f77b4\",\"#aec7e8\",\"#ffbb78\",\"#98df8a\",\"#1f77b4\",\"#1f77b4\",\"#98df8a\",\"#ff7f0e\",\"#2ca02c\",\"#ff7f0e\",\"#98df8a\",\"#ffbb78\",\"#ff7f0e\",\"#2ca02c\",\"#1f77b4\",\"#aec7e8\",\"#1f77b4\",\"#1f77b4\",\"#2ca02c\",\"#ffbb78\",\"#aec7e8\",\"#ffbb78\",\"#98df8a\",\"#ffbb78\",\"#2ca02c\",\"#1f77b4\",\"#ffbb78\",\"#1f77b4\",\"#ffbb78\",\"#1f77b4\",\"#ffbb78\",\"#98df8a\",\"#ffbb78\",\"#98df8a\",\"#1f77b4\",\"#ffbb78\",\"#1f77b4\",\"#2ca02c\",\"#1f77b4\",\"#98df8a\",\"#ff7f0e\",\"#ffbb78\",\"#2ca02c\",\"#ffbb78\",\"#2ca02c\",\"#ffbb78\",\"#ff7f0e\",\"#2ca02c\",\"#ffbb78\",\"#1f77b4\",\"#2ca02c\",\"#aec7e8\",\"#2ca02c\",\"#98df8a\",\"#1f77b4\",\"#2ca02c\",\"#1f77b4\",\"#98df8a\",\"#1f77b4\",\"#2ca02c\",\"#2ca02c\",\"#ff7f0e\",\"#98df8a\",\"#98df8a\",\"#2ca02c\",\"#98df8a\",\"#1f77b4\",\"#ff7f0e\",\"#2ca02c\",\"#ffbb78\",\"#2ca02c\",\"#ff7f0e\",\"#2ca02c\",\"#2ca02c\",\"#1f77b4\",\"#1f77b4\",\"#aec7e8\",\"#ff7f0e\",\"#aec7e8\",\"#1f77b4\",\"#ffbb78\",\"#ffbb78\",\"#aec7e8\",\"#ff7f0e\",\"#ffbb78\",\"#ffbb78\",\"#2ca02c\",\"#ffbb78\",\"#2ca02c\",\"#98df8a\",\"#1f77b4\",\"#ff7f0e\",\"#1f77b4\",\"#1f77b4\",\"#2ca02c\",\"#ffbb78\",\"#1f77b4\",\"#1f77b4\",\"#1f77b4\",\"#2ca02c\",\"#ff7f0e\",\"#aec7e8\",\"#ffbb78\",\"#98df8a\",\"#2ca02c\",\"#2ca02c\",\"#ffbb78\",\"#98df8a\",\"#98df8a\",\"#2ca02c\"],\"shape\":[2224],\"dtype\":\"object\",\"order\":\"little\"}],[\"hatch_color\",{\"type\":\"ndarray\",\"array\":[\"#98df8a\",\"#ff7f0e\",\"#2ca02c\",\"#ff7f0e\",\"#ffbb78\",\"#2ca02c\",\"#2ca02c\",\"#2ca02c\",\"#2ca02c\",\"#ffbb78\",\"#ff7f0e\",\"#2ca02c\",\"#aec7e8\",\"#2ca02c\",\"#ff7f0e\",\"#98df8a\",\"#2ca02c\",\"#aec7e8\",\"#aec7e8\",\"#ffbb78\",\"#98df8a\",\"#aec7e8\",\"#2ca02c\",\"#aec7e8\",\"#1f77b4\",\"#ffbb78\",\"#aec7e8\",\"#ffbb78\",\"#1f77b4\",\"#ffbb78\",\"#2ca02c\",\"#2ca02c\",\"#1f77b4\",\"#2ca02c\",\"#ff7f0e\",\"#1f77b4\",\"#1f77b4\",\"#1f77b4\",\"#1f77b4\",\"#98df8a\",\"#ff7f0e\",\"#2ca02c\",\"#ffbb78\",\"#aec7e8\",\"#aec7e8\",\"#98df8a\",\"#aec7e8\",\"#1f77b4\",\"#1f77b4\",\"#ffbb78\",\"#1f77b4\",\"#aec7e8\",\"#98df8a\",\"#1f77b4\",\"#ffbb78\",\"#98df8a\",\"#2ca02c\",\"#ff7f0e\",\"#ff7f0e\",\"#1f77b4\",\"#ff7f0e\",\"#1f77b4\",\"#ffbb78\",\"#ffbb78\",\"#aec7e8\",\"#1f77b4\",\"#1f77b4\",\"#ffbb78\",\"#1f77b4\",\"#1f77b4\",\"#1f77b4\",\"#2ca02c\",\"#ffbb78\",\"#2ca02c\",\"#2ca02c\",\"#aec7e8\",\"#2ca02c\",\"#ff7f0e\",\"#98df8a\",\"#1f77b4\",\"#98df8a\",\"#2ca02c\",\"#2ca02c\",\"#aec7e8\",\"#2ca02c\",\"#2ca02c\",\"#2ca02c\",\"#ffbb78\",\"#2ca02c\",\"#ffbb78\",\"#2ca02c\",\"#1f77b4\",\"#ffbb78\",\"#ff7f0e\",\"#aec7e8\",\"#ffbb78\",\"#1f77b4\",\"#aec7e8\",\"#1f77b4\",\"#2ca02c\",\"#ffbb78\",\"#2ca02c\",\"#aec7e8\",\"#2ca02c\",\"#aec7e8\",\"#98df8a\",\"#2ca02c\",\"#ff7f0e\",\"#aec7e8\",\"#1f77b4\",\"#1f77b4\",\"#ffbb78\",\"#1f77b4\",\"#1f77b4\",\"#2ca02c\",\"#2ca02c\",\"#2ca02c\",\"#2ca02c\",\"#ff7f0e\",\"#2ca02c\",\"#1f77b4\",\"#2ca02c\",\"#aec7e8\",\"#2ca02c\",\"#1f77b4\",\"#2ca02c\",\"#ffbb78\",\"#ffbb78\",\"#2ca02c\",\"#2ca02c\",\"#1f77b4\",\"#ffbb78\",\"#2ca02c\",\"#ffbb78\",\"#98df8a\",\"#ffbb78\",\"#98df8a\",\"#2ca02c\",\"#2ca02c\",\"#98df8a\",\"#1f77b4\",\"#aec7e8\",\"#2ca02c\",\"#2ca02c\",\"#1f77b4\",\"#2ca02c\",\"#2ca02c\",\"#1f77b4\",\"#98df8a\",\"#aec7e8\",\"#ff7f0e\",\"#2ca02c\",\"#98df8a\",\"#2ca02c\",\"#2ca02c\",\"#2ca02c\",\"#2ca02c\",\"#aec7e8\",\"#1f77b4\",\"#ffbb78\",\"#aec7e8\",\"#ffbb78\",\"#1f77b4\",\"#ffbb78\",\"#ffbb78\",\"#ffbb78\",\"#1f77b4\",\"#1f77b4\",\"#98df8a\",\"#ffbb78\",\"#98df8a\",\"#2ca02c\",\"#2ca02c\",\"#aec7e8\",\"#ffbb78\",\"#98df8a\",\"#ffbb78\",\"#ffbb78\",\"#ff7f0e\",\"#ffbb78\",\"#ffbb78\",\"#aec7e8\",\"#ffbb78\",\"#ffbb78\",\"#aec7e8\",\"#ffbb78\",\"#2ca02c\",\"#ffbb78\",\"#2ca02c\",\"#2ca02c\",\"#aec7e8\",\"#ffbb78\",\"#98df8a\",\"#98df8a\",\"#ffbb78\",\"#2ca02c\",\"#1f77b4\",\"#1f77b4\",\"#aec7e8\",\"#ffbb78\",\"#ff7f0e\",\"#1f77b4\",\"#1f77b4\",\"#ffbb78\",\"#1f77b4\",\"#98df8a\",\"#98df8a\",\"#2ca02c\",\"#1f77b4\",\"#2ca02c\",\"#aec7e8\",\"#aec7e8\",\"#aec7e8\",\"#ff7f0e\",\"#1f77b4\",\"#ffbb78\",\"#aec7e8\",\"#1f77b4\",\"#ff7f0e\",\"#98df8a\",\"#98df8a\",\"#ff7f0e\",\"#ffbb78\",\"#ff7f0e\",\"#98df8a\",\"#1f77b4\",\"#1f77b4\",\"#98df8a\",\"#2ca02c\",\"#1f77b4\",\"#ffbb78\",\"#ff7f0e\",\"#2ca02c\",\"#2ca02c\",\"#98df8a\",\"#aec7e8\",\"#98df8a\",\"#2ca02c\",\"#ffbb78\",\"#1f77b4\",\"#1f77b4\",\"#1f77b4\",\"#1f77b4\",\"#aec7e8\",\"#aec7e8\",\"#1f77b4\",\"#98df8a\",\"#ffbb78\",\"#ffbb78\",\"#98df8a\",\"#ffbb78\",\"#1f77b4\",\"#aec7e8\",\"#ffbb78\",\"#aec7e8\",\"#98df8a\",\"#98df8a\",\"#1f77b4\",\"#2ca02c\",\"#aec7e8\",\"#1f77b4\",\"#ff7f0e\",\"#ff7f0e\",\"#ff7f0e\",\"#98df8a\",\"#2ca02c\",\"#2ca02c\",\"#aec7e8\",\"#98df8a\",\"#1f77b4\",\"#1f77b4\",\"#aec7e8\",\"#2ca02c\",\"#1f77b4\",\"#98df8a\",\"#98df8a\",\"#98df8a\",\"#aec7e8\",\"#98df8a\",\"#98df8a\",\"#1f77b4\",\"#1f77b4\",\"#ff7f0e\",\"#1f77b4\",\"#1f77b4\",\"#ff7f0e\",\"#2ca02c\",\"#1f77b4\",\"#2ca02c\",\"#1f77b4\",\"#1f77b4\",\"#1f77b4\",\"#ff7f0e\",\"#aec7e8\",\"#ffbb78\",\"#ffbb78\",\"#1f77b4\",\"#ff7f0e\",\"#ffbb78\",\"#1f77b4\",\"#ff7f0e\",\"#1f77b4\",\"#98df8a\",\"#1f77b4\",\"#2ca02c\",\"#aec7e8\",\"#1f77b4\",\"#98df8a\",\"#2ca02c\",\"#98df8a\",\"#aec7e8\",\"#1f77b4\",\"#98df8a\",\"#1f77b4\",\"#ff7f0e\",\"#98df8a\",\"#aec7e8\",\"#ff7f0e\",\"#2ca02c\",\"#2ca02c\",\"#98df8a\",\"#1f77b4\",\"#1f77b4\",\"#ffbb78\",\"#98df8a\",\"#ffbb78\",\"#ff7f0e\",\"#aec7e8\",\"#1f77b4\",\"#ffbb78\",\"#ff7f0e\",\"#ff7f0e\",\"#1f77b4\",\"#1f77b4\",\"#1f77b4\",\"#1f77b4\",\"#2ca02c\",\"#2ca02c\",\"#2ca02c\",\"#2ca02c\",\"#1f77b4\",\"#1f77b4\",\"#aec7e8\",\"#2ca02c\",\"#ffbb78\",\"#2ca02c\",\"#ffbb78\",\"#ff7f0e\",\"#aec7e8\",\"#98df8a\",\"#2ca02c\",\"#98df8a\",\"#2ca02c\",\"#2ca02c\",\"#2ca02c\",\"#2ca02c\",\"#2ca02c\",\"#2ca02c\",\"#ffbb78\",\"#ffbb78\",\"#1f77b4\",\"#ff7f0e\",\"#aec7e8\",\"#2ca02c\",\"#ff7f0e\",\"#2ca02c\",\"#2ca02c\",\"#1f77b4\",\"#2ca02c\",\"#2ca02c\",\"#ff7f0e\",\"#1f77b4\",\"#2ca02c\",\"#98df8a\",\"#aec7e8\",\"#98df8a\",\"#98df8a\",\"#ff7f0e\",\"#1f77b4\",\"#1f77b4\",\"#1f77b4\",\"#ff7f0e\",\"#1f77b4\",\"#ff7f0e\",\"#aec7e8\",\"#aec7e8\",\"#98df8a\",\"#1f77b4\",\"#98df8a\",\"#ffbb78\",\"#2ca02c\",\"#ffbb78\",\"#98df8a\",\"#ffbb78\",\"#98df8a\",\"#ff7f0e\",\"#1f77b4\",\"#98df8a\",\"#aec7e8\",\"#98df8a\",\"#1f77b4\",\"#98df8a\",\"#aec7e8\",\"#1f77b4\",\"#1f77b4\",\"#1f77b4\",\"#ff7f0e\",\"#ff7f0e\",\"#1f77b4\",\"#ff7f0e\",\"#98df8a\",\"#1f77b4\",\"#2ca02c\",\"#ff7f0e\",\"#ffbb78\",\"#ffbb78\",\"#1f77b4\",\"#ffbb78\",\"#ffbb78\",\"#aec7e8\",\"#ffbb78\",\"#aec7e8\",\"#ffbb78\",\"#ff7f0e\",\"#aec7e8\",\"#98df8a\",\"#ff7f0e\",\"#ffbb78\",\"#aec7e8\",\"#2ca02c\",\"#1f77b4\",\"#aec7e8\",\"#aec7e8\",\"#98df8a\",\"#aec7e8\",\"#aec7e8\",\"#1f77b4\",\"#98df8a\",\"#98df8a\",\"#1f77b4\",\"#ff7f0e\",\"#ff7f0e\",\"#2ca02c\",\"#2ca02c\",\"#2ca02c\",\"#1f77b4\",\"#2ca02c\",\"#1f77b4\",\"#1f77b4\",\"#1f77b4\",\"#ff7f0e\",\"#aec7e8\",\"#1f77b4\",\"#ff7f0e\",\"#1f77b4\",\"#ffbb78\",\"#2ca02c\",\"#aec7e8\",\"#ff7f0e\",\"#2ca02c\",\"#ff7f0e\",\"#ff7f0e\",\"#ff7f0e\",\"#1f77b4\",\"#ffbb78\",\"#1f77b4\",\"#aec7e8\",\"#aec7e8\",\"#98df8a\",\"#98df8a\",\"#ffbb78\",\"#1f77b4\",\"#98df8a\",\"#1f77b4\",\"#ff7f0e\",\"#ffbb78\",\"#ffbb78\",\"#1f77b4\",\"#ffbb78\",\"#98df8a\",\"#1f77b4\",\"#ff7f0e\",\"#1f77b4\",\"#aec7e8\",\"#aec7e8\",\"#98df8a\",\"#1f77b4\",\"#ff7f0e\",\"#aec7e8\",\"#1f77b4\",\"#1f77b4\",\"#1f77b4\",\"#98df8a\",\"#98df8a\",\"#aec7e8\",\"#2ca02c\",\"#98df8a\",\"#ffbb78\",\"#1f77b4\",\"#ffbb78\",\"#2ca02c\",\"#ffbb78\",\"#2ca02c\",\"#1f77b4\",\"#ffbb78\",\"#2ca02c\",\"#2ca02c\",\"#2ca02c\",\"#2ca02c\",\"#ffbb78\",\"#2ca02c\",\"#2ca02c\",\"#ff7f0e\",\"#98df8a\",\"#98df8a\",\"#1f77b4\",\"#ffbb78\",\"#1f77b4\",\"#2ca02c\",\"#ffbb78\",\"#2ca02c\",\"#2ca02c\",\"#2ca02c\",\"#2ca02c\",\"#2ca02c\",\"#aec7e8\",\"#98df8a\",\"#aec7e8\",\"#aec7e8\",\"#2ca02c\",\"#aec7e8\",\"#aec7e8\",\"#98df8a\",\"#ffbb78\",\"#1f77b4\",\"#aec7e8\",\"#2ca02c\",\"#2ca02c\",\"#2ca02c\",\"#1f77b4\",\"#98df8a\",\"#1f77b4\",\"#2ca02c\",\"#2ca02c\",\"#1f77b4\",\"#1f77b4\",\"#1f77b4\",\"#ff7f0e\",\"#1f77b4\",\"#1f77b4\",\"#98df8a\",\"#ff7f0e\",\"#aec7e8\",\"#1f77b4\",\"#2ca02c\",\"#ffbb78\",\"#ffbb78\",\"#98df8a\",\"#1f77b4\",\"#aec7e8\",\"#aec7e8\",\"#1f77b4\",\"#98df8a\",\"#ff7f0e\",\"#2ca02c\",\"#ffbb78\",\"#aec7e8\",\"#98df8a\",\"#aec7e8\",\"#aec7e8\",\"#ffbb78\",\"#ffbb78\",\"#98df8a\",\"#aec7e8\",\"#aec7e8\",\"#98df8a\",\"#ffbb78\",\"#ffbb78\",\"#2ca02c\",\"#98df8a\",\"#98df8a\",\"#ffbb78\",\"#98df8a\",\"#ffbb78\",\"#ffbb78\",\"#ffbb78\",\"#98df8a\",\"#98df8a\",\"#aec7e8\",\"#ffbb78\",\"#aec7e8\",\"#1f77b4\",\"#1f77b4\",\"#aec7e8\",\"#1f77b4\",\"#ff7f0e\",\"#ff7f0e\",\"#aec7e8\",\"#1f77b4\",\"#ff7f0e\",\"#2ca02c\",\"#aec7e8\",\"#1f77b4\",\"#98df8a\",\"#1f77b4\",\"#1f77b4\",\"#1f77b4\",\"#aec7e8\",\"#ff7f0e\",\"#ffbb78\",\"#98df8a\",\"#1f77b4\",\"#ff7f0e\",\"#2ca02c\",\"#aec7e8\",\"#ff7f0e\",\"#2ca02c\",\"#2ca02c\",\"#98df8a\",\"#1f77b4\",\"#1f77b4\",\"#2ca02c\",\"#2ca02c\",\"#2ca02c\",\"#1f77b4\",\"#ffbb78\",\"#98df8a\",\"#1f77b4\",\"#1f77b4\",\"#1f77b4\",\"#1f77b4\",\"#ff7f0e\",\"#98df8a\",\"#aec7e8\",\"#98df8a\",\"#2ca02c\",\"#2ca02c\",\"#aec7e8\",\"#ffbb78\",\"#98df8a\",\"#98df8a\",\"#1f77b4\",\"#ffbb78\",\"#aec7e8\",\"#2ca02c\",\"#98df8a\",\"#2ca02c\",\"#98df8a\",\"#ffbb78\",\"#2ca02c\",\"#ff7f0e\",\"#1f77b4\",\"#2ca02c\",\"#2ca02c\",\"#98df8a\",\"#98df8a\",\"#ff7f0e\",\"#ff7f0e\",\"#aec7e8\",\"#2ca02c\",\"#98df8a\",\"#98df8a\",\"#1f77b4\",\"#ff7f0e\",\"#ffbb78\",\"#1f77b4\",\"#1f77b4\",\"#aec7e8\",\"#98df8a\",\"#98df8a\",\"#1f77b4\",\"#1f77b4\",\"#ffbb78\",\"#aec7e8\",\"#1f77b4\",\"#1f77b4\",\"#1f77b4\",\"#1f77b4\",\"#1f77b4\",\"#1f77b4\",\"#1f77b4\",\"#ff7f0e\",\"#2ca02c\",\"#1f77b4\",\"#1f77b4\",\"#ffbb78\",\"#1f77b4\",\"#1f77b4\",\"#1f77b4\",\"#1f77b4\",\"#aec7e8\",\"#ffbb78\",\"#ffbb78\",\"#2ca02c\",\"#1f77b4\",\"#1f77b4\",\"#ffbb78\",\"#2ca02c\",\"#98df8a\",\"#98df8a\",\"#1f77b4\",\"#2ca02c\",\"#ff7f0e\",\"#1f77b4\",\"#ff7f0e\",\"#1f77b4\",\"#98df8a\",\"#1f77b4\",\"#ffbb78\",\"#aec7e8\",\"#1f77b4\",\"#98df8a\",\"#2ca02c\",\"#1f77b4\",\"#1f77b4\",\"#1f77b4\",\"#2ca02c\",\"#ffbb78\",\"#2ca02c\",\"#2ca02c\",\"#1f77b4\",\"#2ca02c\",\"#98df8a\",\"#ff7f0e\",\"#ffbb78\",\"#1f77b4\",\"#aec7e8\",\"#ff7f0e\",\"#1f77b4\",\"#aec7e8\",\"#ffbb78\",\"#ffbb78\",\"#2ca02c\",\"#98df8a\",\"#aec7e8\",\"#98df8a\",\"#2ca02c\",\"#ff7f0e\",\"#1f77b4\",\"#2ca02c\",\"#98df8a\",\"#1f77b4\",\"#1f77b4\",\"#1f77b4\",\"#2ca02c\",\"#2ca02c\",\"#aec7e8\",\"#ffbb78\",\"#1f77b4\",\"#98df8a\",\"#1f77b4\",\"#1f77b4\",\"#ff7f0e\",\"#98df8a\",\"#ff7f0e\",\"#aec7e8\",\"#1f77b4\",\"#1f77b4\",\"#2ca02c\",\"#ffbb78\",\"#ffbb78\",\"#2ca02c\",\"#ffbb78\",\"#98df8a\",\"#aec7e8\",\"#1f77b4\",\"#98df8a\",\"#98df8a\",\"#2ca02c\",\"#1f77b4\",\"#aec7e8\",\"#aec7e8\",\"#1f77b4\",\"#ffbb78\",\"#1f77b4\",\"#ff7f0e\",\"#ff7f0e\",\"#2ca02c\",\"#98df8a\",\"#ff7f0e\",\"#98df8a\",\"#1f77b4\",\"#1f77b4\",\"#1f77b4\",\"#1f77b4\",\"#98df8a\",\"#aec7e8\",\"#98df8a\",\"#1f77b4\",\"#1f77b4\",\"#1f77b4\",\"#ffbb78\",\"#ffbb78\",\"#2ca02c\",\"#98df8a\",\"#ff7f0e\",\"#ff7f0e\",\"#ffbb78\",\"#98df8a\",\"#2ca02c\",\"#2ca02c\",\"#98df8a\",\"#1f77b4\",\"#ffbb78\",\"#2ca02c\",\"#aec7e8\",\"#1f77b4\",\"#98df8a\",\"#98df8a\",\"#1f77b4\",\"#2ca02c\",\"#2ca02c\",\"#98df8a\",\"#ffbb78\",\"#ffbb78\",\"#aec7e8\",\"#2ca02c\",\"#2ca02c\",\"#1f77b4\",\"#aec7e8\",\"#2ca02c\",\"#98df8a\",\"#ff7f0e\",\"#2ca02c\",\"#2ca02c\",\"#ffbb78\",\"#2ca02c\",\"#2ca02c\",\"#2ca02c\",\"#ffbb78\",\"#2ca02c\",\"#1f77b4\",\"#ff7f0e\",\"#aec7e8\",\"#2ca02c\",\"#1f77b4\",\"#ffbb78\",\"#aec7e8\",\"#98df8a\",\"#2ca02c\",\"#2ca02c\",\"#ffbb78\",\"#ffbb78\",\"#aec7e8\",\"#98df8a\",\"#ff7f0e\",\"#2ca02c\",\"#98df8a\",\"#1f77b4\",\"#2ca02c\",\"#1f77b4\",\"#ffbb78\",\"#ff7f0e\",\"#ff7f0e\",\"#ff7f0e\",\"#aec7e8\",\"#1f77b4\",\"#ff7f0e\",\"#1f77b4\",\"#98df8a\",\"#98df8a\",\"#ff7f0e\",\"#2ca02c\",\"#2ca02c\",\"#ffbb78\",\"#2ca02c\",\"#1f77b4\",\"#1f77b4\",\"#2ca02c\",\"#98df8a\",\"#1f77b4\",\"#ff7f0e\",\"#1f77b4\",\"#aec7e8\",\"#ffbb78\",\"#1f77b4\",\"#2ca02c\",\"#ff7f0e\",\"#98df8a\",\"#2ca02c\",\"#ffbb78\",\"#1f77b4\",\"#ffbb78\",\"#ffbb78\",\"#1f77b4\",\"#98df8a\",\"#98df8a\",\"#2ca02c\",\"#2ca02c\",\"#98df8a\",\"#ff7f0e\",\"#1f77b4\",\"#ff7f0e\",\"#ff7f0e\",\"#1f77b4\",\"#ffbb78\",\"#98df8a\",\"#ffbb78\",\"#aec7e8\",\"#ffbb78\",\"#1f77b4\",\"#1f77b4\",\"#ff7f0e\",\"#aec7e8\",\"#aec7e8\",\"#ff7f0e\",\"#aec7e8\",\"#1f77b4\",\"#1f77b4\",\"#2ca02c\",\"#98df8a\",\"#98df8a\",\"#ff7f0e\",\"#2ca02c\",\"#1f77b4\",\"#1f77b4\",\"#ffbb78\",\"#ffbb78\",\"#1f77b4\",\"#1f77b4\",\"#ffbb78\",\"#ffbb78\",\"#ffbb78\",\"#1f77b4\",\"#98df8a\",\"#1f77b4\",\"#aec7e8\",\"#aec7e8\",\"#1f77b4\",\"#aec7e8\",\"#aec7e8\",\"#aec7e8\",\"#aec7e8\",\"#98df8a\",\"#aec7e8\",\"#ffbb78\",\"#1f77b4\",\"#aec7e8\",\"#1f77b4\",\"#2ca02c\",\"#98df8a\",\"#ff7f0e\",\"#1f77b4\",\"#98df8a\",\"#aec7e8\",\"#ff7f0e\",\"#1f77b4\",\"#2ca02c\",\"#98df8a\",\"#1f77b4\",\"#ff7f0e\",\"#ffbb78\",\"#2ca02c\",\"#aec7e8\",\"#ffbb78\",\"#1f77b4\",\"#98df8a\",\"#aec7e8\",\"#1f77b4\",\"#aec7e8\",\"#ff7f0e\",\"#98df8a\",\"#2ca02c\",\"#ff7f0e\",\"#aec7e8\",\"#aec7e8\",\"#ffbb78\",\"#1f77b4\",\"#ffbb78\",\"#98df8a\",\"#1f77b4\",\"#2ca02c\",\"#1f77b4\",\"#ffbb78\",\"#aec7e8\",\"#aec7e8\",\"#ff7f0e\",\"#ff7f0e\",\"#98df8a\",\"#1f77b4\",\"#98df8a\",\"#ffbb78\",\"#ffbb78\",\"#1f77b4\",\"#aec7e8\",\"#ffbb78\",\"#1f77b4\",\"#1f77b4\",\"#2ca02c\",\"#ff7f0e\",\"#1f77b4\",\"#98df8a\",\"#98df8a\",\"#aec7e8\",\"#aec7e8\",\"#ffbb78\",\"#ff7f0e\",\"#98df8a\",\"#1f77b4\",\"#aec7e8\",\"#98df8a\",\"#1f77b4\",\"#ffbb78\",\"#2ca02c\",\"#1f77b4\",\"#ffbb78\",\"#1f77b4\",\"#aec7e8\",\"#ff7f0e\",\"#aec7e8\",\"#98df8a\",\"#ffbb78\",\"#ff7f0e\",\"#aec7e8\",\"#aec7e8\",\"#1f77b4\",\"#ff7f0e\",\"#ffbb78\",\"#ff7f0e\",\"#ffbb78\",\"#2ca02c\",\"#98df8a\",\"#1f77b4\",\"#98df8a\",\"#2ca02c\",\"#2ca02c\",\"#aec7e8\",\"#98df8a\",\"#98df8a\",\"#aec7e8\",\"#2ca02c\",\"#1f77b4\",\"#98df8a\",\"#aec7e8\",\"#98df8a\",\"#98df8a\",\"#98df8a\",\"#98df8a\",\"#98df8a\",\"#ffbb78\",\"#ff7f0e\",\"#1f77b4\",\"#ff7f0e\",\"#2ca02c\",\"#ffbb78\",\"#ffbb78\",\"#2ca02c\",\"#ffbb78\",\"#2ca02c\",\"#aec7e8\",\"#ff7f0e\",\"#2ca02c\",\"#2ca02c\",\"#2ca02c\",\"#2ca02c\",\"#aec7e8\",\"#2ca02c\",\"#ffbb78\",\"#2ca02c\",\"#aec7e8\",\"#2ca02c\",\"#ffbb78\",\"#ff7f0e\",\"#2ca02c\",\"#2ca02c\",\"#2ca02c\",\"#2ca02c\",\"#2ca02c\",\"#1f77b4\",\"#2ca02c\",\"#2ca02c\",\"#2ca02c\",\"#2ca02c\",\"#aec7e8\",\"#2ca02c\",\"#2ca02c\",\"#ff7f0e\",\"#aec7e8\",\"#1f77b4\",\"#2ca02c\",\"#98df8a\",\"#aec7e8\",\"#98df8a\",\"#aec7e8\",\"#ffbb78\",\"#1f77b4\",\"#ffbb78\",\"#1f77b4\",\"#2ca02c\",\"#1f77b4\",\"#1f77b4\",\"#1f77b4\",\"#98df8a\",\"#aec7e8\",\"#1f77b4\",\"#98df8a\",\"#98df8a\",\"#1f77b4\",\"#ff7f0e\",\"#2ca02c\",\"#98df8a\",\"#2ca02c\",\"#ff7f0e\",\"#ffbb78\",\"#98df8a\",\"#2ca02c\",\"#98df8a\",\"#1f77b4\",\"#1f77b4\",\"#2ca02c\",\"#ff7f0e\",\"#aec7e8\",\"#98df8a\",\"#98df8a\",\"#98df8a\",\"#98df8a\",\"#ff7f0e\",\"#2ca02c\",\"#1f77b4\",\"#ffbb78\",\"#2ca02c\",\"#2ca02c\",\"#2ca02c\",\"#98df8a\",\"#ff7f0e\",\"#aec7e8\",\"#1f77b4\",\"#98df8a\",\"#ffbb78\",\"#98df8a\",\"#ffbb78\",\"#aec7e8\",\"#1f77b4\",\"#1f77b4\",\"#aec7e8\",\"#ffbb78\",\"#2ca02c\",\"#2ca02c\",\"#2ca02c\",\"#aec7e8\",\"#ff7f0e\",\"#1f77b4\",\"#1f77b4\",\"#aec7e8\",\"#2ca02c\",\"#2ca02c\",\"#1f77b4\",\"#2ca02c\",\"#aec7e8\",\"#aec7e8\",\"#ff7f0e\",\"#2ca02c\",\"#aec7e8\",\"#aec7e8\",\"#98df8a\",\"#ff7f0e\",\"#98df8a\",\"#aec7e8\",\"#1f77b4\",\"#aec7e8\",\"#ffbb78\",\"#aec7e8\",\"#98df8a\",\"#1f77b4\",\"#1f77b4\",\"#2ca02c\",\"#1f77b4\",\"#1f77b4\",\"#ff7f0e\",\"#1f77b4\",\"#ff7f0e\",\"#1f77b4\",\"#98df8a\",\"#1f77b4\",\"#aec7e8\",\"#aec7e8\",\"#ff7f0e\",\"#98df8a\",\"#aec7e8\",\"#1f77b4\",\"#1f77b4\",\"#98df8a\",\"#2ca02c\",\"#1f77b4\",\"#ff7f0e\",\"#2ca02c\",\"#ffbb78\",\"#1f77b4\",\"#1f77b4\",\"#2ca02c\",\"#aec7e8\",\"#aec7e8\",\"#ff7f0e\",\"#2ca02c\",\"#1f77b4\",\"#1f77b4\",\"#2ca02c\",\"#1f77b4\",\"#2ca02c\",\"#ff7f0e\",\"#2ca02c\",\"#aec7e8\",\"#ff7f0e\",\"#ff7f0e\",\"#ffbb78\",\"#2ca02c\",\"#aec7e8\",\"#2ca02c\",\"#2ca02c\",\"#2ca02c\",\"#2ca02c\",\"#98df8a\",\"#1f77b4\",\"#2ca02c\",\"#2ca02c\",\"#1f77b4\",\"#aec7e8\",\"#2ca02c\",\"#2ca02c\",\"#ff7f0e\",\"#2ca02c\",\"#aec7e8\",\"#1f77b4\",\"#ff7f0e\",\"#ff7f0e\",\"#aec7e8\",\"#98df8a\",\"#ff7f0e\",\"#aec7e8\",\"#ffbb78\",\"#ff7f0e\",\"#1f77b4\",\"#98df8a\",\"#ff7f0e\",\"#98df8a\",\"#98df8a\",\"#ffbb78\",\"#aec7e8\",\"#1f77b4\",\"#1f77b4\",\"#98df8a\",\"#1f77b4\",\"#1f77b4\",\"#2ca02c\",\"#1f77b4\",\"#2ca02c\",\"#ffbb78\",\"#ffbb78\",\"#2ca02c\",\"#2ca02c\",\"#ff7f0e\",\"#2ca02c\",\"#98df8a\",\"#1f77b4\",\"#2ca02c\",\"#ffbb78\",\"#1f77b4\",\"#aec7e8\",\"#ff7f0e\",\"#ff7f0e\",\"#ffbb78\",\"#1f77b4\",\"#1f77b4\",\"#1f77b4\",\"#98df8a\",\"#1f77b4\",\"#98df8a\",\"#aec7e8\",\"#ff7f0e\",\"#ffbb78\",\"#ffbb78\",\"#1f77b4\",\"#1f77b4\",\"#1f77b4\",\"#98df8a\",\"#98df8a\",\"#ffbb78\",\"#ffbb78\",\"#98df8a\",\"#ffbb78\",\"#1f77b4\",\"#98df8a\",\"#ffbb78\",\"#1f77b4\",\"#98df8a\",\"#ff7f0e\",\"#ff7f0e\",\"#aec7e8\",\"#ff7f0e\",\"#ffbb78\",\"#1f77b4\",\"#ffbb78\",\"#2ca02c\",\"#98df8a\",\"#98df8a\",\"#ffbb78\",\"#1f77b4\",\"#1f77b4\",\"#1f77b4\",\"#aec7e8\",\"#ffbb78\",\"#1f77b4\",\"#aec7e8\",\"#ff7f0e\",\"#ff7f0e\",\"#1f77b4\",\"#aec7e8\",\"#ffbb78\",\"#2ca02c\",\"#98df8a\",\"#ff7f0e\",\"#ff7f0e\",\"#ff7f0e\",\"#98df8a\",\"#ffbb78\",\"#2ca02c\",\"#2ca02c\",\"#2ca02c\",\"#1f77b4\",\"#1f77b4\",\"#ff7f0e\",\"#2ca02c\",\"#ffbb78\",\"#1f77b4\",\"#1f77b4\",\"#ff7f0e\",\"#98df8a\",\"#1f77b4\",\"#ff7f0e\",\"#2ca02c\",\"#ffbb78\",\"#1f77b4\",\"#98df8a\",\"#ff7f0e\",\"#1f77b4\",\"#1f77b4\",\"#1f77b4\",\"#98df8a\",\"#1f77b4\",\"#aec7e8\",\"#ffbb78\",\"#ff7f0e\",\"#2ca02c\",\"#ff7f0e\",\"#98df8a\",\"#ff7f0e\",\"#1f77b4\",\"#2ca02c\",\"#2ca02c\",\"#ff7f0e\",\"#2ca02c\",\"#1f77b4\",\"#98df8a\",\"#ffbb78\",\"#2ca02c\",\"#1f77b4\",\"#2ca02c\",\"#2ca02c\",\"#1f77b4\",\"#1f77b4\",\"#2ca02c\",\"#aec7e8\",\"#aec7e8\",\"#1f77b4\",\"#98df8a\",\"#ff7f0e\",\"#1f77b4\",\"#98df8a\",\"#2ca02c\",\"#aec7e8\",\"#ffbb78\",\"#1f77b4\",\"#ff7f0e\",\"#98df8a\",\"#1f77b4\",\"#ffbb78\",\"#ffbb78\",\"#1f77b4\",\"#98df8a\",\"#1f77b4\",\"#2ca02c\",\"#98df8a\",\"#2ca02c\",\"#1f77b4\",\"#2ca02c\",\"#2ca02c\",\"#2ca02c\",\"#1f77b4\",\"#2ca02c\",\"#ffbb78\",\"#1f77b4\",\"#2ca02c\",\"#1f77b4\",\"#98df8a\",\"#aec7e8\",\"#2ca02c\",\"#2ca02c\",\"#ffbb78\",\"#98df8a\",\"#2ca02c\",\"#1f77b4\",\"#1f77b4\",\"#ffbb78\",\"#1f77b4\",\"#98df8a\",\"#98df8a\",\"#98df8a\",\"#ff7f0e\",\"#ff7f0e\",\"#aec7e8\",\"#ff7f0e\",\"#98df8a\",\"#1f77b4\",\"#ffbb78\",\"#aec7e8\",\"#ff7f0e\",\"#ff7f0e\",\"#1f77b4\",\"#1f77b4\",\"#1f77b4\",\"#1f77b4\",\"#ffbb78\",\"#ff7f0e\",\"#1f77b4\",\"#98df8a\",\"#2ca02c\",\"#aec7e8\",\"#ffbb78\",\"#ff7f0e\",\"#ff7f0e\",\"#1f77b4\",\"#1f77b4\",\"#98df8a\",\"#1f77b4\",\"#ff7f0e\",\"#aec7e8\",\"#ffbb78\",\"#aec7e8\",\"#2ca02c\",\"#2ca02c\",\"#1f77b4\",\"#1f77b4\",\"#2ca02c\",\"#ffbb78\",\"#ff7f0e\",\"#98df8a\",\"#1f77b4\",\"#2ca02c\",\"#aec7e8\",\"#2ca02c\",\"#2ca02c\",\"#1f77b4\",\"#2ca02c\",\"#1f77b4\",\"#ff7f0e\",\"#aec7e8\",\"#ff7f0e\",\"#2ca02c\",\"#ff7f0e\",\"#aec7e8\",\"#1f77b4\",\"#98df8a\",\"#98df8a\",\"#ffbb78\",\"#1f77b4\",\"#ff7f0e\",\"#1f77b4\",\"#2ca02c\",\"#2ca02c\",\"#2ca02c\",\"#ff7f0e\",\"#2ca02c\",\"#2ca02c\",\"#2ca02c\",\"#ff7f0e\",\"#2ca02c\",\"#1f77b4\",\"#98df8a\",\"#98df8a\",\"#1f77b4\",\"#ff7f0e\",\"#aec7e8\",\"#aec7e8\",\"#ffbb78\",\"#aec7e8\",\"#aec7e8\",\"#98df8a\",\"#2ca02c\",\"#98df8a\",\"#1f77b4\",\"#ff7f0e\",\"#ffbb78\",\"#1f77b4\",\"#98df8a\",\"#1f77b4\",\"#1f77b4\",\"#1f77b4\",\"#1f77b4\",\"#2ca02c\",\"#2ca02c\",\"#ff7f0e\",\"#aec7e8\",\"#ffbb78\",\"#ff7f0e\",\"#2ca02c\",\"#ff7f0e\",\"#1f77b4\",\"#aec7e8\",\"#ffbb78\",\"#2ca02c\",\"#aec7e8\",\"#ffbb78\",\"#aec7e8\",\"#ffbb78\",\"#aec7e8\",\"#aec7e8\",\"#98df8a\",\"#ff7f0e\",\"#ff7f0e\",\"#1f77b4\",\"#aec7e8\",\"#2ca02c\",\"#2ca02c\",\"#2ca02c\",\"#aec7e8\",\"#98df8a\",\"#1f77b4\",\"#ffbb78\",\"#1f77b4\",\"#aec7e8\",\"#ffbb78\",\"#2ca02c\",\"#2ca02c\",\"#2ca02c\",\"#ffbb78\",\"#98df8a\",\"#1f77b4\",\"#aec7e8\",\"#1f77b4\",\"#aec7e8\",\"#aec7e8\",\"#aec7e8\",\"#98df8a\",\"#aec7e8\",\"#98df8a\",\"#aec7e8\",\"#98df8a\",\"#98df8a\",\"#1f77b4\",\"#1f77b4\",\"#ff7f0e\",\"#ffbb78\",\"#aec7e8\",\"#1f77b4\",\"#aec7e8\",\"#98df8a\",\"#aec7e8\",\"#aec7e8\",\"#1f77b4\",\"#2ca02c\",\"#ffbb78\",\"#ff7f0e\",\"#aec7e8\",\"#aec7e8\",\"#98df8a\",\"#1f77b4\",\"#2ca02c\",\"#aec7e8\",\"#aec7e8\",\"#98df8a\",\"#ff7f0e\",\"#ffbb78\",\"#98df8a\",\"#aec7e8\",\"#1f77b4\",\"#1f77b4\",\"#98df8a\",\"#2ca02c\",\"#1f77b4\",\"#98df8a\",\"#1f77b4\",\"#aec7e8\",\"#ff7f0e\",\"#1f77b4\",\"#aec7e8\",\"#ffbb78\",\"#aec7e8\",\"#aec7e8\",\"#aec7e8\",\"#2ca02c\",\"#aec7e8\",\"#ff7f0e\",\"#1f77b4\",\"#98df8a\",\"#2ca02c\",\"#ff7f0e\",\"#1f77b4\",\"#ff7f0e\",\"#1f77b4\",\"#1f77b4\",\"#98df8a\",\"#ff7f0e\",\"#1f77b4\",\"#98df8a\",\"#1f77b4\",\"#2ca02c\",\"#aec7e8\",\"#1f77b4\",\"#ffbb78\",\"#ffbb78\",\"#aec7e8\",\"#1f77b4\",\"#ffbb78\",\"#ffbb78\",\"#ffbb78\",\"#98df8a\",\"#1f77b4\",\"#1f77b4\",\"#2ca02c\",\"#2ca02c\",\"#2ca02c\",\"#1f77b4\",\"#ff7f0e\",\"#aec7e8\",\"#ffbb78\",\"#98df8a\",\"#1f77b4\",\"#aec7e8\",\"#ffbb78\",\"#1f77b4\",\"#1f77b4\",\"#ffbb78\",\"#1f77b4\",\"#98df8a\",\"#1f77b4\",\"#2ca02c\",\"#1f77b4\",\"#2ca02c\",\"#2ca02c\",\"#2ca02c\",\"#ffbb78\",\"#2ca02c\",\"#1f77b4\",\"#2ca02c\",\"#1f77b4\",\"#aec7e8\",\"#ff7f0e\",\"#98df8a\",\"#98df8a\",\"#2ca02c\",\"#1f77b4\",\"#98df8a\",\"#ffbb78\",\"#98df8a\",\"#1f77b4\",\"#aec7e8\",\"#ff7f0e\",\"#aec7e8\",\"#1f77b4\",\"#98df8a\",\"#ff7f0e\",\"#1f77b4\",\"#98df8a\",\"#aec7e8\",\"#ffbb78\",\"#1f77b4\",\"#aec7e8\",\"#ff7f0e\",\"#2ca02c\",\"#1f77b4\",\"#ff7f0e\",\"#aec7e8\",\"#2ca02c\",\"#2ca02c\",\"#2ca02c\",\"#ffbb78\",\"#aec7e8\",\"#1f77b4\",\"#1f77b4\",\"#1f77b4\",\"#2ca02c\",\"#98df8a\",\"#aec7e8\",\"#aec7e8\",\"#2ca02c\",\"#2ca02c\",\"#ffbb78\",\"#1f77b4\",\"#1f77b4\",\"#1f77b4\",\"#ff7f0e\",\"#98df8a\",\"#2ca02c\",\"#1f77b4\",\"#ffbb78\",\"#aec7e8\",\"#1f77b4\",\"#1f77b4\",\"#ffbb78\",\"#98df8a\",\"#1f77b4\",\"#1f77b4\",\"#98df8a\",\"#ff7f0e\",\"#98df8a\",\"#ff7f0e\",\"#2ca02c\",\"#2ca02c\",\"#2ca02c\",\"#1f77b4\",\"#2ca02c\",\"#aec7e8\",\"#aec7e8\",\"#1f77b4\",\"#aec7e8\",\"#1f77b4\",\"#aec7e8\",\"#1f77b4\",\"#ffbb78\",\"#1f77b4\",\"#ffbb78\",\"#2ca02c\",\"#aec7e8\",\"#1f77b4\",\"#ff7f0e\",\"#1f77b4\",\"#1f77b4\",\"#aec7e8\",\"#ff7f0e\",\"#ff7f0e\",\"#2ca02c\",\"#ffbb78\",\"#2ca02c\",\"#2ca02c\",\"#2ca02c\",\"#1f77b4\",\"#1f77b4\",\"#aec7e8\",\"#1f77b4\",\"#ff7f0e\",\"#ffbb78\",\"#ffbb78\",\"#1f77b4\",\"#98df8a\",\"#1f77b4\",\"#ffbb78\",\"#aec7e8\",\"#2ca02c\",\"#98df8a\",\"#1f77b4\",\"#aec7e8\",\"#98df8a\",\"#ffbb78\",\"#1f77b4\",\"#1f77b4\",\"#ffbb78\",\"#aec7e8\",\"#1f77b4\",\"#1f77b4\",\"#ff7f0e\",\"#1f77b4\",\"#ffbb78\",\"#ffbb78\",\"#aec7e8\",\"#2ca02c\",\"#ff7f0e\",\"#aec7e8\",\"#aec7e8\",\"#98df8a\",\"#ffbb78\",\"#aec7e8\",\"#1f77b4\",\"#2ca02c\",\"#1f77b4\",\"#aec7e8\",\"#ff7f0e\",\"#1f77b4\",\"#aec7e8\",\"#aec7e8\",\"#1f77b4\",\"#ffbb78\",\"#ffbb78\",\"#ff7f0e\",\"#ff7f0e\",\"#98df8a\",\"#98df8a\",\"#1f77b4\",\"#1f77b4\",\"#1f77b4\",\"#aec7e8\",\"#aec7e8\",\"#ff7f0e\",\"#2ca02c\",\"#98df8a\",\"#98df8a\",\"#ffbb78\",\"#ffbb78\",\"#98df8a\",\"#ffbb78\",\"#ffbb78\",\"#aec7e8\",\"#aec7e8\",\"#2ca02c\",\"#ffbb78\",\"#aec7e8\",\"#ff7f0e\",\"#ff7f0e\",\"#98df8a\",\"#98df8a\",\"#98df8a\",\"#aec7e8\",\"#2ca02c\",\"#2ca02c\",\"#ff7f0e\",\"#ffbb78\",\"#ff7f0e\",\"#aec7e8\",\"#ffbb78\",\"#98df8a\",\"#aec7e8\",\"#aec7e8\",\"#98df8a\",\"#ffbb78\",\"#ff7f0e\",\"#ff7f0e\",\"#98df8a\",\"#2ca02c\",\"#ffbb78\",\"#ff7f0e\",\"#1f77b4\",\"#ff7f0e\",\"#98df8a\",\"#ffbb78\",\"#1f77b4\",\"#98df8a\",\"#1f77b4\",\"#aec7e8\",\"#2ca02c\",\"#ff7f0e\",\"#2ca02c\",\"#ff7f0e\",\"#1f77b4\",\"#1f77b4\",\"#aec7e8\",\"#1f77b4\",\"#1f77b4\",\"#2ca02c\",\"#1f77b4\",\"#2ca02c\",\"#ffbb78\",\"#1f77b4\",\"#98df8a\",\"#98df8a\",\"#1f77b4\",\"#ff7f0e\",\"#1f77b4\",\"#aec7e8\",\"#1f77b4\",\"#2ca02c\",\"#2ca02c\",\"#98df8a\",\"#1f77b4\",\"#1f77b4\",\"#98df8a\",\"#ffbb78\",\"#ffbb78\",\"#1f77b4\",\"#ffbb78\",\"#ffbb78\",\"#1f77b4\",\"#ffbb78\",\"#ff7f0e\",\"#1f77b4\",\"#ff7f0e\",\"#2ca02c\",\"#1f77b4\",\"#aec7e8\",\"#98df8a\",\"#98df8a\",\"#ffbb78\",\"#1f77b4\",\"#2ca02c\",\"#98df8a\",\"#2ca02c\",\"#2ca02c\",\"#2ca02c\",\"#1f77b4\",\"#2ca02c\",\"#98df8a\",\"#1f77b4\",\"#aec7e8\",\"#98df8a\",\"#1f77b4\",\"#ffbb78\",\"#98df8a\",\"#ffbb78\",\"#1f77b4\",\"#ffbb78\",\"#ffbb78\",\"#aec7e8\",\"#1f77b4\",\"#aec7e8\",\"#98df8a\",\"#2ca02c\",\"#98df8a\",\"#ff7f0e\",\"#1f77b4\",\"#2ca02c\",\"#aec7e8\",\"#2ca02c\",\"#2ca02c\",\"#1f77b4\",\"#aec7e8\",\"#98df8a\",\"#ffbb78\",\"#98df8a\",\"#98df8a\",\"#aec7e8\",\"#1f77b4\",\"#ffbb78\",\"#1f77b4\",\"#1f77b4\",\"#1f77b4\",\"#1f77b4\",\"#aec7e8\",\"#2ca02c\",\"#1f77b4\",\"#ff7f0e\",\"#98df8a\",\"#ff7f0e\",\"#2ca02c\",\"#2ca02c\",\"#aec7e8\",\"#1f77b4\",\"#1f77b4\",\"#2ca02c\",\"#ffbb78\",\"#ffbb78\",\"#2ca02c\",\"#ff7f0e\",\"#2ca02c\",\"#1f77b4\",\"#1f77b4\",\"#aec7e8\",\"#aec7e8\",\"#2ca02c\",\"#98df8a\",\"#ffbb78\",\"#1f77b4\",\"#aec7e8\",\"#ff7f0e\",\"#98df8a\",\"#1f77b4\",\"#ffbb78\",\"#1f77b4\",\"#1f77b4\",\"#98df8a\",\"#98df8a\",\"#1f77b4\",\"#aec7e8\",\"#aec7e8\",\"#98df8a\",\"#ffbb78\",\"#aec7e8\",\"#ff7f0e\",\"#ff7f0e\",\"#ff7f0e\",\"#1f77b4\",\"#ffbb78\",\"#98df8a\",\"#aec7e8\",\"#ffbb78\",\"#1f77b4\",\"#1f77b4\",\"#98df8a\",\"#1f77b4\",\"#ffbb78\",\"#ffbb78\",\"#98df8a\",\"#ffbb78\",\"#ffbb78\",\"#1f77b4\",\"#1f77b4\",\"#1f77b4\",\"#ffbb78\",\"#aec7e8\",\"#2ca02c\",\"#2ca02c\",\"#98df8a\",\"#98df8a\",\"#aec7e8\",\"#ffbb78\",\"#1f77b4\",\"#aec7e8\",\"#ff7f0e\",\"#1f77b4\",\"#98df8a\",\"#aec7e8\",\"#aec7e8\",\"#98df8a\",\"#ffbb78\",\"#ff7f0e\",\"#ff7f0e\",\"#2ca02c\",\"#98df8a\",\"#1f77b4\",\"#1f77b4\",\"#ffbb78\",\"#98df8a\",\"#ffbb78\",\"#98df8a\",\"#ffbb78\",\"#aec7e8\",\"#2ca02c\",\"#2ca02c\",\"#1f77b4\",\"#aec7e8\",\"#98df8a\",\"#2ca02c\",\"#aec7e8\",\"#aec7e8\",\"#ffbb78\",\"#ffbb78\",\"#ff7f0e\",\"#aec7e8\",\"#ffbb78\",\"#98df8a\",\"#2ca02c\",\"#ff7f0e\",\"#ff7f0e\",\"#1f77b4\",\"#1f77b4\",\"#98df8a\",\"#ff7f0e\",\"#aec7e8\",\"#2ca02c\",\"#1f77b4\",\"#1f77b4\",\"#1f77b4\",\"#98df8a\",\"#ff7f0e\",\"#98df8a\",\"#ffbb78\",\"#98df8a\",\"#98df8a\",\"#1f77b4\",\"#2ca02c\",\"#aec7e8\",\"#ffbb78\",\"#2ca02c\",\"#98df8a\",\"#1f77b4\",\"#ffbb78\",\"#98df8a\",\"#98df8a\",\"#98df8a\",\"#2ca02c\",\"#2ca02c\",\"#ff7f0e\",\"#ffbb78\",\"#2ca02c\",\"#1f77b4\",\"#2ca02c\",\"#2ca02c\",\"#ffbb78\",\"#98df8a\",\"#2ca02c\",\"#2ca02c\",\"#2ca02c\",\"#1f77b4\",\"#2ca02c\",\"#2ca02c\",\"#2ca02c\",\"#2ca02c\",\"#aec7e8\",\"#2ca02c\",\"#ffbb78\",\"#2ca02c\",\"#1f77b4\",\"#2ca02c\",\"#2ca02c\",\"#ffbb78\",\"#ffbb78\",\"#1f77b4\",\"#2ca02c\",\"#98df8a\",\"#98df8a\",\"#98df8a\",\"#aec7e8\",\"#aec7e8\",\"#98df8a\",\"#ff7f0e\",\"#aec7e8\",\"#2ca02c\",\"#2ca02c\",\"#98df8a\",\"#1f77b4\",\"#98df8a\",\"#1f77b4\",\"#2ca02c\",\"#aec7e8\",\"#ffbb78\",\"#1f77b4\",\"#1f77b4\",\"#1f77b4\",\"#aec7e8\",\"#98df8a\",\"#ff7f0e\",\"#1f77b4\",\"#98df8a\",\"#1f77b4\",\"#1f77b4\",\"#aec7e8\",\"#1f77b4\",\"#1f77b4\",\"#aec7e8\",\"#ffbb78\",\"#98df8a\",\"#1f77b4\",\"#1f77b4\",\"#98df8a\",\"#ff7f0e\",\"#2ca02c\",\"#ff7f0e\",\"#98df8a\",\"#ffbb78\",\"#ff7f0e\",\"#2ca02c\",\"#1f77b4\",\"#aec7e8\",\"#1f77b4\",\"#1f77b4\",\"#2ca02c\",\"#ffbb78\",\"#aec7e8\",\"#ffbb78\",\"#98df8a\",\"#ffbb78\",\"#2ca02c\",\"#1f77b4\",\"#ffbb78\",\"#1f77b4\",\"#ffbb78\",\"#1f77b4\",\"#ffbb78\",\"#98df8a\",\"#ffbb78\",\"#98df8a\",\"#1f77b4\",\"#ffbb78\",\"#1f77b4\",\"#2ca02c\",\"#1f77b4\",\"#98df8a\",\"#ff7f0e\",\"#ffbb78\",\"#2ca02c\",\"#ffbb78\",\"#2ca02c\",\"#ffbb78\",\"#ff7f0e\",\"#2ca02c\",\"#ffbb78\",\"#1f77b4\",\"#2ca02c\",\"#aec7e8\",\"#2ca02c\",\"#98df8a\",\"#1f77b4\",\"#2ca02c\",\"#1f77b4\",\"#98df8a\",\"#1f77b4\",\"#2ca02c\",\"#2ca02c\",\"#ff7f0e\",\"#98df8a\",\"#98df8a\",\"#2ca02c\",\"#98df8a\",\"#1f77b4\",\"#ff7f0e\",\"#2ca02c\",\"#ffbb78\",\"#2ca02c\",\"#ff7f0e\",\"#2ca02c\",\"#2ca02c\",\"#1f77b4\",\"#1f77b4\",\"#aec7e8\",\"#ff7f0e\",\"#aec7e8\",\"#1f77b4\",\"#ffbb78\",\"#ffbb78\",\"#aec7e8\",\"#ff7f0e\",\"#ffbb78\",\"#ffbb78\",\"#2ca02c\",\"#ffbb78\",\"#2ca02c\",\"#98df8a\",\"#1f77b4\",\"#ff7f0e\",\"#1f77b4\",\"#1f77b4\",\"#2ca02c\",\"#ffbb78\",\"#1f77b4\",\"#1f77b4\",\"#1f77b4\",\"#2ca02c\",\"#ff7f0e\",\"#aec7e8\",\"#ffbb78\",\"#98df8a\",\"#2ca02c\",\"#2ca02c\",\"#ffbb78\",\"#98df8a\",\"#98df8a\",\"#2ca02c\"],\"shape\":[2224],\"dtype\":\"object\",\"order\":\"little\"}],[\"fill_color\",{\"type\":\"ndarray\",\"array\":[\"#98df8a\",\"#ff7f0e\",\"#2ca02c\",\"#ff7f0e\",\"#ffbb78\",\"#2ca02c\",\"#2ca02c\",\"#2ca02c\",\"#2ca02c\",\"#ffbb78\",\"#ff7f0e\",\"#2ca02c\",\"#aec7e8\",\"#2ca02c\",\"#ff7f0e\",\"#98df8a\",\"#2ca02c\",\"#aec7e8\",\"#aec7e8\",\"#ffbb78\",\"#98df8a\",\"#aec7e8\",\"#2ca02c\",\"#aec7e8\",\"#1f77b4\",\"#ffbb78\",\"#aec7e8\",\"#ffbb78\",\"#1f77b4\",\"#ffbb78\",\"#2ca02c\",\"#2ca02c\",\"#1f77b4\",\"#2ca02c\",\"#ff7f0e\",\"#1f77b4\",\"#1f77b4\",\"#1f77b4\",\"#1f77b4\",\"#98df8a\",\"#ff7f0e\",\"#2ca02c\",\"#ffbb78\",\"#aec7e8\",\"#aec7e8\",\"#98df8a\",\"#aec7e8\",\"#1f77b4\",\"#1f77b4\",\"#ffbb78\",\"#1f77b4\",\"#aec7e8\",\"#98df8a\",\"#1f77b4\",\"#ffbb78\",\"#98df8a\",\"#2ca02c\",\"#ff7f0e\",\"#ff7f0e\",\"#1f77b4\",\"#ff7f0e\",\"#1f77b4\",\"#ffbb78\",\"#ffbb78\",\"#aec7e8\",\"#1f77b4\",\"#1f77b4\",\"#ffbb78\",\"#1f77b4\",\"#1f77b4\",\"#1f77b4\",\"#2ca02c\",\"#ffbb78\",\"#2ca02c\",\"#2ca02c\",\"#aec7e8\",\"#2ca02c\",\"#ff7f0e\",\"#98df8a\",\"#1f77b4\",\"#98df8a\",\"#2ca02c\",\"#2ca02c\",\"#aec7e8\",\"#2ca02c\",\"#2ca02c\",\"#2ca02c\",\"#ffbb78\",\"#2ca02c\",\"#ffbb78\",\"#2ca02c\",\"#1f77b4\",\"#ffbb78\",\"#ff7f0e\",\"#aec7e8\",\"#ffbb78\",\"#1f77b4\",\"#aec7e8\",\"#1f77b4\",\"#2ca02c\",\"#ffbb78\",\"#2ca02c\",\"#aec7e8\",\"#2ca02c\",\"#aec7e8\",\"#98df8a\",\"#2ca02c\",\"#ff7f0e\",\"#aec7e8\",\"#1f77b4\",\"#1f77b4\",\"#ffbb78\",\"#1f77b4\",\"#1f77b4\",\"#2ca02c\",\"#2ca02c\",\"#2ca02c\",\"#2ca02c\",\"#ff7f0e\",\"#2ca02c\",\"#1f77b4\",\"#2ca02c\",\"#aec7e8\",\"#2ca02c\",\"#1f77b4\",\"#2ca02c\",\"#ffbb78\",\"#ffbb78\",\"#2ca02c\",\"#2ca02c\",\"#1f77b4\",\"#ffbb78\",\"#2ca02c\",\"#ffbb78\",\"#98df8a\",\"#ffbb78\",\"#98df8a\",\"#2ca02c\",\"#2ca02c\",\"#98df8a\",\"#1f77b4\",\"#aec7e8\",\"#2ca02c\",\"#2ca02c\",\"#1f77b4\",\"#2ca02c\",\"#2ca02c\",\"#1f77b4\",\"#98df8a\",\"#aec7e8\",\"#ff7f0e\",\"#2ca02c\",\"#98df8a\",\"#2ca02c\",\"#2ca02c\",\"#2ca02c\",\"#2ca02c\",\"#aec7e8\",\"#1f77b4\",\"#ffbb78\",\"#aec7e8\",\"#ffbb78\",\"#1f77b4\",\"#ffbb78\",\"#ffbb78\",\"#ffbb78\",\"#1f77b4\",\"#1f77b4\",\"#98df8a\",\"#ffbb78\",\"#98df8a\",\"#2ca02c\",\"#2ca02c\",\"#aec7e8\",\"#ffbb78\",\"#98df8a\",\"#ffbb78\",\"#ffbb78\",\"#ff7f0e\",\"#ffbb78\",\"#ffbb78\",\"#aec7e8\",\"#ffbb78\",\"#ffbb78\",\"#aec7e8\",\"#ffbb78\",\"#2ca02c\",\"#ffbb78\",\"#2ca02c\",\"#2ca02c\",\"#aec7e8\",\"#ffbb78\",\"#98df8a\",\"#98df8a\",\"#ffbb78\",\"#2ca02c\",\"#1f77b4\",\"#1f77b4\",\"#aec7e8\",\"#ffbb78\",\"#ff7f0e\",\"#1f77b4\",\"#1f77b4\",\"#ffbb78\",\"#1f77b4\",\"#98df8a\",\"#98df8a\",\"#2ca02c\",\"#1f77b4\",\"#2ca02c\",\"#aec7e8\",\"#aec7e8\",\"#aec7e8\",\"#ff7f0e\",\"#1f77b4\",\"#ffbb78\",\"#aec7e8\",\"#1f77b4\",\"#ff7f0e\",\"#98df8a\",\"#98df8a\",\"#ff7f0e\",\"#ffbb78\",\"#ff7f0e\",\"#98df8a\",\"#1f77b4\",\"#1f77b4\",\"#98df8a\",\"#2ca02c\",\"#1f77b4\",\"#ffbb78\",\"#ff7f0e\",\"#2ca02c\",\"#2ca02c\",\"#98df8a\",\"#aec7e8\",\"#98df8a\",\"#2ca02c\",\"#ffbb78\",\"#1f77b4\",\"#1f77b4\",\"#1f77b4\",\"#1f77b4\",\"#aec7e8\",\"#aec7e8\",\"#1f77b4\",\"#98df8a\",\"#ffbb78\",\"#ffbb78\",\"#98df8a\",\"#ffbb78\",\"#1f77b4\",\"#aec7e8\",\"#ffbb78\",\"#aec7e8\",\"#98df8a\",\"#98df8a\",\"#1f77b4\",\"#2ca02c\",\"#aec7e8\",\"#1f77b4\",\"#ff7f0e\",\"#ff7f0e\",\"#ff7f0e\",\"#98df8a\",\"#2ca02c\",\"#2ca02c\",\"#aec7e8\",\"#98df8a\",\"#1f77b4\",\"#1f77b4\",\"#aec7e8\",\"#2ca02c\",\"#1f77b4\",\"#98df8a\",\"#98df8a\",\"#98df8a\",\"#aec7e8\",\"#98df8a\",\"#98df8a\",\"#1f77b4\",\"#1f77b4\",\"#ff7f0e\",\"#1f77b4\",\"#1f77b4\",\"#ff7f0e\",\"#2ca02c\",\"#1f77b4\",\"#2ca02c\",\"#1f77b4\",\"#1f77b4\",\"#1f77b4\",\"#ff7f0e\",\"#aec7e8\",\"#ffbb78\",\"#ffbb78\",\"#1f77b4\",\"#ff7f0e\",\"#ffbb78\",\"#1f77b4\",\"#ff7f0e\",\"#1f77b4\",\"#98df8a\",\"#1f77b4\",\"#2ca02c\",\"#aec7e8\",\"#1f77b4\",\"#98df8a\",\"#2ca02c\",\"#98df8a\",\"#aec7e8\",\"#1f77b4\",\"#98df8a\",\"#1f77b4\",\"#ff7f0e\",\"#98df8a\",\"#aec7e8\",\"#ff7f0e\",\"#2ca02c\",\"#2ca02c\",\"#98df8a\",\"#1f77b4\",\"#1f77b4\",\"#ffbb78\",\"#98df8a\",\"#ffbb78\",\"#ff7f0e\",\"#aec7e8\",\"#1f77b4\",\"#ffbb78\",\"#ff7f0e\",\"#ff7f0e\",\"#1f77b4\",\"#1f77b4\",\"#1f77b4\",\"#1f77b4\",\"#2ca02c\",\"#2ca02c\",\"#2ca02c\",\"#2ca02c\",\"#1f77b4\",\"#1f77b4\",\"#aec7e8\",\"#2ca02c\",\"#ffbb78\",\"#2ca02c\",\"#ffbb78\",\"#ff7f0e\",\"#aec7e8\",\"#98df8a\",\"#2ca02c\",\"#98df8a\",\"#2ca02c\",\"#2ca02c\",\"#2ca02c\",\"#2ca02c\",\"#2ca02c\",\"#2ca02c\",\"#ffbb78\",\"#ffbb78\",\"#1f77b4\",\"#ff7f0e\",\"#aec7e8\",\"#2ca02c\",\"#ff7f0e\",\"#2ca02c\",\"#2ca02c\",\"#1f77b4\",\"#2ca02c\",\"#2ca02c\",\"#ff7f0e\",\"#1f77b4\",\"#2ca02c\",\"#98df8a\",\"#aec7e8\",\"#98df8a\",\"#98df8a\",\"#ff7f0e\",\"#1f77b4\",\"#1f77b4\",\"#1f77b4\",\"#ff7f0e\",\"#1f77b4\",\"#ff7f0e\",\"#aec7e8\",\"#aec7e8\",\"#98df8a\",\"#1f77b4\",\"#98df8a\",\"#ffbb78\",\"#2ca02c\",\"#ffbb78\",\"#98df8a\",\"#ffbb78\",\"#98df8a\",\"#ff7f0e\",\"#1f77b4\",\"#98df8a\",\"#aec7e8\",\"#98df8a\",\"#1f77b4\",\"#98df8a\",\"#aec7e8\",\"#1f77b4\",\"#1f77b4\",\"#1f77b4\",\"#ff7f0e\",\"#ff7f0e\",\"#1f77b4\",\"#ff7f0e\",\"#98df8a\",\"#1f77b4\",\"#2ca02c\",\"#ff7f0e\",\"#ffbb78\",\"#ffbb78\",\"#1f77b4\",\"#ffbb78\",\"#ffbb78\",\"#aec7e8\",\"#ffbb78\",\"#aec7e8\",\"#ffbb78\",\"#ff7f0e\",\"#aec7e8\",\"#98df8a\",\"#ff7f0e\",\"#ffbb78\",\"#aec7e8\",\"#2ca02c\",\"#1f77b4\",\"#aec7e8\",\"#aec7e8\",\"#98df8a\",\"#aec7e8\",\"#aec7e8\",\"#1f77b4\",\"#98df8a\",\"#98df8a\",\"#1f77b4\",\"#ff7f0e\",\"#ff7f0e\",\"#2ca02c\",\"#2ca02c\",\"#2ca02c\",\"#1f77b4\",\"#2ca02c\",\"#1f77b4\",\"#1f77b4\",\"#1f77b4\",\"#ff7f0e\",\"#aec7e8\",\"#1f77b4\",\"#ff7f0e\",\"#1f77b4\",\"#ffbb78\",\"#2ca02c\",\"#aec7e8\",\"#ff7f0e\",\"#2ca02c\",\"#ff7f0e\",\"#ff7f0e\",\"#ff7f0e\",\"#1f77b4\",\"#ffbb78\",\"#1f77b4\",\"#aec7e8\",\"#aec7e8\",\"#98df8a\",\"#98df8a\",\"#ffbb78\",\"#1f77b4\",\"#98df8a\",\"#1f77b4\",\"#ff7f0e\",\"#ffbb78\",\"#ffbb78\",\"#1f77b4\",\"#ffbb78\",\"#98df8a\",\"#1f77b4\",\"#ff7f0e\",\"#1f77b4\",\"#aec7e8\",\"#aec7e8\",\"#98df8a\",\"#1f77b4\",\"#ff7f0e\",\"#aec7e8\",\"#1f77b4\",\"#1f77b4\",\"#1f77b4\",\"#98df8a\",\"#98df8a\",\"#aec7e8\",\"#2ca02c\",\"#98df8a\",\"#ffbb78\",\"#1f77b4\",\"#ffbb78\",\"#2ca02c\",\"#ffbb78\",\"#2ca02c\",\"#1f77b4\",\"#ffbb78\",\"#2ca02c\",\"#2ca02c\",\"#2ca02c\",\"#2ca02c\",\"#ffbb78\",\"#2ca02c\",\"#2ca02c\",\"#ff7f0e\",\"#98df8a\",\"#98df8a\",\"#1f77b4\",\"#ffbb78\",\"#1f77b4\",\"#2ca02c\",\"#ffbb78\",\"#2ca02c\",\"#2ca02c\",\"#2ca02c\",\"#2ca02c\",\"#2ca02c\",\"#aec7e8\",\"#98df8a\",\"#aec7e8\",\"#aec7e8\",\"#2ca02c\",\"#aec7e8\",\"#aec7e8\",\"#98df8a\",\"#ffbb78\",\"#1f77b4\",\"#aec7e8\",\"#2ca02c\",\"#2ca02c\",\"#2ca02c\",\"#1f77b4\",\"#98df8a\",\"#1f77b4\",\"#2ca02c\",\"#2ca02c\",\"#1f77b4\",\"#1f77b4\",\"#1f77b4\",\"#ff7f0e\",\"#1f77b4\",\"#1f77b4\",\"#98df8a\",\"#ff7f0e\",\"#aec7e8\",\"#1f77b4\",\"#2ca02c\",\"#ffbb78\",\"#ffbb78\",\"#98df8a\",\"#1f77b4\",\"#aec7e8\",\"#aec7e8\",\"#1f77b4\",\"#98df8a\",\"#ff7f0e\",\"#2ca02c\",\"#ffbb78\",\"#aec7e8\",\"#98df8a\",\"#aec7e8\",\"#aec7e8\",\"#ffbb78\",\"#ffbb78\",\"#98df8a\",\"#aec7e8\",\"#aec7e8\",\"#98df8a\",\"#ffbb78\",\"#ffbb78\",\"#2ca02c\",\"#98df8a\",\"#98df8a\",\"#ffbb78\",\"#98df8a\",\"#ffbb78\",\"#ffbb78\",\"#ffbb78\",\"#98df8a\",\"#98df8a\",\"#aec7e8\",\"#ffbb78\",\"#aec7e8\",\"#1f77b4\",\"#1f77b4\",\"#aec7e8\",\"#1f77b4\",\"#ff7f0e\",\"#ff7f0e\",\"#aec7e8\",\"#1f77b4\",\"#ff7f0e\",\"#2ca02c\",\"#aec7e8\",\"#1f77b4\",\"#98df8a\",\"#1f77b4\",\"#1f77b4\",\"#1f77b4\",\"#aec7e8\",\"#ff7f0e\",\"#ffbb78\",\"#98df8a\",\"#1f77b4\",\"#ff7f0e\",\"#2ca02c\",\"#aec7e8\",\"#ff7f0e\",\"#2ca02c\",\"#2ca02c\",\"#98df8a\",\"#1f77b4\",\"#1f77b4\",\"#2ca02c\",\"#2ca02c\",\"#2ca02c\",\"#1f77b4\",\"#ffbb78\",\"#98df8a\",\"#1f77b4\",\"#1f77b4\",\"#1f77b4\",\"#1f77b4\",\"#ff7f0e\",\"#98df8a\",\"#aec7e8\",\"#98df8a\",\"#2ca02c\",\"#2ca02c\",\"#aec7e8\",\"#ffbb78\",\"#98df8a\",\"#98df8a\",\"#1f77b4\",\"#ffbb78\",\"#aec7e8\",\"#2ca02c\",\"#98df8a\",\"#2ca02c\",\"#98df8a\",\"#ffbb78\",\"#2ca02c\",\"#ff7f0e\",\"#1f77b4\",\"#2ca02c\",\"#2ca02c\",\"#98df8a\",\"#98df8a\",\"#ff7f0e\",\"#ff7f0e\",\"#aec7e8\",\"#2ca02c\",\"#98df8a\",\"#98df8a\",\"#1f77b4\",\"#ff7f0e\",\"#ffbb78\",\"#1f77b4\",\"#1f77b4\",\"#aec7e8\",\"#98df8a\",\"#98df8a\",\"#1f77b4\",\"#1f77b4\",\"#ffbb78\",\"#aec7e8\",\"#1f77b4\",\"#1f77b4\",\"#1f77b4\",\"#1f77b4\",\"#1f77b4\",\"#1f77b4\",\"#1f77b4\",\"#ff7f0e\",\"#2ca02c\",\"#1f77b4\",\"#1f77b4\",\"#ffbb78\",\"#1f77b4\",\"#1f77b4\",\"#1f77b4\",\"#1f77b4\",\"#aec7e8\",\"#ffbb78\",\"#ffbb78\",\"#2ca02c\",\"#1f77b4\",\"#1f77b4\",\"#ffbb78\",\"#2ca02c\",\"#98df8a\",\"#98df8a\",\"#1f77b4\",\"#2ca02c\",\"#ff7f0e\",\"#1f77b4\",\"#ff7f0e\",\"#1f77b4\",\"#98df8a\",\"#1f77b4\",\"#ffbb78\",\"#aec7e8\",\"#1f77b4\",\"#98df8a\",\"#2ca02c\",\"#1f77b4\",\"#1f77b4\",\"#1f77b4\",\"#2ca02c\",\"#ffbb78\",\"#2ca02c\",\"#2ca02c\",\"#1f77b4\",\"#2ca02c\",\"#98df8a\",\"#ff7f0e\",\"#ffbb78\",\"#1f77b4\",\"#aec7e8\",\"#ff7f0e\",\"#1f77b4\",\"#aec7e8\",\"#ffbb78\",\"#ffbb78\",\"#2ca02c\",\"#98df8a\",\"#aec7e8\",\"#98df8a\",\"#2ca02c\",\"#ff7f0e\",\"#1f77b4\",\"#2ca02c\",\"#98df8a\",\"#1f77b4\",\"#1f77b4\",\"#1f77b4\",\"#2ca02c\",\"#2ca02c\",\"#aec7e8\",\"#ffbb78\",\"#1f77b4\",\"#98df8a\",\"#1f77b4\",\"#1f77b4\",\"#ff7f0e\",\"#98df8a\",\"#ff7f0e\",\"#aec7e8\",\"#1f77b4\",\"#1f77b4\",\"#2ca02c\",\"#ffbb78\",\"#ffbb78\",\"#2ca02c\",\"#ffbb78\",\"#98df8a\",\"#aec7e8\",\"#1f77b4\",\"#98df8a\",\"#98df8a\",\"#2ca02c\",\"#1f77b4\",\"#aec7e8\",\"#aec7e8\",\"#1f77b4\",\"#ffbb78\",\"#1f77b4\",\"#ff7f0e\",\"#ff7f0e\",\"#2ca02c\",\"#98df8a\",\"#ff7f0e\",\"#98df8a\",\"#1f77b4\",\"#1f77b4\",\"#1f77b4\",\"#1f77b4\",\"#98df8a\",\"#aec7e8\",\"#98df8a\",\"#1f77b4\",\"#1f77b4\",\"#1f77b4\",\"#ffbb78\",\"#ffbb78\",\"#2ca02c\",\"#98df8a\",\"#ff7f0e\",\"#ff7f0e\",\"#ffbb78\",\"#98df8a\",\"#2ca02c\",\"#2ca02c\",\"#98df8a\",\"#1f77b4\",\"#ffbb78\",\"#2ca02c\",\"#aec7e8\",\"#1f77b4\",\"#98df8a\",\"#98df8a\",\"#1f77b4\",\"#2ca02c\",\"#2ca02c\",\"#98df8a\",\"#ffbb78\",\"#ffbb78\",\"#aec7e8\",\"#2ca02c\",\"#2ca02c\",\"#1f77b4\",\"#aec7e8\",\"#2ca02c\",\"#98df8a\",\"#ff7f0e\",\"#2ca02c\",\"#2ca02c\",\"#ffbb78\",\"#2ca02c\",\"#2ca02c\",\"#2ca02c\",\"#ffbb78\",\"#2ca02c\",\"#1f77b4\",\"#ff7f0e\",\"#aec7e8\",\"#2ca02c\",\"#1f77b4\",\"#ffbb78\",\"#aec7e8\",\"#98df8a\",\"#2ca02c\",\"#2ca02c\",\"#ffbb78\",\"#ffbb78\",\"#aec7e8\",\"#98df8a\",\"#ff7f0e\",\"#2ca02c\",\"#98df8a\",\"#1f77b4\",\"#2ca02c\",\"#1f77b4\",\"#ffbb78\",\"#ff7f0e\",\"#ff7f0e\",\"#ff7f0e\",\"#aec7e8\",\"#1f77b4\",\"#ff7f0e\",\"#1f77b4\",\"#98df8a\",\"#98df8a\",\"#ff7f0e\",\"#2ca02c\",\"#2ca02c\",\"#ffbb78\",\"#2ca02c\",\"#1f77b4\",\"#1f77b4\",\"#2ca02c\",\"#98df8a\",\"#1f77b4\",\"#ff7f0e\",\"#1f77b4\",\"#aec7e8\",\"#ffbb78\",\"#1f77b4\",\"#2ca02c\",\"#ff7f0e\",\"#98df8a\",\"#2ca02c\",\"#ffbb78\",\"#1f77b4\",\"#ffbb78\",\"#ffbb78\",\"#1f77b4\",\"#98df8a\",\"#98df8a\",\"#2ca02c\",\"#2ca02c\",\"#98df8a\",\"#ff7f0e\",\"#1f77b4\",\"#ff7f0e\",\"#ff7f0e\",\"#1f77b4\",\"#ffbb78\",\"#98df8a\",\"#ffbb78\",\"#aec7e8\",\"#ffbb78\",\"#1f77b4\",\"#1f77b4\",\"#ff7f0e\",\"#aec7e8\",\"#aec7e8\",\"#ff7f0e\",\"#aec7e8\",\"#1f77b4\",\"#1f77b4\",\"#2ca02c\",\"#98df8a\",\"#98df8a\",\"#ff7f0e\",\"#2ca02c\",\"#1f77b4\",\"#1f77b4\",\"#ffbb78\",\"#ffbb78\",\"#1f77b4\",\"#1f77b4\",\"#ffbb78\",\"#ffbb78\",\"#ffbb78\",\"#1f77b4\",\"#98df8a\",\"#1f77b4\",\"#aec7e8\",\"#aec7e8\",\"#1f77b4\",\"#aec7e8\",\"#aec7e8\",\"#aec7e8\",\"#aec7e8\",\"#98df8a\",\"#aec7e8\",\"#ffbb78\",\"#1f77b4\",\"#aec7e8\",\"#1f77b4\",\"#2ca02c\",\"#98df8a\",\"#ff7f0e\",\"#1f77b4\",\"#98df8a\",\"#aec7e8\",\"#ff7f0e\",\"#1f77b4\",\"#2ca02c\",\"#98df8a\",\"#1f77b4\",\"#ff7f0e\",\"#ffbb78\",\"#2ca02c\",\"#aec7e8\",\"#ffbb78\",\"#1f77b4\",\"#98df8a\",\"#aec7e8\",\"#1f77b4\",\"#aec7e8\",\"#ff7f0e\",\"#98df8a\",\"#2ca02c\",\"#ff7f0e\",\"#aec7e8\",\"#aec7e8\",\"#ffbb78\",\"#1f77b4\",\"#ffbb78\",\"#98df8a\",\"#1f77b4\",\"#2ca02c\",\"#1f77b4\",\"#ffbb78\",\"#aec7e8\",\"#aec7e8\",\"#ff7f0e\",\"#ff7f0e\",\"#98df8a\",\"#1f77b4\",\"#98df8a\",\"#ffbb78\",\"#ffbb78\",\"#1f77b4\",\"#aec7e8\",\"#ffbb78\",\"#1f77b4\",\"#1f77b4\",\"#2ca02c\",\"#ff7f0e\",\"#1f77b4\",\"#98df8a\",\"#98df8a\",\"#aec7e8\",\"#aec7e8\",\"#ffbb78\",\"#ff7f0e\",\"#98df8a\",\"#1f77b4\",\"#aec7e8\",\"#98df8a\",\"#1f77b4\",\"#ffbb78\",\"#2ca02c\",\"#1f77b4\",\"#ffbb78\",\"#1f77b4\",\"#aec7e8\",\"#ff7f0e\",\"#aec7e8\",\"#98df8a\",\"#ffbb78\",\"#ff7f0e\",\"#aec7e8\",\"#aec7e8\",\"#1f77b4\",\"#ff7f0e\",\"#ffbb78\",\"#ff7f0e\",\"#ffbb78\",\"#2ca02c\",\"#98df8a\",\"#1f77b4\",\"#98df8a\",\"#2ca02c\",\"#2ca02c\",\"#aec7e8\",\"#98df8a\",\"#98df8a\",\"#aec7e8\",\"#2ca02c\",\"#1f77b4\",\"#98df8a\",\"#aec7e8\",\"#98df8a\",\"#98df8a\",\"#98df8a\",\"#98df8a\",\"#98df8a\",\"#ffbb78\",\"#ff7f0e\",\"#1f77b4\",\"#ff7f0e\",\"#2ca02c\",\"#ffbb78\",\"#ffbb78\",\"#2ca02c\",\"#ffbb78\",\"#2ca02c\",\"#aec7e8\",\"#ff7f0e\",\"#2ca02c\",\"#2ca02c\",\"#2ca02c\",\"#2ca02c\",\"#aec7e8\",\"#2ca02c\",\"#ffbb78\",\"#2ca02c\",\"#aec7e8\",\"#2ca02c\",\"#ffbb78\",\"#ff7f0e\",\"#2ca02c\",\"#2ca02c\",\"#2ca02c\",\"#2ca02c\",\"#2ca02c\",\"#1f77b4\",\"#2ca02c\",\"#2ca02c\",\"#2ca02c\",\"#2ca02c\",\"#aec7e8\",\"#2ca02c\",\"#2ca02c\",\"#ff7f0e\",\"#aec7e8\",\"#1f77b4\",\"#2ca02c\",\"#98df8a\",\"#aec7e8\",\"#98df8a\",\"#aec7e8\",\"#ffbb78\",\"#1f77b4\",\"#ffbb78\",\"#1f77b4\",\"#2ca02c\",\"#1f77b4\",\"#1f77b4\",\"#1f77b4\",\"#98df8a\",\"#aec7e8\",\"#1f77b4\",\"#98df8a\",\"#98df8a\",\"#1f77b4\",\"#ff7f0e\",\"#2ca02c\",\"#98df8a\",\"#2ca02c\",\"#ff7f0e\",\"#ffbb78\",\"#98df8a\",\"#2ca02c\",\"#98df8a\",\"#1f77b4\",\"#1f77b4\",\"#2ca02c\",\"#ff7f0e\",\"#aec7e8\",\"#98df8a\",\"#98df8a\",\"#98df8a\",\"#98df8a\",\"#ff7f0e\",\"#2ca02c\",\"#1f77b4\",\"#ffbb78\",\"#2ca02c\",\"#2ca02c\",\"#2ca02c\",\"#98df8a\",\"#ff7f0e\",\"#aec7e8\",\"#1f77b4\",\"#98df8a\",\"#ffbb78\",\"#98df8a\",\"#ffbb78\",\"#aec7e8\",\"#1f77b4\",\"#1f77b4\",\"#aec7e8\",\"#ffbb78\",\"#2ca02c\",\"#2ca02c\",\"#2ca02c\",\"#aec7e8\",\"#ff7f0e\",\"#1f77b4\",\"#1f77b4\",\"#aec7e8\",\"#2ca02c\",\"#2ca02c\",\"#1f77b4\",\"#2ca02c\",\"#aec7e8\",\"#aec7e8\",\"#ff7f0e\",\"#2ca02c\",\"#aec7e8\",\"#aec7e8\",\"#98df8a\",\"#ff7f0e\",\"#98df8a\",\"#aec7e8\",\"#1f77b4\",\"#aec7e8\",\"#ffbb78\",\"#aec7e8\",\"#98df8a\",\"#1f77b4\",\"#1f77b4\",\"#2ca02c\",\"#1f77b4\",\"#1f77b4\",\"#ff7f0e\",\"#1f77b4\",\"#ff7f0e\",\"#1f77b4\",\"#98df8a\",\"#1f77b4\",\"#aec7e8\",\"#aec7e8\",\"#ff7f0e\",\"#98df8a\",\"#aec7e8\",\"#1f77b4\",\"#1f77b4\",\"#98df8a\",\"#2ca02c\",\"#1f77b4\",\"#ff7f0e\",\"#2ca02c\",\"#ffbb78\",\"#1f77b4\",\"#1f77b4\",\"#2ca02c\",\"#aec7e8\",\"#aec7e8\",\"#ff7f0e\",\"#2ca02c\",\"#1f77b4\",\"#1f77b4\",\"#2ca02c\",\"#1f77b4\",\"#2ca02c\",\"#ff7f0e\",\"#2ca02c\",\"#aec7e8\",\"#ff7f0e\",\"#ff7f0e\",\"#ffbb78\",\"#2ca02c\",\"#aec7e8\",\"#2ca02c\",\"#2ca02c\",\"#2ca02c\",\"#2ca02c\",\"#98df8a\",\"#1f77b4\",\"#2ca02c\",\"#2ca02c\",\"#1f77b4\",\"#aec7e8\",\"#2ca02c\",\"#2ca02c\",\"#ff7f0e\",\"#2ca02c\",\"#aec7e8\",\"#1f77b4\",\"#ff7f0e\",\"#ff7f0e\",\"#aec7e8\",\"#98df8a\",\"#ff7f0e\",\"#aec7e8\",\"#ffbb78\",\"#ff7f0e\",\"#1f77b4\",\"#98df8a\",\"#ff7f0e\",\"#98df8a\",\"#98df8a\",\"#ffbb78\",\"#aec7e8\",\"#1f77b4\",\"#1f77b4\",\"#98df8a\",\"#1f77b4\",\"#1f77b4\",\"#2ca02c\",\"#1f77b4\",\"#2ca02c\",\"#ffbb78\",\"#ffbb78\",\"#2ca02c\",\"#2ca02c\",\"#ff7f0e\",\"#2ca02c\",\"#98df8a\",\"#1f77b4\",\"#2ca02c\",\"#ffbb78\",\"#1f77b4\",\"#aec7e8\",\"#ff7f0e\",\"#ff7f0e\",\"#ffbb78\",\"#1f77b4\",\"#1f77b4\",\"#1f77b4\",\"#98df8a\",\"#1f77b4\",\"#98df8a\",\"#aec7e8\",\"#ff7f0e\",\"#ffbb78\",\"#ffbb78\",\"#1f77b4\",\"#1f77b4\",\"#1f77b4\",\"#98df8a\",\"#98df8a\",\"#ffbb78\",\"#ffbb78\",\"#98df8a\",\"#ffbb78\",\"#1f77b4\",\"#98df8a\",\"#ffbb78\",\"#1f77b4\",\"#98df8a\",\"#ff7f0e\",\"#ff7f0e\",\"#aec7e8\",\"#ff7f0e\",\"#ffbb78\",\"#1f77b4\",\"#ffbb78\",\"#2ca02c\",\"#98df8a\",\"#98df8a\",\"#ffbb78\",\"#1f77b4\",\"#1f77b4\",\"#1f77b4\",\"#aec7e8\",\"#ffbb78\",\"#1f77b4\",\"#aec7e8\",\"#ff7f0e\",\"#ff7f0e\",\"#1f77b4\",\"#aec7e8\",\"#ffbb78\",\"#2ca02c\",\"#98df8a\",\"#ff7f0e\",\"#ff7f0e\",\"#ff7f0e\",\"#98df8a\",\"#ffbb78\",\"#2ca02c\",\"#2ca02c\",\"#2ca02c\",\"#1f77b4\",\"#1f77b4\",\"#ff7f0e\",\"#2ca02c\",\"#ffbb78\",\"#1f77b4\",\"#1f77b4\",\"#ff7f0e\",\"#98df8a\",\"#1f77b4\",\"#ff7f0e\",\"#2ca02c\",\"#ffbb78\",\"#1f77b4\",\"#98df8a\",\"#ff7f0e\",\"#1f77b4\",\"#1f77b4\",\"#1f77b4\",\"#98df8a\",\"#1f77b4\",\"#aec7e8\",\"#ffbb78\",\"#ff7f0e\",\"#2ca02c\",\"#ff7f0e\",\"#98df8a\",\"#ff7f0e\",\"#1f77b4\",\"#2ca02c\",\"#2ca02c\",\"#ff7f0e\",\"#2ca02c\",\"#1f77b4\",\"#98df8a\",\"#ffbb78\",\"#2ca02c\",\"#1f77b4\",\"#2ca02c\",\"#2ca02c\",\"#1f77b4\",\"#1f77b4\",\"#2ca02c\",\"#aec7e8\",\"#aec7e8\",\"#1f77b4\",\"#98df8a\",\"#ff7f0e\",\"#1f77b4\",\"#98df8a\",\"#2ca02c\",\"#aec7e8\",\"#ffbb78\",\"#1f77b4\",\"#ff7f0e\",\"#98df8a\",\"#1f77b4\",\"#ffbb78\",\"#ffbb78\",\"#1f77b4\",\"#98df8a\",\"#1f77b4\",\"#2ca02c\",\"#98df8a\",\"#2ca02c\",\"#1f77b4\",\"#2ca02c\",\"#2ca02c\",\"#2ca02c\",\"#1f77b4\",\"#2ca02c\",\"#ffbb78\",\"#1f77b4\",\"#2ca02c\",\"#1f77b4\",\"#98df8a\",\"#aec7e8\",\"#2ca02c\",\"#2ca02c\",\"#ffbb78\",\"#98df8a\",\"#2ca02c\",\"#1f77b4\",\"#1f77b4\",\"#ffbb78\",\"#1f77b4\",\"#98df8a\",\"#98df8a\",\"#98df8a\",\"#ff7f0e\",\"#ff7f0e\",\"#aec7e8\",\"#ff7f0e\",\"#98df8a\",\"#1f77b4\",\"#ffbb78\",\"#aec7e8\",\"#ff7f0e\",\"#ff7f0e\",\"#1f77b4\",\"#1f77b4\",\"#1f77b4\",\"#1f77b4\",\"#ffbb78\",\"#ff7f0e\",\"#1f77b4\",\"#98df8a\",\"#2ca02c\",\"#aec7e8\",\"#ffbb78\",\"#ff7f0e\",\"#ff7f0e\",\"#1f77b4\",\"#1f77b4\",\"#98df8a\",\"#1f77b4\",\"#ff7f0e\",\"#aec7e8\",\"#ffbb78\",\"#aec7e8\",\"#2ca02c\",\"#2ca02c\",\"#1f77b4\",\"#1f77b4\",\"#2ca02c\",\"#ffbb78\",\"#ff7f0e\",\"#98df8a\",\"#1f77b4\",\"#2ca02c\",\"#aec7e8\",\"#2ca02c\",\"#2ca02c\",\"#1f77b4\",\"#2ca02c\",\"#1f77b4\",\"#ff7f0e\",\"#aec7e8\",\"#ff7f0e\",\"#2ca02c\",\"#ff7f0e\",\"#aec7e8\",\"#1f77b4\",\"#98df8a\",\"#98df8a\",\"#ffbb78\",\"#1f77b4\",\"#ff7f0e\",\"#1f77b4\",\"#2ca02c\",\"#2ca02c\",\"#2ca02c\",\"#ff7f0e\",\"#2ca02c\",\"#2ca02c\",\"#2ca02c\",\"#ff7f0e\",\"#2ca02c\",\"#1f77b4\",\"#98df8a\",\"#98df8a\",\"#1f77b4\",\"#ff7f0e\",\"#aec7e8\",\"#aec7e8\",\"#ffbb78\",\"#aec7e8\",\"#aec7e8\",\"#98df8a\",\"#2ca02c\",\"#98df8a\",\"#1f77b4\",\"#ff7f0e\",\"#ffbb78\",\"#1f77b4\",\"#98df8a\",\"#1f77b4\",\"#1f77b4\",\"#1f77b4\",\"#1f77b4\",\"#2ca02c\",\"#2ca02c\",\"#ff7f0e\",\"#aec7e8\",\"#ffbb78\",\"#ff7f0e\",\"#2ca02c\",\"#ff7f0e\",\"#1f77b4\",\"#aec7e8\",\"#ffbb78\",\"#2ca02c\",\"#aec7e8\",\"#ffbb78\",\"#aec7e8\",\"#ffbb78\",\"#aec7e8\",\"#aec7e8\",\"#98df8a\",\"#ff7f0e\",\"#ff7f0e\",\"#1f77b4\",\"#aec7e8\",\"#2ca02c\",\"#2ca02c\",\"#2ca02c\",\"#aec7e8\",\"#98df8a\",\"#1f77b4\",\"#ffbb78\",\"#1f77b4\",\"#aec7e8\",\"#ffbb78\",\"#2ca02c\",\"#2ca02c\",\"#2ca02c\",\"#ffbb78\",\"#98df8a\",\"#1f77b4\",\"#aec7e8\",\"#1f77b4\",\"#aec7e8\",\"#aec7e8\",\"#aec7e8\",\"#98df8a\",\"#aec7e8\",\"#98df8a\",\"#aec7e8\",\"#98df8a\",\"#98df8a\",\"#1f77b4\",\"#1f77b4\",\"#ff7f0e\",\"#ffbb78\",\"#aec7e8\",\"#1f77b4\",\"#aec7e8\",\"#98df8a\",\"#aec7e8\",\"#aec7e8\",\"#1f77b4\",\"#2ca02c\",\"#ffbb78\",\"#ff7f0e\",\"#aec7e8\",\"#aec7e8\",\"#98df8a\",\"#1f77b4\",\"#2ca02c\",\"#aec7e8\",\"#aec7e8\",\"#98df8a\",\"#ff7f0e\",\"#ffbb78\",\"#98df8a\",\"#aec7e8\",\"#1f77b4\",\"#1f77b4\",\"#98df8a\",\"#2ca02c\",\"#1f77b4\",\"#98df8a\",\"#1f77b4\",\"#aec7e8\",\"#ff7f0e\",\"#1f77b4\",\"#aec7e8\",\"#ffbb78\",\"#aec7e8\",\"#aec7e8\",\"#aec7e8\",\"#2ca02c\",\"#aec7e8\",\"#ff7f0e\",\"#1f77b4\",\"#98df8a\",\"#2ca02c\",\"#ff7f0e\",\"#1f77b4\",\"#ff7f0e\",\"#1f77b4\",\"#1f77b4\",\"#98df8a\",\"#ff7f0e\",\"#1f77b4\",\"#98df8a\",\"#1f77b4\",\"#2ca02c\",\"#aec7e8\",\"#1f77b4\",\"#ffbb78\",\"#ffbb78\",\"#aec7e8\",\"#1f77b4\",\"#ffbb78\",\"#ffbb78\",\"#ffbb78\",\"#98df8a\",\"#1f77b4\",\"#1f77b4\",\"#2ca02c\",\"#2ca02c\",\"#2ca02c\",\"#1f77b4\",\"#ff7f0e\",\"#aec7e8\",\"#ffbb78\",\"#98df8a\",\"#1f77b4\",\"#aec7e8\",\"#ffbb78\",\"#1f77b4\",\"#1f77b4\",\"#ffbb78\",\"#1f77b4\",\"#98df8a\",\"#1f77b4\",\"#2ca02c\",\"#1f77b4\",\"#2ca02c\",\"#2ca02c\",\"#2ca02c\",\"#ffbb78\",\"#2ca02c\",\"#1f77b4\",\"#2ca02c\",\"#1f77b4\",\"#aec7e8\",\"#ff7f0e\",\"#98df8a\",\"#98df8a\",\"#2ca02c\",\"#1f77b4\",\"#98df8a\",\"#ffbb78\",\"#98df8a\",\"#1f77b4\",\"#aec7e8\",\"#ff7f0e\",\"#aec7e8\",\"#1f77b4\",\"#98df8a\",\"#ff7f0e\",\"#1f77b4\",\"#98df8a\",\"#aec7e8\",\"#ffbb78\",\"#1f77b4\",\"#aec7e8\",\"#ff7f0e\",\"#2ca02c\",\"#1f77b4\",\"#ff7f0e\",\"#aec7e8\",\"#2ca02c\",\"#2ca02c\",\"#2ca02c\",\"#ffbb78\",\"#aec7e8\",\"#1f77b4\",\"#1f77b4\",\"#1f77b4\",\"#2ca02c\",\"#98df8a\",\"#aec7e8\",\"#aec7e8\",\"#2ca02c\",\"#2ca02c\",\"#ffbb78\",\"#1f77b4\",\"#1f77b4\",\"#1f77b4\",\"#ff7f0e\",\"#98df8a\",\"#2ca02c\",\"#1f77b4\",\"#ffbb78\",\"#aec7e8\",\"#1f77b4\",\"#1f77b4\",\"#ffbb78\",\"#98df8a\",\"#1f77b4\",\"#1f77b4\",\"#98df8a\",\"#ff7f0e\",\"#98df8a\",\"#ff7f0e\",\"#2ca02c\",\"#2ca02c\",\"#2ca02c\",\"#1f77b4\",\"#2ca02c\",\"#aec7e8\",\"#aec7e8\",\"#1f77b4\",\"#aec7e8\",\"#1f77b4\",\"#aec7e8\",\"#1f77b4\",\"#ffbb78\",\"#1f77b4\",\"#ffbb78\",\"#2ca02c\",\"#aec7e8\",\"#1f77b4\",\"#ff7f0e\",\"#1f77b4\",\"#1f77b4\",\"#aec7e8\",\"#ff7f0e\",\"#ff7f0e\",\"#2ca02c\",\"#ffbb78\",\"#2ca02c\",\"#2ca02c\",\"#2ca02c\",\"#1f77b4\",\"#1f77b4\",\"#aec7e8\",\"#1f77b4\",\"#ff7f0e\",\"#ffbb78\",\"#ffbb78\",\"#1f77b4\",\"#98df8a\",\"#1f77b4\",\"#ffbb78\",\"#aec7e8\",\"#2ca02c\",\"#98df8a\",\"#1f77b4\",\"#aec7e8\",\"#98df8a\",\"#ffbb78\",\"#1f77b4\",\"#1f77b4\",\"#ffbb78\",\"#aec7e8\",\"#1f77b4\",\"#1f77b4\",\"#ff7f0e\",\"#1f77b4\",\"#ffbb78\",\"#ffbb78\",\"#aec7e8\",\"#2ca02c\",\"#ff7f0e\",\"#aec7e8\",\"#aec7e8\",\"#98df8a\",\"#ffbb78\",\"#aec7e8\",\"#1f77b4\",\"#2ca02c\",\"#1f77b4\",\"#aec7e8\",\"#ff7f0e\",\"#1f77b4\",\"#aec7e8\",\"#aec7e8\",\"#1f77b4\",\"#ffbb78\",\"#ffbb78\",\"#ff7f0e\",\"#ff7f0e\",\"#98df8a\",\"#98df8a\",\"#1f77b4\",\"#1f77b4\",\"#1f77b4\",\"#aec7e8\",\"#aec7e8\",\"#ff7f0e\",\"#2ca02c\",\"#98df8a\",\"#98df8a\",\"#ffbb78\",\"#ffbb78\",\"#98df8a\",\"#ffbb78\",\"#ffbb78\",\"#aec7e8\",\"#aec7e8\",\"#2ca02c\",\"#ffbb78\",\"#aec7e8\",\"#ff7f0e\",\"#ff7f0e\",\"#98df8a\",\"#98df8a\",\"#98df8a\",\"#aec7e8\",\"#2ca02c\",\"#2ca02c\",\"#ff7f0e\",\"#ffbb78\",\"#ff7f0e\",\"#aec7e8\",\"#ffbb78\",\"#98df8a\",\"#aec7e8\",\"#aec7e8\",\"#98df8a\",\"#ffbb78\",\"#ff7f0e\",\"#ff7f0e\",\"#98df8a\",\"#2ca02c\",\"#ffbb78\",\"#ff7f0e\",\"#1f77b4\",\"#ff7f0e\",\"#98df8a\",\"#ffbb78\",\"#1f77b4\",\"#98df8a\",\"#1f77b4\",\"#aec7e8\",\"#2ca02c\",\"#ff7f0e\",\"#2ca02c\",\"#ff7f0e\",\"#1f77b4\",\"#1f77b4\",\"#aec7e8\",\"#1f77b4\",\"#1f77b4\",\"#2ca02c\",\"#1f77b4\",\"#2ca02c\",\"#ffbb78\",\"#1f77b4\",\"#98df8a\",\"#98df8a\",\"#1f77b4\",\"#ff7f0e\",\"#1f77b4\",\"#aec7e8\",\"#1f77b4\",\"#2ca02c\",\"#2ca02c\",\"#98df8a\",\"#1f77b4\",\"#1f77b4\",\"#98df8a\",\"#ffbb78\",\"#ffbb78\",\"#1f77b4\",\"#ffbb78\",\"#ffbb78\",\"#1f77b4\",\"#ffbb78\",\"#ff7f0e\",\"#1f77b4\",\"#ff7f0e\",\"#2ca02c\",\"#1f77b4\",\"#aec7e8\",\"#98df8a\",\"#98df8a\",\"#ffbb78\",\"#1f77b4\",\"#2ca02c\",\"#98df8a\",\"#2ca02c\",\"#2ca02c\",\"#2ca02c\",\"#1f77b4\",\"#2ca02c\",\"#98df8a\",\"#1f77b4\",\"#aec7e8\",\"#98df8a\",\"#1f77b4\",\"#ffbb78\",\"#98df8a\",\"#ffbb78\",\"#1f77b4\",\"#ffbb78\",\"#ffbb78\",\"#aec7e8\",\"#1f77b4\",\"#aec7e8\",\"#98df8a\",\"#2ca02c\",\"#98df8a\",\"#ff7f0e\",\"#1f77b4\",\"#2ca02c\",\"#aec7e8\",\"#2ca02c\",\"#2ca02c\",\"#1f77b4\",\"#aec7e8\",\"#98df8a\",\"#ffbb78\",\"#98df8a\",\"#98df8a\",\"#aec7e8\",\"#1f77b4\",\"#ffbb78\",\"#1f77b4\",\"#1f77b4\",\"#1f77b4\",\"#1f77b4\",\"#aec7e8\",\"#2ca02c\",\"#1f77b4\",\"#ff7f0e\",\"#98df8a\",\"#ff7f0e\",\"#2ca02c\",\"#2ca02c\",\"#aec7e8\",\"#1f77b4\",\"#1f77b4\",\"#2ca02c\",\"#ffbb78\",\"#ffbb78\",\"#2ca02c\",\"#ff7f0e\",\"#2ca02c\",\"#1f77b4\",\"#1f77b4\",\"#aec7e8\",\"#aec7e8\",\"#2ca02c\",\"#98df8a\",\"#ffbb78\",\"#1f77b4\",\"#aec7e8\",\"#ff7f0e\",\"#98df8a\",\"#1f77b4\",\"#ffbb78\",\"#1f77b4\",\"#1f77b4\",\"#98df8a\",\"#98df8a\",\"#1f77b4\",\"#aec7e8\",\"#aec7e8\",\"#98df8a\",\"#ffbb78\",\"#aec7e8\",\"#ff7f0e\",\"#ff7f0e\",\"#ff7f0e\",\"#1f77b4\",\"#ffbb78\",\"#98df8a\",\"#aec7e8\",\"#ffbb78\",\"#1f77b4\",\"#1f77b4\",\"#98df8a\",\"#1f77b4\",\"#ffbb78\",\"#ffbb78\",\"#98df8a\",\"#ffbb78\",\"#ffbb78\",\"#1f77b4\",\"#1f77b4\",\"#1f77b4\",\"#ffbb78\",\"#aec7e8\",\"#2ca02c\",\"#2ca02c\",\"#98df8a\",\"#98df8a\",\"#aec7e8\",\"#ffbb78\",\"#1f77b4\",\"#aec7e8\",\"#ff7f0e\",\"#1f77b4\",\"#98df8a\",\"#aec7e8\",\"#aec7e8\",\"#98df8a\",\"#ffbb78\",\"#ff7f0e\",\"#ff7f0e\",\"#2ca02c\",\"#98df8a\",\"#1f77b4\",\"#1f77b4\",\"#ffbb78\",\"#98df8a\",\"#ffbb78\",\"#98df8a\",\"#ffbb78\",\"#aec7e8\",\"#2ca02c\",\"#2ca02c\",\"#1f77b4\",\"#aec7e8\",\"#98df8a\",\"#2ca02c\",\"#aec7e8\",\"#aec7e8\",\"#ffbb78\",\"#ffbb78\",\"#ff7f0e\",\"#aec7e8\",\"#ffbb78\",\"#98df8a\",\"#2ca02c\",\"#ff7f0e\",\"#ff7f0e\",\"#1f77b4\",\"#1f77b4\",\"#98df8a\",\"#ff7f0e\",\"#aec7e8\",\"#2ca02c\",\"#1f77b4\",\"#1f77b4\",\"#1f77b4\",\"#98df8a\",\"#ff7f0e\",\"#98df8a\",\"#ffbb78\",\"#98df8a\",\"#98df8a\",\"#1f77b4\",\"#2ca02c\",\"#aec7e8\",\"#ffbb78\",\"#2ca02c\",\"#98df8a\",\"#1f77b4\",\"#ffbb78\",\"#98df8a\",\"#98df8a\",\"#98df8a\",\"#2ca02c\",\"#2ca02c\",\"#ff7f0e\",\"#ffbb78\",\"#2ca02c\",\"#1f77b4\",\"#2ca02c\",\"#2ca02c\",\"#ffbb78\",\"#98df8a\",\"#2ca02c\",\"#2ca02c\",\"#2ca02c\",\"#1f77b4\",\"#2ca02c\",\"#2ca02c\",\"#2ca02c\",\"#2ca02c\",\"#aec7e8\",\"#2ca02c\",\"#ffbb78\",\"#2ca02c\",\"#1f77b4\",\"#2ca02c\",\"#2ca02c\",\"#ffbb78\",\"#ffbb78\",\"#1f77b4\",\"#2ca02c\",\"#98df8a\",\"#98df8a\",\"#98df8a\",\"#aec7e8\",\"#aec7e8\",\"#98df8a\",\"#ff7f0e\",\"#aec7e8\",\"#2ca02c\",\"#2ca02c\",\"#98df8a\",\"#1f77b4\",\"#98df8a\",\"#1f77b4\",\"#2ca02c\",\"#aec7e8\",\"#ffbb78\",\"#1f77b4\",\"#1f77b4\",\"#1f77b4\",\"#aec7e8\",\"#98df8a\",\"#ff7f0e\",\"#1f77b4\",\"#98df8a\",\"#1f77b4\",\"#1f77b4\",\"#aec7e8\",\"#1f77b4\",\"#1f77b4\",\"#aec7e8\",\"#ffbb78\",\"#98df8a\",\"#1f77b4\",\"#1f77b4\",\"#98df8a\",\"#ff7f0e\",\"#2ca02c\",\"#ff7f0e\",\"#98df8a\",\"#ffbb78\",\"#ff7f0e\",\"#2ca02c\",\"#1f77b4\",\"#aec7e8\",\"#1f77b4\",\"#1f77b4\",\"#2ca02c\",\"#ffbb78\",\"#aec7e8\",\"#ffbb78\",\"#98df8a\",\"#ffbb78\",\"#2ca02c\",\"#1f77b4\",\"#ffbb78\",\"#1f77b4\",\"#ffbb78\",\"#1f77b4\",\"#ffbb78\",\"#98df8a\",\"#ffbb78\",\"#98df8a\",\"#1f77b4\",\"#ffbb78\",\"#1f77b4\",\"#2ca02c\",\"#1f77b4\",\"#98df8a\",\"#ff7f0e\",\"#ffbb78\",\"#2ca02c\",\"#ffbb78\",\"#2ca02c\",\"#ffbb78\",\"#ff7f0e\",\"#2ca02c\",\"#ffbb78\",\"#1f77b4\",\"#2ca02c\",\"#aec7e8\",\"#2ca02c\",\"#98df8a\",\"#1f77b4\",\"#2ca02c\",\"#1f77b4\",\"#98df8a\",\"#1f77b4\",\"#2ca02c\",\"#2ca02c\",\"#ff7f0e\",\"#98df8a\",\"#98df8a\",\"#2ca02c\",\"#98df8a\",\"#1f77b4\",\"#ff7f0e\",\"#2ca02c\",\"#ffbb78\",\"#2ca02c\",\"#ff7f0e\",\"#2ca02c\",\"#2ca02c\",\"#1f77b4\",\"#1f77b4\",\"#aec7e8\",\"#ff7f0e\",\"#aec7e8\",\"#1f77b4\",\"#ffbb78\",\"#ffbb78\",\"#aec7e8\",\"#ff7f0e\",\"#ffbb78\",\"#ffbb78\",\"#2ca02c\",\"#ffbb78\",\"#2ca02c\",\"#98df8a\",\"#1f77b4\",\"#ff7f0e\",\"#1f77b4\",\"#1f77b4\",\"#2ca02c\",\"#ffbb78\",\"#1f77b4\",\"#1f77b4\",\"#1f77b4\",\"#2ca02c\",\"#ff7f0e\",\"#aec7e8\",\"#ffbb78\",\"#98df8a\",\"#2ca02c\",\"#2ca02c\",\"#ffbb78\",\"#98df8a\",\"#98df8a\",\"#2ca02c\"],\"shape\":[2224],\"dtype\":\"object\",\"order\":\"little\"}]]}}},\"view\":{\"type\":\"object\",\"name\":\"CDSView\",\"id\":\"p1197\",\"attributes\":{\"filter\":{\"type\":\"object\",\"name\":\"AllIndices\",\"id\":\"p1198\"}}},\"glyph\":{\"type\":\"object\",\"name\":\"Scatter\",\"id\":\"p1193\",\"attributes\":{\"x\":{\"type\":\"field\",\"field\":\"x\"},\"y\":{\"type\":\"field\",\"field\":\"y\"},\"line_color\":{\"type\":\"field\",\"field\":\"line_color\"},\"fill_color\":{\"type\":\"field\",\"field\":\"fill_color\"},\"hatch_color\":{\"type\":\"field\",\"field\":\"hatch_color\"}}},\"nonselection_glyph\":{\"type\":\"object\",\"name\":\"Scatter\",\"id\":\"p1194\",\"attributes\":{\"x\":{\"type\":\"field\",\"field\":\"x\"},\"y\":{\"type\":\"field\",\"field\":\"y\"},\"line_color\":{\"type\":\"field\",\"field\":\"line_color\"},\"line_alpha\":{\"type\":\"value\",\"value\":0.1},\"fill_color\":{\"type\":\"field\",\"field\":\"fill_color\"},\"fill_alpha\":{\"type\":\"value\",\"value\":0.1},\"hatch_color\":{\"type\":\"field\",\"field\":\"hatch_color\"},\"hatch_alpha\":{\"type\":\"value\",\"value\":0.1}}},\"muted_glyph\":{\"type\":\"object\",\"name\":\"Scatter\",\"id\":\"p1195\",\"attributes\":{\"x\":{\"type\":\"field\",\"field\":\"x\"},\"y\":{\"type\":\"field\",\"field\":\"y\"},\"line_color\":{\"type\":\"field\",\"field\":\"line_color\"},\"line_alpha\":{\"type\":\"value\",\"value\":0.2},\"fill_color\":{\"type\":\"field\",\"field\":\"fill_color\"},\"fill_alpha\":{\"type\":\"value\",\"value\":0.2},\"hatch_color\":{\"type\":\"field\",\"field\":\"hatch_color\"},\"hatch_alpha\":{\"type\":\"value\",\"value\":0.2}}}}}],\"toolbar\":{\"type\":\"object\",\"name\":\"Toolbar\",\"id\":\"p1150\",\"attributes\":{\"tools\":[{\"type\":\"object\",\"name\":\"PanTool\",\"id\":\"p1175\"},{\"type\":\"object\",\"name\":\"WheelZoomTool\",\"id\":\"p1176\"},{\"type\":\"object\",\"name\":\"BoxZoomTool\",\"id\":\"p1177\",\"attributes\":{\"overlay\":{\"type\":\"object\",\"name\":\"BoxAnnotation\",\"id\":\"p1178\",\"attributes\":{\"syncable\":false,\"level\":\"overlay\",\"visible\":false,\"left_units\":\"canvas\",\"right_units\":\"canvas\",\"bottom_units\":\"canvas\",\"top_units\":\"canvas\",\"line_color\":\"black\",\"line_alpha\":1.0,\"line_width\":2,\"line_dash\":[4,4],\"fill_color\":\"lightgrey\",\"fill_alpha\":0.5}}}},{\"type\":\"object\",\"name\":\"SaveTool\",\"id\":\"p1179\"},{\"type\":\"object\",\"name\":\"ResetTool\",\"id\":\"p1180\"},{\"type\":\"object\",\"name\":\"HelpTool\",\"id\":\"p1181\"}]}},\"left\":[{\"type\":\"object\",\"name\":\"LinearAxis\",\"id\":\"p1168\",\"attributes\":{\"ticker\":{\"type\":\"object\",\"name\":\"BasicTicker\",\"id\":\"p1169\",\"attributes\":{\"mantissas\":[1,2,5]}},\"formatter\":{\"type\":\"object\",\"name\":\"BasicTickFormatter\",\"id\":\"p1171\"},\"major_label_policy\":{\"type\":\"object\",\"name\":\"AllLabels\",\"id\":\"p1170\"}}}],\"below\":[{\"type\":\"object\",\"name\":\"LinearAxis\",\"id\":\"p1161\",\"attributes\":{\"ticker\":{\"type\":\"object\",\"name\":\"BasicTicker\",\"id\":\"p1162\",\"attributes\":{\"mantissas\":[1,2,5]}},\"formatter\":{\"type\":\"object\",\"name\":\"BasicTickFormatter\",\"id\":\"p1164\"},\"major_label_policy\":{\"type\":\"object\",\"name\":\"AllLabels\",\"id\":\"p1163\"}}}],\"center\":[{\"type\":\"object\",\"name\":\"Grid\",\"id\":\"p1167\",\"attributes\":{\"axis\":{\"id\":\"p1161\"}}},{\"type\":\"object\",\"name\":\"Grid\",\"id\":\"p1174\",\"attributes\":{\"dimension\":1,\"axis\":{\"id\":\"p1168\"}}},{\"type\":\"object\",\"name\":\"Label\",\"id\":\"p1199\",\"attributes\":{\"text\":\"billing issues xfinity\",\"text_color\":\"#1f77b4\",\"x\":-20.182004928588867,\"y\":3.019810914993286}},{\"type\":\"object\",\"name\":\"Label\",\"id\":\"p1200\",\"attributes\":{\"text\":\"billing practices unfair\",\"text_color\":\"#aec7e8\",\"x\":-16.754974365234375,\"y\":-21.08580207824707}},{\"type\":\"object\",\"name\":\"Label\",\"id\":\"p1201\",\"attributes\":{\"text\":\"poor connection customer\",\"text_color\":\"#ff7f0e\",\"x\":-15.588888168334961,\"y\":23.51559829711914}},{\"type\":\"object\",\"name\":\"Label\",\"id\":\"p1202\",\"attributes\":{\"text\":\"cable charged charge\",\"text_color\":\"#ffbb78\",\"x\":11.379557609558105,\"y\":21.64745330810547}},{\"type\":\"object\",\"name\":\"Label\",\"id\":\"p1203\",\"attributes\":{\"text\":\"data cap caps\",\"text_color\":\"#2ca02c\",\"x\":31.851354598999023,\"y\":-2.1200318336486816}},{\"type\":\"object\",\"name\":\"Label\",\"id\":\"p1204\",\"attributes\":{\"text\":\"complaint speeds slow\",\"text_color\":\"#98df8a\",\"x\":7.983613967895508,\"y\":-27.93950080871582}}]}}],\"callbacks\":{\"type\":\"map\"}}};\n  const render_items = [{\"docid\":\"a05e971e-095a-4c74-8c2c-4b330dd16dcb\",\"roots\":{\"p1143\":\"ced35a82-2916-41fb-9897-44a111e0ea84\"},\"root_ids\":[\"p1143\"]}];\n  root.Bokeh.embed.embed_items_notebook(docs_json, render_items);\n  }\n  if (root.Bokeh !== undefined) {\n    embed_document(root);\n  } else {\n    let attempts = 0;\n    const timer = setInterval(function(root) {\n      if (root.Bokeh !== undefined) {\n        clearInterval(timer);\n        embed_document(root);\n      } else {\n        attempts++;\n        if (attempts > 100) {\n          clearInterval(timer);\n          console.log(\"Bokeh: ERROR: Unable to run BokehJS code because BokehJS library is missing\");\n        }\n      }\n    }, 10, root)\n  }\n})(window);",
            "application/vnd.bokehjs_exec.v0+json": ""
          },
          "metadata": {
            "application/vnd.bokehjs_exec.v0+json": {
              "id": "p1143"
            }
          },
          "output_type": "display_data"
        }
      ],
      "source": [
        "top_3_words_lda = get_top_n_words(3, lda_keys, small_document_term_matrix, small_count_vectorizer)\n",
        "lda_mean_topic_vectors = get_mean_topic_vectors(lda_keys, tsne_lda_vectors)\n",
        "\n",
        "plot = figure(title=\"t-SNE Clustering of {} LDA Topics\".format(n_topics), min_width=700, height=500)\n",
        "plot.scatter(x=tsne_lda_vectors[:,0], y=tsne_lda_vectors[:,1], color=colormap[lda_keys])\n",
        "\n",
        "for t in range(n_topics):\n",
        "    label = Label(x=lda_mean_topic_vectors[t][0], y=lda_mean_topic_vectors[t][1],\n",
        "                  text=top_3_words_lda[t], text_color=colormap[t])\n",
        "    plot.add_layout(label)\n",
        "\n",
        "show(plot)"
      ]
    },
    {
      "cell_type": "markdown",
      "metadata": {
        "id": "hGmBB87lLbvE"
      },
      "source": [
        "LSA를 이용했을때보다 클러스터링 결과가 더 좋게 나온것을 볼 수 있다. 따라서 LDA를 이용한 결과를 프로젝트 데이터에 적용한다."
      ]
    },
    {
      "cell_type": "markdown",
      "metadata": {
        "id": "n9t0Oz0fWfdd"
      },
      "source": [
        "> LDA 분류 결과를 df에 반영"
      ]
    },
    {
      "cell_type": "code",
      "execution_count": 36,
      "metadata": {
        "colab": {
          "base_uri": "https://localhost:8080/",
          "height": 614
        },
        "id": "5chq7X1rWhpA",
        "outputId": "ba1c4c6d-3210-4582-e812-342609804d56"
      },
      "outputs": [
        {
          "data": {
            "text/html": [
              "<div>\n",
              "<style scoped>\n",
              "    .dataframe tbody tr th:only-of-type {\n",
              "        vertical-align: middle;\n",
              "    }\n",
              "\n",
              "    .dataframe tbody tr th {\n",
              "        vertical-align: top;\n",
              "    }\n",
              "\n",
              "    .dataframe thead th {\n",
              "        text-align: right;\n",
              "    }\n",
              "</style>\n",
              "<table border=\"1\" class=\"dataframe\">\n",
              "  <thead>\n",
              "    <tr style=\"text-align: right;\">\n",
              "      <th></th>\n",
              "      <th>Ticket #</th>\n",
              "      <th>Customer Complaint</th>\n",
              "      <th>Date</th>\n",
              "      <th>Date_month_year</th>\n",
              "      <th>Time</th>\n",
              "      <th>Received Via</th>\n",
              "      <th>City</th>\n",
              "      <th>State</th>\n",
              "      <th>Zip code</th>\n",
              "      <th>Status</th>\n",
              "      <th>Filing on Behalf of Someone</th>\n",
              "      <th>DateTime</th>\n",
              "      <th>Complaint Type</th>\n",
              "    </tr>\n",
              "  </thead>\n",
              "  <tbody>\n",
              "    <tr>\n",
              "      <th>0</th>\n",
              "      <td>250635</td>\n",
              "      <td>Comcast Cable Internet Speeds</td>\n",
              "      <td>22-04-15</td>\n",
              "      <td>22-Apr-15</td>\n",
              "      <td>3:53:50 PM</td>\n",
              "      <td>Customer Care Call</td>\n",
              "      <td>Abingdon</td>\n",
              "      <td>Maryland</td>\n",
              "      <td>21009</td>\n",
              "      <td>Closed</td>\n",
              "      <td>No</td>\n",
              "      <td>2015-04-22 15:53:50</td>\n",
              "      <td>speed complaint</td>\n",
              "    </tr>\n",
              "    <tr>\n",
              "      <th>1</th>\n",
              "      <td>223441</td>\n",
              "      <td>Payment disappear - service got disconnected</td>\n",
              "      <td>04-08-15</td>\n",
              "      <td>04-Aug-15</td>\n",
              "      <td>10:22:56 AM</td>\n",
              "      <td>Internet</td>\n",
              "      <td>Acworth</td>\n",
              "      <td>Georgia</td>\n",
              "      <td>30102</td>\n",
              "      <td>Closed</td>\n",
              "      <td>No</td>\n",
              "      <td>2015-08-04 10:22:56</td>\n",
              "      <td>connection</td>\n",
              "    </tr>\n",
              "    <tr>\n",
              "      <th>2</th>\n",
              "      <td>242732</td>\n",
              "      <td>Speed and Service</td>\n",
              "      <td>18-04-15</td>\n",
              "      <td>18-Apr-15</td>\n",
              "      <td>9:55:47 AM</td>\n",
              "      <td>Internet</td>\n",
              "      <td>Acworth</td>\n",
              "      <td>Georgia</td>\n",
              "      <td>30101</td>\n",
              "      <td>Closed</td>\n",
              "      <td>Yes</td>\n",
              "      <td>2015-04-18 09:55:47</td>\n",
              "      <td>data cap</td>\n",
              "    </tr>\n",
              "    <tr>\n",
              "      <th>3</th>\n",
              "      <td>277946</td>\n",
              "      <td>Comcast Imposed a New Usage Cap of 300GB that ...</td>\n",
              "      <td>05-07-15</td>\n",
              "      <td>05-Jul-15</td>\n",
              "      <td>11:59:35 AM</td>\n",
              "      <td>Internet</td>\n",
              "      <td>Acworth</td>\n",
              "      <td>Georgia</td>\n",
              "      <td>30101</td>\n",
              "      <td>Open</td>\n",
              "      <td>Yes</td>\n",
              "      <td>2015-07-05 11:59:35</td>\n",
              "      <td>connection</td>\n",
              "    </tr>\n",
              "    <tr>\n",
              "      <th>4</th>\n",
              "      <td>307175</td>\n",
              "      <td>Comcast not working and no service to boot</td>\n",
              "      <td>26-05-15</td>\n",
              "      <td>26-May-15</td>\n",
              "      <td>1:25:26 PM</td>\n",
              "      <td>Internet</td>\n",
              "      <td>Acworth</td>\n",
              "      <td>Georgia</td>\n",
              "      <td>30101</td>\n",
              "      <td>Solved</td>\n",
              "      <td>No</td>\n",
              "      <td>2015-05-26 13:25:26</td>\n",
              "      <td>charge</td>\n",
              "    </tr>\n",
              "    <tr>\n",
              "      <th>...</th>\n",
              "      <td>...</td>\n",
              "      <td>...</td>\n",
              "      <td>...</td>\n",
              "      <td>...</td>\n",
              "      <td>...</td>\n",
              "      <td>...</td>\n",
              "      <td>...</td>\n",
              "      <td>...</td>\n",
              "      <td>...</td>\n",
              "      <td>...</td>\n",
              "      <td>...</td>\n",
              "      <td>...</td>\n",
              "      <td>...</td>\n",
              "    </tr>\n",
              "    <tr>\n",
              "      <th>2219</th>\n",
              "      <td>213550</td>\n",
              "      <td>Service Availability</td>\n",
              "      <td>04-02-15</td>\n",
              "      <td>04-Feb-15</td>\n",
              "      <td>9:13:18 AM</td>\n",
              "      <td>Customer Care Call</td>\n",
              "      <td>Youngstown</td>\n",
              "      <td>Florida</td>\n",
              "      <td>32466</td>\n",
              "      <td>Closed</td>\n",
              "      <td>No</td>\n",
              "      <td>2015-02-04 09:13:18</td>\n",
              "      <td>data cap</td>\n",
              "    </tr>\n",
              "    <tr>\n",
              "      <th>2220</th>\n",
              "      <td>318775</td>\n",
              "      <td>Comcast Monthly Billing for Returned Modem</td>\n",
              "      <td>06-02-15</td>\n",
              "      <td>06-Feb-15</td>\n",
              "      <td>1:24:39 PM</td>\n",
              "      <td>Customer Care Call</td>\n",
              "      <td>Ypsilanti</td>\n",
              "      <td>Michigan</td>\n",
              "      <td>48197</td>\n",
              "      <td>Solved</td>\n",
              "      <td>No</td>\n",
              "      <td>2015-02-06 13:24:39</td>\n",
              "      <td>charge</td>\n",
              "    </tr>\n",
              "    <tr>\n",
              "      <th>2221</th>\n",
              "      <td>331188</td>\n",
              "      <td>complaint about comcast</td>\n",
              "      <td>06-09-15</td>\n",
              "      <td>06-Sep-15</td>\n",
              "      <td>5:28:41 PM</td>\n",
              "      <td>Internet</td>\n",
              "      <td>Ypsilanti</td>\n",
              "      <td>Michigan</td>\n",
              "      <td>48197</td>\n",
              "      <td>Solved</td>\n",
              "      <td>No</td>\n",
              "      <td>2015-09-06 17:28:41</td>\n",
              "      <td>speed complaint</td>\n",
              "    </tr>\n",
              "    <tr>\n",
              "      <th>2222</th>\n",
              "      <td>360489</td>\n",
              "      <td>Extremely unsatisfied Comcast customer</td>\n",
              "      <td>23-06-15</td>\n",
              "      <td>23-Jun-15</td>\n",
              "      <td>11:13:30 PM</td>\n",
              "      <td>Customer Care Call</td>\n",
              "      <td>Ypsilanti</td>\n",
              "      <td>Michigan</td>\n",
              "      <td>48197</td>\n",
              "      <td>Solved</td>\n",
              "      <td>No</td>\n",
              "      <td>2015-06-23 23:13:30</td>\n",
              "      <td>speed complaint</td>\n",
              "    </tr>\n",
              "    <tr>\n",
              "      <th>2223</th>\n",
              "      <td>363614</td>\n",
              "      <td>Comcast, Ypsilanti MI Internet Speed</td>\n",
              "      <td>24-06-15</td>\n",
              "      <td>24-Jun-15</td>\n",
              "      <td>10:28:33 PM</td>\n",
              "      <td>Customer Care Call</td>\n",
              "      <td>Ypsilanti</td>\n",
              "      <td>Michigan</td>\n",
              "      <td>48198</td>\n",
              "      <td>Open</td>\n",
              "      <td>Yes</td>\n",
              "      <td>2015-06-24 22:28:33</td>\n",
              "      <td>data cap</td>\n",
              "    </tr>\n",
              "  </tbody>\n",
              "</table>\n",
              "<p>2224 rows × 13 columns</p>\n",
              "</div>"
            ],
            "text/plain": [
              "     Ticket #                                 Customer Complaint      Date  \\\n",
              "0      250635                      Comcast Cable Internet Speeds  22-04-15   \n",
              "1      223441       Payment disappear - service got disconnected  04-08-15   \n",
              "2      242732                                  Speed and Service  18-04-15   \n",
              "3      277946  Comcast Imposed a New Usage Cap of 300GB that ...  05-07-15   \n",
              "4      307175         Comcast not working and no service to boot  26-05-15   \n",
              "...       ...                                                ...       ...   \n",
              "2219   213550                               Service Availability  04-02-15   \n",
              "2220   318775         Comcast Monthly Billing for Returned Modem  06-02-15   \n",
              "2221   331188                            complaint about comcast  06-09-15   \n",
              "2222   360489             Extremely unsatisfied Comcast customer  23-06-15   \n",
              "2223   363614               Comcast, Ypsilanti MI Internet Speed  24-06-15   \n",
              "\n",
              "     Date_month_year         Time        Received Via        City     State  \\\n",
              "0          22-Apr-15   3:53:50 PM  Customer Care Call    Abingdon  Maryland   \n",
              "1          04-Aug-15  10:22:56 AM            Internet     Acworth   Georgia   \n",
              "2          18-Apr-15   9:55:47 AM            Internet     Acworth   Georgia   \n",
              "3          05-Jul-15  11:59:35 AM            Internet     Acworth   Georgia   \n",
              "4          26-May-15   1:25:26 PM            Internet     Acworth   Georgia   \n",
              "...              ...          ...                 ...         ...       ...   \n",
              "2219       04-Feb-15   9:13:18 AM  Customer Care Call  Youngstown   Florida   \n",
              "2220       06-Feb-15   1:24:39 PM  Customer Care Call   Ypsilanti  Michigan   \n",
              "2221       06-Sep-15   5:28:41 PM            Internet   Ypsilanti  Michigan   \n",
              "2222       23-Jun-15  11:13:30 PM  Customer Care Call   Ypsilanti  Michigan   \n",
              "2223       24-Jun-15  10:28:33 PM  Customer Care Call   Ypsilanti  Michigan   \n",
              "\n",
              "      Zip code  Status Filing on Behalf of Someone            DateTime  \\\n",
              "0        21009  Closed                          No 2015-04-22 15:53:50   \n",
              "1        30102  Closed                          No 2015-08-04 10:22:56   \n",
              "2        30101  Closed                         Yes 2015-04-18 09:55:47   \n",
              "3        30101    Open                         Yes 2015-07-05 11:59:35   \n",
              "4        30101  Solved                          No 2015-05-26 13:25:26   \n",
              "...        ...     ...                         ...                 ...   \n",
              "2219     32466  Closed                          No 2015-02-04 09:13:18   \n",
              "2220     48197  Solved                          No 2015-02-06 13:24:39   \n",
              "2221     48197  Solved                          No 2015-09-06 17:28:41   \n",
              "2222     48197  Solved                          No 2015-06-23 23:13:30   \n",
              "2223     48198    Open                         Yes 2015-06-24 22:28:33   \n",
              "\n",
              "       Complaint Type  \n",
              "0     speed complaint  \n",
              "1          connection  \n",
              "2            data cap  \n",
              "3          connection  \n",
              "4              charge  \n",
              "...               ...  \n",
              "2219         data cap  \n",
              "2220           charge  \n",
              "2221  speed complaint  \n",
              "2222  speed complaint  \n",
              "2223         data cap  \n",
              "\n",
              "[2224 rows x 13 columns]"
            ]
          },
          "execution_count": 36,
          "metadata": {},
          "output_type": "execute_result"
        }
      ],
      "source": [
        "df_new = df.copy()\n",
        "\n",
        "df_new['Complaint Type'] = lda_topic_matrix.argmax(axis=1)\n",
        "\n",
        "df_new['Complaint Type'] = df_new['Complaint Type'].astype('category')\n",
        "\n",
        "df_new['Complaint Type'].replace(0, 'billing issues', inplace=True)\n",
        "df_new['Complaint Type'].replace(1, 'billing practices', inplace=True)\n",
        "df_new['Complaint Type'].replace(2, 'connection', inplace=True)\n",
        "df_new['Complaint Type'].replace(3, 'charge', inplace=True)\n",
        "df_new['Complaint Type'].replace(4, 'data cap', inplace=True)\n",
        "df_new['Complaint Type'].replace(5, 'speed complaint', inplace=True)\n",
        "\n",
        "df_new"
      ]
    },
    {
      "cell_type": "markdown",
      "metadata": {
        "id": "a0eW2VoulWkJ"
      },
      "source": [
        "## **Process 03**\n",
        "**데이터 EDA를 통한 인사이트 추출**\n",
        "---"
      ]
    },
    {
      "cell_type": "code",
      "execution_count": 37,
      "metadata": {
        "colab": {
          "base_uri": "https://localhost:8080/",
          "height": 310
        },
        "id": "TUj6TGwClvoX",
        "outputId": "1f12a351-cae2-44ec-a808-0b8575e3ae10"
      },
      "outputs": [
        {
          "data": {
            "text/html": [
              "<div>\n",
              "<style scoped>\n",
              "    .dataframe tbody tr th:only-of-type {\n",
              "        vertical-align: middle;\n",
              "    }\n",
              "\n",
              "    .dataframe tbody tr th {\n",
              "        vertical-align: top;\n",
              "    }\n",
              "\n",
              "    .dataframe thead th {\n",
              "        text-align: right;\n",
              "    }\n",
              "</style>\n",
              "<table border=\"1\" class=\"dataframe\">\n",
              "  <thead>\n",
              "    <tr style=\"text-align: right;\">\n",
              "      <th></th>\n",
              "      <th>Ticket #</th>\n",
              "      <th>Customer Complaint</th>\n",
              "      <th>Date</th>\n",
              "      <th>Date_month_year</th>\n",
              "      <th>Time</th>\n",
              "      <th>Received Via</th>\n",
              "      <th>City</th>\n",
              "      <th>State</th>\n",
              "      <th>Zip code</th>\n",
              "      <th>Status</th>\n",
              "      <th>Filing on Behalf of Someone</th>\n",
              "      <th>DateTime</th>\n",
              "      <th>Complaint Type</th>\n",
              "    </tr>\n",
              "  </thead>\n",
              "  <tbody>\n",
              "    <tr>\n",
              "      <th>0</th>\n",
              "      <td>250635</td>\n",
              "      <td>Comcast Cable Internet Speeds</td>\n",
              "      <td>22-04-15</td>\n",
              "      <td>22-Apr-15</td>\n",
              "      <td>3:53:50 PM</td>\n",
              "      <td>Customer Care Call</td>\n",
              "      <td>Abingdon</td>\n",
              "      <td>Maryland</td>\n",
              "      <td>21009</td>\n",
              "      <td>Closed</td>\n",
              "      <td>No</td>\n",
              "      <td>2015-04-22 15:53:50</td>\n",
              "      <td>speed complaint</td>\n",
              "    </tr>\n",
              "    <tr>\n",
              "      <th>1</th>\n",
              "      <td>223441</td>\n",
              "      <td>Payment disappear - service got disconnected</td>\n",
              "      <td>04-08-15</td>\n",
              "      <td>04-Aug-15</td>\n",
              "      <td>10:22:56 AM</td>\n",
              "      <td>Internet</td>\n",
              "      <td>Acworth</td>\n",
              "      <td>Georgia</td>\n",
              "      <td>30102</td>\n",
              "      <td>Closed</td>\n",
              "      <td>No</td>\n",
              "      <td>2015-08-04 10:22:56</td>\n",
              "      <td>connection</td>\n",
              "    </tr>\n",
              "    <tr>\n",
              "      <th>2</th>\n",
              "      <td>242732</td>\n",
              "      <td>Speed and Service</td>\n",
              "      <td>18-04-15</td>\n",
              "      <td>18-Apr-15</td>\n",
              "      <td>9:55:47 AM</td>\n",
              "      <td>Internet</td>\n",
              "      <td>Acworth</td>\n",
              "      <td>Georgia</td>\n",
              "      <td>30101</td>\n",
              "      <td>Closed</td>\n",
              "      <td>Yes</td>\n",
              "      <td>2015-04-18 09:55:47</td>\n",
              "      <td>data cap</td>\n",
              "    </tr>\n",
              "    <tr>\n",
              "      <th>3</th>\n",
              "      <td>277946</td>\n",
              "      <td>Comcast Imposed a New Usage Cap of 300GB that ...</td>\n",
              "      <td>05-07-15</td>\n",
              "      <td>05-Jul-15</td>\n",
              "      <td>11:59:35 AM</td>\n",
              "      <td>Internet</td>\n",
              "      <td>Acworth</td>\n",
              "      <td>Georgia</td>\n",
              "      <td>30101</td>\n",
              "      <td>Open</td>\n",
              "      <td>Yes</td>\n",
              "      <td>2015-07-05 11:59:35</td>\n",
              "      <td>connection</td>\n",
              "    </tr>\n",
              "    <tr>\n",
              "      <th>4</th>\n",
              "      <td>307175</td>\n",
              "      <td>Comcast not working and no service to boot</td>\n",
              "      <td>26-05-15</td>\n",
              "      <td>26-May-15</td>\n",
              "      <td>1:25:26 PM</td>\n",
              "      <td>Internet</td>\n",
              "      <td>Acworth</td>\n",
              "      <td>Georgia</td>\n",
              "      <td>30101</td>\n",
              "      <td>Solved</td>\n",
              "      <td>No</td>\n",
              "      <td>2015-05-26 13:25:26</td>\n",
              "      <td>charge</td>\n",
              "    </tr>\n",
              "  </tbody>\n",
              "</table>\n",
              "</div>"
            ],
            "text/plain": [
              "  Ticket #                                 Customer Complaint      Date  \\\n",
              "0   250635                      Comcast Cable Internet Speeds  22-04-15   \n",
              "1   223441       Payment disappear - service got disconnected  04-08-15   \n",
              "2   242732                                  Speed and Service  18-04-15   \n",
              "3   277946  Comcast Imposed a New Usage Cap of 300GB that ...  05-07-15   \n",
              "4   307175         Comcast not working and no service to boot  26-05-15   \n",
              "\n",
              "  Date_month_year         Time        Received Via      City     State  \\\n",
              "0       22-Apr-15   3:53:50 PM  Customer Care Call  Abingdon  Maryland   \n",
              "1       04-Aug-15  10:22:56 AM            Internet   Acworth   Georgia   \n",
              "2       18-Apr-15   9:55:47 AM            Internet   Acworth   Georgia   \n",
              "3       05-Jul-15  11:59:35 AM            Internet   Acworth   Georgia   \n",
              "4       26-May-15   1:25:26 PM            Internet   Acworth   Georgia   \n",
              "\n",
              "   Zip code  Status Filing on Behalf of Someone            DateTime  \\\n",
              "0     21009  Closed                          No 2015-04-22 15:53:50   \n",
              "1     30102  Closed                          No 2015-08-04 10:22:56   \n",
              "2     30101  Closed                         Yes 2015-04-18 09:55:47   \n",
              "3     30101    Open                         Yes 2015-07-05 11:59:35   \n",
              "4     30101  Solved                          No 2015-05-26 13:25:26   \n",
              "\n",
              "    Complaint Type  \n",
              "0  speed complaint  \n",
              "1       connection  \n",
              "2         data cap  \n",
              "3       connection  \n",
              "4           charge  "
            ]
          },
          "execution_count": 37,
          "metadata": {},
          "output_type": "execute_result"
        }
      ],
      "source": [
        "df_new.head()"
      ]
    },
    {
      "cell_type": "code",
      "execution_count": 38,
      "metadata": {
        "colab": {
          "base_uri": "https://localhost:8080/"
        },
        "id": "qO51eGRDl0u-",
        "outputId": "8f5b3872-e6c0-48ad-f1ff-afc741de873d"
      },
      "outputs": [
        {
          "data": {
            "text/plain": [
              "Index(['Ticket #', 'Customer Complaint', 'Date', 'Date_month_year', 'Time',\n",
              "       'Received Via', 'City', 'State', 'Zip code', 'Status',\n",
              "       'Filing on Behalf of Someone', 'DateTime', 'Complaint Type'],\n",
              "      dtype='object')"
            ]
          },
          "execution_count": 38,
          "metadata": {},
          "output_type": "execute_result"
        }
      ],
      "source": [
        "df_new.columns"
      ]
    },
    {
      "cell_type": "code",
      "execution_count": 39,
      "metadata": {
        "colab": {
          "base_uri": "https://localhost:8080/"
        },
        "id": "mRShVflZnlYB",
        "outputId": "bf3a841e-5dd4-4742-de32-ffc896fcd084"
      },
      "outputs": [
        {
          "data": {
            "text/plain": [
              "Complaint Type\n",
              "billing issues       545\n",
              "data cap             433\n",
              "speed complaint      344\n",
              "charge               324\n",
              "billing practices    319\n",
              "connection           259\n",
              "Name: count, dtype: int64"
            ]
          },
          "execution_count": 39,
          "metadata": {},
          "output_type": "execute_result"
        }
      ],
      "source": [
        "df_new['Complaint Type'].value_counts()"
      ]
    },
    {
      "cell_type": "code",
      "execution_count": 40,
      "metadata": {
        "colab": {
          "base_uri": "https://localhost:8080/"
        },
        "id": "mumF03fKmMha",
        "outputId": "5abbb18a-ecab-49d8-fdb1-140cb916fa51"
      },
      "outputs": [
        {
          "data": {
            "text/plain": [
              "Filing on Behalf of Someone\n",
              "No     2021\n",
              "Yes     203\n",
              "Name: count, dtype: int64"
            ]
          },
          "execution_count": 40,
          "metadata": {},
          "output_type": "execute_result"
        }
      ],
      "source": [
        "df_new['Filing on Behalf of Someone'].value_counts()"
      ]
    },
    {
      "cell_type": "markdown",
      "metadata": {
        "id": "FG5u_zOaYuu5"
      },
      "source": [
        "### State(주)별 Complaint 분포 조사\n",
        "---"
      ]
    },
    {
      "cell_type": "code",
      "execution_count": 41,
      "metadata": {
        "colab": {
          "base_uri": "https://localhost:8080/",
          "height": 1000
        },
        "id": "gx9hOxaYpI9s",
        "outputId": "ac37f0d0-58bb-42b8-f256-c522f8f25642"
      },
      "outputs": [
        {
          "data": {
            "text/html": [
              "<div>\n",
              "<style scoped>\n",
              "    .dataframe tbody tr th:only-of-type {\n",
              "        vertical-align: middle;\n",
              "    }\n",
              "\n",
              "    .dataframe tbody tr th {\n",
              "        vertical-align: top;\n",
              "    }\n",
              "\n",
              "    .dataframe thead th {\n",
              "        text-align: right;\n",
              "    }\n",
              "</style>\n",
              "<table border=\"1\" class=\"dataframe\">\n",
              "  <thead>\n",
              "    <tr style=\"text-align: right;\">\n",
              "      <th>Complaint Type</th>\n",
              "      <th>billing issues</th>\n",
              "      <th>billing practices</th>\n",
              "      <th>connection</th>\n",
              "      <th>charge</th>\n",
              "      <th>data cap</th>\n",
              "      <th>speed complaint</th>\n",
              "      <th>Total</th>\n",
              "    </tr>\n",
              "    <tr>\n",
              "      <th>State</th>\n",
              "      <th></th>\n",
              "      <th></th>\n",
              "      <th></th>\n",
              "      <th></th>\n",
              "      <th></th>\n",
              "      <th></th>\n",
              "      <th></th>\n",
              "    </tr>\n",
              "  </thead>\n",
              "  <tbody>\n",
              "    <tr>\n",
              "      <th>Georgia</th>\n",
              "      <td>63</td>\n",
              "      <td>27</td>\n",
              "      <td>24</td>\n",
              "      <td>25</td>\n",
              "      <td>132</td>\n",
              "      <td>17</td>\n",
              "      <td>288</td>\n",
              "    </tr>\n",
              "    <tr>\n",
              "      <th>Florida</th>\n",
              "      <td>70</td>\n",
              "      <td>36</td>\n",
              "      <td>38</td>\n",
              "      <td>45</td>\n",
              "      <td>14</td>\n",
              "      <td>37</td>\n",
              "      <td>240</td>\n",
              "    </tr>\n",
              "    <tr>\n",
              "      <th>California</th>\n",
              "      <td>44</td>\n",
              "      <td>41</td>\n",
              "      <td>34</td>\n",
              "      <td>36</td>\n",
              "      <td>23</td>\n",
              "      <td>42</td>\n",
              "      <td>220</td>\n",
              "    </tr>\n",
              "    <tr>\n",
              "      <th>Illinois</th>\n",
              "      <td>39</td>\n",
              "      <td>30</td>\n",
              "      <td>17</td>\n",
              "      <td>28</td>\n",
              "      <td>19</td>\n",
              "      <td>31</td>\n",
              "      <td>164</td>\n",
              "    </tr>\n",
              "    <tr>\n",
              "      <th>Tennessee</th>\n",
              "      <td>25</td>\n",
              "      <td>11</td>\n",
              "      <td>10</td>\n",
              "      <td>18</td>\n",
              "      <td>68</td>\n",
              "      <td>11</td>\n",
              "      <td>143</td>\n",
              "    </tr>\n",
              "    <tr>\n",
              "      <th>Pennsylvania</th>\n",
              "      <td>33</td>\n",
              "      <td>31</td>\n",
              "      <td>12</td>\n",
              "      <td>20</td>\n",
              "      <td>12</td>\n",
              "      <td>22</td>\n",
              "      <td>130</td>\n",
              "    </tr>\n",
              "    <tr>\n",
              "      <th>Michigan</th>\n",
              "      <td>35</td>\n",
              "      <td>17</td>\n",
              "      <td>12</td>\n",
              "      <td>13</td>\n",
              "      <td>17</td>\n",
              "      <td>21</td>\n",
              "      <td>115</td>\n",
              "    </tr>\n",
              "    <tr>\n",
              "      <th>Washington</th>\n",
              "      <td>27</td>\n",
              "      <td>11</td>\n",
              "      <td>9</td>\n",
              "      <td>17</td>\n",
              "      <td>11</td>\n",
              "      <td>23</td>\n",
              "      <td>98</td>\n",
              "    </tr>\n",
              "    <tr>\n",
              "      <th>Colorado</th>\n",
              "      <td>16</td>\n",
              "      <td>12</td>\n",
              "      <td>12</td>\n",
              "      <td>9</td>\n",
              "      <td>10</td>\n",
              "      <td>21</td>\n",
              "      <td>80</td>\n",
              "    </tr>\n",
              "    <tr>\n",
              "      <th>Maryland</th>\n",
              "      <td>22</td>\n",
              "      <td>11</td>\n",
              "      <td>8</td>\n",
              "      <td>18</td>\n",
              "      <td>6</td>\n",
              "      <td>13</td>\n",
              "      <td>78</td>\n",
              "    </tr>\n",
              "    <tr>\n",
              "      <th>New Jersey</th>\n",
              "      <td>27</td>\n",
              "      <td>8</td>\n",
              "      <td>10</td>\n",
              "      <td>9</td>\n",
              "      <td>5</td>\n",
              "      <td>16</td>\n",
              "      <td>75</td>\n",
              "    </tr>\n",
              "    <tr>\n",
              "      <th>Texas</th>\n",
              "      <td>19</td>\n",
              "      <td>9</td>\n",
              "      <td>12</td>\n",
              "      <td>11</td>\n",
              "      <td>8</td>\n",
              "      <td>12</td>\n",
              "      <td>71</td>\n",
              "    </tr>\n",
              "    <tr>\n",
              "      <th>Massachusetts</th>\n",
              "      <td>18</td>\n",
              "      <td>10</td>\n",
              "      <td>8</td>\n",
              "      <td>11</td>\n",
              "      <td>5</td>\n",
              "      <td>9</td>\n",
              "      <td>61</td>\n",
              "    </tr>\n",
              "    <tr>\n",
              "      <th>Virginia</th>\n",
              "      <td>14</td>\n",
              "      <td>14</td>\n",
              "      <td>9</td>\n",
              "      <td>14</td>\n",
              "      <td>6</td>\n",
              "      <td>3</td>\n",
              "      <td>60</td>\n",
              "    </tr>\n",
              "    <tr>\n",
              "      <th>Indiana</th>\n",
              "      <td>19</td>\n",
              "      <td>16</td>\n",
              "      <td>1</td>\n",
              "      <td>8</td>\n",
              "      <td>3</td>\n",
              "      <td>12</td>\n",
              "      <td>59</td>\n",
              "    </tr>\n",
              "    <tr>\n",
              "      <th>Oregon</th>\n",
              "      <td>13</td>\n",
              "      <td>5</td>\n",
              "      <td>5</td>\n",
              "      <td>9</td>\n",
              "      <td>6</td>\n",
              "      <td>11</td>\n",
              "      <td>49</td>\n",
              "    </tr>\n",
              "    <tr>\n",
              "      <th>Mississippi</th>\n",
              "      <td>5</td>\n",
              "      <td>3</td>\n",
              "      <td>5</td>\n",
              "      <td>3</td>\n",
              "      <td>22</td>\n",
              "      <td>1</td>\n",
              "      <td>39</td>\n",
              "    </tr>\n",
              "    <tr>\n",
              "      <th>Minnesota</th>\n",
              "      <td>8</td>\n",
              "      <td>6</td>\n",
              "      <td>6</td>\n",
              "      <td>2</td>\n",
              "      <td>5</td>\n",
              "      <td>6</td>\n",
              "      <td>33</td>\n",
              "    </tr>\n",
              "    <tr>\n",
              "      <th>Alabama</th>\n",
              "      <td>2</td>\n",
              "      <td>1</td>\n",
              "      <td>3</td>\n",
              "      <td>3</td>\n",
              "      <td>13</td>\n",
              "      <td>4</td>\n",
              "      <td>26</td>\n",
              "    </tr>\n",
              "    <tr>\n",
              "      <th>Utah</th>\n",
              "      <td>6</td>\n",
              "      <td>2</td>\n",
              "      <td>2</td>\n",
              "      <td>2</td>\n",
              "      <td>3</td>\n",
              "      <td>7</td>\n",
              "      <td>22</td>\n",
              "    </tr>\n",
              "    <tr>\n",
              "      <th>Arizona</th>\n",
              "      <td>2</td>\n",
              "      <td>1</td>\n",
              "      <td>1</td>\n",
              "      <td>2</td>\n",
              "      <td>13</td>\n",
              "      <td>1</td>\n",
              "      <td>20</td>\n",
              "    </tr>\n",
              "    <tr>\n",
              "      <th>South Carolina</th>\n",
              "      <td>5</td>\n",
              "      <td>2</td>\n",
              "      <td>2</td>\n",
              "      <td>1</td>\n",
              "      <td>6</td>\n",
              "      <td>2</td>\n",
              "      <td>18</td>\n",
              "    </tr>\n",
              "    <tr>\n",
              "      <th>District Of Columbia</th>\n",
              "      <td>5</td>\n",
              "      <td>1</td>\n",
              "      <td>3</td>\n",
              "      <td>3</td>\n",
              "      <td>1</td>\n",
              "      <td>3</td>\n",
              "      <td>16</td>\n",
              "    </tr>\n",
              "    <tr>\n",
              "      <th>New Mexico</th>\n",
              "      <td>1</td>\n",
              "      <td>2</td>\n",
              "      <td>5</td>\n",
              "      <td>2</td>\n",
              "      <td>2</td>\n",
              "      <td>3</td>\n",
              "      <td>15</td>\n",
              "    </tr>\n",
              "    <tr>\n",
              "      <th>Louisiana</th>\n",
              "      <td>2</td>\n",
              "      <td>0</td>\n",
              "      <td>2</td>\n",
              "      <td>4</td>\n",
              "      <td>4</td>\n",
              "      <td>1</td>\n",
              "      <td>13</td>\n",
              "    </tr>\n",
              "    <tr>\n",
              "      <th>Connecticut</th>\n",
              "      <td>3</td>\n",
              "      <td>1</td>\n",
              "      <td>3</td>\n",
              "      <td>2</td>\n",
              "      <td>1</td>\n",
              "      <td>2</td>\n",
              "      <td>12</td>\n",
              "    </tr>\n",
              "    <tr>\n",
              "      <th>New Hampshire</th>\n",
              "      <td>2</td>\n",
              "      <td>2</td>\n",
              "      <td>2</td>\n",
              "      <td>0</td>\n",
              "      <td>3</td>\n",
              "      <td>3</td>\n",
              "      <td>12</td>\n",
              "    </tr>\n",
              "    <tr>\n",
              "      <th>Delaware</th>\n",
              "      <td>3</td>\n",
              "      <td>2</td>\n",
              "      <td>2</td>\n",
              "      <td>2</td>\n",
              "      <td>2</td>\n",
              "      <td>1</td>\n",
              "      <td>12</td>\n",
              "    </tr>\n",
              "    <tr>\n",
              "      <th>West Virginia</th>\n",
              "      <td>4</td>\n",
              "      <td>3</td>\n",
              "      <td>0</td>\n",
              "      <td>1</td>\n",
              "      <td>0</td>\n",
              "      <td>3</td>\n",
              "      <td>11</td>\n",
              "    </tr>\n",
              "    <tr>\n",
              "      <th>Kentucky</th>\n",
              "      <td>2</td>\n",
              "      <td>0</td>\n",
              "      <td>0</td>\n",
              "      <td>0</td>\n",
              "      <td>5</td>\n",
              "      <td>0</td>\n",
              "      <td>7</td>\n",
              "    </tr>\n",
              "    <tr>\n",
              "      <th>Arkansas</th>\n",
              "      <td>2</td>\n",
              "      <td>2</td>\n",
              "      <td>0</td>\n",
              "      <td>0</td>\n",
              "      <td>1</td>\n",
              "      <td>1</td>\n",
              "      <td>6</td>\n",
              "    </tr>\n",
              "    <tr>\n",
              "      <th>New York</th>\n",
              "      <td>0</td>\n",
              "      <td>1</td>\n",
              "      <td>1</td>\n",
              "      <td>2</td>\n",
              "      <td>0</td>\n",
              "      <td>2</td>\n",
              "      <td>6</td>\n",
              "    </tr>\n",
              "    <tr>\n",
              "      <th>Maine</th>\n",
              "      <td>1</td>\n",
              "      <td>0</td>\n",
              "      <td>0</td>\n",
              "      <td>0</td>\n",
              "      <td>4</td>\n",
              "      <td>0</td>\n",
              "      <td>5</td>\n",
              "    </tr>\n",
              "    <tr>\n",
              "      <th>Missouri</th>\n",
              "      <td>2</td>\n",
              "      <td>0</td>\n",
              "      <td>1</td>\n",
              "      <td>1</td>\n",
              "      <td>0</td>\n",
              "      <td>0</td>\n",
              "      <td>4</td>\n",
              "    </tr>\n",
              "    <tr>\n",
              "      <th>North Carolina</th>\n",
              "      <td>1</td>\n",
              "      <td>0</td>\n",
              "      <td>0</td>\n",
              "      <td>1</td>\n",
              "      <td>0</td>\n",
              "      <td>1</td>\n",
              "      <td>3</td>\n",
              "    </tr>\n",
              "    <tr>\n",
              "      <th>Vermont</th>\n",
              "      <td>0</td>\n",
              "      <td>0</td>\n",
              "      <td>0</td>\n",
              "      <td>1</td>\n",
              "      <td>1</td>\n",
              "      <td>1</td>\n",
              "      <td>3</td>\n",
              "    </tr>\n",
              "    <tr>\n",
              "      <th>Ohio</th>\n",
              "      <td>2</td>\n",
              "      <td>1</td>\n",
              "      <td>0</td>\n",
              "      <td>0</td>\n",
              "      <td>0</td>\n",
              "      <td>0</td>\n",
              "      <td>3</td>\n",
              "    </tr>\n",
              "    <tr>\n",
              "      <th>Kansas</th>\n",
              "      <td>1</td>\n",
              "      <td>0</td>\n",
              "      <td>0</td>\n",
              "      <td>0</td>\n",
              "      <td>1</td>\n",
              "      <td>0</td>\n",
              "      <td>2</td>\n",
              "    </tr>\n",
              "    <tr>\n",
              "      <th>District of Columbia</th>\n",
              "      <td>0</td>\n",
              "      <td>0</td>\n",
              "      <td>0</td>\n",
              "      <td>0</td>\n",
              "      <td>1</td>\n",
              "      <td>0</td>\n",
              "      <td>1</td>\n",
              "    </tr>\n",
              "    <tr>\n",
              "      <th>Rhode Island</th>\n",
              "      <td>1</td>\n",
              "      <td>0</td>\n",
              "      <td>0</td>\n",
              "      <td>0</td>\n",
              "      <td>0</td>\n",
              "      <td>0</td>\n",
              "      <td>1</td>\n",
              "    </tr>\n",
              "    <tr>\n",
              "      <th>Iowa</th>\n",
              "      <td>0</td>\n",
              "      <td>0</td>\n",
              "      <td>0</td>\n",
              "      <td>1</td>\n",
              "      <td>0</td>\n",
              "      <td>0</td>\n",
              "      <td>1</td>\n",
              "    </tr>\n",
              "    <tr>\n",
              "      <th>Nevada</th>\n",
              "      <td>0</td>\n",
              "      <td>0</td>\n",
              "      <td>0</td>\n",
              "      <td>0</td>\n",
              "      <td>0</td>\n",
              "      <td>1</td>\n",
              "      <td>1</td>\n",
              "    </tr>\n",
              "    <tr>\n",
              "      <th>Montana</th>\n",
              "      <td>1</td>\n",
              "      <td>0</td>\n",
              "      <td>0</td>\n",
              "      <td>0</td>\n",
              "      <td>0</td>\n",
              "      <td>0</td>\n",
              "      <td>1</td>\n",
              "    </tr>\n",
              "  </tbody>\n",
              "</table>\n",
              "</div>"
            ],
            "text/plain": [
              "Complaint Type        billing issues  billing practices  connection  charge  \\\n",
              "State                                                                         \n",
              "Georgia                           63                 27          24      25   \n",
              "Florida                           70                 36          38      45   \n",
              "California                        44                 41          34      36   \n",
              "Illinois                          39                 30          17      28   \n",
              "Tennessee                         25                 11          10      18   \n",
              "Pennsylvania                      33                 31          12      20   \n",
              "Michigan                          35                 17          12      13   \n",
              "Washington                        27                 11           9      17   \n",
              "Colorado                          16                 12          12       9   \n",
              "Maryland                          22                 11           8      18   \n",
              "New Jersey                        27                  8          10       9   \n",
              "Texas                             19                  9          12      11   \n",
              "Massachusetts                     18                 10           8      11   \n",
              "Virginia                          14                 14           9      14   \n",
              "Indiana                           19                 16           1       8   \n",
              "Oregon                            13                  5           5       9   \n",
              "Mississippi                        5                  3           5       3   \n",
              "Minnesota                          8                  6           6       2   \n",
              "Alabama                            2                  1           3       3   \n",
              "Utah                               6                  2           2       2   \n",
              "Arizona                            2                  1           1       2   \n",
              "South Carolina                     5                  2           2       1   \n",
              "District Of Columbia               5                  1           3       3   \n",
              "New Mexico                         1                  2           5       2   \n",
              "Louisiana                          2                  0           2       4   \n",
              "Connecticut                        3                  1           3       2   \n",
              "New Hampshire                      2                  2           2       0   \n",
              "Delaware                           3                  2           2       2   \n",
              "West Virginia                      4                  3           0       1   \n",
              "Kentucky                           2                  0           0       0   \n",
              "Arkansas                           2                  2           0       0   \n",
              "New York                           0                  1           1       2   \n",
              "Maine                              1                  0           0       0   \n",
              "Missouri                           2                  0           1       1   \n",
              "North Carolina                     1                  0           0       1   \n",
              "Vermont                            0                  0           0       1   \n",
              "Ohio                               2                  1           0       0   \n",
              "Kansas                             1                  0           0       0   \n",
              "District of Columbia               0                  0           0       0   \n",
              "Rhode Island                       1                  0           0       0   \n",
              "Iowa                               0                  0           0       1   \n",
              "Nevada                             0                  0           0       0   \n",
              "Montana                            1                  0           0       0   \n",
              "\n",
              "Complaint Type        data cap  speed complaint  Total  \n",
              "State                                                   \n",
              "Georgia                    132               17    288  \n",
              "Florida                     14               37    240  \n",
              "California                  23               42    220  \n",
              "Illinois                    19               31    164  \n",
              "Tennessee                   68               11    143  \n",
              "Pennsylvania                12               22    130  \n",
              "Michigan                    17               21    115  \n",
              "Washington                  11               23     98  \n",
              "Colorado                    10               21     80  \n",
              "Maryland                     6               13     78  \n",
              "New Jersey                   5               16     75  \n",
              "Texas                        8               12     71  \n",
              "Massachusetts                5                9     61  \n",
              "Virginia                     6                3     60  \n",
              "Indiana                      3               12     59  \n",
              "Oregon                       6               11     49  \n",
              "Mississippi                 22                1     39  \n",
              "Minnesota                    5                6     33  \n",
              "Alabama                     13                4     26  \n",
              "Utah                         3                7     22  \n",
              "Arizona                     13                1     20  \n",
              "South Carolina               6                2     18  \n",
              "District Of Columbia         1                3     16  \n",
              "New Mexico                   2                3     15  \n",
              "Louisiana                    4                1     13  \n",
              "Connecticut                  1                2     12  \n",
              "New Hampshire                3                3     12  \n",
              "Delaware                     2                1     12  \n",
              "West Virginia                0                3     11  \n",
              "Kentucky                     5                0      7  \n",
              "Arkansas                     1                1      6  \n",
              "New York                     0                2      6  \n",
              "Maine                        4                0      5  \n",
              "Missouri                     0                0      4  \n",
              "North Carolina               0                1      3  \n",
              "Vermont                      1                1      3  \n",
              "Ohio                         0                0      3  \n",
              "Kansas                       1                0      2  \n",
              "District of Columbia         1                0      1  \n",
              "Rhode Island                 0                0      1  \n",
              "Iowa                         0                0      1  \n",
              "Nevada                       0                1      1  \n",
              "Montana                      0                0      1  "
            ]
          },
          "execution_count": 41,
          "metadata": {},
          "output_type": "execute_result"
        }
      ],
      "source": [
        "df_pivot = df_new.pivot_table(index = 'State', columns = 'Complaint Type', aggfunc='size')\n",
        "df_pivot['Total'] = df_pivot.sum(axis=1)\n",
        "df_pivot.sort_values('Total', ascending=False, inplace=True)\n",
        "df_pivot"
      ]
    },
    {
      "cell_type": "code",
      "execution_count": 42,
      "metadata": {
        "colab": {
          "base_uri": "https://localhost:8080/",
          "height": 619
        },
        "id": "qHHELSKxZGUi",
        "outputId": "360bd0d4-8fb4-482b-9400-9ff0e14d7ad2"
      },
      "outputs": [
        {
          "data": {
            "image/png": "[encoded data removed]",
            "text/plain": [
              "<Figure size 1000x600 with 2 Axes>"
            ]
          },
          "metadata": {},
          "output_type": "display_data"
        }
      ],
      "source": [
        "#문의수 top10을 기록한 State의 문의유형을 Heatmap을 이용해 조회한다.\n",
        "plt.figure(figsize=(10, 6))\n",
        "sns.heatmap(df_pivot.iloc[:,:-1].head(10).T, cmap='YlOrBr')\n",
        "\n",
        "plt.show()"
      ]
    },
    {
      "cell_type": "markdown",
      "metadata": {
        "id": "P52xUHsBcsJ6"
      },
      "source": [
        "위 히트맵 그래프를 통해 각 불만 유형별 접수가 많이 되는 State를 알 수 있다.\n",
        "1. Billing Issue : Florida - Georgia 주가 유독 눈에 띈다.\n",
        "2. Billing Practices : California - Florida\n",
        "3. Connection : Florida, California\n",
        "4. Charge : Florida, California\n",
        "5. Data Gap : Georgia, Tennessee\n",
        "6. Speed Complaint : California, Florida\n",
        "---\n",
        "종합해봤을때, 다음과 같은 정보를 얻을 수 있다.\n",
        "\n",
        "1. 전반적인 문의 유형에서 상위권을 차지하는 주는 Florida, California 주이다. 해당 지역에서 이렇게 문의수가 많은지 그 원인을 찾아볼 필요가 있을 것이다(예를들어 해당 지역들이 고객수가 많아서 자연적으로 문의수가 많은 것인지 등..)\n",
        "2. Georgia주가 가장 문의수가 많은 주이지만, 그 원인은 Data Cap 관련 문의수가 다른 주에 비해 독보적으로 많기 때문이다. 그 원인을 추후 다른 데이터를 이용해 조사해볼 필요가 있다.\n",
        "3. Tennessee주는 다른 주와 큰 문의수 차이는 없지만 유독 Data Cap 관련 문의수가 Georgia주 다음으로 많다. 이 부분 역시 조사해봐야할 것이다.\n",
        "4. Billing Issue 관련하여 Florida, Georgia 주가 유독 눈에띄게 많다."
      ]
    },
    {
      "cell_type": "markdown",
      "metadata": {
        "id": "RlrhRIhLgwHx"
      },
      "source": [
        "### 날짜별 Complaint 분포 조사\n",
        "---"
      ]
    },
    {
      "cell_type": "markdown",
      "metadata": {
        "id": "ExdHz0GWg0ta"
      },
      "source": [
        "> #### 월(month)"
      ]
    },
    {
      "cell_type": "code",
      "execution_count": 43,
      "metadata": {
        "colab": {
          "base_uri": "https://localhost:8080/"
        },
        "id": "bWVqtY3wgzGO",
        "outputId": "4ab7030f-b893-42ba-dc7b-40e670a54821"
      },
      "outputs": [
        {
          "data": {
            "text/plain": [
              "DateTime\n",
              "1       55\n",
              "2       59\n",
              "3       45\n",
              "4      375\n",
              "5      317\n",
              "6     1046\n",
              "7       49\n",
              "8       67\n",
              "9       55\n",
              "10      53\n",
              "11      38\n",
              "12      65\n",
              "dtype: int64"
            ]
          },
          "execution_count": 43,
          "metadata": {},
          "output_type": "execute_result"
        }
      ],
      "source": [
        "df_new.groupby(df_new.DateTime.dt.month).size()"
      ]
    },
    {
      "cell_type": "code",
      "execution_count": 44,
      "metadata": {
        "colab": {
          "base_uri": "https://localhost:8080/"
        },
        "id": "zpc42IxnMNeC",
        "outputId": "1191bcc7-08dc-4413-92ec-850aade4c203"
      },
      "outputs": [
        {
          "data": {
            "text/plain": [
              "0.7814748201438849"
            ]
          },
          "execution_count": 44,
          "metadata": {},
          "output_type": "execute_result"
        }
      ],
      "source": [
        "len(df_new[df_new.DateTime.dt.month.isin([4,5,6])]) / len(df_new)"
      ]
    },
    {
      "cell_type": "markdown",
      "metadata": {
        "id": "jyOTztp7hbgA"
      },
      "source": [
        "다른 날에 비해 4~6월이 유독 문의 수가 많으며, 특히 6월에 문의 수가 폭증했다."
      ]
    },
    {
      "cell_type": "code",
      "execution_count": 45,
      "metadata": {
        "colab": {
          "base_uri": "https://localhost:8080/"
        },
        "id": "anh4p3YHhSGJ",
        "outputId": "df8cad65-1450-4a9f-b2f9-cc4219de17bf"
      },
      "outputs": [
        {
          "data": {
            "text/plain": [
              "Complaint Type\n",
              "data cap             231\n",
              "billing issues       221\n",
              "speed complaint      182\n",
              "billing practices    165\n",
              "charge               138\n",
              "connection           109\n",
              "Name: count, dtype: int64"
            ]
          },
          "execution_count": 45,
          "metadata": {},
          "output_type": "execute_result"
        }
      ],
      "source": [
        "df_new[df_new.DateTime.dt.month == 6]['Complaint Type'].value_counts()"
      ]
    },
    {
      "cell_type": "code",
      "execution_count": 46,
      "metadata": {
        "colab": {
          "base_uri": "https://localhost:8080/",
          "height": 237
        },
        "id": "TsM6kf1giiNf",
        "outputId": "27a900b7-73d1-44ef-abd0-876b5d79bd21"
      },
      "outputs": [
        {
          "data": {
            "text/html": [
              "<div>\n",
              "<style scoped>\n",
              "    .dataframe tbody tr th:only-of-type {\n",
              "        vertical-align: middle;\n",
              "    }\n",
              "\n",
              "    .dataframe tbody tr th {\n",
              "        vertical-align: top;\n",
              "    }\n",
              "\n",
              "    .dataframe thead th {\n",
              "        text-align: right;\n",
              "    }\n",
              "</style>\n",
              "<table border=\"1\" class=\"dataframe\">\n",
              "  <thead>\n",
              "    <tr style=\"text-align: right;\">\n",
              "      <th></th>\n",
              "      <th>4</th>\n",
              "      <th>5</th>\n",
              "      <th>6</th>\n",
              "      <th>Total</th>\n",
              "    </tr>\n",
              "    <tr>\n",
              "      <th>Complaint Type</th>\n",
              "      <th></th>\n",
              "      <th></th>\n",
              "      <th></th>\n",
              "      <th></th>\n",
              "    </tr>\n",
              "  </thead>\n",
              "  <tbody>\n",
              "    <tr>\n",
              "      <th>billing issues</th>\n",
              "      <td>0.1761</td>\n",
              "      <td>0.1633</td>\n",
              "      <td>0.4055</td>\n",
              "      <td>0.7449</td>\n",
              "    </tr>\n",
              "    <tr>\n",
              "      <th>billing practices</th>\n",
              "      <td>0.1599</td>\n",
              "      <td>0.1254</td>\n",
              "      <td>0.5172</td>\n",
              "      <td>0.8025</td>\n",
              "    </tr>\n",
              "    <tr>\n",
              "      <th>connection</th>\n",
              "      <td>0.1853</td>\n",
              "      <td>0.1544</td>\n",
              "      <td>0.4208</td>\n",
              "      <td>0.7605</td>\n",
              "    </tr>\n",
              "    <tr>\n",
              "      <th>charge</th>\n",
              "      <td>0.1759</td>\n",
              "      <td>0.1605</td>\n",
              "      <td>0.4259</td>\n",
              "      <td>0.7623</td>\n",
              "    </tr>\n",
              "    <tr>\n",
              "      <th>data cap</th>\n",
              "      <td>0.1363</td>\n",
              "      <td>0.1594</td>\n",
              "      <td>0.5335</td>\n",
              "      <td>0.8292</td>\n",
              "    </tr>\n",
              "    <tr>\n",
              "      <th>speed complaint</th>\n",
              "      <td>0.1860</td>\n",
              "      <td>0.0785</td>\n",
              "      <td>0.5291</td>\n",
              "      <td>0.7936</td>\n",
              "    </tr>\n",
              "  </tbody>\n",
              "</table>\n",
              "</div>"
            ],
            "text/plain": [
              "                        4       5       6   Total\n",
              "Complaint Type                                   \n",
              "billing issues     0.1761  0.1633  0.4055  0.7449\n",
              "billing practices  0.1599  0.1254  0.5172  0.8025\n",
              "connection         0.1853  0.1544  0.4208  0.7605\n",
              "charge             0.1759  0.1605  0.4259  0.7623\n",
              "data cap           0.1363  0.1594  0.5335  0.8292\n",
              "speed complaint    0.1860  0.0785  0.5291  0.7936"
            ]
          },
          "execution_count": 46,
          "metadata": {},
          "output_type": "execute_result"
        }
      ],
      "source": [
        "# 6월의 각 문의 유형마다 전체 데이터의 문의 유형 수로 나눈다\n",
        "x=[]\n",
        "for i in [4,5,6]:\n",
        "  x.append(round(df_new[df_new.DateTime.dt.month == i]['Complaint Type'].value_counts().sort_index() \\\n",
        "        / df_new['Complaint Type'].value_counts().sort_index(), 4))\n",
        "\n",
        "df_month = pd.concat([x[0], x[1], x[2]], axis=1)\n",
        "df_month.columns = [4,5,6]\n",
        "df_month['Total'] = df_month.sum(axis=1)\n",
        "df_month"
      ]
    },
    {
      "cell_type": "markdown",
      "metadata": {
        "id": "NwwsjbudlB2f"
      },
      "source": [
        "4월-6월의 문의건수가 전체의 75-80%를 차지한다. 그리고 6월의 경우에는 전체의 40-50%를 차지했다.\n",
        "\n",
        "프로젝트의 데이터셋에서는 2015년의 데이터밖에 없어 매년 4~6월마다 이러한 주기성을 갖는다고 말할 수는 없겠다. 하지만 해당 월에 어떤 이슈 또는 마케팅 이벤트 등이 있었는지 조사해볼 필요가 있다."
      ]
    },
    {
      "cell_type": "markdown",
      "metadata": {
        "id": "LSaPnmpXmLOJ"
      },
      "source": [
        "> #### 일\n",
        "\n",
        "---\n",
        "통신사 요금은 매월 특정한 날짜에 청구된다. 그러므로 특정 날짜 주변 일자에 문의수가 몰릴 것이라고 가설을 세워볼 수 있다."
      ]
    },
    {
      "cell_type": "code",
      "execution_count": 47,
      "metadata": {
        "colab": {
          "base_uri": "https://localhost:8080/"
        },
        "id": "2yW4eVKymOKI",
        "outputId": "96ea39be-7b35-4b9a-dc49-073084d9b4a0"
      },
      "outputs": [
        {
          "data": {
            "text/plain": [
              "DateTime\n",
              "4     206\n",
              "5     131\n",
              "6     272\n",
              "13     68\n",
              "14     54\n",
              "15     58\n",
              "16     65\n",
              "17     60\n",
              "18     69\n",
              "19     50\n",
              "20     51\n",
              "21     41\n",
              "22     66\n",
              "23    225\n",
              "24    249\n",
              "25    126\n",
              "26     90\n",
              "27     81\n",
              "28     79\n",
              "29     87\n",
              "30     86\n",
              "31     10\n",
              "dtype: int64"
            ]
          },
          "execution_count": 47,
          "metadata": {},
          "output_type": "execute_result"
        }
      ],
      "source": [
        "df_new.groupby(df_new.DateTime.dt.day).size().sort_index()"
      ]
    },
    {
      "cell_type": "markdown",
      "metadata": {
        "id": "egZ1qOvaMkdC"
      },
      "source": [
        "4일,5일, 6일, 23일, 24일이 문의건수 상위 5개 그룹이다. 해당 일자들의 문의유형을 추가로 살펴본다."
      ]
    },
    {
      "cell_type": "code",
      "execution_count": 48,
      "metadata": {
        "colab": {
          "base_uri": "https://localhost:8080/",
          "height": 286
        },
        "id": "ANnJgAlCoNNJ",
        "outputId": "31a36c12-c250-4f95-87f2-d0c285941e44"
      },
      "outputs": [
        {
          "data": {
            "text/html": [
              "<div>\n",
              "<style scoped>\n",
              "    .dataframe tbody tr th:only-of-type {\n",
              "        vertical-align: middle;\n",
              "    }\n",
              "\n",
              "    .dataframe tbody tr th {\n",
              "        vertical-align: top;\n",
              "    }\n",
              "\n",
              "    .dataframe thead th {\n",
              "        text-align: right;\n",
              "    }\n",
              "</style>\n",
              "<table border=\"1\" class=\"dataframe\">\n",
              "  <thead>\n",
              "    <tr style=\"text-align: right;\">\n",
              "      <th></th>\n",
              "      <th>(6, Complaint Type)</th>\n",
              "      <th>(6, Count)</th>\n",
              "      <th>(24, Complaint Type)</th>\n",
              "      <th>(24, Count)</th>\n",
              "      <th>(23, Complaint Type)</th>\n",
              "      <th>(23, Count)</th>\n",
              "      <th>(4, Complaint Type)</th>\n",
              "      <th>(4, Count)</th>\n",
              "      <th>(5, Complaint Type)</th>\n",
              "      <th>(5, Count)</th>\n",
              "    </tr>\n",
              "    <tr>\n",
              "      <th>order</th>\n",
              "      <th></th>\n",
              "      <th></th>\n",
              "      <th></th>\n",
              "      <th></th>\n",
              "      <th></th>\n",
              "      <th></th>\n",
              "      <th></th>\n",
              "      <th></th>\n",
              "      <th></th>\n",
              "      <th></th>\n",
              "    </tr>\n",
              "  </thead>\n",
              "  <tbody>\n",
              "    <tr>\n",
              "      <th>0</th>\n",
              "      <td>billing issues</td>\n",
              "      <td>76</td>\n",
              "      <td>data cap</td>\n",
              "      <td>59</td>\n",
              "      <td>data cap</td>\n",
              "      <td>47</td>\n",
              "      <td>billing issues</td>\n",
              "      <td>61</td>\n",
              "      <td>billing issues</td>\n",
              "      <td>36</td>\n",
              "    </tr>\n",
              "    <tr>\n",
              "      <th>1</th>\n",
              "      <td>data cap</td>\n",
              "      <td>52</td>\n",
              "      <td>speed complaint</td>\n",
              "      <td>52</td>\n",
              "      <td>billing issues</td>\n",
              "      <td>45</td>\n",
              "      <td>charge</td>\n",
              "      <td>37</td>\n",
              "      <td>charge</td>\n",
              "      <td>25</td>\n",
              "    </tr>\n",
              "    <tr>\n",
              "      <th>2</th>\n",
              "      <td>speed complaint</td>\n",
              "      <td>39</td>\n",
              "      <td>billing issues</td>\n",
              "      <td>44</td>\n",
              "      <td>billing practices</td>\n",
              "      <td>41</td>\n",
              "      <td>data cap</td>\n",
              "      <td>32</td>\n",
              "      <td>speed complaint</td>\n",
              "      <td>23</td>\n",
              "    </tr>\n",
              "    <tr>\n",
              "      <th>3</th>\n",
              "      <td>connection</td>\n",
              "      <td>38</td>\n",
              "      <td>billing practices</td>\n",
              "      <td>38</td>\n",
              "      <td>speed complaint</td>\n",
              "      <td>39</td>\n",
              "      <td>billing practices</td>\n",
              "      <td>29</td>\n",
              "      <td>billing practices</td>\n",
              "      <td>17</td>\n",
              "    </tr>\n",
              "    <tr>\n",
              "      <th>4</th>\n",
              "      <td>charge</td>\n",
              "      <td>34</td>\n",
              "      <td>connection</td>\n",
              "      <td>29</td>\n",
              "      <td>charge</td>\n",
              "      <td>32</td>\n",
              "      <td>connection</td>\n",
              "      <td>25</td>\n",
              "      <td>connection</td>\n",
              "      <td>16</td>\n",
              "    </tr>\n",
              "    <tr>\n",
              "      <th>5</th>\n",
              "      <td>billing practices</td>\n",
              "      <td>33</td>\n",
              "      <td>charge</td>\n",
              "      <td>27</td>\n",
              "      <td>connection</td>\n",
              "      <td>21</td>\n",
              "      <td>speed complaint</td>\n",
              "      <td>22</td>\n",
              "      <td>data cap</td>\n",
              "      <td>14</td>\n",
              "    </tr>\n",
              "  </tbody>\n",
              "</table>\n",
              "</div>"
            ],
            "text/plain": [
              "      (6, Complaint Type)  (6, Count) (24, Complaint Type)  (24, Count)  \\\n",
              "order                                                                     \n",
              "0          billing issues          76             data cap           59   \n",
              "1                data cap          52      speed complaint           52   \n",
              "2         speed complaint          39       billing issues           44   \n",
              "3              connection          38    billing practices           38   \n",
              "4                  charge          34           connection           29   \n",
              "5       billing practices          33               charge           27   \n",
              "\n",
              "      (23, Complaint Type)  (23, Count) (4, Complaint Type)  (4, Count)  \\\n",
              "order                                                                     \n",
              "0                 data cap           47      billing issues          61   \n",
              "1           billing issues           45              charge          37   \n",
              "2        billing practices           41            data cap          32   \n",
              "3          speed complaint           39   billing practices          29   \n",
              "4                   charge           32          connection          25   \n",
              "5               connection           21     speed complaint          22   \n",
              "\n",
              "      (5, Complaint Type)  (5, Count)  \n",
              "order                                  \n",
              "0          billing issues          36  \n",
              "1                  charge          25  \n",
              "2         speed complaint          23  \n",
              "3       billing practices          17  \n",
              "4              connection          16  \n",
              "5                data cap          14  "
            ]
          },
          "execution_count": 48,
          "metadata": {},
          "output_type": "execute_result"
        }
      ],
      "source": [
        "x=[]\n",
        "\n",
        "for i in range(5):\n",
        "  dayz = df_new.groupby(df_new.DateTime.dt.day).size().sort_values(ascending=False).head().index[i]\n",
        "  zz = df_new[df_new.DateTime.dt.day == dayz]['Complaint Type'].value_counts().reset_index()\n",
        "  zz.columns = [(dayz, 'Complaint Type'), (dayz, 'Count')]\n",
        "  x.append(zz)\n",
        "  if i > 0 :\n",
        "    x[0] = pd.concat([x[0], x[i]], axis=1)\n",
        "x[0].rename_axis('order')"
      ]
    },
    {
      "cell_type": "markdown",
      "metadata": {
        "id": "AQHqNlywu7Qi"
      },
      "source": [
        "다른 일자들과 비교했을때, 4일의 경우가 billing issues, charge 및 billing practices가 순서의 상위에 차례로 왔다(data cap 제외). 가설대로라면 4일이 당사의 요금청구일이 될 것이다. 혹은 위 세가지 문의 유형의 값이 많이 있는 6일도 요금청구일이 될 수 있다."
      ]
    },
    {
      "cell_type": "markdown",
      "metadata": {
        "id": "fDSr92hUr6gs"
      },
      "source": [
        "### 문의상태별 문의 유형 조사\n",
        "---"
      ]
    },
    {
      "cell_type": "code",
      "execution_count": 49,
      "metadata": {
        "colab": {
          "base_uri": "https://localhost:8080/",
          "height": 237
        },
        "id": "0Id_EiIKr-4J",
        "outputId": "822971a5-01e9-401c-c99e-4777805ec1fe"
      },
      "outputs": [
        {
          "data": {
            "text/html": [
              "<div>\n",
              "<style scoped>\n",
              "    .dataframe tbody tr th:only-of-type {\n",
              "        vertical-align: middle;\n",
              "    }\n",
              "\n",
              "    .dataframe tbody tr th {\n",
              "        vertical-align: top;\n",
              "    }\n",
              "\n",
              "    .dataframe thead th {\n",
              "        text-align: right;\n",
              "    }\n",
              "</style>\n",
              "<table border=\"1\" class=\"dataframe\">\n",
              "  <thead>\n",
              "    <tr style=\"text-align: right;\">\n",
              "      <th>Complaint Type</th>\n",
              "      <th>billing issues</th>\n",
              "      <th>billing practices</th>\n",
              "      <th>connection</th>\n",
              "      <th>charge</th>\n",
              "      <th>data cap</th>\n",
              "      <th>speed complaint</th>\n",
              "    </tr>\n",
              "    <tr>\n",
              "      <th>Status</th>\n",
              "      <th></th>\n",
              "      <th></th>\n",
              "      <th></th>\n",
              "      <th></th>\n",
              "      <th></th>\n",
              "      <th></th>\n",
              "    </tr>\n",
              "  </thead>\n",
              "  <tbody>\n",
              "    <tr>\n",
              "      <th>Open</th>\n",
              "      <td>82</td>\n",
              "      <td>47</td>\n",
              "      <td>37</td>\n",
              "      <td>48</td>\n",
              "      <td>75</td>\n",
              "      <td>74</td>\n",
              "    </tr>\n",
              "    <tr>\n",
              "      <th>Pending</th>\n",
              "      <td>19</td>\n",
              "      <td>12</td>\n",
              "      <td>5</td>\n",
              "      <td>13</td>\n",
              "      <td>85</td>\n",
              "      <td>20</td>\n",
              "    </tr>\n",
              "    <tr>\n",
              "      <th>Closed</th>\n",
              "      <td>199</td>\n",
              "      <td>101</td>\n",
              "      <td>93</td>\n",
              "      <td>113</td>\n",
              "      <td>110</td>\n",
              "      <td>118</td>\n",
              "    </tr>\n",
              "    <tr>\n",
              "      <th>Solved</th>\n",
              "      <td>245</td>\n",
              "      <td>159</td>\n",
              "      <td>124</td>\n",
              "      <td>150</td>\n",
              "      <td>163</td>\n",
              "      <td>132</td>\n",
              "    </tr>\n",
              "    <tr>\n",
              "      <th>Total</th>\n",
              "      <td>545</td>\n",
              "      <td>319</td>\n",
              "      <td>259</td>\n",
              "      <td>324</td>\n",
              "      <td>433</td>\n",
              "      <td>344</td>\n",
              "    </tr>\n",
              "  </tbody>\n",
              "</table>\n",
              "</div>"
            ],
            "text/plain": [
              "Complaint Type  billing issues  billing practices  connection  charge  \\\n",
              "Status                                                                  \n",
              "Open                        82                 47          37      48   \n",
              "Pending                     19                 12           5      13   \n",
              "Closed                     199                101          93     113   \n",
              "Solved                     245                159         124     150   \n",
              "Total                      545                319         259     324   \n",
              "\n",
              "Complaint Type  data cap  speed complaint  \n",
              "Status                                     \n",
              "Open                  75               74  \n",
              "Pending               85               20  \n",
              "Closed               110              118  \n",
              "Solved               163              132  \n",
              "Total                433              344  "
            ]
          },
          "execution_count": 49,
          "metadata": {},
          "output_type": "execute_result"
        }
      ],
      "source": [
        "df_pivot = df_new.pivot_table(index='Status', columns='Complaint Type', aggfunc='size')\n",
        "\n",
        "new_order = ['Open','Pending','Closed','Solved']\n",
        "df_pivot = df_pivot.reindex(new_order)\n",
        "\n",
        "df_pivot.loc['Total'] = df_pivot.sum()\n",
        "df_pivot"
      ]
    },
    {
      "cell_type": "code",
      "execution_count": 50,
      "metadata": {
        "colab": {
          "base_uri": "https://localhost:8080/",
          "height": 206
        },
        "id": "n07oJlE6uqz4",
        "outputId": "bc347d78-fd76-430d-f83c-7b8a9d0e47f9"
      },
      "outputs": [
        {
          "data": {
            "text/html": [
              "<div>\n",
              "<style scoped>\n",
              "    .dataframe tbody tr th:only-of-type {\n",
              "        vertical-align: middle;\n",
              "    }\n",
              "\n",
              "    .dataframe tbody tr th {\n",
              "        vertical-align: top;\n",
              "    }\n",
              "\n",
              "    .dataframe thead th {\n",
              "        text-align: right;\n",
              "    }\n",
              "</style>\n",
              "<table border=\"1\" class=\"dataframe\">\n",
              "  <thead>\n",
              "    <tr style=\"text-align: right;\">\n",
              "      <th>Complaint Type</th>\n",
              "      <th>billing issues</th>\n",
              "      <th>billing practices</th>\n",
              "      <th>connection</th>\n",
              "      <th>charge</th>\n",
              "      <th>data cap</th>\n",
              "      <th>speed complaint</th>\n",
              "    </tr>\n",
              "    <tr>\n",
              "      <th>Status</th>\n",
              "      <th></th>\n",
              "      <th></th>\n",
              "      <th></th>\n",
              "      <th></th>\n",
              "      <th></th>\n",
              "      <th></th>\n",
              "    </tr>\n",
              "  </thead>\n",
              "  <tbody>\n",
              "    <tr>\n",
              "      <th>Open</th>\n",
              "      <td>0.150459</td>\n",
              "      <td>0.147335</td>\n",
              "      <td>0.142857</td>\n",
              "      <td>0.148148</td>\n",
              "      <td>0.173210</td>\n",
              "      <td>0.215116</td>\n",
              "    </tr>\n",
              "    <tr>\n",
              "      <th>Pending</th>\n",
              "      <td>0.034862</td>\n",
              "      <td>0.037618</td>\n",
              "      <td>0.019305</td>\n",
              "      <td>0.040123</td>\n",
              "      <td>0.196305</td>\n",
              "      <td>0.058140</td>\n",
              "    </tr>\n",
              "    <tr>\n",
              "      <th>Closed</th>\n",
              "      <td>0.365138</td>\n",
              "      <td>0.316614</td>\n",
              "      <td>0.359073</td>\n",
              "      <td>0.348765</td>\n",
              "      <td>0.254042</td>\n",
              "      <td>0.343023</td>\n",
              "    </tr>\n",
              "    <tr>\n",
              "      <th>Solved</th>\n",
              "      <td>0.449541</td>\n",
              "      <td>0.498433</td>\n",
              "      <td>0.478764</td>\n",
              "      <td>0.462963</td>\n",
              "      <td>0.376443</td>\n",
              "      <td>0.383721</td>\n",
              "    </tr>\n",
              "  </tbody>\n",
              "</table>\n",
              "</div>"
            ],
            "text/plain": [
              "Complaint Type  billing issues  billing practices  connection    charge  \\\n",
              "Status                                                                    \n",
              "Open                  0.150459           0.147335    0.142857  0.148148   \n",
              "Pending               0.034862           0.037618    0.019305  0.040123   \n",
              "Closed                0.365138           0.316614    0.359073  0.348765   \n",
              "Solved                0.449541           0.498433    0.478764  0.462963   \n",
              "\n",
              "Complaint Type  data cap  speed complaint  \n",
              "Status                                     \n",
              "Open            0.173210         0.215116  \n",
              "Pending         0.196305         0.058140  \n",
              "Closed          0.254042         0.343023  \n",
              "Solved          0.376443         0.383721  "
            ]
          },
          "execution_count": 50,
          "metadata": {},
          "output_type": "execute_result"
        }
      ],
      "source": [
        "df_pivot_ratio = df_pivot.copy()\n",
        "for i in range(len(df_pivot_ratio.columns)-1):\n",
        "    df_pivot_ratio.iloc[i,:] = df_pivot_ratio.iloc[i,:] / df_pivot_ratio.loc['Total']\n",
        "df_pivot_ratio = df_pivot_ratio.iloc[:-1,:]\n",
        "df_pivot_ratio"
      ]
    },
    {
      "cell_type": "code",
      "execution_count": 51,
      "metadata": {
        "colab": {
          "base_uri": "https://localhost:8080/",
          "height": 850
        },
        "id": "TpcNTP3vxh7U",
        "outputId": "26aa3fb4-d346-4f75-e7f3-fa04b06743a1"
      },
      "outputs": [
        {
          "data": {
            "image/png": "[encoded data removed]",
            "text/plain": [
              "<Figure size 1600x1000 with 1 Axes>"
            ]
          },
          "metadata": {},
          "output_type": "display_data"
        }
      ],
      "source": [
        "fig, ax = plt.subplots()\n",
        "\n",
        "# Stacked bar chart\n",
        "for i in range(len(df_pivot_ratio)):\n",
        "  ax.bar(df_pivot_ratio.columns, df_pivot_ratio.iloc[-i,:], bottom = df_pivot_ratio.iloc[:-i:-1,:].sum(), label = df_pivot_ratio.index[-i])\n",
        "\n",
        "ax.legend()\n",
        "ax.set_ylabel('ratio')\n",
        "ax.set_xlabel('Complaint Type')\n",
        "plt.show()"
      ]
    },
    {
      "cell_type": "markdown",
      "metadata": {
        "id": "btqMOjMG4_3u"
      },
      "source": [
        "위 결과를 통해 다음과 같은 사실을 알 수 있다.\n",
        "1. 대부분의 문의유형의 경우 Closed / Solved 상태의 비율이 80%를 차지하지만, \"Data Cap\"유형일때는 해당 비율이 60%대까지 낮아진다. 유추해봤을때 이 유형은 처리하기 다른 경우에 비해 처리가 까다로운 유형일 것이라고 생각한다.\n",
        "2. \"Speed Complaint\" 유형은 Closed / Solved 상태의 비율이 두번째로 낮으며, Open 상태의 비율이 가장 높다. 인터넷 속도 저하에 대한 원인은 다양하므로 문제 해결에 시간이 걸리는 것이 아닌가 예상해본다.  "
      ]
    },
    {
      "cell_type": "markdown",
      "metadata": {
        "id": "aLHyeTOX7s6d"
      },
      "source": [
        "## **Lesson Learned**\n",
        "---\n"
      ]
    },
    {
      "cell_type": "markdown",
      "metadata": {
        "id": "UlEkpGwn74Ud"
      },
      "source": [
        "처음으로 해본 자연어 처리 프로젝트였다. 캐글의 도움을 받아 어찌저찌 토픽 추출 및 케이스 분류까지 해볼 수 있었다. 클러스터링 알고리즘으로 LSA, LDA가 있다는 것을 처음 알았다. 두 알고리즘에 대해 더 공부해봐야 할 것 같다. 또한 클러스터링이 잘되어있는지 평가하는 모델로 t-SNE를 사용했는데, 이는 나중에 고객 Segmentation 프로젝트 등에서 활용이 가능할 것 같다.\n",
        "\n",
        "자연어 처리가 끝나고나니, 이후의 과정은 평범한 EDA과정으로 다소 쉬워졌다.\n",
        "\n",
        "---\n",
        "\n",
        "VOC분석에서 고객 문의 유형은 크게 3가지로 나뉜다고 한다.\n",
        "1. 되는 기능인데 고객이 몰라서 물어보는것\n",
        "2. 되는 기능인데 오류로 인해서 안되는 것\n",
        "3. 원래 안되는 기능인데 고객이 원하는 것\n",
        "\n",
        "통신 쪽 도메인 지식에 대해 조금 더 알고 있더라면, 고객 문의 유형을 분류할 때 위 3가지 유형을 참고해서 잘 다듬을 수 있었을 것이다.\n",
        "\n",
        "그리고 고객 문의 유형중에 어떤 것은 처리가 쉽고 당사 입장에서도 크리티컬한 문제가 아닌 반면, 어떤 유형은 처리가 어렵거나 해결이 안될경우 고객 이탈까지 연계될 수 있는 치명적인 문제들도 있을 것이다. 역시나 도메인 지식이 좀 더 있다면 문의 유형을 중요도를 기준으로 분류해서, 프로젝트 목표에 맞는 솔루션을 제시할 수 있을 것이다.\n",
        "\n",
        "---\n",
        "\n",
        "본인이 생각했을때는 connection 관련 문제가 많았던 Florida 주 문제 부분, 그리고 Data Capacity 유형에서 closed/solved상태 비율이 낮은 부분이 통신사에서 우선적으로 해결해야할 과제라고 생각한다."
      ]
    }
  ],
  "metadata": {
    "colab": {
      "provenance": []
    },
    "kernelspec": {
      "display_name": "Python 3",
      "name": "python3"
    },
    "language_info": {
      "codemirror_mode": {
        "name": "ipython",
        "version": 3
      },
      "file_extension": ".py",
      "mimetype": "text/x-python",
      "name": "python",
      "nbconvert_exporter": "python",
      "pygments_lexer": "ipython3",
      "version": "3.8.18"
    }
  },
  "nbformat": 4,
  "nbformat_minor": 0
}
